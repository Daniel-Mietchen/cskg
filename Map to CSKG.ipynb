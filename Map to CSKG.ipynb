{
 "cells": [
  {
   "cell_type": "markdown",
   "metadata": {},
   "source": [
    "# Mapping the Wikidata relations to CSKG relations"
   ]
  },
  {
   "cell_type": "markdown",
   "metadata": {},
   "source": [
    "## Map relations and Prepare for CSKG"
   ]
  },
  {
   "cell_type": "code",
   "execution_count": 77,
   "metadata": {},
   "outputs": [],
   "source": [
    "new_columns=['node1', 'relation', 'node2', 'node1;label', 'node2;label','relation;label', 'relation;dimension', 'source', 'sentence']"
   ]
  },
  {
   "cell_type": "code",
   "execution_count": 78,
   "metadata": {},
   "outputs": [],
   "source": [
    "tmp_dir='tmp/wikidata20200504'\n",
    "#tmp_dir='tmp/wikidata20171227'#\n",
    "tmp_dir='tmp/wikidata20181210'#\n",
    "wd_file='%s/wikidata_cs.tsv' % tmp_dir\n",
    "mapped='%s/kgtk_wikidata.tsv' % tmp_dir\n",
    "stats='%s/stats_mapped.tsv' % tmp_dir"
   ]
  },
  {
   "cell_type": "code",
   "execution_count": 79,
   "metadata": {},
   "outputs": [],
   "source": [
    "import pandas as pd\n",
    "import mapping"
   ]
  },
  {
   "cell_type": "code",
   "execution_count": 80,
   "metadata": {},
   "outputs": [],
   "source": [
    "df1=pd.read_csv(wd_file, sep='\\t')"
   ]
  },
  {
   "cell_type": "code",
   "execution_count": 81,
   "metadata": {},
   "outputs": [
    {
     "data": {
      "text/plain": [
       "145956"
      ]
     },
     "execution_count": 81,
     "metadata": {},
     "output_type": "execute_result"
    }
   ],
   "source": [
    "len(df1)"
   ]
  },
  {
   "cell_type": "code",
   "execution_count": 82,
   "metadata": {},
   "outputs": [],
   "source": [
    "mapped_fw=set()\n",
    "mapped_bw=set()\n",
    "rows=[]\n",
    "for i, row in df1.iterrows():\n",
    "    node1=row[0]\n",
    "    rel=row[1]\n",
    "    node2=row[2]\n",
    "    node1_label=row[3].strip()[1:-4]\n",
    "    node2_label=row[4].strip()[1:-4]\n",
    "    rel_label=row[5].strip()[1:-4]\n",
    "    if rel in mapping.fw_mapping.keys() :\n",
    "        cn_rel=mapping.fw_mapping[rel]\n",
    "        my_row=[node1,cn_rel,node2,node1_label,node2_label,rel_label, '', 'WD', '']\n",
    "    elif rel in mapping.bw_mapping.keys():\n",
    "        cn_rel=mapping.bw_mapping[rel]\n",
    "        my_row=[node2,cn_rel,node1,node2_label,node1_label,rel_label, '', 'WD', '']\n",
    "    rows.append(my_row)\n"
   ]
  },
  {
   "cell_type": "code",
   "execution_count": 83,
   "metadata": {},
   "outputs": [],
   "source": [
    "df2=pd.DataFrame(rows, columns=new_columns)"
   ]
  },
  {
   "cell_type": "code",
   "execution_count": 84,
   "metadata": {},
   "outputs": [],
   "source": [
    "df2.drop_duplicates(inplace=True)"
   ]
  },
  {
   "cell_type": "code",
   "execution_count": 85,
   "metadata": {},
   "outputs": [
    {
     "data": {
      "text/plain": [
       "145881"
      ]
     },
     "execution_count": 85,
     "metadata": {},
     "output_type": "execute_result"
    }
   ],
   "source": [
    "len(df2)"
   ]
  },
  {
   "cell_type": "code",
   "execution_count": 86,
   "metadata": {},
   "outputs": [
    {
     "data": {
      "text/plain": [
       "/r/IsA                98760\n",
       "/r/PartOf             13062\n",
       "/r/HasContext          8029\n",
       "/r/HasProperty         4505\n",
       "/r/HasPrerequisite     4149\n",
       "/r/UsedFor             3540\n",
       "/r/RelatedTo           3479\n",
       "/r/DistinctFrom        3214\n",
       "/r/Antonym             2178\n",
       "/r/Causes              1482\n",
       "/r/MadeOf              1229\n",
       "/r/Synonym             1070\n",
       "/r/SimilarTo            437\n",
       "/r/DerivedFrom          289\n",
       "/r/CreatedBy            272\n",
       "/r/AtLocation           133\n",
       "/r/r/CreatedBy           53\n",
       "Name: relation, dtype: int64"
      ]
     },
     "execution_count": 86,
     "metadata": {},
     "output_type": "execute_result"
    }
   ],
   "source": [
    "df2['relation'].value_counts()"
   ]
  },
  {
   "cell_type": "code",
   "execution_count": 87,
   "metadata": {},
   "outputs": [],
   "source": [
    "df2.to_csv(mapped, index=False, sep='\\t', columns=new_columns)"
   ]
  },
  {
   "cell_type": "code",
   "execution_count": 88,
   "metadata": {},
   "outputs": [],
   "source": [
    "%%bash -s \"$mapped\" \"$stats\"\n",
    "kgtk graph_statistics --directed --degrees --pagerank --hits --log summary.txt -i $1 > $2"
   ]
  },
  {
   "cell_type": "code",
   "execution_count": 89,
   "metadata": {},
   "outputs": [
    {
     "name": "stdout",
     "output_type": "stream",
     "text": [
      "loading the TSV graph now ...\n",
      "graph loaded! It has 76066 nodes and 145881 edges\n",
      "\n",
      "###Top relations:\n",
      "/r/IsA\t98760\n",
      "/r/PartOf\t13062\n",
      "/r/HasContext\t8029\n",
      "/r/HasProperty\t4505\n",
      "/r/HasPrerequisite\t4149\n",
      "/r/UsedFor\t3540\n",
      "/r/RelatedTo\t3479\n",
      "/r/DistinctFrom\t3214\n",
      "/r/Antonym\t2178\n",
      "/r/Causes\t1482\n",
      "\n",
      "###Degrees:\n",
      "in degree stats: mean=1.917821, std=0.102828, max=1\n",
      "out degree stats: mean=1.917821, std=0.006155, max=1\n",
      "total degree stats: mean=3.835643, std=0.103883, max=1\n",
      "\n",
      "###PageRank\n",
      "Max pageranks\n",
      "2502\tQ3249551\t0.006873\n",
      "386\tQ11862829\t0.009361\n",
      "288\tQ151885\t0.010839\n",
      "310\tQ2996394\t0.008839\n",
      "1906\tQ7187\t0.010410\n",
      "\n",
      "###HITS\n",
      "HITS hubs\n",
      "36441\tQ62536\t0.000000\n",
      "310\tQ2996394\t0.000000\n",
      "2683\tQ8054\t0.000281\n",
      "14572\tQ20747295\t0.000770\n",
      "1906\tQ7187\t1.000000\n",
      "HITS auth\n",
      "14572\tQ20747295\t0.013873\n",
      "70327\tQ20969150\t0.013880\n",
      "37064\tQ18256813\t0.013880\n",
      "49434\tQ18969817\t0.013880\n",
      "14571\tQ26738515\t0.013880\n"
     ]
    }
   ],
   "source": [
    "%%bash\n",
    "cat summary.txt"
   ]
  },
  {
   "cell_type": "code",
   "execution_count": null,
   "metadata": {},
   "outputs": [],
   "source": []
  }
 ],
 "metadata": {
  "kernelspec": {
   "display_name": "Python 3",
   "language": "python",
   "name": "python3"
  },
  "language_info": {
   "codemirror_mode": {
    "name": "ipython",
    "version": 3
   },
   "file_extension": ".py",
   "mimetype": "text/x-python",
   "name": "python",
   "nbconvert_exporter": "python",
   "pygments_lexer": "ipython3",
   "version": "3.7.7"
  }
 },
 "nbformat": 4,
 "nbformat_minor": 4
}
