{
 "cells": [
  {
   "cell_type": "markdown",
   "metadata": {},
   "source": [
    "# Mapping the Wikidata relations to CSKG relations"
   ]
  },
  {
   "cell_type": "markdown",
   "metadata": {},
   "source": [
    "## Map relations and Prepare for CSKG"
   ]
  },
  {
   "cell_type": "code",
   "execution_count": 9,
   "metadata": {},
   "outputs": [],
   "source": [
    "new_columns=['node1', 'relation', 'node2', 'node1;label', 'node2;label','relation;label', 'relation;dimension', 'weight', 'source', 'origin', 'sentence', 'question']"
   ]
  },
  {
   "cell_type": "code",
   "execution_count": 10,
   "metadata": {},
   "outputs": [],
   "source": [
    "df1=pd.DataFrame(new_rows, columns=new_columns)"
   ]
  },
  {
   "cell_type": "code",
   "execution_count": 13,
   "metadata": {},
   "outputs": [],
   "source": [
    "df1.to_csv('%s/kgtk_wikidata_concepts.tsv' % tmp_dir, index=False, sep='\\t', columns=new_columns)"
   ]
  },
  {
   "cell_type": "code",
   "execution_count": 19,
   "metadata": {},
   "outputs": [],
   "source": [
    "mapping={'P1889': '/r/DistinctFrom', \n",
    "        'P461': '/r/Antonym', \n",
    "        'P31': '/r/IsA',\n",
    "        'P279': '/r/IsA',\n",
    "         'P463': '/r/PartOf',\n",
    "         'P186': '/r/MadeOf',\n",
    "         'P276': '/r/AtLocation',\n",
    "         'P170': '/r/CreatedBy',\n",
    "         'P366': '/r/UsedFor',\n",
    "         'P462': '/r/HasProperty',\n",
    "         'P1552': '/r/HasProperty',\n",
    "         'P1542': '/r/Causes'\n",
    "        }"
   ]
  },
  {
   "cell_type": "code",
   "execution_count": 20,
   "metadata": {},
   "outputs": [],
   "source": [
    "inverse_mapping={'P527': '/r/PartOf', \n",
    "                'P828': '/r/Causes'}"
   ]
  },
  {
   "cell_type": "code",
   "execution_count": 21,
   "metadata": {},
   "outputs": [],
   "source": [
    "from copy import copy"
   ]
  },
  {
   "cell_type": "code",
   "execution_count": 22,
   "metadata": {},
   "outputs": [
    {
     "ename": "NameError",
     "evalue": "name 'ready_rows' is not defined",
     "output_type": "error",
     "traceback": [
      "\u001b[0;31m---------------------------------------------------------------------------\u001b[0m",
      "\u001b[0;31mNameError\u001b[0m                                 Traceback (most recent call last)",
      "\u001b[0;32m<ipython-input-22-bfdade53ba1f>\u001b[0m in \u001b[0;36m<module>\u001b[0;34m\u001b[0m\n\u001b[1;32m      4\u001b[0m     \u001b[0;32mif\u001b[0m \u001b[0mrelation\u001b[0m \u001b[0;32min\u001b[0m \u001b[0mmapping\u001b[0m\u001b[0;34m.\u001b[0m\u001b[0mkeys\u001b[0m\u001b[0;34m(\u001b[0m\u001b[0;34m)\u001b[0m\u001b[0;34m:\u001b[0m\u001b[0;34m\u001b[0m\u001b[0;34m\u001b[0m\u001b[0m\n\u001b[1;32m      5\u001b[0m         \u001b[0mrow\u001b[0m\u001b[0;34m[\u001b[0m\u001b[0;36m1\u001b[0m\u001b[0;34m]\u001b[0m\u001b[0;34m=\u001b[0m\u001b[0mmapping\u001b[0m\u001b[0;34m[\u001b[0m\u001b[0mrow\u001b[0m\u001b[0;34m[\u001b[0m\u001b[0;36m1\u001b[0m\u001b[0;34m]\u001b[0m\u001b[0;34m]\u001b[0m\u001b[0;34m\u001b[0m\u001b[0;34m\u001b[0m\u001b[0m\n\u001b[0;32m----> 6\u001b[0;31m         \u001b[0mready_rows\u001b[0m\u001b[0;34m.\u001b[0m\u001b[0mappend\u001b[0m\u001b[0;34m(\u001b[0m\u001b[0mrow\u001b[0m\u001b[0;34m)\u001b[0m\u001b[0;34m\u001b[0m\u001b[0;34m\u001b[0m\u001b[0m\n\u001b[0m\u001b[1;32m      7\u001b[0m     \u001b[0;32melif\u001b[0m \u001b[0mrelation\u001b[0m \u001b[0;32min\u001b[0m \u001b[0minverse_mapping\u001b[0m\u001b[0;34m.\u001b[0m\u001b[0mkeys\u001b[0m\u001b[0;34m(\u001b[0m\u001b[0;34m)\u001b[0m\u001b[0;34m:\u001b[0m\u001b[0;34m\u001b[0m\u001b[0;34m\u001b[0m\u001b[0m\n\u001b[1;32m      8\u001b[0m         \u001b[0mrow\u001b[0m\u001b[0;34m[\u001b[0m\u001b[0;36m1\u001b[0m\u001b[0;34m]\u001b[0m\u001b[0;34m=\u001b[0m\u001b[0minverse_mapping\u001b[0m\u001b[0;34m[\u001b[0m\u001b[0mrow\u001b[0m\u001b[0;34m[\u001b[0m\u001b[0;36m1\u001b[0m\u001b[0;34m]\u001b[0m\u001b[0;34m]\u001b[0m\u001b[0;34m\u001b[0m\u001b[0;34m\u001b[0m\u001b[0m\n",
      "\u001b[0;31mNameError\u001b[0m: name 'ready_rows' is not defined"
     ]
    }
   ],
   "source": [
    "for a_row in filtered_rows:\n",
    "    row=copy(a_row)\n",
    "    relation=row[1]\n",
    "    if relation in mapping.keys():\n",
    "        row[1]=mapping[row[1]]\n",
    "        ready_rows.append(row)\n",
    "    elif relation in inverse_mapping.keys():\n",
    "        row[1]=inverse_mapping[row[1]]\n",
    "        tmp=row[0]\n",
    "        row[0]=row[2]\n",
    "        row[2]=tmp\n",
    "        ready_rows.append(row)\n",
    "    else:\n",
    "        print(row)\n",
    "        input('c')"
   ]
  },
  {
   "cell_type": "code",
   "execution_count": 2,
   "metadata": {},
   "outputs": [
    {
     "ename": "NameError",
     "evalue": "name 'filtered_rows' is not defined",
     "output_type": "error",
     "traceback": [
      "\u001b[0;31m---------------------------------------------------------------------------\u001b[0m",
      "\u001b[0;31mNameError\u001b[0m                                 Traceback (most recent call last)",
      "\u001b[0;32m<ipython-input-2-7f23a6267496>\u001b[0m in \u001b[0;36m<module>\u001b[0;34m\u001b[0m\n\u001b[0;32m----> 1\u001b[0;31m \u001b[0mlen\u001b[0m\u001b[0;34m(\u001b[0m\u001b[0mfiltered_rows\u001b[0m\u001b[0;34m)\u001b[0m\u001b[0;34m\u001b[0m\u001b[0;34m\u001b[0m\u001b[0m\n\u001b[0m",
      "\u001b[0;31mNameError\u001b[0m: name 'filtered_rows' is not defined"
     ]
    }
   ],
   "source": [
    "len(filtered_rows)"
   ]
  },
  {
   "cell_type": "code",
   "execution_count": 37,
   "metadata": {},
   "outputs": [],
   "source": [
    "df2=pd.DataFrame(ready_rows, columns=new_columns)"
   ]
  },
  {
   "cell_type": "code",
   "execution_count": 38,
   "metadata": {},
   "outputs": [
    {
     "data": {
      "text/plain": [
       "/r/IsA            187320\n",
       "/r/PartOf           8193\n",
       "/r/Antonym          3127\n",
       "/r/UsedFor          3080\n",
       "/r/MadeOf           2367\n",
       "/r/HasProperty      1782\n",
       "/r/Causes           1651\n",
       "/r/CreatedBy         369\n",
       "/r/AtLocation        173\n",
       "Name: relation, dtype: int64"
      ]
     },
     "execution_count": 38,
     "metadata": {},
     "output_type": "execute_result"
    }
   ],
   "source": [
    "df2['relation'].value_counts()"
   ]
  },
  {
   "cell_type": "code",
   "execution_count": 39,
   "metadata": {},
   "outputs": [],
   "source": [
    "df2.to_csv('%s/kgtk_wikidata_ready.tsv' % tmp_dir, index=False, sep='\\t', columns=new_columns)"
   ]
  },
  {
   "cell_type": "code",
   "execution_count": 40,
   "metadata": {},
   "outputs": [
    {
     "name": "stdout",
     "output_type": "stream",
     "text": [
      "           node1       relation      node2                                        node1;label                      node2;label relation;label relation;dimension weight source origin sentence question\n",
      "807      Q104499  /r/AtLocation       Q634                                  planetary science                           planet  'location'@en                               WD                         \n",
      "913    Q10480682  /r/AtLocation    Q175185                             agricultural structure                       rural area  'location'@en                               WD                         \n",
      "1044    Q1050571  /r/AtLocation  Q71180315                                            catcher                       home plate  'location'@en                               WD                         \n",
      "2003    Q1072280  /r/AtLocation    Q133215                                       casino token                           casino  'location'@en                               WD                         \n",
      "3486    Q1126251  /r/AtLocation     Q43164                                     food processor                          kitchen  'location'@en                               WD                         \n",
      "4245    Q1141278  /r/AtLocation  Q71417586                                          fair ball                   fair territory  'location'@en                               WD                         \n",
      "4392    Q1143358  /r/AtLocation  Q71431105                                          shortstop                       third base  'location'@en                               WD                         \n",
      "4393    Q1143358  /r/AtLocation  Q71431110                                          shortstop                      second base  'location'@en                               WD                         \n",
      "5989   Q11880995  /r/AtLocation   Q3395383                                      berry picking                agricultural land  'location'@en                               WD                         \n",
      "6124    Q1190910  /r/AtLocation     Q37017                                      facial makeup                             face  'location'@en                               WD                         \n",
      "6502     Q119830  /r/AtLocation      Q6311                                        solar flare               stellar atmosphere  'location'@en                               WD                         \n",
      "6768    Q1203642  /r/AtLocation    Q206717                                planetary migration                 planetary system  'location'@en                               WD                         \n",
      "7255    Q1210980  /r/AtLocation     Q43164                                             sponge                          kitchen  'location'@en                               WD                         \n",
      "7256    Q1210980  /r/AtLocation    Q628858                                             sponge                        workplace  'location'@en                               WD                         \n",
      "7515      Q12202  /r/AtLocation    Q492038                                             stroke                      human brain  'location'@en                               WD                         \n",
      "7730   Q12302883  /r/AtLocation   Q5307737                                        bar counter           drinking establishment  'location'@en                               WD                         \n",
      "8173     Q124946  /r/AtLocation   Q1107656                                          gardening                           garden  'location'@en                               WD                         \n",
      "8531    Q1261499  /r/AtLocation       Q165                                       naval battle                              sea  'location'@en                               WD                         \n",
      "9802     Q131696  /r/AtLocation    Q190771                                              towel                         bathroom  'location'@en                               WD                         \n",
      "9803     Q131696  /r/AtLocation     Q42177                                              towel                              bed  'location'@en                               WD                         \n",
      "9804     Q131696  /r/AtLocation     Q43164                                              towel                          kitchen  'location'@en                               WD                         \n",
      "9805     Q131696  /r/AtLocation    Q628858                                              towel                        workplace  'location'@en                               WD                         \n",
      "10143   Q1326154  /r/AtLocation  Q71287214                                      first baseman                       first base  'location'@en                               WD                         \n",
      "10940  Q13418006  /r/AtLocation    Q627236                                      company store                     company town  'location'@en                               WD                         \n",
      "11890   Q1368170  /r/AtLocation  Q71431105                                      third baseman                       third base  'location'@en                               WD                         \n",
      "11894   Q1368195  /r/AtLocation  Q71287214                                     second baseman                       first base  'location'@en                               WD                         \n",
      "11895   Q1368195  /r/AtLocation  Q71431110                                     second baseman                      second base  'location'@en                               WD                         \n",
      "12625    Q140565  /r/AtLocation    Q190771                                               sink                         bathroom  'location'@en                               WD                         \n",
      "12699  Q14085739  /r/AtLocation     Q15324                                            sailing                    body of water  'location'@en                               WD                         \n",
      "13245   Q1423981  /r/AtLocation    Q272730                                             airway                         airspace  'location'@en                               WD                         \n",
      "13662     Q14373  /r/AtLocation     Q15324                                            fishing                    body of water  'location'@en                               WD                         \n",
      "13891  Q14518514  /r/AtLocation    Q124282                                        yard cellar                             dock  'location'@en                               WD                         \n",
      "13892  Q14518514  /r/AtLocation    Q283202                                        yard cellar                           harbor  'location'@en                               WD                         \n",
      "13893  Q14518514  /r/AtLocation      Q4022                                        yard cellar                            river  'location'@en                               WD                         \n",
      "14426   Q1471432  /r/AtLocation      Q4169                                   space laboratory                      outer space  'location'@en                               WD                         \n",
      "15921     Q14890  /r/AtLocation     Q43164                                            toaster                          kitchen  'location'@en                               WD                         \n",
      "16562  Q14915208  /r/AtLocation     Q34442                                roadside attraction                             road  'location'@en                               WD                         \n",
      "16973     Q15026  /r/AtLocation   Q1299240                                              chair                   interior space  'location'@en                               WD                         \n",
      "17650     Q15179  /r/AtLocation  Q15332375                                          moustache                               up  'location'@en                               WD                         \n",
      "19192   Q1570432  /r/AtLocation   Q4168959                   semiconductor device fabrication  semiconductor fabrication plant  'location'@en                               WD                         \n",
      "19207  Q15706911  /r/AtLocation    Q559618                                   fictional object               fictional universe  'location'@en                               WD                         \n",
      "19668   Q1584373  /r/AtLocation      Q3230                        terrestrial gamma-ray flash              atmosphere of Earth  'location'@en                               WD                         \n",
      "21268     Q16491  /r/AtLocation  Q16886316                                           daylight                          indoors  'location'@en                               WD                         \n",
      "21269     Q16491  /r/AtLocation  Q16889140                                           daylight                         outdoors  'location'@en                               WD                         \n",
      "21484    Q165848  /r/AtLocation     Q15324                                          wind wave                    body of water  'location'@en                               WD                         \n",
      "21839   Q1667685  /r/AtLocation     Q43164                                          gas stove                          kitchen  'location'@en                               WD                         \n",
      "22229    Q168456  /r/AtLocation      Q7362                                            earring                              ear  'location'@en                               WD                         \n",
      "22590  Q16964393  /r/AtLocation    Q468756                                            sea air                            shore  'location'@en                               WD                         \n",
      "22681    Q169950  /r/AtLocation      Q4421                                           wildfire                           forest  'location'@en                               WD                         \n",
      "24936  Q17561165  /r/AtLocation  Q81212998                                      ox and donkey                  manger of Jesus  'location'@en                               WD                         \n",
      "25006   Q1757562  /r/AtLocation      Q8104                                      air transport                       atmosphere  'location'@en                               WD                         \n",
      "25810    Q178512  /r/AtLocation  Q41103453                                   public transport           public transport route  'location'@en                               WD                         \n",
      "26162    Q179643  /r/AtLocation   Q3246517                                  underwater diving                       underwater  'location'@en                               WD                         \n",
      "27133    Q182995  /r/AtLocation     Q43164                                      kitchen stove                          kitchen  'location'@en                               WD                         \n",
      "27690    Q184790  /r/AtLocation    Q179076                                subscription period                         exchange  'location'@en                               WD                         \n",
      "27718    Q184872  /r/AtLocation   Q2063507                                         recreation                  recreation area  'location'@en                               WD                         \n",
      "30148    Q188941  /r/AtLocation      Q7868                                         cell cycle                             cell  'location'@en                               WD                         \n",
      "31586    Q193592  /r/AtLocation  Q25447210                                         midfielder                         midfield  'location'@en                               WD                         \n",
      "32481   Q1970932  /r/AtLocation   Q3246517                                 underwater habitat                       underwater  'location'@en                               WD                         \n",
      "32484  Q19710423  /r/AtLocation    Q171448                           level crossing collision                   level crossing  'location'@en                               WD                         \n",
      "33081   Q1990797  /r/AtLocation    Q188869                                          scarecrow                            field  'location'@en                               WD                         \n",
      "33082   Q1990797  /r/AtLocation    Q624114                                          scarecrow                   kitchen garden  'location'@en                               WD                         \n",
      "33173  Q19936882  /r/AtLocation    Q265688              establishment of Pirate Party Germany                           c-base  'location'@en                               WD                         \n",
      "33373  Q20003383  /r/AtLocation     Q43164                                       kitchen sink                          kitchen  'location'@en                               WD                         \n",
      "35242   Q2079255  /r/AtLocation  Q13226383                                          scuba set                         facility  'location'@en                               WD                         \n",
      "35243   Q2079255  /r/AtLocation   Q3246517                                          scuba set                       underwater  'location'@en                               WD                         \n",
      "35288  Q20798585  /r/AtLocation  Q15952917                   equestrian statue of Joan of Arc                 episcopal palace  'location'@en                               WD                         \n",
      "35586    Q208594  /r/AtLocation        Q68                                         screenshot                         computer  'location'@en                               WD                         \n",
      "37912    Q211669  /r/AtLocation      Q9635                                         swallowing                            mouth  'location'@en                               WD                         \n",
      "38686    Q213449  /r/AtLocation     Q11707                                             eating                       restaurant  'location'@en                               WD                         \n",
      "38687    Q213449  /r/AtLocation     Q43164                                             eating                          kitchen  'location'@en                               WD                         \n",
      "38688    Q213449  /r/AtLocation    Q628858                                             eating                        workplace  'location'@en                               WD                         \n",
      "38689    Q213449  /r/AtLocation    Q661199                                             eating                      dining room  'location'@en                               WD                         \n",
      "40178   Q2193276  /r/AtLocation   Q1621256                  death of Diana, Princess of Wales                  pont de l\\'Alma  'location'@en                               WD                         \n",
      "40976  Q22270382  /r/AtLocation     Q15324                                           swimming                    body of water  'location'@en                               WD                         \n",
      "43803   Q2264369  /r/AtLocation     Q24354                                      front curtain                          theatre  'location'@en                               WD                         \n",
      "43950   Q2267705  /r/AtLocation     Q38723                                     field of study     higher education institution  'location'@en                               WD                         \n",
      "43951   Q2267705  /r/AtLocation      Q3918                                     field of study                       university  'location'@en                               WD                         \n",
      "45171    Q231663  /r/AtLocation   Q1472399                                  forced separation                  internet access  'location'@en                               WD                         \n",
      "46002   Q2369170  /r/AtLocation   Q3246517                                  underwater sports                       underwater  'location'@en                               WD                         \n",
      "46330   Q2383811  /r/AtLocation  Q12823105                                      office supply                           office  'location'@en                               WD                         \n",
      "49466   Q2563653  /r/AtLocation   Q2288876                                       farm camping              farm with camp site  'location'@en                               WD                         \n",
      "49565   Q2572947  /r/AtLocation    Q529688                                            lookout                     crow\\'s nest  'location'@en                               WD                         \n",
      "50586   Q2637814  /r/AtLocation   Q1299240                                    rack of shelves                   interior space  'location'@en                               WD                         \n",
      "50648    Q264234  /r/AtLocation   Q1378975              wrestling at the 1972 Summer Olympics                convention center  'location'@en                               WD                         \n",
      "50880    Q266488  /r/AtLocation   Q3308569                                          town sign                      city limits  'location'@en                               WD                         \n",
      "51327  Q26821237  /r/AtLocation   Q1851236  attempted assassination of Louis-Philippe of F...              boulevard du Temple  'location'@en                               WD                         \n",
      "52842  Q27761660  /r/AtLocation      Q8502                                     mountain storm                         mountain  'location'@en                               WD                         \n",
      "53351  Q27976507  /r/AtLocation    Q131183                                            cabaret                          cabaret  'location'@en                               WD                         \n",
      "55256    Q288514  /r/AtLocation  Q27150222                                               fair                      fair ground  'location'@en                               WD                         \n",
      "56505  Q29373536  /r/AtLocation   Q1658231                                   passive swimming                      water table  'location'@en                               WD                         \n",
      "56787  Q29531528  /r/AtLocation     Q43164                                        pasta maker                          kitchen  'location'@en                               WD                         \n",
      "56968  Q29591319  /r/AtLocation     Q11435                          object immersed in liquid                           liquid  'location'@en                               WD                         \n",
      "57071  Q29651519  /r/AtLocation       Q450                                      mental object                             mind  'location'@en                               WD                         \n",
      "57162    Q297376  /r/AtLocation   Q6018565                                       oil dilution                combustion engine  'location'@en                               WD                         \n",
      "57367  Q29876482  /r/AtLocation        Q68                                     computer model                         computer  'location'@en                               WD                         \n",
      "57511  Q29921717  /r/AtLocation    Q180846                               supermarket checkout                      supermarket  'location'@en                               WD                         \n",
      "57793     Q30014  /r/AtLocation   Q3962257                                       outer planet               outer solar system  'location'@en                               WD                         \n",
      "58096  Q30083170  /r/AtLocation  Q29325169                                 hedgehog on wheels         room 304, display case 8  'location'@en                               WD                         \n",
      "58129  Q30091312  /r/AtLocation  Q29348803                        bed with couple intertwined        room 304, display case 10  'location'@en                               WD                         \n"
     ]
    }
   ],
   "source": [
    "with pd.option_context('display.max_rows', None, 'display.width', 1000):  # more options can be specified also\n",
    "    print(df2[df2['relation']=='/r/AtLocation'].head(100))"
   ]
  }
 ],
 "metadata": {
  "kernelspec": {
   "display_name": "Python 3",
   "language": "python",
   "name": "python3"
  },
  "language_info": {
   "codemirror_mode": {
    "name": "ipython",
    "version": 3
   },
   "file_extension": ".py",
   "mimetype": "text/x-python",
   "name": "python",
   "nbconvert_exporter": "python",
   "pygments_lexer": "ipython3",
   "version": "3.7.7"
  }
 },
 "nbformat": 4,
 "nbformat_minor": 4
}
