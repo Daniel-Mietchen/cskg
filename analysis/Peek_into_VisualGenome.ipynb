{
 "cells": [
  {
   "cell_type": "markdown",
   "metadata": {},
   "source": [
    "# VisualGenome\n",
    "\n",
    "version newest (v1.2 for the region graphs)"
   ]
  },
  {
   "cell_type": "markdown",
   "metadata": {},
   "source": [
    "### Setting imports and paths"
   ]
  },
  {
   "cell_type": "code",
   "execution_count": 24,
   "metadata": {},
   "outputs": [],
   "source": [
    "import json\n",
    "import pandas as pd\n",
    "import networkx as nx\n",
    "from collections import defaultdict"
   ]
  },
  {
   "cell_type": "code",
   "execution_count": 22,
   "metadata": {},
   "outputs": [],
   "source": [
    "vg_path='raw/scene_graphs.json'"
   ]
  },
  {
   "cell_type": "code",
   "execution_count": 23,
   "metadata": {},
   "outputs": [],
   "source": [
    "with open(vg_path, 'r') as f:\n",
    "    images_data=json.load(f)"
   ]
  },
  {
   "cell_type": "markdown",
   "metadata": {},
   "source": [
    "### Load the data into two lists: nodes (from objects with attributes) and edges (from relationships) without deduplication"
   ]
  },
  {
   "cell_type": "code",
   "execution_count": 14,
   "metadata": {},
   "outputs": [],
   "source": [
    "single_image=images_data[0]\n",
    "#print(single_image)"
   ]
  },
  {
   "cell_type": "code",
   "execution_count": 15,
   "metadata": {},
   "outputs": [
    {
     "data": {
      "text/plain": [
       "108077"
      ]
     },
     "execution_count": 15,
     "metadata": {},
     "output_type": "execute_result"
    }
   ],
   "source": [
    "len(images_data)"
   ]
  },
  {
   "cell_type": "code",
   "execution_count": 11,
   "metadata": {},
   "outputs": [],
   "source": [
    "all_rels=[]\n",
    "all_objs=[]"
   ]
  },
  {
   "cell_type": "code",
   "execution_count": 37,
   "metadata": {},
   "outputs": [],
   "source": [
    "for an_image in images_data:\n",
    "    rels=an_image['relationships']\n",
    "    for rel in rels:\n",
    "        rel_id=rel['relationship_id']\n",
    "        pred=rel['predicate']\n",
    "        sub_id=rel['subject_id']\n",
    "        obj_id=rel['object_id']\n",
    "        synsets=rel['synsets']\n",
    "        if (len(synsets)>1): \n",
    "            print('rel with >1 synsets', synsets)\n",
    "        rel_data=[rel_id, sub_id, pred, obj_id, synsets]\n",
    "        all_rels.append(rel_data)\n",
    "        \n",
    "    objects=an_image['objects']\n",
    "    for obj in objects:\n",
    "        obj_id=obj['object_id']\n",
    "        names=obj['names']\n",
    "#        if (len(names)>1): \n",
    "#            print('obj with >1 names', names)\n",
    "        synsets=obj['synsets']\n",
    "#        if (len(synsets)>1): \n",
    "#            print('obj with >1 synsets', synsets)\n",
    "        if 'attributes' in obj:\n",
    "            attrs=obj['attributes']\n",
    "        else:\n",
    "            attrs=[]\n",
    "        obj_data=[obj_id, names, synsets, attrs]\n",
    "        all_objs.append(obj_data)"
   ]
  },
  {
   "cell_type": "code",
   "execution_count": 17,
   "metadata": {},
   "outputs": [
    {
     "data": {
      "text/plain": [
       "2316104"
      ]
     },
     "execution_count": 17,
     "metadata": {},
     "output_type": "execute_result"
    }
   ],
   "source": [
    "len(all_rels)"
   ]
  },
  {
   "cell_type": "code",
   "execution_count": 21,
   "metadata": {},
   "outputs": [
    {
     "data": {
      "text/plain": [
       "3802378"
      ]
     },
     "execution_count": 21,
     "metadata": {},
     "output_type": "execute_result"
    }
   ],
   "source": [
    "len(all_objs)"
   ]
  },
  {
   "cell_type": "markdown",
   "metadata": {},
   "source": [
    "### Load the data into two tables: nodes (from objects with attributes) and edges (from relationships) WITH deduplication"
   ]
  },
  {
   "cell_type": "code",
   "execution_count": 29,
   "metadata": {},
   "outputs": [],
   "source": [
    "all_rels_ded={}\n",
    "for an_image in images_data:\n",
    "    rels=an_image['relationships']\n",
    "    for rel in rels:\n",
    "        rel_id=rel['relationship_id']\n",
    "        pred=rel['predicate']\n",
    "        sub_id=rel['subject_id']\n",
    "        obj_id=rel['object_id']\n",
    "        synsets=rel['synsets']\n",
    "        \n",
    "        if rel_id not in all_rels_ded.keys():\n",
    "            all_rels_ded[rel_id]={}\n",
    "            all_rels_ded[rel_id]['pred']=set()\n",
    "            all_rels_ded[rel_id]['sub_id']=set()\n",
    "            all_rels_ded[rel_id]['obj_id']=set()\n",
    "            all_rels_ded[rel_id]['synsets']=set()\n",
    "            \n",
    "        rel_data=all_rels_ded[rel_id]\n",
    "        rel_data['pred'].add(pred)\n",
    "        rel_data['obj_id'].add(obj_id)\n",
    "        rel_data['sub_id'].add(sub_id)\n",
    "        for s in synsets:\n",
    "            rel_data['synsets'].add(s)"
   ]
  },
  {
   "cell_type": "code",
   "execution_count": 30,
   "metadata": {},
   "outputs": [
    {
     "data": {
      "text/plain": [
       "2316104"
      ]
     },
     "execution_count": 30,
     "metadata": {},
     "output_type": "execute_result"
    }
   ],
   "source": [
    "len(all_rels_ded.keys())"
   ]
  },
  {
   "cell_type": "code",
   "execution_count": 34,
   "metadata": {},
   "outputs": [],
   "source": [
    "all_objs_ded={}\n",
    "for an_image in images_data:\n",
    "    objects=an_image['objects']\n",
    "    for obj in objects:\n",
    "        obj_id=obj['object_id']\n",
    "        names=obj['names']\n",
    "        synsets=obj['synsets']\n",
    "        if 'attributes' in obj:\n",
    "            attrs=obj['attributes']\n",
    "        else:\n",
    "            attrs=[]\n",
    "\n",
    "        if obj_id not in all_objs_ded.keys():\n",
    "            all_objs_ded[obj_id]={}\n",
    "            all_objs_ded[obj_id]['names']=set()\n",
    "            all_objs_ded[obj_id]['synsets']=set()\n",
    "            all_objs_ded[obj_id]['attrs']=set()\n",
    "        else:\n",
    "            print('object reused:', obj_id, names, synsets, attrs)\n",
    "        \n",
    "        obj_data=all_objs_ded[obj_id]\n",
    "        for n in names:\n",
    "            obj_data['names'].add(n)    \n",
    "        for s in synsets:\n",
    "            obj_data['synsets'].add(s)    \n",
    "        for a in attrs:\n",
    "            obj_data['attrs'].add(a)    "
   ]
  },
  {
   "cell_type": "code",
   "execution_count": 35,
   "metadata": {
    "jupyter": {
     "source_hidden": true
    }
   },
   "outputs": [
    {
     "data": {
      "text/plain": [
       "3802374"
      ]
     },
     "execution_count": 35,
     "metadata": {},
     "output_type": "execute_result"
    }
   ],
   "source": [
    "len(all_objs_ded.keys())"
   ]
  },
  {
   "cell_type": "code",
   "execution_count": null,
   "metadata": {},
   "outputs": [],
   "source": []
  }
 ],
 "metadata": {
  "kernelspec": {
   "display_name": "Python 3",
   "language": "python",
   "name": "python3"
  },
  "language_info": {
   "codemirror_mode": {
    "name": "ipython",
    "version": 3
   },
   "file_extension": ".py",
   "mimetype": "text/x-python",
   "name": "python",
   "nbconvert_exporter": "python",
   "pygments_lexer": "ipython3",
   "version": "3.7.4"
  }
 },
 "nbformat": 4,
 "nbformat_minor": 4
}
