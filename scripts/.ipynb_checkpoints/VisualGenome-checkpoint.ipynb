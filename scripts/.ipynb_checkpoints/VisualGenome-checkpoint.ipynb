{
 "cells": [
  {
   "cell_type": "markdown",
   "metadata": {},
   "source": [
    "# VisualGenome\n",
    "\n",
    "version newest (v1.4, though the graphs are same as in v1.2)"
   ]
  },
  {
   "cell_type": "markdown",
   "metadata": {},
   "source": [
    "### Setting imports, constants, and paths"
   ]
  },
  {
   "cell_type": "code",
   "execution_count": 24,
   "metadata": {},
   "outputs": [],
   "source": [
    "import json\n",
    "import pandas as pd\n",
    "from collections import defaultdict\n",
    "import os\n",
    "\n",
    "import config"
   ]
  },
  {
   "cell_type": "code",
   "execution_count": 2,
   "metadata": {},
   "outputs": [],
   "source": [
    "VERSION=config.VERSION"
   ]
  },
  {
   "cell_type": "code",
   "execution_count": 25,
   "metadata": {},
   "outputs": [],
   "source": [
    "# INPUT FILES\n",
    "input_dir='../input/visualgenome'\n",
    "attr_synsets_path='%s/attribute_synsets.json' % input_dir\n",
    "vg_scene_path='%s/scene_graphs.json' % input_dir\n",
    "vg_regions_path='%s/region_graphs.json' % input_dir\n",
    "\n",
    "# OUTPUT FILES\n",
    "output_dir='../output_v%s/visualgenome' % VERSION\n",
    "nodes_file='%s/nodes_v%s.csv' % (output_dir, VERSION)\n",
    "edges_file='%s/edges_v%s.csv' % (output_dir, VERSION)"
   ]
  },
  {
   "cell_type": "code",
   "execution_count": 26,
   "metadata": {},
   "outputs": [],
   "source": [
    "if not os.path.exists(output_dir):\n",
    "    os.makedirs(output_dir)"
   ]
  },
  {
   "cell_type": "code",
   "execution_count": 4,
   "metadata": {},
   "outputs": [],
   "source": [
    "with open(vg_scene_path, 'r') as f:\n",
    "    images_data=json.load(f)"
   ]
  },
  {
   "cell_type": "code",
   "execution_count": 5,
   "metadata": {},
   "outputs": [],
   "source": [
    "with open(attr_synsets_path, 'r') as f:\n",
    "    attr_synsets=json.load(f)"
   ]
  },
  {
   "cell_type": "code",
   "execution_count": 6,
   "metadata": {},
   "outputs": [
    {
     "data": {
      "text/plain": [
       "108077"
      ]
     },
     "execution_count": 6,
     "metadata": {},
     "output_type": "execute_result"
    }
   ],
   "source": [
    "len(images_data)"
   ]
  },
  {
   "cell_type": "code",
   "execution_count": 7,
   "metadata": {},
   "outputs": [],
   "source": [
    "def create_uri(ns, rel):\n",
    "    return '%s:%s' % (ns, rel)"
   ]
  },
  {
   "cell_type": "code",
   "execution_count": 8,
   "metadata": {},
   "outputs": [],
   "source": [
    "def add_lowercase_labels(labels):\n",
    "    label, *aliases=list(labels)\n",
    "    added=set()\n",
    "    for lbl in labels:\n",
    "        if not lbl.islower() and lbl.lower() not in labels:\n",
    "            added.add(lbl.lower())\n",
    "            \n",
    "    aliases = list(set(aliases) | added)\n",
    "    return label, aliases"
   ]
  },
  {
   "cell_type": "code",
   "execution_count": 9,
   "metadata": {},
   "outputs": [],
   "source": [
    "NODE_COLS=config.nodes_cols\n",
    "EDGE_COLS=config.edges_cols\n",
    "\n",
    "MOWGLI_NS=config.mowgli_ns\n",
    "WORDNET_NS=config.wordnet_ns\n",
    "VG_NS=config.visualgenome_ns\n",
    "\n",
    "WORDNET_SENSE_REL=create_uri(VG_NS, config.pwordnet_sense)\n",
    "SUBJECT_REL=create_uri(VG_NS, config.subject)\n",
    "OBJECT_REL=create_uri(VG_NS, config.objct)\n",
    "INBB_REL=create_uri(VG_NS, config.in_bb)\n",
    "INIMAGE_REL=create_uri(VG_NS, config.in_image)\n",
    "\n",
    "HAS_PROPERTY_REL=config.has_prop\n",
    "\n",
    "CUSTOM_DATASET=config.custom_dataset\n",
    "\n",
    "data_source=config.vg_ds\n",
    "weight=\"1.0\""
   ]
  },
  {
   "cell_type": "markdown",
   "metadata": {},
   "source": [
    "### Load the data into two tables: nodes (from objects with attributes) and edges (from relationships) WITH deduplication\n",
    "\n",
    "**Process edges first**"
   ]
  },
  {
   "cell_type": "code",
   "execution_count": 10,
   "metadata": {},
   "outputs": [],
   "source": [
    "def add_relationships_data(rels, image_id, all_nodes, all_edges, wn2label, wn2image):\n",
    "    for rel in rels:\n",
    "        rel_id=create_uri(VG_NS, 'R' + str(rel['relationship_id']))\n",
    "        sub_id=create_uri(VG_NS, 'O' + str(rel['subject_id']))\n",
    "        obj_id=create_uri(VG_NS, 'O' + str(rel['object_id']))\n",
    "        synsets=rel['synsets']\n",
    "        pred=rel['predicate']\n",
    "        \n",
    "        # CREATE REL-SUBJECT and REL-OBJECT EDGES\n",
    "        rel_subj_col=[rel_id, SUBJECT_REL, sub_id, data_source, weight, {'image_id': image_id}]\n",
    "        all_edges.append(rel_subj_col)\n",
    "        \n",
    "        rel_obj_col=[rel_id, OBJECT_REL, obj_id, data_source, weight, {'image_id': image_id}]\n",
    "        all_edges.append(rel_obj_col)\n",
    "        \n",
    "        pos=''\n",
    "        for s in synsets:\n",
    "            rel_syn_col=[rel_id, WORDNET_SENSE_REL, create_uri(WORDNET_NS, s), data_source, weight, {'image_id': image_id}]\n",
    "            all_edges.append(rel_syn_col)\n",
    "            \n",
    "            wn2label[s].add(pred)\n",
    "            wn2image[s].add(image_id)            \n",
    "\n",
    "            pos=s.split('.')[1]\n",
    "            \n",
    "            all_rel_synsets.append(s)\n",
    "        \n",
    "        # CREATE relationship node\n",
    "        label, aliases=add_lowercase_labels([pred])\n",
    "        rel_node=[rel_id, label, ','.join(aliases), pos, data_source, {'image_id': image_id}]\n",
    "        all_nodes.append(rel_node)\n",
    "           \n",
    "    return all_nodes, all_edges, wn2label, wn2image"
   ]
  },
  {
   "cell_type": "code",
   "execution_count": 11,
   "metadata": {},
   "outputs": [],
   "source": [
    "def add_attr_data(attrs, image_id, all_nodes, all_edges, wn2label, wn2image, attr_id):\n",
    "    for a in attrs:\n",
    "        a_id=create_uri(VG_NS, 'A' + str(attr_id))\n",
    "        attr_id+=1\n",
    "\n",
    "        # attribute-related edges\n",
    "        obj_attr_edge=[obj_id, HAS_PROPERTY_REL, a_id, data_source, weight, {'image_id': image_id}]\n",
    "        all_edges.append(obj_attr_edge)\n",
    "\n",
    "        a_pos=''\n",
    "        if a in attr_synsets:\n",
    "            a_synset=attr_synsets[a]\n",
    "\n",
    "            attr_wn_edge=[a_id, WORDNET_SENSE_REL, create_uri(WORDNET_NS, a_synset), \n",
    "                          data_source, weight, {'image_id': image_id}]\n",
    "            all_edges.append(attr_wn_edge)\n",
    "\n",
    "            # save wordnet data for an attribute\n",
    "            wn2label[a_synset].add(a)\n",
    "            wn2image[a_synset].add(image_id)            \n",
    "            a_pos=a_synset.split('.')[1]\n",
    "            \n",
    "            all_attr_synsets.append(a_synset)\n",
    "            \n",
    "        # attribute node\n",
    "        a_label, a_aliases=add_lowercase_labels([a])\n",
    "        attr_node=[a_id, a_label, ','.join(a_aliases), a_pos, data_source, {'image_id': image_id}]\n",
    "        all_nodes.append(attr_node)\n",
    "        \n",
    "        \n",
    "    return all_nodes, all_edges, wn2label, wn2image, attr_id"
   ]
  },
  {
   "cell_type": "code",
   "execution_count": 12,
   "metadata": {},
   "outputs": [
    {
     "name": "stdout",
     "output_type": "stream",
     "text": [
      "Processed 0\n",
      "Processed 10000\n",
      "Processed 20000\n",
      "Processed 30000\n",
      "Processed 40000\n",
      "Processed 50000\n",
      "Processed 60000\n",
      "Processed 70000\n",
      "Processed 80000\n",
      "Processed 90000\n",
      "Processed 100000\n"
     ]
    }
   ],
   "source": [
    "all_edges=[]\n",
    "all_nodes=[]\n",
    "\n",
    "wn2label=defaultdict(set)\n",
    "wn2image=defaultdict(set)\n",
    "\n",
    "all_rel_synsets=[]\n",
    "all_obj_synsets=[]\n",
    "all_attr_synsets=[]\n",
    "preds=[]\n",
    "\n",
    "attr_id=1\n",
    "\n",
    "for counter, an_image in enumerate(images_data):    \n",
    "    image_id=an_image['image_id']\n",
    "    \n",
    "    # RELATIONSHIPS\n",
    "    all_nodes, all_edges, wn2label, wn2image = add_relationships_data(an_image['relationships'], \n",
    "                                                                                      an_image['image_id'], \n",
    "                                                                                      all_nodes, \n",
    "                                                                                      all_edges,\n",
    "                                                                                      wn2label,\n",
    "                                                                                      wn2image)\n",
    "    \n",
    "\n",
    "    # OBJECTS\n",
    "    for obj in an_image['objects']:\n",
    "            \n",
    "        obj_id=create_uri(VG_NS, 'O' + str(obj['object_id']))\n",
    "        label, aliases=add_lowercase_labels(obj['names'])\n",
    "        synsets=obj['synsets']\n",
    "        \n",
    "        pos=''\n",
    "        if len(synsets):\n",
    "            pos=synsets[0].split('.')[1]\n",
    "            for s in synsets:\n",
    "                obj_wn_edge=[obj_id, WORDNET_SENSE_REL, create_uri(WORDNET_NS, s), data_source, weight, {'image_id': image_id}]\n",
    "                all_edges.append(obj_wn_edge)\n",
    "\n",
    "                # save wordnet data for an attribute\n",
    "                wn2label[s].add(label)\n",
    "                wn2image[s].add(image_id)\n",
    "                \n",
    "                all_obj_synsets.append(s)\n",
    "\n",
    "        obj_node=[obj_id, label, ','.join(aliases), pos, data_source, {'image_id': image_id}]\n",
    "        all_nodes.append(obj_node)\n",
    "\n",
    "        # ATTRIBUTES\n",
    "        attrs=obj['attributes'] if 'attributes' in obj else []\n",
    "        all_nodes, all_edges, wn2label, wn2image, attr_id = add_attr_data(attrs, \n",
    "                                                                          image_id, \n",
    "                                                                          all_nodes, \n",
    "                                                                          all_edges, \n",
    "                                                                          wn2label, \n",
    "                                                                          wn2image, \n",
    "                                                                          attr_id)\n",
    "\n",
    "    if counter%10000==0: print('Processed', counter)"
   ]
  },
  {
   "cell_type": "code",
   "execution_count": 13,
   "metadata": {},
   "outputs": [
    {
     "data": {
      "text/plain": [
       "12762"
      ]
     },
     "execution_count": 13,
     "metadata": {},
     "output_type": "execute_result"
    }
   ],
   "source": [
    "len(set(all_rel_synsets) | set(all_attr_synsets) | set(all_obj_synsets))"
   ]
  },
  {
   "cell_type": "markdown",
   "metadata": {},
   "source": [
    "**Add the synset data to the nodes.csv file**"
   ]
  },
  {
   "cell_type": "code",
   "execution_count": 14,
   "metadata": {},
   "outputs": [],
   "source": [
    "for synset, labels in wn2label.items():\n",
    "    label, aliases=add_lowercase_labels(labels)\n",
    "    pos=synset.split('.')[1]\n",
    "    images=list(wn2image[synset])\n",
    "    wn_node=[create_uri(WORDNET_NS, synset), label, ','.join(aliases), pos, data_source, {'image_ids': images}]\n",
    "    all_nodes.append(wn_node)"
   ]
  },
  {
   "cell_type": "code",
   "execution_count": 15,
   "metadata": {},
   "outputs": [
    {
     "data": {
      "text/plain": [
       "8474138"
      ]
     },
     "execution_count": 15,
     "metadata": {},
     "output_type": "execute_result"
    }
   ],
   "source": [
    "len(all_nodes)"
   ]
  },
  {
   "cell_type": "code",
   "execution_count": 16,
   "metadata": {},
   "outputs": [
    {
     "data": {
      "text/plain": [
       "13714576"
      ]
     },
     "execution_count": 16,
     "metadata": {},
     "output_type": "execute_result"
    }
   ],
   "source": [
    "len(all_edges)"
   ]
  },
  {
   "cell_type": "markdown",
   "metadata": {},
   "source": [
    "**Add bounding box data from the region_graphs.json file**"
   ]
  },
  {
   "cell_type": "code",
   "execution_count": 17,
   "metadata": {},
   "outputs": [],
   "source": [
    "with open(vg_regions_path, 'r') as f:\n",
    "    regions_data=json.load(f)"
   ]
  },
  {
   "cell_type": "code",
   "execution_count": 18,
   "metadata": {},
   "outputs": [],
   "source": [
    "import sys"
   ]
  },
  {
   "cell_type": "code",
   "execution_count": 19,
   "metadata": {},
   "outputs": [],
   "source": [
    "for image_data in regions_data:\n",
    "    for region in image_data['regions']:\n",
    "        image_id=create_uri(VG_NS, 'I' + str(region['image_id']))\n",
    "        bb_id=create_uri(VG_NS, 'B' + str(region['region_id']))\n",
    "        \n",
    "        bb_image_edge=[bb_id, INIMAGE_REL, image_id, data_source, weight, {'image_id': region['image_id']}]\n",
    "        all_edges.append(bb_image_edge)\n",
    "        \n",
    "        for rel in region['relationships']:\n",
    "            rel_id=create_uri(VG_NS, 'R' + str(rel['relationship_id']))\n",
    "            rel_bb_edge=[rel_id, INBB_REL, bb_id, data_source, weight, {'image_id': region['image_id']}]\n",
    "            all_edges.append(rel_bb_edge)\n",
    "            \n",
    "        for obj in region['objects']:\n",
    "            obj_id=create_uri(VG_NS, 'O' + str(obj['object_id']))\n",
    "            obj_bb_edge=[obj_id, INBB_REL, bb_id, data_source, weight, {'image_id': region['image_id']}]\n",
    "            all_edges.append(obj_bb_edge)\n",
    "            \n",
    "        bb_node=[bb_id, '', '', '', data_source, {'image_id': region['image_id'], 'sentence': region['phrase']}]\n",
    "        all_nodes.append(bb_node)\n",
    "    image_node=[image_id, '', '', '', data_source, {}]\n",
    "    all_nodes.append(image_node)"
   ]
  },
  {
   "cell_type": "code",
   "execution_count": 20,
   "metadata": {},
   "outputs": [
    {
     "name": "stdout",
     "output_type": "stream",
     "text": [
      "108076\n"
     ]
    }
   ],
   "source": [
    "s=set()\n",
    "for image_data in regions_data:\n",
    "    for region in image_data['regions']:\n",
    "        im_id=region['image_id']\n",
    "        s.add(im_id)\n",
    "        \n",
    "print(len(s))"
   ]
  },
  {
   "cell_type": "code",
   "execution_count": 21,
   "metadata": {},
   "outputs": [
    {
     "data": {
      "text/plain": [
       "27813602"
      ]
     },
     "execution_count": 21,
     "metadata": {},
     "output_type": "execute_result"
    }
   ],
   "source": [
    "len(all_edges)"
   ]
  },
  {
   "cell_type": "code",
   "execution_count": 22,
   "metadata": {},
   "outputs": [
    {
     "data": {
      "text/plain": [
       "13988807"
      ]
     },
     "execution_count": 22,
     "metadata": {},
     "output_type": "execute_result"
    }
   ],
   "source": [
    "len(all_nodes)"
   ]
  },
  {
   "cell_type": "code",
   "execution_count": 27,
   "metadata": {},
   "outputs": [],
   "source": [
    "nodes_df=pd.DataFrame(all_nodes, columns = NODE_COLS)\n",
    "nodes_df.sort_values('id').to_csv(nodes_file, index=False, sep='\\t')"
   ]
  },
  {
   "cell_type": "code",
   "execution_count": 28,
   "metadata": {},
   "outputs": [],
   "source": [
    "edges_df = pd.DataFrame(all_edges, columns = EDGE_COLS)\n",
    "edges_df.sort_values(by=['subject', 'predicate','object']).to_csv(edges_file, index=False, sep='\\t')"
   ]
  },
  {
   "cell_type": "code",
   "execution_count": null,
   "metadata": {},
   "outputs": [],
   "source": []
  }
 ],
 "metadata": {
  "kernelspec": {
   "display_name": "Python 3",
   "language": "python",
   "name": "python3"
  },
  "language_info": {
   "codemirror_mode": {
    "name": "ipython",
    "version": 3
   },
   "file_extension": ".py",
   "mimetype": "text/x-python",
   "name": "python",
   "nbconvert_exporter": "python",
   "pygments_lexer": "ipython3",
   "version": "3.7.4"
  }
 },
 "nbformat": 4,
 "nbformat_minor": 4
}
