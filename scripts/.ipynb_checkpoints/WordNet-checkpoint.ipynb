{
 "cells": [
  {
   "cell_type": "code",
   "execution_count": 61,
   "metadata": {},
   "outputs": [],
   "source": [
    "import json\n",
    "import pandas as pd\n",
    "from collections import defaultdict\n",
    "import os\n",
    "from nltk.corpus import wordnet as wn\n",
    "from copy import copy\n",
    "\n",
    "import config"
   ]
  },
  {
   "cell_type": "code",
   "execution_count": 2,
   "metadata": {},
   "outputs": [],
   "source": [
    "VERSION=config.VERSION"
   ]
  },
  {
   "cell_type": "code",
   "execution_count": 14,
   "metadata": {},
   "outputs": [],
   "source": [
    "NODE_COLS=config.nodes_cols\n",
    "EDGE_COLS=config.edges_cols\n",
    "datasource=config.wn_ds"
   ]
  },
  {
   "cell_type": "code",
   "execution_count": 4,
   "metadata": {},
   "outputs": [],
   "source": [
    "# INPUT FILES\n",
    "input_dir='../input/wordnet'\n",
    "subclass_file='%s/Edges_Synset_subClassOf.csv' % input_dir\n",
    "\n",
    "# OUTPUT FILES\n",
    "output_dir='../output_v%s/wordnet' % VERSION\n",
    "nodes_file='%s/nodes_v%s.csv' % (output_dir, VERSION)\n",
    "edges_file='%s/edges_v%s.csv' % (output_dir, VERSION)"
   ]
  },
  {
   "cell_type": "code",
   "execution_count": 5,
   "metadata": {},
   "outputs": [],
   "source": [
    "if not os.path.exists(output_dir):\n",
    "    os.makedirs(output_dir)"
   ]
  },
  {
   "cell_type": "markdown",
   "metadata": {},
   "source": [
    "### Store subclass edges"
   ]
  },
  {
   "cell_type": "code",
   "execution_count": 23,
   "metadata": {},
   "outputs": [],
   "source": [
    "df=pd.read_csv(subclass_file, sep='\\t', header=0, converters={5: json.loads})"
   ]
  },
  {
   "cell_type": "code",
   "execution_count": 70,
   "metadata": {},
   "outputs": [],
   "source": [
    "tmp_edges_df=df[(df['object'] != 'None') & (df['subject'] != 'None')]"
   ]
  },
  {
   "cell_type": "code",
   "execution_count": 71,
   "metadata": {},
   "outputs": [
    {
     "data": {
      "text/plain": [
       "87291"
      ]
     },
     "execution_count": 71,
     "metadata": {},
     "output_type": "execute_result"
    }
   ],
   "source": [
    "len(tmp_edges_df)"
   ]
  },
  {
   "cell_type": "code",
   "execution_count": 68,
   "metadata": {},
   "outputs": [],
   "source": [
    "clean_edges=[]\n",
    "for i, row in tmp_edges_df.iterrows():\n",
    "    if ',' in row['object']:\n",
    "        vals=row['object'].split(',')\n",
    "        for v in vals:\n",
    "            a_row=copy(row)\n",
    "            a_row['object']=v\n",
    "            clean_edges.append(a_row)\n",
    "    else:\n",
    "        clean_edges.append(row)"
   ]
  },
  {
   "cell_type": "code",
   "execution_count": 69,
   "metadata": {},
   "outputs": [
    {
     "data": {
      "text/plain": [
       "88776"
      ]
     },
     "execution_count": 69,
     "metadata": {},
     "output_type": "execute_result"
    }
   ],
   "source": [
    "len(clean_edges)"
   ]
  },
  {
   "cell_type": "code",
   "execution_count": 72,
   "metadata": {},
   "outputs": [],
   "source": [
    "edges_df=pd.DataFrame(clean_edges, columns=EDGE_COLS)"
   ]
  },
  {
   "cell_type": "code",
   "execution_count": 73,
   "metadata": {},
   "outputs": [
    {
     "data": {
      "text/plain": [
       "88776"
      ]
     },
     "execution_count": 73,
     "metadata": {},
     "output_type": "execute_result"
    }
   ],
   "source": [
    "len(edges_df)"
   ]
  },
  {
   "cell_type": "code",
   "execution_count": 74,
   "metadata": {},
   "outputs": [],
   "source": [
    "edges_df.sort_values(by=['subject', 'predicate','object']).to_csv(edges_file, index=False, sep='\\t')"
   ]
  },
  {
   "cell_type": "markdown",
   "metadata": {},
   "source": [
    "### Create nodes file and store it"
   ]
  },
  {
   "cell_type": "code",
   "execution_count": 75,
   "metadata": {},
   "outputs": [],
   "source": [
    "nodes=set()"
   ]
  },
  {
   "cell_type": "code",
   "execution_count": 76,
   "metadata": {},
   "outputs": [],
   "source": [
    "for i, row in edges_df.iterrows():\n",
    "    nodes.add(row['subject'])\n",
    "    nodes.add(row['object'])"
   ]
  },
  {
   "cell_type": "code",
   "execution_count": 77,
   "metadata": {},
   "outputs": [
    {
     "data": {
      "text/plain": [
       "87664"
      ]
     },
     "execution_count": 77,
     "metadata": {},
     "output_type": "execute_result"
    }
   ],
   "source": [
    "len(nodes)"
   ]
  },
  {
   "cell_type": "code",
   "execution_count": 82,
   "metadata": {},
   "outputs": [],
   "source": [
    "node_data=[]\n",
    "for a_node in nodes:\n",
    "    n=a_node.split(':')[1]\n",
    "    label=''\n",
    "    aliases=''\n",
    "    \n",
    "    lemmas=[]\n",
    "    syn=wn.synset(n)\n",
    "    for lemma in syn.lemmas():\n",
    "        lemmas.append(str(lemma.name()))\n",
    "    if len(lemmas):\n",
    "        label=lemmas[0].replace('_', ' ')\n",
    "    if len(lemmas)>0:\n",
    "        alias_labels=[]\n",
    "        for l in lemmas[1:]:\n",
    "            if l!=lemmas[0]:\n",
    "                alias_labels.append(l.replace('_', ' '))\n",
    "        aliases=','.join(alias_labels)\n",
    "\n",
    "    if len(n.split('.'))<3:\n",
    "        print(n)\n",
    "    else:\n",
    "        pos=n.split('.')[1]\n",
    "    other={}\n",
    "    a_row=[a_node, label, aliases, pos, datasource, other]\n",
    "    node_data.append(a_row)"
   ]
  },
  {
   "cell_type": "code",
   "execution_count": 83,
   "metadata": {},
   "outputs": [
    {
     "data": {
      "text/plain": [
       "87664"
      ]
     },
     "execution_count": 83,
     "metadata": {},
     "output_type": "execute_result"
    }
   ],
   "source": [
    "len(node_data)"
   ]
  },
  {
   "cell_type": "code",
   "execution_count": 84,
   "metadata": {},
   "outputs": [],
   "source": [
    "nodes_df=pd.DataFrame(node_data, columns = NODE_COLS)\n",
    "nodes_df.sort_values('id').to_csv(nodes_file, index=False, sep='\\t')"
   ]
  },
  {
   "cell_type": "code",
   "execution_count": null,
   "metadata": {},
   "outputs": [],
   "source": []
  }
 ],
 "metadata": {
  "kernelspec": {
   "display_name": "Python 3",
   "language": "python",
   "name": "python3"
  },
  "language_info": {
   "codemirror_mode": {
    "name": "ipython",
    "version": 3
   },
   "file_extension": ".py",
   "mimetype": "text/x-python",
   "name": "python",
   "nbconvert_exporter": "python",
   "pygments_lexer": "ipython3",
   "version": "3.7.4"
  }
 },
 "nbformat": 4,
 "nbformat_minor": 4
}
