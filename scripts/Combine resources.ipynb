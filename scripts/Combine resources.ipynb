{
 "cells": [
  {
   "cell_type": "code",
   "execution_count": 12,
   "metadata": {},
   "outputs": [],
   "source": [
    "import config\n",
    "import json\n",
    "import pandas as pd\n",
    "import os"
   ]
  },
  {
   "cell_type": "code",
   "execution_count": 7,
   "metadata": {},
   "outputs": [],
   "source": [
    "VERSION=config.VERSION\n",
    "output_dir='../output_v%s/cskg' % VERSION\n",
    "data_dir='../output_v%s' % VERSION"
   ]
  },
  {
   "cell_type": "code",
   "execution_count": 28,
   "metadata": {},
   "outputs": [],
   "source": [
    "cn_nodes_file='%s/conceptnet/nodes_v%s.csv' % (data_dir, VERSION)\n",
    "vg_nodes_file='%s/visualgenome/nodes_v%s.csv' % (data_dir, VERSION)\n",
    "wn_nodes_file='%s/wordnet/nodes_v%s.csv' % (data_dir, VERSION)\n",
    "wd_nodes_file='%s/wikidata/nodes_v%s.csv' % (data_dir, VERSION)\n",
    "\n",
    "combined_nodes_file='%s/nodes_v%s.csv' % (output_dir, VERSION)"
   ]
  },
  {
   "cell_type": "code",
   "execution_count": 29,
   "metadata": {},
   "outputs": [],
   "source": [
    "nodes_inputs=[cn_nodes_file,vg_nodes_file,wn_nodes_file,wd_nodes_file]"
   ]
  },
  {
   "cell_type": "code",
   "execution_count": 20,
   "metadata": {},
   "outputs": [],
   "source": [
    "cn_edges_file='%s/conceptnet/edges_all_v%s.csv' % (data_dir, VERSION)\n",
    "vg_edges_file='%s/visualgenome/edges_v%s.csv' % (data_dir, VERSION)\n",
    "wn_edges_file='%s/wordnet/edges_v%s.csv' % (data_dir, VERSION)\n",
    "wd_edges_file='%s/wikidata/edges_v%s.csv' % (data_dir, VERSION)\n",
    "\n",
    "wn2wn_edges_file='%s/mappings/edges_v%s.csv' % (data_dir, VERSION)\n",
    "wn2wd_edges_file='%s/mappings/edges_wn2wdt_v%s.csv' % (data_dir, VERSION)\n",
    "\n",
    "combined_edges_file='%s/edges_v%s.csv' % (output_dir, VERSION)"
   ]
  },
  {
   "cell_type": "code",
   "execution_count": 22,
   "metadata": {},
   "outputs": [],
   "source": [
    "edges_inputs=[cn_edges_file,\n",
    "              vg_edges_file,\n",
    "              wn_edges_file,wd_edges_file,wn2wn_edges_file,wn2wd_edges_file]"
   ]
  },
  {
   "cell_type": "code",
   "execution_count": 13,
   "metadata": {},
   "outputs": [],
   "source": [
    "if not os.path.exists(output_dir):\n",
    "    os.makedirs(output_dir)"
   ]
  },
  {
   "cell_type": "markdown",
   "metadata": {},
   "source": [
    "### Combine and store nodes"
   ]
  },
  {
   "cell_type": "code",
   "execution_count": 30,
   "metadata": {},
   "outputs": [],
   "source": [
    "all_dfs=[]\n",
    "for f in nodes_inputs:\n",
    "    tmp_df=pd.read_csv(f, sep='\\t', converters={5: eval})\n",
    "    all_dfs.append(tmp_df)"
   ]
  },
  {
   "cell_type": "code",
   "execution_count": 31,
   "metadata": {},
   "outputs": [],
   "source": [
    "combined_nodes = pd.concat(all_dfs)"
   ]
  },
  {
   "cell_type": "code",
   "execution_count": 32,
   "metadata": {},
   "outputs": [
    {
     "data": {
      "text/plain": [
       "18252226"
      ]
     },
     "execution_count": 32,
     "metadata": {},
     "output_type": "execute_result"
    }
   ],
   "source": [
    "len(combined_nodes)"
   ]
  },
  {
   "cell_type": "code",
   "execution_count": 33,
   "metadata": {},
   "outputs": [],
   "source": [
    "combined_nodes.sort_values('id').to_csv(combined_nodes_file, index=False, sep='\\t')"
   ]
  },
  {
   "cell_type": "markdown",
   "metadata": {},
   "source": [
    "### Combine and store edges"
   ]
  },
  {
   "cell_type": "code",
   "execution_count": 23,
   "metadata": {},
   "outputs": [],
   "source": [
    "all_dfs=[]\n",
    "for f in edges_inputs:\n",
    "    tmp_df=pd.read_csv(f, sep='\\t', converters={5: eval})\n",
    "    all_dfs.append(tmp_df)"
   ]
  },
  {
   "cell_type": "code",
   "execution_count": 24,
   "metadata": {},
   "outputs": [],
   "source": [
    "combined_edges = pd.concat(all_dfs)"
   ]
  },
  {
   "cell_type": "code",
   "execution_count": 25,
   "metadata": {},
   "outputs": [],
   "source": [
    "combined_edges.sort_values(by=['subject', 'predicate','object']).to_csv(combined_edges_file, index=False, sep='\\t')"
   ]
  },
  {
   "cell_type": "code",
   "execution_count": 26,
   "metadata": {},
   "outputs": [
    {
     "data": {
      "text/plain": [
       "38242649"
      ]
     },
     "execution_count": 26,
     "metadata": {},
     "output_type": "execute_result"
    }
   ],
   "source": [
    "len(combined_edges)"
   ]
  },
  {
   "cell_type": "code",
   "execution_count": null,
   "metadata": {},
   "outputs": [],
   "source": []
  }
 ],
 "metadata": {
  "kernelspec": {
   "display_name": "Python 3",
   "language": "python",
   "name": "python3"
  },
  "language_info": {
   "codemirror_mode": {
    "name": "ipython",
    "version": 3
   },
   "file_extension": ".py",
   "mimetype": "text/x-python",
   "name": "python",
   "nbconvert_exporter": "python",
   "pygments_lexer": "ipython3",
   "version": "3.7.4"
  }
 },
 "nbformat": 4,
 "nbformat_minor": 4
}
