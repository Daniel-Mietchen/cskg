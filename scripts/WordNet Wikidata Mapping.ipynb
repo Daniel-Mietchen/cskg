{
 "cells": [
  {
   "cell_type": "code",
   "execution_count": 1,
   "metadata": {},
   "outputs": [],
   "source": [
    "from nltk.corpus import wordnet as wn\n",
    "import pandas as pd\n",
    "import json\n",
    "import os"
   ]
  },
  {
   "cell_type": "code",
   "execution_count": 2,
   "metadata": {},
   "outputs": [],
   "source": [
    "import config"
   ]
  },
  {
   "cell_type": "code",
   "execution_count": 4,
   "metadata": {},
   "outputs": [],
   "source": [
    "def create_uri(ns, rel):\n",
    "    return '%s:%s' % (ns, rel)"
   ]
  },
  {
   "cell_type": "code",
   "execution_count": 17,
   "metadata": {},
   "outputs": [],
   "source": [
    "data_source=config.xl_ds\n",
    "weight=\"1.0\"\n",
    "VERSION=config.VERSION\n",
    "\n",
    "EDGE_COLS=config.edges_cols\n",
    "\n",
    "# INPUT FILE\n",
    "mapping_file='../input/mappings/clean_wn2wdt.csv'\n",
    "\n",
    "# OUTPUT FILE\n",
    "output_dir=f'../output_v{VERSION}/mappings'\n",
    "edges_file=f'{output_dir}/edges_wdt_wn_v{VERSION}.csv'\n",
    "\n",
    "MOWGLI_NS=config.mowgli_ns\n",
    "WORDNET_NS=config.wordnet_ns\n",
    "\n",
    "SAMEAS_REL=create_uri(MOWGLI_NS, config.sameas)"
   ]
  },
  {
   "cell_type": "code",
   "execution_count": 18,
   "metadata": {},
   "outputs": [],
   "source": [
    "if not os.path.exists(output_dir):\n",
    "    os.makedirs(output_dir)"
   ]
  },
  {
   "cell_type": "code",
   "execution_count": 19,
   "metadata": {},
   "outputs": [],
   "source": [
    "df=pd.read_csv(mapping_file, sep='\\t', header=0, converters={5: json.loads})"
   ]
  },
  {
   "cell_type": "code",
   "execution_count": 20,
   "metadata": {},
   "outputs": [
    {
     "data": {
      "text/plain": [
       "112012"
      ]
     },
     "execution_count": 20,
     "metadata": {},
     "output_type": "execute_result"
    }
   ],
   "source": [
    "len(df)"
   ]
  },
  {
   "cell_type": "code",
   "execution_count": null,
   "metadata": {},
   "outputs": [],
   "source": []
  }
 ],
 "metadata": {
  "kernelspec": {
   "display_name": "Python 3",
   "language": "python",
   "name": "python3"
  },
  "language_info": {
   "codemirror_mode": {
    "name": "ipython",
    "version": 3
   },
   "file_extension": ".py",
   "mimetype": "text/x-python",
   "name": "python",
   "nbconvert_exporter": "python",
   "pygments_lexer": "ipython3",
   "version": "3.7.4"
  }
 },
 "nbformat": 4,
 "nbformat_minor": 4
}
