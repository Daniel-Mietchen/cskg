{
 "cells": [
  {
   "cell_type": "code",
   "execution_count": 1,
   "metadata": {},
   "outputs": [],
   "source": [
    "from nltk.corpus import wordnet as wn\n",
    "import pandas as pd\n",
    "import json\n",
    "import os"
   ]
  },
  {
   "cell_type": "code",
   "execution_count": 2,
   "metadata": {},
   "outputs": [],
   "source": [
    "import config"
   ]
  },
  {
   "cell_type": "code",
   "execution_count": 3,
   "metadata": {},
   "outputs": [],
   "source": [
    "def create_uri(ns, rel):\n",
    "    return '%s:%s' % (ns, rel)"
   ]
  },
  {
   "cell_type": "code",
   "execution_count": 4,
   "metadata": {},
   "outputs": [],
   "source": [
    "cnfile='../input/conceptnet/conceptnet-en-with-externalurl.csv'\n",
    "data_source=config.wn_ds\n",
    "weight=\"1.0\"\n",
    "VERSION=config.VERSION\n",
    "\n",
    "EDGE_COLS=config.edges_cols\n",
    "\n",
    "cn_nodes_file=f'../output_v{VERSION}/conceptnet/nodes_v{VERSION}.csv'\n",
    "wn_nodes_file=f'../output_v{VERSION}/wordnet/nodes_v{VERSION}.csv'\n",
    "vg_nodes_file=f'../output_v{VERSION}/visualgenome/nodes_v{VERSION}.csv'\n",
    "\n",
    "wordnet30_ili_file='../input/mappings/ili-map-pwn30.tab'\n",
    "wordnet31_ili_file='../input/mappings/ili-map-pwn31.tab'\n",
    "\n",
    "# OUTPUT FILE\n",
    "output_dir=f'../output_v{VERSION}/mappings'\n",
    "edges_file=f'{output_dir}/edges_v{VERSION}.csv'\n",
    "\n",
    "MOWGLI_NS=config.mowgli_ns\n",
    "WORDNET_NS=config.wordnet_ns\n",
    "\n",
    "SAMEAS_REL=create_uri(MOWGLI_NS, config.sameas)"
   ]
  },
  {
   "cell_type": "code",
   "execution_count": 5,
   "metadata": {},
   "outputs": [],
   "source": [
    "if not os.path.exists(output_dir):\n",
    "    os.makedirs(output_dir)"
   ]
  },
  {
   "cell_type": "markdown",
   "metadata": {},
   "source": [
    "### Load the data in pandas"
   ]
  },
  {
   "cell_type": "code",
   "execution_count": 6,
   "metadata": {},
   "outputs": [],
   "source": [
    "df=pd.read_csv(cnfile, sep='\\t', header=None, converters={4: json.loads})"
   ]
  },
  {
   "cell_type": "code",
   "execution_count": 7,
   "metadata": {},
   "outputs": [],
   "source": [
    "df.columns=['assertion','rel','subj','obj','metadata']"
   ]
  },
  {
   "cell_type": "code",
   "execution_count": 8,
   "metadata": {},
   "outputs": [
    {
     "data": {
      "text/html": [
       "<div>\n",
       "<style scoped>\n",
       "    .dataframe tbody tr th:only-of-type {\n",
       "        vertical-align: middle;\n",
       "    }\n",
       "\n",
       "    .dataframe tbody tr th {\n",
       "        vertical-align: top;\n",
       "    }\n",
       "\n",
       "    .dataframe thead th {\n",
       "        text-align: right;\n",
       "    }\n",
       "</style>\n",
       "<table border=\"1\" class=\"dataframe\">\n",
       "  <thead>\n",
       "    <tr style=\"text-align: right;\">\n",
       "      <th></th>\n",
       "      <th>rel</th>\n",
       "      <th>subj</th>\n",
       "      <th>obj</th>\n",
       "      <th>metadata</th>\n",
       "    </tr>\n",
       "  </thead>\n",
       "  <tbody>\n",
       "    <tr>\n",
       "      <td>0</td>\n",
       "      <td>/r/Antonym</td>\n",
       "      <td>/c/en/0/n</td>\n",
       "      <td>/c/en/1</td>\n",
       "      <td>{'dataset': '/d/wiktionary/fr', 'license': 'cc...</td>\n",
       "    </tr>\n",
       "    <tr>\n",
       "      <td>1</td>\n",
       "      <td>/r/Antonym</td>\n",
       "      <td>/c/en/12_hour_clock/n</td>\n",
       "      <td>/c/en/24_hour_clock</td>\n",
       "      <td>{'dataset': '/d/wiktionary/en', 'license': 'cc...</td>\n",
       "    </tr>\n",
       "    <tr>\n",
       "      <td>2</td>\n",
       "      <td>/r/Antonym</td>\n",
       "      <td>/c/en/24_hour_clock/n</td>\n",
       "      <td>/c/en/12_hour_clock</td>\n",
       "      <td>{'dataset': '/d/wiktionary/en', 'license': 'cc...</td>\n",
       "    </tr>\n",
       "    <tr>\n",
       "      <td>3</td>\n",
       "      <td>/r/Antonym</td>\n",
       "      <td>/c/en/5/n</td>\n",
       "      <td>/c/en/3</td>\n",
       "      <td>{'dataset': '/d/wiktionary/en', 'license': 'cc...</td>\n",
       "    </tr>\n",
       "    <tr>\n",
       "      <td>4</td>\n",
       "      <td>/r/Antonym</td>\n",
       "      <td>/c/en/a.c/n</td>\n",
       "      <td>/c/en/d.c</td>\n",
       "      <td>{'dataset': '/d/wiktionary/fr', 'license': 'cc...</td>\n",
       "    </tr>\n",
       "    <tr>\n",
       "      <td>...</td>\n",
       "      <td>...</td>\n",
       "      <td>...</td>\n",
       "      <td>...</td>\n",
       "      <td>...</td>\n",
       "    </tr>\n",
       "    <tr>\n",
       "      <td>4643728</td>\n",
       "      <td>/r/UsedFor</td>\n",
       "      <td>/c/en/zoom_lens</td>\n",
       "      <td>/c/en/procure_better_shot</td>\n",
       "      <td>{'dataset': '/d/conceptnet/4/en', 'license': '...</td>\n",
       "    </tr>\n",
       "    <tr>\n",
       "      <td>4643729</td>\n",
       "      <td>/r/UsedFor</td>\n",
       "      <td>/c/en/zoom_lens</td>\n",
       "      <td>/c/en/see_things_bigger</td>\n",
       "      <td>{'dataset': '/d/conceptnet/4/en', 'license': '...</td>\n",
       "    </tr>\n",
       "    <tr>\n",
       "      <td>4643730</td>\n",
       "      <td>/r/UsedFor</td>\n",
       "      <td>/c/en/zoom_lens</td>\n",
       "      <td>/c/en/seeing_distant_object_more_closely</td>\n",
       "      <td>{'dataset': '/d/conceptnet/4/en', 'license': '...</td>\n",
       "    </tr>\n",
       "    <tr>\n",
       "      <td>4643731</td>\n",
       "      <td>/r/UsedFor</td>\n",
       "      <td>/c/en/zoom_lens</td>\n",
       "      <td>/c/en/take_pictures</td>\n",
       "      <td>{'dataset': '/d/conceptnet/4/en', 'license': '...</td>\n",
       "    </tr>\n",
       "    <tr>\n",
       "      <td>4643732</td>\n",
       "      <td>/r/UsedFor</td>\n",
       "      <td>/c/en/zoom_lens</td>\n",
       "      <td>/c/en/varying_camera_focal_point</td>\n",
       "      <td>{'dataset': '/d/conceptnet/4/en', 'license': '...</td>\n",
       "    </tr>\n",
       "  </tbody>\n",
       "</table>\n",
       "<p>4643733 rows × 4 columns</p>\n",
       "</div>"
      ],
      "text/plain": [
       "                rel                   subj  \\\n",
       "0        /r/Antonym              /c/en/0/n   \n",
       "1        /r/Antonym  /c/en/12_hour_clock/n   \n",
       "2        /r/Antonym  /c/en/24_hour_clock/n   \n",
       "3        /r/Antonym              /c/en/5/n   \n",
       "4        /r/Antonym            /c/en/a.c/n   \n",
       "...             ...                    ...   \n",
       "4643728  /r/UsedFor        /c/en/zoom_lens   \n",
       "4643729  /r/UsedFor        /c/en/zoom_lens   \n",
       "4643730  /r/UsedFor        /c/en/zoom_lens   \n",
       "4643731  /r/UsedFor        /c/en/zoom_lens   \n",
       "4643732  /r/UsedFor        /c/en/zoom_lens   \n",
       "\n",
       "                                              obj  \\\n",
       "0                                         /c/en/1   \n",
       "1                             /c/en/24_hour_clock   \n",
       "2                             /c/en/12_hour_clock   \n",
       "3                                         /c/en/3   \n",
       "4                                       /c/en/d.c   \n",
       "...                                           ...   \n",
       "4643728                 /c/en/procure_better_shot   \n",
       "4643729                   /c/en/see_things_bigger   \n",
       "4643730  /c/en/seeing_distant_object_more_closely   \n",
       "4643731                       /c/en/take_pictures   \n",
       "4643732          /c/en/varying_camera_focal_point   \n",
       "\n",
       "                                                  metadata  \n",
       "0        {'dataset': '/d/wiktionary/fr', 'license': 'cc...  \n",
       "1        {'dataset': '/d/wiktionary/en', 'license': 'cc...  \n",
       "2        {'dataset': '/d/wiktionary/en', 'license': 'cc...  \n",
       "3        {'dataset': '/d/wiktionary/en', 'license': 'cc...  \n",
       "4        {'dataset': '/d/wiktionary/fr', 'license': 'cc...  \n",
       "...                                                    ...  \n",
       "4643728  {'dataset': '/d/conceptnet/4/en', 'license': '...  \n",
       "4643729  {'dataset': '/d/conceptnet/4/en', 'license': '...  \n",
       "4643730  {'dataset': '/d/conceptnet/4/en', 'license': '...  \n",
       "4643731  {'dataset': '/d/conceptnet/4/en', 'license': '...  \n",
       "4643732  {'dataset': '/d/conceptnet/4/en', 'license': '...  \n",
       "\n",
       "[4643733 rows x 4 columns]"
      ]
     },
     "execution_count": 8,
     "metadata": {},
     "output_type": "execute_result"
    }
   ],
   "source": [
    "df.drop(columns=['assertion'])"
   ]
  },
  {
   "cell_type": "code",
   "execution_count": 9,
   "metadata": {},
   "outputs": [
    {
     "data": {
      "text/plain": [
       "4643733"
      ]
     },
     "execution_count": 9,
     "metadata": {},
     "output_type": "execute_result"
    }
   ],
   "source": [
    "len(df)"
   ]
  },
  {
   "cell_type": "code",
   "execution_count": 10,
   "metadata": {},
   "outputs": [],
   "source": [
    "df_wordnet=df.loc[(df['rel'] == '/r/ExternalURL') & (df['obj'].str.contains(r'http://wordnet-'))]"
   ]
  },
  {
   "cell_type": "code",
   "execution_count": 11,
   "metadata": {},
   "outputs": [
    {
     "data": {
      "text/plain": [
       "119224"
      ]
     },
     "execution_count": 11,
     "metadata": {},
     "output_type": "execute_result"
    }
   ],
   "source": [
    "len(df_wordnet)"
   ]
  },
  {
   "cell_type": "markdown",
   "metadata": {},
   "source": [
    "### Get previous nodes"
   ]
  },
  {
   "cell_type": "code",
   "execution_count": 12,
   "metadata": {},
   "outputs": [],
   "source": [
    "all_nodes=set()\n",
    "wn_nodes=set()"
   ]
  },
  {
   "cell_type": "code",
   "execution_count": 13,
   "metadata": {},
   "outputs": [],
   "source": [
    "with open(cn_nodes_file, 'r') as f:\n",
    "    for line in f:\n",
    "        first=line.split('\\t')[0]\n",
    "        all_nodes.add(first)"
   ]
  },
  {
   "cell_type": "code",
   "execution_count": 14,
   "metadata": {},
   "outputs": [],
   "source": [
    "with open(wn_nodes_file, 'r') as f:\n",
    "    for line in f:\n",
    "        first=line.split('\\t')[0]\n",
    "        all_nodes.add(first)\n",
    "        wn_nodes.add(first)"
   ]
  },
  {
   "cell_type": "code",
   "execution_count": 15,
   "metadata": {},
   "outputs": [],
   "source": [
    "with open(vg_nodes_file, 'r') as f:\n",
    "    for line in f:\n",
    "        first=line.split('\\t')[0]\n",
    "        if first.startswith('wn:'):\n",
    "            all_nodes.add(first)\n",
    "            wn_nodes.add(first)"
   ]
  },
  {
   "cell_type": "code",
   "execution_count": 16,
   "metadata": {},
   "outputs": [
    {
     "data": {
      "text/plain": [
       "90792"
      ]
     },
     "execution_count": 16,
     "metadata": {},
     "output_type": "execute_result"
    }
   ],
   "source": [
    "len(wn_nodes)"
   ]
  },
  {
   "cell_type": "markdown",
   "metadata": {},
   "source": [
    "### Load Wordnet mapings 3.0 to 3.1"
   ]
  },
  {
   "cell_type": "code",
   "execution_count": 17,
   "metadata": {},
   "outputs": [],
   "source": [
    "mapping={}"
   ]
  },
  {
   "cell_type": "code",
   "execution_count": 18,
   "metadata": {},
   "outputs": [],
   "source": [
    "with open(wordnet31_ili_file, 'r') as f:\n",
    "    for line in f:\n",
    "        ili, wn31=line.split('\\t')\n",
    "        mapping[ili]={'31': wn31}"
   ]
  },
  {
   "cell_type": "code",
   "execution_count": 19,
   "metadata": {},
   "outputs": [],
   "source": [
    "with open(wordnet30_ili_file, 'r') as f:\n",
    "    for line in f:\n",
    "        ili, wn30=line.split('\\t')\n",
    "        if ili in mapping.keys():\n",
    "            mapping[ili]['30']=wn30"
   ]
  },
  {
   "cell_type": "code",
   "execution_count": 20,
   "metadata": {},
   "outputs": [],
   "source": [
    "mapping_31_30={}\n",
    "for ili, ili_data in mapping.items():\n",
    "    id_31=ili_data['31'].strip()\n",
    "    id_30=ili_data['30'].strip()\n",
    "    mapping_31_30[id_31]=id_30"
   ]
  },
  {
   "cell_type": "code",
   "execution_count": 21,
   "metadata": {},
   "outputs": [
    {
     "data": {
      "text/plain": [
       "['00001740-a',\n",
       " '00002098-a',\n",
       " '00002312-a',\n",
       " '00002527-a',\n",
       " '00002730-a',\n",
       " '00002843-a',\n",
       " '00002956-a',\n",
       " '00003131-a',\n",
       " '00003356-a',\n",
       " '00003552-s']"
      ]
     },
     "execution_count": 21,
     "metadata": {},
     "output_type": "execute_result"
    }
   ],
   "source": [
    "list(mapping_31_30.keys())[:10]"
   ]
  },
  {
   "cell_type": "code",
   "execution_count": 22,
   "metadata": {},
   "outputs": [
    {
     "data": {
      "text/plain": [
       "117521"
      ]
     },
     "execution_count": 22,
     "metadata": {},
     "output_type": "execute_result"
    }
   ],
   "source": [
    "len(mapping_31_30)"
   ]
  },
  {
   "cell_type": "code",
   "execution_count": 23,
   "metadata": {},
   "outputs": [],
   "source": [
    "def extract_wn_version_id(uri):\n",
    "    splitted=uri.split('/')\n",
    "    wn_offset_id=splitted[4][1:]\n",
    "    return splitted[3], wn_offset_id"
   ]
  },
  {
   "cell_type": "code",
   "execution_count": 24,
   "metadata": {},
   "outputs": [
    {
     "data": {
      "text/plain": [
       "119224"
      ]
     },
     "execution_count": 24,
     "metadata": {},
     "output_type": "execute_result"
    }
   ],
   "source": [
    "len(df_wordnet)"
   ]
  },
  {
   "cell_type": "code",
   "execution_count": 25,
   "metadata": {},
   "outputs": [],
   "source": [
    "missing_in_mapping=0\n",
    "missing_node_case=0\n",
    "all_edges=[]\n",
    "for i, row in df_wordnet.iterrows():\n",
    "    wn_version, wn_offset_id=extract_wn_version_id(row['obj'])\n",
    "    if wn_version=='wn31':\n",
    "        if wn_offset_id not in mapping_31_30.keys():\n",
    "            missing_in_mapping+=1#\n",
    "        else:\n",
    "            wn_30_id=mapping_31_30[wn_offset_id]\n",
    "            offset, pos=wn_30_id.split('-')\n",
    "            wn_30_synset=wn.synset_from_pos_and_offset(pos,int(offset)).name()\n",
    "            wn_30_synset_uri=create_uri(WORDNET_NS, wn_30_synset)\n",
    "            \n",
    "            #if row['subj'] in all_nodes:# and \n",
    "            if wn_30_synset_uri in wn_nodes:\n",
    "                an_edge=[row['subj'], SAMEAS_REL, wn_30_synset_uri, data_source, weight, {}]\n",
    "                all_edges.append(an_edge)\n",
    "            else:\n",
    "                missing_node_case+=1"
   ]
  },
  {
   "cell_type": "code",
   "execution_count": 26,
   "metadata": {},
   "outputs": [
    {
     "data": {
      "text/plain": [
       "2127"
      ]
     },
     "execution_count": 26,
     "metadata": {},
     "output_type": "execute_result"
    }
   ],
   "source": [
    "missing_in_mapping"
   ]
  },
  {
   "cell_type": "code",
   "execution_count": 27,
   "metadata": {},
   "outputs": [
    {
     "data": {
      "text/plain": [
       "26799"
      ]
     },
     "execution_count": 27,
     "metadata": {},
     "output_type": "execute_result"
    }
   ],
   "source": [
    "missing_node_case"
   ]
  },
  {
   "cell_type": "code",
   "execution_count": 28,
   "metadata": {},
   "outputs": [
    {
     "data": {
      "text/plain": [
       "90298"
      ]
     },
     "execution_count": 28,
     "metadata": {},
     "output_type": "execute_result"
    }
   ],
   "source": [
    "len(all_edges)"
   ]
  },
  {
   "cell_type": "code",
   "execution_count": 29,
   "metadata": {},
   "outputs": [],
   "source": [
    "edges_df = pd.DataFrame(all_edges, columns = EDGE_COLS)\n",
    "edges_df.sort_values(by=['subject', 'predicate','object']).to_csv(edges_file, index=False, sep='\\t')"
   ]
  },
  {
   "cell_type": "code",
   "execution_count": null,
   "metadata": {},
   "outputs": [],
   "source": []
  }
 ],
 "metadata": {
  "kernelspec": {
   "display_name": "Python 3",
   "language": "python",
   "name": "python3"
  },
  "language_info": {
   "codemirror_mode": {
    "name": "ipython",
    "version": 3
   },
   "file_extension": ".py",
   "mimetype": "text/x-python",
   "name": "python",
   "nbconvert_exporter": "python",
   "pygments_lexer": "ipython3",
   "version": "3.7.4"
  }
 },
 "nbformat": 4,
 "nbformat_minor": 4
}
