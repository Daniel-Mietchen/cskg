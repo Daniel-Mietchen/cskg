{
 "cells": [
  {
   "cell_type": "code",
   "execution_count": 64,
   "metadata": {},
   "outputs": [],
   "source": [
    "file1='tmp/kgtk_roget_synonyms.tsv'\n",
    "file2='tmp/wikidata20200504/kgtk_wikidata_ready.tsv'"
   ]
  },
  {
   "cell_type": "code",
   "execution_count": 65,
   "metadata": {},
   "outputs": [],
   "source": [
    "from tqdm import tqdm"
   ]
  },
  {
   "cell_type": "code",
   "execution_count": 66,
   "metadata": {},
   "outputs": [],
   "source": [
    "def get_all_labels(l):\n",
    "    if '|' not in l:\n",
    "        return [l]\n",
    "    else:\n",
    "        return [l2 for l2 in l.split('|') if l2!='']"
   ]
  },
  {
   "cell_type": "code",
   "execution_count": 67,
   "metadata": {},
   "outputs": [],
   "source": [
    "def get_triples(a_file):\n",
    "    triples=set()\n",
    "    with open(a_file, 'r') as f1:\n",
    "        header=next(f1)\n",
    "        for line in tqdm(f1, total=3500000):\n",
    "            data=line.split('\\t')\n",
    "            rel_label=data[1]\n",
    "            for n1_label in get_all_labels(data[3]):\n",
    "                for n2_label in get_all_labels(data[4]):\n",
    "                    if n1_label=='' or n2_label=='': print(data)\n",
    "                    triple=(n1_label, rel_label, n2_label)\n",
    "                    triples.add(triple)\n",
    "    return triples"
   ]
  },
  {
   "cell_type": "code",
   "execution_count": 68,
   "metadata": {},
   "outputs": [
    {
     "name": "stderr",
     "output_type": "stream",
     "text": [
      " 29%|██▉       | 1023082/3500000 [00:01<00:03, 693757.38it/s]\n"
     ]
    }
   ],
   "source": [
    "f1_triples=get_triples(file1)"
   ]
  },
  {
   "cell_type": "code",
   "execution_count": 19,
   "metadata": {},
   "outputs": [
    {
     "name": "stderr",
     "output_type": "stream",
     "text": [
      "  6%|▌         | 208062/3500000 [00:00<00:04, 728903.45it/s]\n"
     ]
    }
   ],
   "source": [
    "f2_triples=get_triples(file2)"
   ]
  },
  {
   "cell_type": "markdown",
   "metadata": {},
   "source": [
    "## Both sources have it"
   ]
  },
  {
   "cell_type": "code",
   "execution_count": 69,
   "metadata": {},
   "outputs": [],
   "source": [
    "both_triples=set(f1_triples) & set(f2_triples)"
   ]
  },
  {
   "cell_type": "code",
   "execution_count": 70,
   "metadata": {},
   "outputs": [
    {
     "name": "stdout",
     "output_type": "stream",
     "text": [
      "0 1022611 120873\n"
     ]
    }
   ],
   "source": [
    "print(len(both_triples), len(f1_triples), len(f2_triples))"
   ]
  },
  {
   "cell_type": "markdown",
   "metadata": {},
   "source": [
    "## Only source 2 has it"
   ]
  },
  {
   "cell_type": "code",
   "execution_count": 62,
   "metadata": {},
   "outputs": [
    {
     "data": {
      "text/plain": [
       "120530"
      ]
     },
     "execution_count": 62,
     "metadata": {},
     "output_type": "execute_result"
    }
   ],
   "source": [
    "len(set(f2_triples)-set(f1_triples))"
   ]
  },
  {
   "cell_type": "code",
   "execution_count": 25,
   "metadata": {},
   "outputs": [],
   "source": [
    "#f2_triples-f1_triples"
   ]
  },
  {
   "cell_type": "markdown",
   "metadata": {},
   "source": [
    "## Only source 1 has it"
   ]
  },
  {
   "cell_type": "code",
   "execution_count": 71,
   "metadata": {},
   "outputs": [
    {
     "data": {
      "text/plain": [
       "1022611"
      ]
     },
     "execution_count": 71,
     "metadata": {},
     "output_type": "execute_result"
    }
   ],
   "source": [
    "len(set(f1_triples)-set(f2_triples))"
   ]
  },
  {
   "cell_type": "code",
   "execution_count": null,
   "metadata": {},
   "outputs": [],
   "source": []
  }
 ],
 "metadata": {
  "kernelspec": {
   "display_name": "Python 3",
   "language": "python",
   "name": "python3"
  },
  "language_info": {
   "codemirror_mode": {
    "name": "ipython",
    "version": 3
   },
   "file_extension": ".py",
   "mimetype": "text/x-python",
   "name": "python",
   "nbconvert_exporter": "python",
   "pygments_lexer": "ipython3",
   "version": "3.7.7"
  }
 },
 "nbformat": 4,
 "nbformat_minor": 4
}
