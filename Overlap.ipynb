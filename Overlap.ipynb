{
 "cells": [
  {
   "cell_type": "code",
   "execution_count": 2,
   "metadata": {},
   "outputs": [],
   "source": [
    "file1='tmp/kgtk_conceptnet.tsv'\n",
    "file2='tmp/kgtk_wordnet.tsv'"
   ]
  },
  {
   "cell_type": "code",
   "execution_count": 4,
   "metadata": {},
   "outputs": [],
   "source": [
    "def get_triples(a_file):\n",
    "    triples=[]\n",
    "    with open(a_file, 'r') as f1:\n",
    "        header=next(f1)\n",
    "        for line in f1:\n",
    "            data=line.split('\\t')\n",
    "            n1_label=data[4]\n",
    "            n2_label=data[5]\n",
    "            rel_label=data[6]\n",
    "            triple=(n1_label, rel_label, n2_label)\n",
    "            if triple not in triples:\n",
    "                triples.append(triple)\n",
    "    return triples"
   ]
  },
  {
   "cell_type": "code",
   "execution_count": null,
   "metadata": {},
   "outputs": [],
   "source": [
    "f1_triples=get_triples(file1)\n",
    "f2_triples=get_triples(file2)"
   ]
  },
  {
   "cell_type": "markdown",
   "metadata": {},
   "source": [
    "## Both sources have it"
   ]
  },
  {
   "cell_type": "code",
   "execution_count": null,
   "metadata": {},
   "outputs": [],
   "source": [
    "both_triples=set(f1_triples) & set(f2_triples)"
   ]
  },
  {
   "cell_type": "code",
   "execution_count": null,
   "metadata": {},
   "outputs": [],
   "source": [
    "len(both_triples)"
   ]
  },
  {
   "cell_type": "code",
   "execution_count": null,
   "metadata": {},
   "outputs": [],
   "source": []
  }
 ],
 "metadata": {
  "kernelspec": {
   "display_name": "Python 3",
   "language": "python",
   "name": "python3"
  },
  "language_info": {
   "codemirror_mode": {
    "name": "ipython",
    "version": 3
   },
   "file_extension": ".py",
   "mimetype": "text/x-python",
   "name": "python",
   "nbconvert_exporter": "python",
   "pygments_lexer": "ipython3",
   "version": "3.7.7"
  }
 },
 "nbformat": 4,
 "nbformat_minor": 4
}
