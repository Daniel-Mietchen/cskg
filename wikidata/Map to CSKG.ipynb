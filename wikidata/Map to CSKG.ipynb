{
 "cells": [
  {
   "cell_type": "markdown",
   "metadata": {},
   "source": [
    "# Mapping the Wikidata relations to CSKG relations"
   ]
  },
  {
   "cell_type": "markdown",
   "metadata": {},
   "source": [
    "## Map relations and Prepare for CSKG"
   ]
  },
  {
   "cell_type": "code",
   "execution_count": 3,
   "metadata": {},
   "outputs": [],
   "source": [
    "new_columns=['node1', 'relation', 'node2', 'node1;label', 'node2;label','relation;label', 'relation;dimension', 'source', 'sentence']"
   ]
  },
  {
   "cell_type": "code",
   "execution_count": 4,
   "metadata": {},
   "outputs": [],
   "source": [
    "tmp_dir='../tmp/wikidata20200504'\n",
    "#tmp_dir='../tmp/wikidata20171227'#\n",
    "#tmp_dir='../tmp/wikidata20181210'#\n",
    "wd_file='%s/wikidata_cs.tsv' % tmp_dir\n",
    "mapped='%s/kgtk_wikidata_tmp.tsv' % tmp_dir\n",
    "dedup='%s/kgtk_wikidata.tsv' % tmp_dir\n",
    "\n",
    "stats='%s/stats_mapped.tsv' % tmp_dir"
   ]
  },
  {
   "cell_type": "code",
   "execution_count": 5,
   "metadata": {},
   "outputs": [],
   "source": [
    "import pandas as pd\n",
    "import mapping\n",
    "import csv\n",
    "from kgtk.kgtkformat import KgtkFormat"
   ]
  },
  {
   "cell_type": "code",
   "execution_count": 6,
   "metadata": {},
   "outputs": [],
   "source": [
    "df1=pd.read_csv(wd_file, sep='\\t')"
   ]
  },
  {
   "cell_type": "code",
   "execution_count": 7,
   "metadata": {},
   "outputs": [
    {
     "data": {
      "text/plain": [
       "106103"
      ]
     },
     "execution_count": 7,
     "metadata": {},
     "output_type": "execute_result"
    }
   ],
   "source": [
    "len(df1)"
   ]
  },
  {
   "cell_type": "code",
   "execution_count": 9,
   "metadata": {},
   "outputs": [],
   "source": [
    "mapped_fw=set()\n",
    "mapped_bw=set()\n",
    "rows=[]\n",
    "for i, row in df1.iterrows():\n",
    "    node1=row[0]\n",
    "    rel=row[1]\n",
    "    node2=row[2]\n",
    "    node1_label=KgtkFormat.stringify(row[3].strip()[1:-4])\n",
    "    node2_label=KgtkFormat.stringify(row[4].strip()[1:-4])\n",
    "    rel_label=KgtkFormat.stringify(row[5].strip()[1:-4])\n",
    "    if rel in mapping.fw_mapping.keys() :\n",
    "        cn_rel=mapping.fw_mapping[rel]\n",
    "        my_row=[node1,cn_rel,node2,node1_label,node2_label,rel_label, '', '\"WD\"', '']\n",
    "    elif rel in mapping.bw_mapping.keys():\n",
    "        cn_rel=mapping.bw_mapping[rel]\n",
    "        my_row=[node2,cn_rel,node1,node2_label,node1_label,rel_label, '', '\"WD\"', '']\n",
    "    rows.append(my_row)\n"
   ]
  },
  {
   "cell_type": "code",
   "execution_count": 10,
   "metadata": {},
   "outputs": [],
   "source": [
    "df2=pd.DataFrame(rows, columns=new_columns)"
   ]
  },
  {
   "cell_type": "code",
   "execution_count": 11,
   "metadata": {},
   "outputs": [],
   "source": [
    "df2.drop_duplicates(inplace=True)"
   ]
  },
  {
   "cell_type": "code",
   "execution_count": 12,
   "metadata": {},
   "outputs": [
    {
     "data": {
      "text/plain": [
       "106103"
      ]
     },
     "execution_count": 12,
     "metadata": {},
     "output_type": "execute_result"
    }
   ],
   "source": [
    "len(df2)"
   ]
  },
  {
   "cell_type": "code",
   "execution_count": 13,
   "metadata": {},
   "outputs": [
    {
     "data": {
      "text/plain": [
       "/r/IsA                72985\n",
       "/r/PartOf              7938\n",
       "/r/HasContext          6152\n",
       "/r/DistinctFrom        4934\n",
       "/r/HasPrerequisite     4131\n",
       "/r/UsedFor             2469\n",
       "/r/Antonym             2184\n",
       "/r/MadeOf              1426\n",
       "/r/Synonym             1070\n",
       "/r/HasProperty         1049\n",
       "/r/Causes               651\n",
       "/r/DerivedFrom          540\n",
       "/r/SimilarTo            345\n",
       "/r/CreatedBy            187\n",
       "/r/RelatedTo             42\n",
       "Name: relation, dtype: int64"
      ]
     },
     "execution_count": 13,
     "metadata": {},
     "output_type": "execute_result"
    }
   ],
   "source": [
    "df2['relation'].value_counts()"
   ]
  },
  {
   "cell_type": "code",
   "execution_count": 14,
   "metadata": {},
   "outputs": [
    {
     "data": {
      "text/html": [
       "<div>\n",
       "<style scoped>\n",
       "    .dataframe tbody tr th:only-of-type {\n",
       "        vertical-align: middle;\n",
       "    }\n",
       "\n",
       "    .dataframe tbody tr th {\n",
       "        vertical-align: top;\n",
       "    }\n",
       "\n",
       "    .dataframe thead th {\n",
       "        text-align: right;\n",
       "    }\n",
       "</style>\n",
       "<table border=\"1\" class=\"dataframe\">\n",
       "  <thead>\n",
       "    <tr style=\"text-align: right;\">\n",
       "      <th></th>\n",
       "      <th>node1</th>\n",
       "      <th>relation</th>\n",
       "      <th>node2</th>\n",
       "      <th>node1;label</th>\n",
       "      <th>node2;label</th>\n",
       "      <th>relation;label</th>\n",
       "      <th>relation;dimension</th>\n",
       "      <th>source</th>\n",
       "      <th>sentence</th>\n",
       "    </tr>\n",
       "  </thead>\n",
       "  <tbody>\n",
       "    <tr>\n",
       "      <th>0</th>\n",
       "      <td>Q8</td>\n",
       "      <td>/r/IsA</td>\n",
       "      <td>Q331769</td>\n",
       "      <td>\"happiness\"</td>\n",
       "      <td>\"mood\"</td>\n",
       "      <td>\"instance of\"</td>\n",
       "      <td></td>\n",
       "      <td>\"WD\"</td>\n",
       "      <td></td>\n",
       "    </tr>\n",
       "    <tr>\n",
       "      <th>1</th>\n",
       "      <td>Q8</td>\n",
       "      <td>/r/IsA</td>\n",
       "      <td>Q60539479</td>\n",
       "      <td>\"happiness\"</td>\n",
       "      <td>\"positive emotion\"</td>\n",
       "      <td>\"instance of\"</td>\n",
       "      <td></td>\n",
       "      <td>\"WD\"</td>\n",
       "      <td></td>\n",
       "    </tr>\n",
       "    <tr>\n",
       "      <th>2</th>\n",
       "      <td>Q8</td>\n",
       "      <td>/r/IsA</td>\n",
       "      <td>Q9415</td>\n",
       "      <td>\"happiness\"</td>\n",
       "      <td>\"emotion\"</td>\n",
       "      <td>\"instance of\"</td>\n",
       "      <td></td>\n",
       "      <td>\"WD\"</td>\n",
       "      <td></td>\n",
       "    </tr>\n",
       "    <tr>\n",
       "      <th>3</th>\n",
       "      <td>Q8</td>\n",
       "      <td>/r/Antonym</td>\n",
       "      <td>Q169251</td>\n",
       "      <td>\"happiness\"</td>\n",
       "      <td>\"sadness\"</td>\n",
       "      <td>\"opposite of\"</td>\n",
       "      <td></td>\n",
       "      <td>\"WD\"</td>\n",
       "      <td></td>\n",
       "    </tr>\n",
       "    <tr>\n",
       "      <th>4</th>\n",
       "      <td>Q8</td>\n",
       "      <td>/r/Synonym</td>\n",
       "      <td>Q935526</td>\n",
       "      <td>\"happiness\"</td>\n",
       "      <td>\"joy\"</td>\n",
       "      <td>\"said to be the same as\"</td>\n",
       "      <td></td>\n",
       "      <td>\"WD\"</td>\n",
       "      <td></td>\n",
       "    </tr>\n",
       "  </tbody>\n",
       "</table>\n",
       "</div>"
      ],
      "text/plain": [
       "  node1    relation      node2  node1;label         node2;label  \\\n",
       "0    Q8      /r/IsA    Q331769  \"happiness\"              \"mood\"   \n",
       "1    Q8      /r/IsA  Q60539479  \"happiness\"  \"positive emotion\"   \n",
       "2    Q8      /r/IsA      Q9415  \"happiness\"           \"emotion\"   \n",
       "3    Q8  /r/Antonym    Q169251  \"happiness\"           \"sadness\"   \n",
       "4    Q8  /r/Synonym    Q935526  \"happiness\"               \"joy\"   \n",
       "\n",
       "             relation;label relation;dimension source sentence  \n",
       "0             \"instance of\"                      \"WD\"           \n",
       "1             \"instance of\"                      \"WD\"           \n",
       "2             \"instance of\"                      \"WD\"           \n",
       "3             \"opposite of\"                      \"WD\"           \n",
       "4  \"said to be the same as\"                      \"WD\"           "
      ]
     },
     "execution_count": 14,
     "metadata": {},
     "output_type": "execute_result"
    }
   ],
   "source": [
    "df2.head()"
   ]
  },
  {
   "cell_type": "code",
   "execution_count": 15,
   "metadata": {},
   "outputs": [],
   "source": [
    "df2.to_csv(mapped, index=False, sep='\\t', columns=new_columns, quoting=csv.QUOTE_NONE)"
   ]
  },
  {
   "cell_type": "code",
   "execution_count": 16,
   "metadata": {},
   "outputs": [],
   "source": [
    "%%bash -s \"$mapped\" \"$dedup\"\n",
    "kgtk compact -i $1 -o $2 --columns node1 relation node2 --presorted False"
   ]
  },
  {
   "cell_type": "code",
   "execution_count": 17,
   "metadata": {},
   "outputs": [],
   "source": [
    "df3=pd.read_csv(dedup, sep='\\t')"
   ]
  },
  {
   "cell_type": "code",
   "execution_count": 18,
   "metadata": {},
   "outputs": [
    {
     "data": {
      "text/plain": [
       "/r/IsA                72707\n",
       "/r/PartOf              6886\n",
       "/r/HasContext          5541\n",
       "/r/DistinctFrom        4934\n",
       "/r/UsedFor             2243\n",
       "/r/Antonym             2184\n",
       "/r/HasPrerequisite     2107\n",
       "/r/MadeOf              1426\n",
       "/r/Synonym             1070\n",
       "/r/HasProperty         1049\n",
       "/r/DerivedFrom          540\n",
       "/r/Causes               510\n",
       "/r/SimilarTo            345\n",
       "/r/CreatedBy            187\n",
       "/r/RelatedTo             42\n",
       "Name: relation, dtype: int64"
      ]
     },
     "execution_count": 18,
     "metadata": {},
     "output_type": "execute_result"
    }
   ],
   "source": [
    "df3['relation'].value_counts()"
   ]
  },
  {
   "cell_type": "code",
   "execution_count": 88,
   "metadata": {},
   "outputs": [],
   "source": [
    "%%bash -s \"$dedup\" \"$stats\"\n",
    "kgtk graph_statistics --directed --degrees --pagerank --hits --log summary.txt -i $1 > $2"
   ]
  },
  {
   "cell_type": "code",
   "execution_count": 89,
   "metadata": {},
   "outputs": [
    {
     "name": "stdout",
     "output_type": "stream",
     "text": [
      "loading the TSV graph now ...\n",
      "graph loaded! It has 71243 nodes and 101771 edges\n",
      "\n",
      "###Top relations:\n",
      "/r/IsA\t72707\n",
      "/r/PartOf\t6886\n",
      "/r/HasContext\t5541\n",
      "/r/DistinctFrom\t4934\n",
      "/r/UsedFor\t2243\n",
      "/r/Antonym\t2184\n",
      "/r/HasPrerequisite\t2107\n",
      "/r/MadeOf\t1426\n",
      "/r/Synonym\t1070\n",
      "/r/HasProperty\t1049\n",
      "\n",
      "###Degrees:\n",
      "in degree stats: mean=1.428505, std=0.045290, max=1\n",
      "out degree stats: mean=1.428505, std=0.004051, max=1\n",
      "total degree stats: mean=2.857011, std=0.045806, max=1\n",
      "\n",
      "###PageRank\n",
      "Max pageranks\n",
      "288\tQ1047113\t0.007052\n",
      "308\tQ16889133\t0.008416\n",
      "201\tQ171318\t0.009107\n",
      "139\tQ11862829\t0.009335\n",
      "806\tQ5962346\t0.009287\n",
      "\n",
      "###HITS\n",
      "HITS hubs\n",
      "23616\tQ58837291\t0.003989\n",
      "14803\tQ84048852\t0.005686\n",
      "2864\tQ84048850\t0.007898\n",
      "982\tQ23009870\t0.466863\n",
      "201\tQ171318\t0.884159\n",
      "HITS auth\n",
      "29195\tQ41810352\t0.027366\n",
      "62987\tQ72204903\t0.027396\n",
      "7138\tQ57832811\t0.027429\n",
      "42987\tQ57832810\t0.027474\n",
      "8674\tQ12758374\t0.035754\n"
     ]
    }
   ],
   "source": [
    "%%bash\n",
    "cat summary.txt"
   ]
  },
  {
   "cell_type": "code",
   "execution_count": null,
   "metadata": {},
   "outputs": [],
   "source": []
  }
 ],
 "metadata": {
  "kernelspec": {
   "display_name": "Python 3",
   "language": "python",
   "name": "python3"
  },
  "language_info": {
   "codemirror_mode": {
    "name": "ipython",
    "version": 3
   },
   "file_extension": ".py",
   "mimetype": "text/x-python",
   "name": "python",
   "nbconvert_exporter": "python",
   "pygments_lexer": "ipython3",
   "version": "3.7.7"
  }
 },
 "nbformat": 4,
 "nbformat_minor": 4
}
