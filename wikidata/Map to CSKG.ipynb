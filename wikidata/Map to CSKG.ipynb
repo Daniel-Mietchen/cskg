{
 "cells": [
  {
   "cell_type": "markdown",
   "metadata": {},
   "source": [
    "# Mapping the Wikidata relations to CSKG relations"
   ]
  },
  {
   "cell_type": "markdown",
   "metadata": {},
   "source": [
    "## Map relations and Prepare for CSKG"
   ]
  },
  {
   "cell_type": "code",
   "execution_count": 1,
   "metadata": {},
   "outputs": [],
   "source": [
    "new_columns=['node1', 'relation', 'node2', 'node1;label', 'node2;label','relation;label', 'relation;dimension', 'source', 'sentence']"
   ]
  },
  {
   "cell_type": "code",
   "execution_count": 99,
   "metadata": {},
   "outputs": [],
   "source": [
    "#tmp_dir='../tmp/wikidata20200504'\n",
    "#tmp_dir='../tmp/wikidata20171227'#\n",
    "tmp_dir='../tmp/wikidata20181210'#\n",
    "wd_file='%s/wikidata_cs.tsv' % tmp_dir\n",
    "mapped='%s/kgtk_wikidata_tmp.tsv' % tmp_dir\n",
    "dedup='%s/kgtk_wikidata.tsv' % tmp_dir\n",
    "\n",
    "stats='%s/stats_mapped.tsv' % tmp_dir"
   ]
  },
  {
   "cell_type": "code",
   "execution_count": 100,
   "metadata": {},
   "outputs": [],
   "source": [
    "import pandas as pd\n",
    "import mapping"
   ]
  },
  {
   "cell_type": "code",
   "execution_count": 101,
   "metadata": {},
   "outputs": [],
   "source": [
    "df1=pd.read_csv(wd_file, sep='\\t')"
   ]
  },
  {
   "cell_type": "code",
   "execution_count": 102,
   "metadata": {},
   "outputs": [
    {
     "data": {
      "text/plain": [
       "66163"
      ]
     },
     "execution_count": 102,
     "metadata": {},
     "output_type": "execute_result"
    }
   ],
   "source": [
    "len(df1)"
   ]
  },
  {
   "cell_type": "code",
   "execution_count": 103,
   "metadata": {},
   "outputs": [],
   "source": [
    "mapped_fw=set()\n",
    "mapped_bw=set()\n",
    "rows=[]\n",
    "for i, row in df1.iterrows():\n",
    "    node1=row[0]\n",
    "    rel=row[1]\n",
    "    node2=row[2]\n",
    "    node1_label=row[3].strip()[1:-4]\n",
    "    node2_label=row[4].strip()[1:-4]\n",
    "    rel_label=row[5].strip()[1:-4]\n",
    "    if rel in mapping.fw_mapping.keys() :\n",
    "        cn_rel=mapping.fw_mapping[rel]\n",
    "        my_row=[node1,cn_rel,node2,node1_label,node2_label,rel_label, '', 'WD', '']\n",
    "    elif rel in mapping.bw_mapping.keys():\n",
    "        cn_rel=mapping.bw_mapping[rel]\n",
    "        my_row=[node2,cn_rel,node1,node2_label,node1_label,rel_label, '', 'WD', '']\n",
    "    rows.append(my_row)\n"
   ]
  },
  {
   "cell_type": "code",
   "execution_count": 104,
   "metadata": {},
   "outputs": [],
   "source": [
    "df2=pd.DataFrame(rows, columns=new_columns)"
   ]
  },
  {
   "cell_type": "code",
   "execution_count": 105,
   "metadata": {},
   "outputs": [],
   "source": [
    "df2.drop_duplicates(inplace=True)"
   ]
  },
  {
   "cell_type": "code",
   "execution_count": 106,
   "metadata": {},
   "outputs": [
    {
     "data": {
      "text/plain": [
       "66163"
      ]
     },
     "execution_count": 106,
     "metadata": {},
     "output_type": "execute_result"
    }
   ],
   "source": [
    "len(df2)"
   ]
  },
  {
   "cell_type": "code",
   "execution_count": 107,
   "metadata": {},
   "outputs": [
    {
     "data": {
      "text/plain": [
       "/r/IsA                45757\n",
       "/r/PartOf              5312\n",
       "/r/HasPrerequisite     3854\n",
       "/r/HasContext          3435\n",
       "/r/DistinctFrom        2011\n",
       "/r/Antonym             1530\n",
       "/r/UsedFor             1331\n",
       "/r/MadeOf               834\n",
       "/r/Synonym              655\n",
       "/r/HasProperty          651\n",
       "/r/Causes               315\n",
       "/r/DerivedFrom          293\n",
       "/r/SimilarTo             77\n",
       "/r/CreatedBy             68\n",
       "/r/RelatedTo             40\n",
       "Name: relation, dtype: int64"
      ]
     },
     "execution_count": 107,
     "metadata": {},
     "output_type": "execute_result"
    }
   ],
   "source": [
    "df2['relation'].value_counts()"
   ]
  },
  {
   "cell_type": "code",
   "execution_count": 108,
   "metadata": {},
   "outputs": [],
   "source": [
    "df2.to_csv(mapped, index=False, sep='\\t', columns=new_columns)"
   ]
  },
  {
   "cell_type": "code",
   "execution_count": 109,
   "metadata": {},
   "outputs": [],
   "source": [
    "%%bash -s \"$mapped\" \"$dedup\"\n",
    "kgtk compact -i $1 -o $2 --columns node1 relation node2 --presorted False"
   ]
  },
  {
   "cell_type": "code",
   "execution_count": 110,
   "metadata": {},
   "outputs": [],
   "source": [
    "df3=pd.read_csv(dedup, sep='\\t')"
   ]
  },
  {
   "cell_type": "code",
   "execution_count": 111,
   "metadata": {},
   "outputs": [
    {
     "data": {
      "text/plain": [
       "/r/IsA                45606\n",
       "/r/PartOf              4416\n",
       "/r/HasContext          3189\n",
       "/r/DistinctFrom        2011\n",
       "/r/HasPrerequisite     1965\n",
       "/r/Antonym             1530\n",
       "/r/UsedFor             1215\n",
       "/r/MadeOf               834\n",
       "/r/Synonym              655\n",
       "/r/HasProperty          650\n",
       "/r/DerivedFrom          293\n",
       "/r/Causes               238\n",
       "/r/SimilarTo             77\n",
       "/r/CreatedBy             68\n",
       "/r/RelatedTo             40\n",
       "Name: relation, dtype: int64"
      ]
     },
     "execution_count": 111,
     "metadata": {},
     "output_type": "execute_result"
    }
   ],
   "source": [
    "df3['relation'].value_counts()"
   ]
  },
  {
   "cell_type": "code",
   "execution_count": 112,
   "metadata": {},
   "outputs": [],
   "source": [
    "%%bash -s \"$dedup\" \"$stats\"\n",
    "kgtk graph_statistics --directed --degrees --pagerank --hits --log summary.txt -i $1 > $2"
   ]
  },
  {
   "cell_type": "code",
   "execution_count": 113,
   "metadata": {},
   "outputs": [
    {
     "name": "stdout",
     "output_type": "stream",
     "text": [
      "loading the TSV graph now ...\n",
      "graph loaded! It has 47056 nodes and 62787 edges\n",
      "\n",
      "###Top relations:\n",
      "/r/IsA\t45606\n",
      "/r/PartOf\t4416\n",
      "/r/HasContext\t3189\n",
      "/r/DistinctFrom\t2011\n",
      "/r/HasPrerequisite\t1965\n",
      "/r/Antonym\t1530\n",
      "/r/UsedFor\t1215\n",
      "/r/MadeOf\t834\n",
      "/r/Synonym\t655\n",
      "/r/HasProperty\t650\n",
      "\n",
      "###Degrees:\n",
      "in degree stats: mean=1.334304, std=0.035105, max=1\n",
      "out degree stats: mean=1.334304, std=0.004760, max=1\n",
      "total degree stats: mean=2.668608, std=0.035834, max=1\n",
      "\n",
      "###PageRank\n",
      "Max pageranks\n",
      "271\tQ483394\t0.006469\n",
      "764\tQ386724\t0.006726\n",
      "14293\tQ1744628\t0.006793\n",
      "595\tQ5962346\t0.007980\n",
      "258\tQ16889133\t0.007421\n",
      "\n",
      "###HITS\n",
      "HITS hubs\n",
      "20700\tQ213901\t0.002638\n",
      "7480\tQ591041\t0.002679\n",
      "29404\tQ317309\t0.002641\n",
      "4195\tQ61476\t0.031417\n",
      "2139\tQ13442814\t0.999481\n",
      "HITS auth\n",
      "30646\tQ34524203\t0.037400\n",
      "31312\tQ36536067\t0.037400\n",
      "30647\tQ34524288\t0.037400\n",
      "7479\tQ18918145\t0.072521\n",
      "34987\tQ43916273\t0.037450\n"
     ]
    }
   ],
   "source": [
    "%%bash\n",
    "cat summary.txt"
   ]
  },
  {
   "cell_type": "code",
   "execution_count": null,
   "metadata": {},
   "outputs": [],
   "source": []
  }
 ],
 "metadata": {
  "kernelspec": {
   "display_name": "Python 3",
   "language": "python",
   "name": "python3"
  },
  "language_info": {
   "codemirror_mode": {
    "name": "ipython",
    "version": 3
   },
   "file_extension": ".py",
   "mimetype": "text/x-python",
   "name": "python",
   "nbconvert_exporter": "python",
   "pygments_lexer": "ipython3",
   "version": "3.7.7"
  }
 },
 "nbformat": 4,
 "nbformat_minor": 4
}
