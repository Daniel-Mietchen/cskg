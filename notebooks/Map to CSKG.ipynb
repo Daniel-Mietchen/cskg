{
 "cells": [
  {
   "cell_type": "markdown",
   "metadata": {},
   "source": [
    "# Mapping the Wikidata relations to CSKG relations"
   ]
  },
  {
   "cell_type": "markdown",
   "metadata": {},
   "source": [
    "## Map relations and Prepare for CSKG"
   ]
  },
  {
   "cell_type": "code",
   "execution_count": 1,
   "metadata": {},
   "outputs": [],
   "source": [
    "new_columns=['node1', 'relation', 'node2', 'node1;label', 'node2;label','relation;label', 'relation;dimension', 'source', 'sentence']"
   ]
  },
  {
   "cell_type": "code",
   "execution_count": 14,
   "metadata": {},
   "outputs": [],
   "source": [
    "#tmp_dir='tmp/wikidata20200504'\n",
    "tmp_dir='../tmp/wikidata20171227'#\n",
    "#tmp_dir='tmp/wikidata20181210'#\n",
    "wd_file='%s/wikidata_cs.tsv' % tmp_dir\n",
    "mapped='%s/kgtk_wikidata.tsv' % tmp_dir\n",
    "stats='%s/stats_mapped.tsv' % tmp_dir"
   ]
  },
  {
   "cell_type": "code",
   "execution_count": 15,
   "metadata": {},
   "outputs": [],
   "source": [
    "import pandas as pd\n",
    "import mapping"
   ]
  },
  {
   "cell_type": "code",
   "execution_count": 16,
   "metadata": {},
   "outputs": [],
   "source": [
    "df1=pd.read_csv(wd_file, sep='\\t')"
   ]
  },
  {
   "cell_type": "code",
   "execution_count": 17,
   "metadata": {},
   "outputs": [
    {
     "data": {
      "text/plain": [
       "104039"
      ]
     },
     "execution_count": 17,
     "metadata": {},
     "output_type": "execute_result"
    }
   ],
   "source": [
    "len(df1)"
   ]
  },
  {
   "cell_type": "code",
   "execution_count": 18,
   "metadata": {},
   "outputs": [],
   "source": [
    "mapped_fw=set()\n",
    "mapped_bw=set()\n",
    "rows=[]\n",
    "for i, row in df1.iterrows():\n",
    "    node1=row[0]\n",
    "    rel=row[1]\n",
    "    node2=row[2]\n",
    "    node1_label=row[3].strip()[1:-4]\n",
    "    node2_label=row[4].strip()[1:-4]\n",
    "    rel_label=row[5].strip()[1:-4]\n",
    "    if rel in mapping.fw_mapping.keys() :\n",
    "        cn_rel=mapping.fw_mapping[rel]\n",
    "        my_row=[node1,cn_rel,node2,node1_label,node2_label,rel_label, '', 'WD', '']\n",
    "    elif rel in mapping.bw_mapping.keys():\n",
    "        cn_rel=mapping.bw_mapping[rel]\n",
    "        my_row=[node2,cn_rel,node1,node2_label,node1_label,rel_label, '', 'WD', '']\n",
    "    rows.append(my_row)\n"
   ]
  },
  {
   "cell_type": "code",
   "execution_count": 19,
   "metadata": {},
   "outputs": [],
   "source": [
    "df2=pd.DataFrame(rows, columns=new_columns)"
   ]
  },
  {
   "cell_type": "code",
   "execution_count": 20,
   "metadata": {},
   "outputs": [],
   "source": [
    "df2.drop_duplicates(inplace=True)"
   ]
  },
  {
   "cell_type": "code",
   "execution_count": 21,
   "metadata": {},
   "outputs": [
    {
     "data": {
      "text/plain": [
       "103992"
      ]
     },
     "execution_count": 21,
     "metadata": {},
     "output_type": "execute_result"
    }
   ],
   "source": [
    "len(df2)"
   ]
  },
  {
   "cell_type": "code",
   "execution_count": 22,
   "metadata": {},
   "outputs": [
    {
     "data": {
      "text/plain": [
       "/r/IsA                74655\n",
       "/r/PartOf              9186\n",
       "/r/HasContext          5647\n",
       "/r/HasProperty         3037\n",
       "/r/RelatedTo           2034\n",
       "/r/UsedFor             1928\n",
       "/r/Antonym             1598\n",
       "/r/DistinctFrom        1312\n",
       "/r/Causes              1228\n",
       "/r/HasPrerequisite     1000\n",
       "/r/MadeOf               904\n",
       "/r/Synonym              804\n",
       "/r/DerivedFrom          410\n",
       "/r/CreatedBy            197\n",
       "/r/SimilarTo             52\n",
       "Name: relation, dtype: int64"
      ]
     },
     "execution_count": 22,
     "metadata": {},
     "output_type": "execute_result"
    }
   ],
   "source": [
    "df2['relation'].value_counts()"
   ]
  },
  {
   "cell_type": "code",
   "execution_count": 23,
   "metadata": {},
   "outputs": [],
   "source": [
    "df2.to_csv(mapped, index=False, sep='\\t', columns=new_columns)"
   ]
  },
  {
   "cell_type": "code",
   "execution_count": 24,
   "metadata": {},
   "outputs": [],
   "source": [
    "%%bash -s \"$mapped\" \"$stats\"\n",
    "kgtk graph_statistics --directed --degrees --pagerank --hits --log summary.txt -i $1 > $2"
   ]
  },
  {
   "cell_type": "code",
   "execution_count": 25,
   "metadata": {},
   "outputs": [
    {
     "name": "stdout",
     "output_type": "stream",
     "text": [
      "loading the TSV graph now ...\n",
      "graph loaded! It has 57885 nodes and 103992 edges\n",
      "\n",
      "###Top relations:\n",
      "/r/IsA\t74655\n",
      "/r/PartOf\t9186\n",
      "/r/HasContext\t5647\n",
      "/r/HasProperty\t3037\n",
      "/r/RelatedTo\t2034\n",
      "/r/UsedFor\t1928\n",
      "/r/Antonym\t1598\n",
      "/r/DistinctFrom\t1312\n",
      "/r/Causes\t1228\n",
      "/r/HasPrerequisite\t1000\n",
      "\n",
      "###Degrees:\n",
      "in degree stats: mean=1.796528, std=0.123480, max=1\n",
      "out degree stats: mean=1.796528, std=0.006967, max=1\n",
      "total degree stats: mean=3.593055, std=0.124215, max=1\n",
      "\n",
      "###PageRank\n",
      "Max pageranks\n",
      "710\tQ336\t0.010118\n",
      "5046\tP1918\t0.012158\n",
      "1958\tQ7187\t0.014300\n",
      "284\tQ151885\t0.017690\n",
      "9\tQ2996394\t0.013583\n",
      "\n",
      "###HITS\n",
      "HITS hubs\n",
      "795\tQ11173\t0.000000\n",
      "9\tQ2996394\t0.000000\n",
      "5955\tQ8054\t0.000194\n",
      "10239\tQ20747295\t0.000579\n",
      "1958\tQ7187\t1.000000\n",
      "HITS auth\n",
      "35900\tQ29663183\t0.013885\n",
      "10239\tQ20747295\t0.013888\n",
      "55237\tQ20969150\t0.013893\n",
      "42976\tQ26738515\t0.013893\n",
      "10238\tQ18256813\t0.013893\n"
     ]
    }
   ],
   "source": [
    "%%bash\n",
    "cat summary.txt"
   ]
  },
  {
   "cell_type": "code",
   "execution_count": null,
   "metadata": {},
   "outputs": [],
   "source": []
  }
 ],
 "metadata": {
  "kernelspec": {
   "display_name": "Python 3",
   "language": "python",
   "name": "python3"
  },
  "language_info": {
   "codemirror_mode": {
    "name": "ipython",
    "version": 3
   },
   "file_extension": ".py",
   "mimetype": "text/x-python",
   "name": "python",
   "nbconvert_exporter": "python",
   "pygments_lexer": "ipython3",
   "version": "3.7.7"
  }
 },
 "nbformat": 4,
 "nbformat_minor": 4
}
