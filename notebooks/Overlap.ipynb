{
 "cells": [
  {
   "cell_type": "code",
   "execution_count": 31,
   "metadata": {},
   "outputs": [],
   "source": [
    "file1=['../tmp/kgtk_roget_synonyms.tsv', '../tmp/kgtk_roget_antonyms.tsv']\n",
    "#file1=['../tmp/kgtk_conceptnet.tsv']\n",
    "file1=['../tmp/kgtk_wordnet.tsv']\n",
    "file2=['../tmp/wikidata20200504/kgtk_wikidata.tsv']"
   ]
  },
  {
   "cell_type": "code",
   "execution_count": 32,
   "metadata": {},
   "outputs": [],
   "source": [
    "from tqdm import tqdm"
   ]
  },
  {
   "cell_type": "code",
   "execution_count": 33,
   "metadata": {},
   "outputs": [],
   "source": [
    "def get_all_labels(l):\n",
    "    if '|' not in l:\n",
    "        return [l]\n",
    "    else:\n",
    "        return [l2 for l2 in l.split('|') if l2!='']"
   ]
  },
  {
   "cell_type": "code",
   "execution_count": 34,
   "metadata": {},
   "outputs": [],
   "source": [
    "def get_triples(some_file):\n",
    "    triples=set()\n",
    "    for a_file in some_file:\n",
    "        with open(a_file, 'r') as f1:\n",
    "            header=next(f1)\n",
    "            for line in tqdm(f1, total=3500000):\n",
    "                data=line.split('\\t')\n",
    "                rel_label=data[1]\n",
    "                for n1_label in get_all_labels(data[3]):\n",
    "                    for n2_label in get_all_labels(data[4]):\n",
    "                        if n1_label=='' or n2_label=='': print(data)\n",
    "                        triple=(n1_label, rel_label, n2_label)\n",
    "                        triples.add(triple)\n",
    "    return triples"
   ]
  },
  {
   "cell_type": "code",
   "execution_count": 35,
   "metadata": {},
   "outputs": [
    {
     "name": "stderr",
     "output_type": "stream",
     "text": [
      "  3%|▎         | 111276/3500000 [00:00<00:11, 293549.79it/s]\n"
     ]
    }
   ],
   "source": [
    "f1_triples=get_triples(file1)"
   ]
  },
  {
   "cell_type": "code",
   "execution_count": 36,
   "metadata": {},
   "outputs": [
    {
     "name": "stderr",
     "output_type": "stream",
     "text": [
      " 11%|█         | 388087/3500000 [00:00<00:04, 710925.16it/s]\n"
     ]
    }
   ],
   "source": [
    "f2_triples=get_triples(file2)"
   ]
  },
  {
   "cell_type": "markdown",
   "metadata": {},
   "source": [
    "## Both sources have it"
   ]
  },
  {
   "cell_type": "code",
   "execution_count": 37,
   "metadata": {},
   "outputs": [],
   "source": [
    "both_triples=set(f1_triples) & set(f2_triples)"
   ]
  },
  {
   "cell_type": "code",
   "execution_count": 38,
   "metadata": {},
   "outputs": [
    {
     "name": "stdout",
     "output_type": "stream",
     "text": [
      "4044 420716 203739\n"
     ]
    }
   ],
   "source": [
    "print(len(both_triples), len(f1_triples), len(f2_triples))"
   ]
  },
  {
   "cell_type": "markdown",
   "metadata": {},
   "source": [
    "## Only source 2 has it"
   ]
  },
  {
   "cell_type": "code",
   "execution_count": 40,
   "metadata": {},
   "outputs": [
    {
     "data": {
      "text/plain": [
       "199695"
      ]
     },
     "execution_count": 40,
     "metadata": {},
     "output_type": "execute_result"
    }
   ],
   "source": [
    "len(set(f2_triples)-set(f1_triples))"
   ]
  },
  {
   "cell_type": "code",
   "execution_count": 41,
   "metadata": {},
   "outputs": [],
   "source": [
    "#f2_triples-f1_triples"
   ]
  },
  {
   "cell_type": "markdown",
   "metadata": {},
   "source": [
    "## Only source 1 has it"
   ]
  },
  {
   "cell_type": "code",
   "execution_count": 42,
   "metadata": {},
   "outputs": [
    {
     "data": {
      "text/plain": [
       "416672"
      ]
     },
     "execution_count": 42,
     "metadata": {},
     "output_type": "execute_result"
    }
   ],
   "source": [
    "len(set(f1_triples)-set(f2_triples))"
   ]
  },
  {
   "cell_type": "code",
   "execution_count": null,
   "metadata": {},
   "outputs": [],
   "source": []
  }
 ],
 "metadata": {
  "kernelspec": {
   "display_name": "Python 3",
   "language": "python",
   "name": "python3"
  },
  "language_info": {
   "codemirror_mode": {
    "name": "ipython",
    "version": 3
   },
   "file_extension": ".py",
   "mimetype": "text/x-python",
   "name": "python",
   "nbconvert_exporter": "python",
   "pygments_lexer": "ipython3",
   "version": "3.7.7"
  }
 },
 "nbformat": 4,
 "nbformat_minor": 4
}
