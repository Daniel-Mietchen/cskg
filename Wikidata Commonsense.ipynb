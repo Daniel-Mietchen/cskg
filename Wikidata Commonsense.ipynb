{
 "cells": [
  {
   "cell_type": "markdown",
   "metadata": {},
   "source": [
    "# Extracting commonsense knowledge from Wikidata"
   ]
  },
  {
   "cell_type": "markdown",
   "metadata": {},
   "source": [
    "## Define files"
   ]
  },
  {
   "cell_type": "code",
   "execution_count": 12,
   "metadata": {},
   "outputs": [],
   "source": [
    "edge_file='input/wikidata-20181210'\n",
    "label_file=''\n",
    "tmp_dir='tmp/wikidata20200504'"
   ]
  },
  {
   "cell_type": "markdown",
   "metadata": {},
   "source": [
    "## Define relevant properties"
   ]
  },
  {
   "cell_type": "code",
   "execution_count": 1,
   "metadata": {},
   "outputs": [
    {
     "name": "stdout",
     "output_type": "stream",
     "text": [
      "env: properties=\"P1889,P461,P527,P186,P463,P276,P170,P366,P279,P1552,P828,P1542,P462\" #,P31\"\n"
     ]
    }
   ],
   "source": [
    "%env properties=\"P1889,P461,P527,P186,P463,P276,P170,P366,P279,P1552,P828,P1542,P462\" #,P31\""
   ]
  },
  {
   "cell_type": "code",
   "execution_count": null,
   "metadata": {},
   "outputs": [],
   "source": []
  },
  {
   "cell_type": "markdown",
   "metadata": {},
   "source": [
    "## Filter relevant properties"
   ]
  },
  {
   "cell_type": "code",
   "execution_count": null,
   "metadata": {},
   "outputs": [],
   "source": [
    "%%bash\n",
    "kgtk filter -p \" ; $properties ; \" input/wikidata/wikidata_edges_20200504.tsv.gz > tmp/kgtk_wikidata_filter.tsv"
   ]
  },
  {
   "cell_type": "markdown",
   "metadata": {},
   "source": [
    "## Remove columns"
   ]
  },
  {
   "cell_type": "code",
   "execution_count": 1,
   "metadata": {},
   "outputs": [
    {
     "name": "stdout",
     "output_type": "stream",
     "text": [
      "env: ignore_cols=id,rank,node2;magnitude,node2;unit,node2;item,node2;lower,node2;upper,node2;entity-type,node2;longitude,node2;latitude,node2;date,node2;calendar,node2;precision\n"
     ]
    }
   ],
   "source": [
    "%env ignore_cols=id,rank,node2;magnitude,node2;unit,node2;item,node2;lower,node2;upper,node2;entity-type,node2;longitude,node2;latitude,node2;date,node2;calendar,node2;precision"
   ]
  },
  {
   "cell_type": "code",
   "execution_count": 2,
   "metadata": {},
   "outputs": [],
   "source": [
    "%%bash\n",
    "kgtk remove_columns -c \"$ignore_cols\" -i tmp/kgtk_wikidata_filter.tsv > tmp/kgtk_wikidata_cols.tsv"
   ]
  },
  {
   "cell_type": "markdown",
   "metadata": {},
   "source": [
    "## Deduplicate"
   ]
  },
  {
   "cell_type": "code",
   "execution_count": 3,
   "metadata": {},
   "outputs": [],
   "source": [
    "%%bash\n",
    "kgtk compact -i tmp/kgtk_wikidata_cols.tsv -o tmp/kgtk_wikidata_compact.tsv"
   ]
  },
  {
   "cell_type": "markdown",
   "metadata": {},
   "source": [
    "## Add labels"
   ]
  },
  {
   "cell_type": "code",
   "execution_count": 4,
   "metadata": {},
   "outputs": [
    {
     "name": "stderr",
     "output_type": "stream",
     "text": [
      "Opening the input file: tmp/kgtk_wikidata_compact.tsv\n",
      "KgtkReader: File_path.suffix: .tsv\n",
      "KgtkReader: reading file tmp/kgtk_wikidata_compact.tsv\n",
      "header: node1\tlabel\tnode2\n",
      "node1 column found, this is a KGTK edge file\n",
      "KgtkReader: Special columns: node1=0 label=1 node2=2 id=-1\n",
      "KgtkReader: Reading an edge file.\n",
      "Opening the label file: input/wikidata/wiki_labels.tsv\n",
      "KgtkReader: File_path.suffix: .tsv\n",
      "KgtkReader: reading file input/wikidata/wiki_labels.tsv\n",
      "Traceback (most recent call last):\n",
      "  File \"/Users/filipilievski/mcs/kgtk/kgtk/cli/lift.py\", line 277, in run\n",
      "    kl.process()\n",
      "  File \"/Users/filipilievski/mcs/kgtk/kgtk/lift/kgtklift.py\", line 680, in process\n",
      "    very_verbose=self.very_verbose,\n",
      "  File \"/Users/filipilievski/mcs/kgtk/kgtk/io/kgtkreader.py\", line 494, in open\n",
      "    source: ClosableIter[str] = cls._openfile(file_path, options=options, error_file=error_file, verbose=verbose)\n",
      "  File \"/Users/filipilievski/mcs/kgtk/kgtk/io/kgtkreader.py\", line 668, in _openfile\n",
      "    return ClosableIterTextIOWrapper(open(file_path, \"r\"))\n",
      "FileNotFoundError: [Errno 2] No such file or directory: 'input/wikidata/wiki_labels.tsv'\n",
      "\n",
      "During handling of the above exception, another exception occurred:\n",
      "\n",
      "Traceback (most recent call last):\n",
      "  File \"/Users/filipilievski/mcs/kgtk/kgtk/exceptions.py\", line 42, in __call__\n",
      "    return_code = func(*args, **kwargs) or 0\n",
      "  File \"/Users/filipilievski/mcs/kgtk/kgtk/cli/lift.py\", line 284, in run\n",
      "    raise KGTKException(str(e))\n",
      "kgtk.exceptions.KGTKException: [Errno 2] No such file or directory: 'input/wikidata/wiki_labels.tsv'\n",
      "[Errno 2] No such file or directory: 'input/wikidata/wiki_labels.tsv'\n"
     ]
    },
    {
     "ename": "CalledProcessError",
     "evalue": "Command 'b'kgtk --debug lift --verbose \\\\\\n     --input-file tmp/kgtk_wikidata_compact.tsv \\\\\\n     --label-file input/wikidata/wiki_labels.tsv \\\\\\n     --output-file tmp/kgtk_wikidata.tsv \\\\\\n     --columns-to-lift node1 node2 label \\\\\\n     --prefilter-labels\\n'' returned non-zero exit status 1.",
     "output_type": "error",
     "traceback": [
      "\u001b[0;31m---------------------------------------------------------------------------\u001b[0m",
      "\u001b[0;31mCalledProcessError\u001b[0m                        Traceback (most recent call last)",
      "\u001b[0;32m<ipython-input-4-e138aa80627a>\u001b[0m in \u001b[0;36m<module>\u001b[0;34m\u001b[0m\n\u001b[0;32m----> 1\u001b[0;31m \u001b[0mget_ipython\u001b[0m\u001b[0;34m(\u001b[0m\u001b[0;34m)\u001b[0m\u001b[0;34m.\u001b[0m\u001b[0mrun_cell_magic\u001b[0m\u001b[0;34m(\u001b[0m\u001b[0;34m'bash'\u001b[0m\u001b[0;34m,\u001b[0m \u001b[0;34m''\u001b[0m\u001b[0;34m,\u001b[0m \u001b[0;34m'kgtk --debug lift --verbose \\\\\\n     --input-file tmp/kgtk_wikidata_compact.tsv \\\\\\n     --label-file input/wikidata/wiki_labels.tsv \\\\\\n     --output-file tmp/kgtk_wikidata.tsv \\\\\\n     --columns-to-lift node1 node2 label \\\\\\n     --prefilter-labels\\n'\u001b[0m\u001b[0;34m)\u001b[0m\u001b[0;34m\u001b[0m\u001b[0;34m\u001b[0m\u001b[0m\n\u001b[0m",
      "\u001b[0;32m~/opt/anaconda3/envs/kgtk-env/lib/python3.7/site-packages/IPython/core/interactiveshell.py\u001b[0m in \u001b[0;36mrun_cell_magic\u001b[0;34m(self, magic_name, line, cell)\u001b[0m\n\u001b[1;32m   2360\u001b[0m             \u001b[0;32mwith\u001b[0m \u001b[0mself\u001b[0m\u001b[0;34m.\u001b[0m\u001b[0mbuiltin_trap\u001b[0m\u001b[0;34m:\u001b[0m\u001b[0;34m\u001b[0m\u001b[0;34m\u001b[0m\u001b[0m\n\u001b[1;32m   2361\u001b[0m                 \u001b[0margs\u001b[0m \u001b[0;34m=\u001b[0m \u001b[0;34m(\u001b[0m\u001b[0mmagic_arg_s\u001b[0m\u001b[0;34m,\u001b[0m \u001b[0mcell\u001b[0m\u001b[0;34m)\u001b[0m\u001b[0;34m\u001b[0m\u001b[0;34m\u001b[0m\u001b[0m\n\u001b[0;32m-> 2362\u001b[0;31m                 \u001b[0mresult\u001b[0m \u001b[0;34m=\u001b[0m \u001b[0mfn\u001b[0m\u001b[0;34m(\u001b[0m\u001b[0;34m*\u001b[0m\u001b[0margs\u001b[0m\u001b[0;34m,\u001b[0m \u001b[0;34m**\u001b[0m\u001b[0mkwargs\u001b[0m\u001b[0;34m)\u001b[0m\u001b[0;34m\u001b[0m\u001b[0;34m\u001b[0m\u001b[0m\n\u001b[0m\u001b[1;32m   2363\u001b[0m             \u001b[0;32mreturn\u001b[0m \u001b[0mresult\u001b[0m\u001b[0;34m\u001b[0m\u001b[0;34m\u001b[0m\u001b[0m\n\u001b[1;32m   2364\u001b[0m \u001b[0;34m\u001b[0m\u001b[0m\n",
      "\u001b[0;32m~/opt/anaconda3/envs/kgtk-env/lib/python3.7/site-packages/IPython/core/magics/script.py\u001b[0m in \u001b[0;36mnamed_script_magic\u001b[0;34m(line, cell)\u001b[0m\n\u001b[1;32m    140\u001b[0m             \u001b[0;32melse\u001b[0m\u001b[0;34m:\u001b[0m\u001b[0;34m\u001b[0m\u001b[0;34m\u001b[0m\u001b[0m\n\u001b[1;32m    141\u001b[0m                 \u001b[0mline\u001b[0m \u001b[0;34m=\u001b[0m \u001b[0mscript\u001b[0m\u001b[0;34m\u001b[0m\u001b[0;34m\u001b[0m\u001b[0m\n\u001b[0;32m--> 142\u001b[0;31m             \u001b[0;32mreturn\u001b[0m \u001b[0mself\u001b[0m\u001b[0;34m.\u001b[0m\u001b[0mshebang\u001b[0m\u001b[0;34m(\u001b[0m\u001b[0mline\u001b[0m\u001b[0;34m,\u001b[0m \u001b[0mcell\u001b[0m\u001b[0;34m)\u001b[0m\u001b[0;34m\u001b[0m\u001b[0;34m\u001b[0m\u001b[0m\n\u001b[0m\u001b[1;32m    143\u001b[0m \u001b[0;34m\u001b[0m\u001b[0m\n\u001b[1;32m    144\u001b[0m         \u001b[0;31m# write a basic docstring:\u001b[0m\u001b[0;34m\u001b[0m\u001b[0;34m\u001b[0m\u001b[0;34m\u001b[0m\u001b[0m\n",
      "\u001b[0;32m<decorator-gen-110>\u001b[0m in \u001b[0;36mshebang\u001b[0;34m(self, line, cell)\u001b[0m\n",
      "\u001b[0;32m~/opt/anaconda3/envs/kgtk-env/lib/python3.7/site-packages/IPython/core/magic.py\u001b[0m in \u001b[0;36m<lambda>\u001b[0;34m(f, *a, **k)\u001b[0m\n\u001b[1;32m    185\u001b[0m     \u001b[0;31m# but it's overkill for just that one bit of state.\u001b[0m\u001b[0;34m\u001b[0m\u001b[0;34m\u001b[0m\u001b[0;34m\u001b[0m\u001b[0m\n\u001b[1;32m    186\u001b[0m     \u001b[0;32mdef\u001b[0m \u001b[0mmagic_deco\u001b[0m\u001b[0;34m(\u001b[0m\u001b[0marg\u001b[0m\u001b[0;34m)\u001b[0m\u001b[0;34m:\u001b[0m\u001b[0;34m\u001b[0m\u001b[0;34m\u001b[0m\u001b[0m\n\u001b[0;32m--> 187\u001b[0;31m         \u001b[0mcall\u001b[0m \u001b[0;34m=\u001b[0m \u001b[0;32mlambda\u001b[0m \u001b[0mf\u001b[0m\u001b[0;34m,\u001b[0m \u001b[0;34m*\u001b[0m\u001b[0ma\u001b[0m\u001b[0;34m,\u001b[0m \u001b[0;34m**\u001b[0m\u001b[0mk\u001b[0m\u001b[0;34m:\u001b[0m \u001b[0mf\u001b[0m\u001b[0;34m(\u001b[0m\u001b[0;34m*\u001b[0m\u001b[0ma\u001b[0m\u001b[0;34m,\u001b[0m \u001b[0;34m**\u001b[0m\u001b[0mk\u001b[0m\u001b[0;34m)\u001b[0m\u001b[0;34m\u001b[0m\u001b[0;34m\u001b[0m\u001b[0m\n\u001b[0m\u001b[1;32m    188\u001b[0m \u001b[0;34m\u001b[0m\u001b[0m\n\u001b[1;32m    189\u001b[0m         \u001b[0;32mif\u001b[0m \u001b[0mcallable\u001b[0m\u001b[0;34m(\u001b[0m\u001b[0marg\u001b[0m\u001b[0;34m)\u001b[0m\u001b[0;34m:\u001b[0m\u001b[0;34m\u001b[0m\u001b[0;34m\u001b[0m\u001b[0m\n",
      "\u001b[0;32m~/opt/anaconda3/envs/kgtk-env/lib/python3.7/site-packages/IPython/core/magics/script.py\u001b[0m in \u001b[0;36mshebang\u001b[0;34m(self, line, cell)\u001b[0m\n\u001b[1;32m    243\u001b[0m             \u001b[0msys\u001b[0m\u001b[0;34m.\u001b[0m\u001b[0mstderr\u001b[0m\u001b[0;34m.\u001b[0m\u001b[0mflush\u001b[0m\u001b[0;34m(\u001b[0m\u001b[0;34m)\u001b[0m\u001b[0;34m\u001b[0m\u001b[0;34m\u001b[0m\u001b[0m\n\u001b[1;32m    244\u001b[0m         \u001b[0;32mif\u001b[0m \u001b[0margs\u001b[0m\u001b[0;34m.\u001b[0m\u001b[0mraise_error\u001b[0m \u001b[0;32mand\u001b[0m \u001b[0mp\u001b[0m\u001b[0;34m.\u001b[0m\u001b[0mreturncode\u001b[0m\u001b[0;34m!=\u001b[0m\u001b[0;36m0\u001b[0m\u001b[0;34m:\u001b[0m\u001b[0;34m\u001b[0m\u001b[0;34m\u001b[0m\u001b[0m\n\u001b[0;32m--> 245\u001b[0;31m             \u001b[0;32mraise\u001b[0m \u001b[0mCalledProcessError\u001b[0m\u001b[0;34m(\u001b[0m\u001b[0mp\u001b[0m\u001b[0;34m.\u001b[0m\u001b[0mreturncode\u001b[0m\u001b[0;34m,\u001b[0m \u001b[0mcell\u001b[0m\u001b[0;34m,\u001b[0m \u001b[0moutput\u001b[0m\u001b[0;34m=\u001b[0m\u001b[0mout\u001b[0m\u001b[0;34m,\u001b[0m \u001b[0mstderr\u001b[0m\u001b[0;34m=\u001b[0m\u001b[0merr\u001b[0m\u001b[0;34m)\u001b[0m\u001b[0;34m\u001b[0m\u001b[0;34m\u001b[0m\u001b[0m\n\u001b[0m\u001b[1;32m    246\u001b[0m \u001b[0;34m\u001b[0m\u001b[0m\n\u001b[1;32m    247\u001b[0m     \u001b[0;32mdef\u001b[0m \u001b[0m_run_script\u001b[0m\u001b[0;34m(\u001b[0m\u001b[0mself\u001b[0m\u001b[0;34m,\u001b[0m \u001b[0mp\u001b[0m\u001b[0;34m,\u001b[0m \u001b[0mcell\u001b[0m\u001b[0;34m,\u001b[0m \u001b[0mto_close\u001b[0m\u001b[0;34m)\u001b[0m\u001b[0;34m:\u001b[0m\u001b[0;34m\u001b[0m\u001b[0;34m\u001b[0m\u001b[0m\n",
      "\u001b[0;31mCalledProcessError\u001b[0m: Command 'b'kgtk --debug lift --verbose \\\\\\n     --input-file tmp/kgtk_wikidata_compact.tsv \\\\\\n     --label-file input/wikidata/wiki_labels.tsv \\\\\\n     --output-file tmp/kgtk_wikidata.tsv \\\\\\n     --columns-to-lift node1 node2 label \\\\\\n     --prefilter-labels\\n'' returned non-zero exit status 1."
     ]
    }
   ],
   "source": [
    "%%bash\n",
    "kgtk --debug lift --verbose \\\n",
    "     --input-file tmp/kgtk_wikidata_compact.tsv \\\n",
    "     --label-file input/wikidata/wiki_labels.tsv \\\n",
    "     --output-file tmp/kgtk_wikidata.tsv \\\n",
    "     --columns-to-lift node1 node2 label \\\n",
    "     --prefilter-labels"
   ]
  },
  {
   "cell_type": "markdown",
   "metadata": {},
   "source": [
    "## Add PageRank"
   ]
  },
  {
   "cell_type": "code",
   "execution_count": null,
   "metadata": {},
   "outputs": [],
   "source": [
    "%%bash\n",
    "kgtk --debug lift --verbose \\\n",
    "     --input-file tmp/kgtk_wikidata.tsv \\\n",
    "     --label-file input/wikidata/wikidata-pagerank-only-sorted2.tsv \\\n",
    "     --output-file tmp/kgtk_wikidata_with_pr.tsv \\\n",
    "     --columns-to-lift node1 node2 \\\n",
    "     --property vertex_pagerank \\\n",
    "     --lift-suffix \";pagerank\" \\\n",
    "     --prefilter-labels"
   ]
  },
  {
   "cell_type": "markdown",
   "metadata": {},
   "source": [
    "## Filter concepts vs instances"
   ]
  },
  {
   "cell_type": "code",
   "execution_count": 3,
   "metadata": {},
   "outputs": [],
   "source": [
    "import pandas as pd\n",
    "df=pd.read_csv('tmp/wikidata20200504/kgtk_wikidata_with_pr.tsv', sep='\\t')"
   ]
  },
  {
   "cell_type": "code",
   "execution_count": 4,
   "metadata": {},
   "outputs": [
    {
     "data": {
      "text/plain": [
       "8256446"
      ]
     },
     "execution_count": 4,
     "metadata": {},
     "output_type": "execute_result"
    }
   ],
   "source": [
    "len(df)"
   ]
  },
  {
   "cell_type": "code",
   "execution_count": 5,
   "metadata": {},
   "outputs": [
    {
     "data": {
      "text/html": [
       "<div>\n",
       "<style scoped>\n",
       "    .dataframe tbody tr th:only-of-type {\n",
       "        vertical-align: middle;\n",
       "    }\n",
       "\n",
       "    .dataframe tbody tr th {\n",
       "        vertical-align: top;\n",
       "    }\n",
       "\n",
       "    .dataframe thead th {\n",
       "        text-align: right;\n",
       "    }\n",
       "</style>\n",
       "<table border=\"1\" class=\"dataframe\">\n",
       "  <thead>\n",
       "    <tr style=\"text-align: right;\">\n",
       "      <th></th>\n",
       "      <th>node1</th>\n",
       "      <th>label</th>\n",
       "      <th>node2</th>\n",
       "      <th>node1;label</th>\n",
       "      <th>node2;label</th>\n",
       "      <th>label;label</th>\n",
       "      <th>node1;pagerank</th>\n",
       "      <th>node2;pagerank</th>\n",
       "    </tr>\n",
       "  </thead>\n",
       "  <tbody>\n",
       "    <tr>\n",
       "      <th>0</th>\n",
       "      <td>P1005</td>\n",
       "      <td>P1552</td>\n",
       "      <td>Q26921380</td>\n",
       "      <td>'Portuguese National Library ID'@en</td>\n",
       "      <td>'VIAF component'@en</td>\n",
       "      <td>'has quality'@en</td>\n",
       "      <td>3.630733e-09</td>\n",
       "      <td>0.000004</td>\n",
       "    </tr>\n",
       "    <tr>\n",
       "      <th>1</th>\n",
       "      <td>P1006</td>\n",
       "      <td>P1552</td>\n",
       "      <td>Q26921380</td>\n",
       "      <td>'Nationale Thesaurus voor Auteurs ID'@en</td>\n",
       "      <td>'VIAF component'@en</td>\n",
       "      <td>'has quality'@en</td>\n",
       "      <td>7.545395e-08</td>\n",
       "      <td>0.000004</td>\n",
       "    </tr>\n",
       "    <tr>\n",
       "      <th>2</th>\n",
       "      <td>P1015</td>\n",
       "      <td>P1552</td>\n",
       "      <td>Q26921380</td>\n",
       "      <td>'NORAF ID'@en</td>\n",
       "      <td>'VIAF component'@en</td>\n",
       "      <td>'has quality'@en</td>\n",
       "      <td>3.637108e-09</td>\n",
       "      <td>0.000004</td>\n",
       "    </tr>\n",
       "    <tr>\n",
       "      <th>3</th>\n",
       "      <td>P1017</td>\n",
       "      <td>P1552</td>\n",
       "      <td>Q26921380</td>\n",
       "      <td>'Vatican Library ID'@en</td>\n",
       "      <td>'VIAF component'@en</td>\n",
       "      <td>'has quality'@en</td>\n",
       "      <td>2.345845e-07</td>\n",
       "      <td>0.000004</td>\n",
       "    </tr>\n",
       "    <tr>\n",
       "      <th>4</th>\n",
       "      <td>P1048</td>\n",
       "      <td>P1552</td>\n",
       "      <td>Q26921380</td>\n",
       "      <td>'NCL ID'@en</td>\n",
       "      <td>'VIAF component'@en</td>\n",
       "      <td>'has quality'@en</td>\n",
       "      <td>2.483013e-09</td>\n",
       "      <td>0.000004</td>\n",
       "    </tr>\n",
       "  </tbody>\n",
       "</table>\n",
       "</div>"
      ],
      "text/plain": [
       "   node1  label      node2                               node1;label  \\\n",
       "0  P1005  P1552  Q26921380       'Portuguese National Library ID'@en   \n",
       "1  P1006  P1552  Q26921380  'Nationale Thesaurus voor Auteurs ID'@en   \n",
       "2  P1015  P1552  Q26921380                             'NORAF ID'@en   \n",
       "3  P1017  P1552  Q26921380                   'Vatican Library ID'@en   \n",
       "4  P1048  P1552  Q26921380                               'NCL ID'@en   \n",
       "\n",
       "           node2;label       label;label  node1;pagerank  node2;pagerank  \n",
       "0  'VIAF component'@en  'has quality'@en    3.630733e-09        0.000004  \n",
       "1  'VIAF component'@en  'has quality'@en    7.545395e-08        0.000004  \n",
       "2  'VIAF component'@en  'has quality'@en    3.637108e-09        0.000004  \n",
       "3  'VIAF component'@en  'has quality'@en    2.345845e-07        0.000004  \n",
       "4  'VIAF component'@en  'has quality'@en    2.483013e-09        0.000004  "
      ]
     },
     "execution_count": 5,
     "metadata": {},
     "output_type": "execute_result"
    }
   ],
   "source": [
    "df.head()"
   ]
  },
  {
   "cell_type": "code",
   "execution_count": 6,
   "metadata": {},
   "outputs": [],
   "source": [
    "from tqdm import tqdm"
   ]
  },
  {
   "cell_type": "code",
   "execution_count": 7,
   "metadata": {},
   "outputs": [
    {
     "name": "stderr",
     "output_type": "stream",
     "text": [
      "100%|██████████| 8256446/8256446 [19:42<00:00, 6982.58it/s] \n"
     ]
    }
   ],
   "source": [
    "new_rows=[]\n",
    "for i, row in tqdm(df.iterrows(), total=df.shape[0]):\n",
    "    store=True\n",
    "    if row['node1;label']=='' or row['node2;label']=='' or not isinstance(row['node1;label'], str) or not isinstance(row['node2;label'], str): continue\n",
    "    node1_label=row['node1;label'].strip()[1:-4]\n",
    "    node2_label=row['node2;label'].strip()[1:-4]\n",
    "    if node1_label[0].islower() and node2_label[0].islower():\n",
    "        a_row=[*row[:6], \"\", \"\", \"WD\", \"\", \"\", \"\"] # copy id, node1, relation, node2, node1:label, node2:label, relation:label\n",
    "        a_row[3]=node1_label\n",
    "        a_row[4]=node2_label\n",
    "        new_rows.append(a_row)"
   ]
  },
  {
   "cell_type": "code",
   "execution_count": 9,
   "metadata": {},
   "outputs": [],
   "source": [
    "new_columns=['node1', 'relation', 'node2', 'node1;label', 'node2;label','relation;label', 'relation;dimension', 'weight', 'source', 'origin', 'sentence', 'question']"
   ]
  },
  {
   "cell_type": "code",
   "execution_count": 10,
   "metadata": {},
   "outputs": [],
   "source": [
    "df1=pd.DataFrame(new_rows, columns=new_columns)"
   ]
  },
  {
   "cell_type": "code",
   "execution_count": 13,
   "metadata": {},
   "outputs": [],
   "source": [
    "df1.to_csv('%s/kgtk_wikidata_concepts.tsv' % tmp_dir, index=False, sep='\\t', columns=new_columns)"
   ]
  },
  {
   "cell_type": "markdown",
   "metadata": {},
   "source": [
    "## Filter by usage"
   ]
  },
  {
   "cell_type": "code",
   "execution_count": 14,
   "metadata": {},
   "outputs": [],
   "source": [
    "from wordfreq import word_frequency"
   ]
  },
  {
   "cell_type": "code",
   "execution_count": 15,
   "metadata": {},
   "outputs": [],
   "source": [
    "threshold=1e-06"
   ]
  },
  {
   "cell_type": "code",
   "execution_count": 16,
   "metadata": {},
   "outputs": [
    {
     "data": {
      "text/plain": [
       "1255113"
      ]
     },
     "execution_count": 16,
     "metadata": {},
     "output_type": "execute_result"
    }
   ],
   "source": [
    "len(new_rows)"
   ]
  },
  {
   "cell_type": "code",
   "execution_count": 17,
   "metadata": {},
   "outputs": [],
   "source": [
    "filtered_rows=[]\n",
    "for a_row in new_rows:\n",
    "    node1_label=a_row[3]\n",
    "    node2_label=a_row[4]\n",
    "    wf1=word_frequency(node1_label, 'en')\n",
    "    wf2=word_frequency(node2_label, 'en')\n",
    "    if wf1 >=threshold and wf2>=threshold:\n",
    "        filtered_rows.append(a_row)\n",
    "#    elif wf1>lower_t and wf2>lower_t:\n",
    "#        print(node1_label, wf1, node2_label, wf2)"
   ]
  },
  {
   "cell_type": "code",
   "execution_count": 18,
   "metadata": {},
   "outputs": [
    {
     "data": {
      "text/plain": [
       "208062"
      ]
     },
     "execution_count": 18,
     "metadata": {},
     "output_type": "execute_result"
    }
   ],
   "source": [
    "len(filtered_rows)"
   ]
  },
  {
   "cell_type": "markdown",
   "metadata": {},
   "source": [
    "## Map relations"
   ]
  },
  {
   "cell_type": "code",
   "execution_count": 19,
   "metadata": {},
   "outputs": [],
   "source": [
    "mapping={'P1889': '/r/DistinctFrom', \n",
    "        'P461': '/r/Antonym', \n",
    "        'P31': '/r/IsA',\n",
    "        'P279': '/r/IsA',\n",
    "         'P463': '/r/PartOf',\n",
    "         'P186': '/r/MadeOf',\n",
    "         'P276': '/r/AtLocation',\n",
    "         'P170': '/r/CreatedBy',\n",
    "         'P366': '/r/UsedFor',\n",
    "         'P462': '/r/HasProperty',\n",
    "         'P1552': '/r/HasProperty',\n",
    "         'P1542': '/r/Causes'\n",
    "        }"
   ]
  },
  {
   "cell_type": "code",
   "execution_count": 20,
   "metadata": {},
   "outputs": [],
   "source": [
    "inverse_mapping={'P527': '/r/PartOf', \n",
    "                'P828': '/r/Causes'}"
   ]
  },
  {
   "cell_type": "code",
   "execution_count": 21,
   "metadata": {},
   "outputs": [],
   "source": [
    "from copy import copy"
   ]
  },
  {
   "cell_type": "code",
   "execution_count": 22,
   "metadata": {},
   "outputs": [
    {
     "ename": "NameError",
     "evalue": "name 'ready_rows' is not defined",
     "output_type": "error",
     "traceback": [
      "\u001b[0;31m---------------------------------------------------------------------------\u001b[0m",
      "\u001b[0;31mNameError\u001b[0m                                 Traceback (most recent call last)",
      "\u001b[0;32m<ipython-input-22-bfdade53ba1f>\u001b[0m in \u001b[0;36m<module>\u001b[0;34m\u001b[0m\n\u001b[1;32m      4\u001b[0m     \u001b[0;32mif\u001b[0m \u001b[0mrelation\u001b[0m \u001b[0;32min\u001b[0m \u001b[0mmapping\u001b[0m\u001b[0;34m.\u001b[0m\u001b[0mkeys\u001b[0m\u001b[0;34m(\u001b[0m\u001b[0;34m)\u001b[0m\u001b[0;34m:\u001b[0m\u001b[0;34m\u001b[0m\u001b[0;34m\u001b[0m\u001b[0m\n\u001b[1;32m      5\u001b[0m         \u001b[0mrow\u001b[0m\u001b[0;34m[\u001b[0m\u001b[0;36m1\u001b[0m\u001b[0;34m]\u001b[0m\u001b[0;34m=\u001b[0m\u001b[0mmapping\u001b[0m\u001b[0;34m[\u001b[0m\u001b[0mrow\u001b[0m\u001b[0;34m[\u001b[0m\u001b[0;36m1\u001b[0m\u001b[0;34m]\u001b[0m\u001b[0;34m]\u001b[0m\u001b[0;34m\u001b[0m\u001b[0;34m\u001b[0m\u001b[0m\n\u001b[0;32m----> 6\u001b[0;31m         \u001b[0mready_rows\u001b[0m\u001b[0;34m.\u001b[0m\u001b[0mappend\u001b[0m\u001b[0;34m(\u001b[0m\u001b[0mrow\u001b[0m\u001b[0;34m)\u001b[0m\u001b[0;34m\u001b[0m\u001b[0;34m\u001b[0m\u001b[0m\n\u001b[0m\u001b[1;32m      7\u001b[0m     \u001b[0;32melif\u001b[0m \u001b[0mrelation\u001b[0m \u001b[0;32min\u001b[0m \u001b[0minverse_mapping\u001b[0m\u001b[0;34m.\u001b[0m\u001b[0mkeys\u001b[0m\u001b[0;34m(\u001b[0m\u001b[0;34m)\u001b[0m\u001b[0;34m:\u001b[0m\u001b[0;34m\u001b[0m\u001b[0;34m\u001b[0m\u001b[0m\n\u001b[1;32m      8\u001b[0m         \u001b[0mrow\u001b[0m\u001b[0;34m[\u001b[0m\u001b[0;36m1\u001b[0m\u001b[0;34m]\u001b[0m\u001b[0;34m=\u001b[0m\u001b[0minverse_mapping\u001b[0m\u001b[0;34m[\u001b[0m\u001b[0mrow\u001b[0m\u001b[0;34m[\u001b[0m\u001b[0;36m1\u001b[0m\u001b[0;34m]\u001b[0m\u001b[0;34m]\u001b[0m\u001b[0;34m\u001b[0m\u001b[0;34m\u001b[0m\u001b[0m\n",
      "\u001b[0;31mNameError\u001b[0m: name 'ready_rows' is not defined"
     ]
    }
   ],
   "source": [
    "for a_row in filtered_rows:\n",
    "    row=copy(a_row)\n",
    "    relation=row[1]\n",
    "    if relation in mapping.keys():\n",
    "        row[1]=mapping[row[1]]\n",
    "        ready_rows.append(row)\n",
    "    elif relation in inverse_mapping.keys():\n",
    "        row[1]=inverse_mapping[row[1]]\n",
    "        tmp=row[0]\n",
    "        row[0]=row[2]\n",
    "        row[2]=tmp\n",
    "        ready_rows.append(row)\n",
    "    else:\n",
    "        print(row)\n",
    "        input('c')"
   ]
  },
  {
   "cell_type": "code",
   "execution_count": 2,
   "metadata": {},
   "outputs": [
    {
     "ename": "NameError",
     "evalue": "name 'filtered_rows' is not defined",
     "output_type": "error",
     "traceback": [
      "\u001b[0;31m---------------------------------------------------------------------------\u001b[0m",
      "\u001b[0;31mNameError\u001b[0m                                 Traceback (most recent call last)",
      "\u001b[0;32m<ipython-input-2-7f23a6267496>\u001b[0m in \u001b[0;36m<module>\u001b[0;34m\u001b[0m\n\u001b[0;32m----> 1\u001b[0;31m \u001b[0mlen\u001b[0m\u001b[0;34m(\u001b[0m\u001b[0mfiltered_rows\u001b[0m\u001b[0;34m)\u001b[0m\u001b[0;34m\u001b[0m\u001b[0;34m\u001b[0m\u001b[0m\n\u001b[0m",
      "\u001b[0;31mNameError\u001b[0m: name 'filtered_rows' is not defined"
     ]
    }
   ],
   "source": [
    "len(filtered_rows)"
   ]
  },
  {
   "cell_type": "code",
   "execution_count": 37,
   "metadata": {},
   "outputs": [],
   "source": [
    "df2=pd.DataFrame(ready_rows, columns=new_columns)"
   ]
  },
  {
   "cell_type": "code",
   "execution_count": 38,
   "metadata": {},
   "outputs": [
    {
     "data": {
      "text/plain": [
       "/r/IsA            187320\n",
       "/r/PartOf           8193\n",
       "/r/Antonym          3127\n",
       "/r/UsedFor          3080\n",
       "/r/MadeOf           2367\n",
       "/r/HasProperty      1782\n",
       "/r/Causes           1651\n",
       "/r/CreatedBy         369\n",
       "/r/AtLocation        173\n",
       "Name: relation, dtype: int64"
      ]
     },
     "execution_count": 38,
     "metadata": {},
     "output_type": "execute_result"
    }
   ],
   "source": [
    "df2['relation'].value_counts()"
   ]
  },
  {
   "cell_type": "code",
   "execution_count": 39,
   "metadata": {},
   "outputs": [],
   "source": [
    "df2.to_csv('%s/kgtk_wikidata_ready.tsv' % tmp_dir, index=False, sep='\\t', columns=new_columns)"
   ]
  },
  {
   "cell_type": "code",
   "execution_count": 40,
   "metadata": {},
   "outputs": [
    {
     "name": "stdout",
     "output_type": "stream",
     "text": [
      "           node1       relation      node2                                        node1;label                      node2;label relation;label relation;dimension weight source origin sentence question\n",
      "807      Q104499  /r/AtLocation       Q634                                  planetary science                           planet  'location'@en                               WD                         \n",
      "913    Q10480682  /r/AtLocation    Q175185                             agricultural structure                       rural area  'location'@en                               WD                         \n",
      "1044    Q1050571  /r/AtLocation  Q71180315                                            catcher                       home plate  'location'@en                               WD                         \n",
      "2003    Q1072280  /r/AtLocation    Q133215                                       casino token                           casino  'location'@en                               WD                         \n",
      "3486    Q1126251  /r/AtLocation     Q43164                                     food processor                          kitchen  'location'@en                               WD                         \n",
      "4245    Q1141278  /r/AtLocation  Q71417586                                          fair ball                   fair territory  'location'@en                               WD                         \n",
      "4392    Q1143358  /r/AtLocation  Q71431105                                          shortstop                       third base  'location'@en                               WD                         \n",
      "4393    Q1143358  /r/AtLocation  Q71431110                                          shortstop                      second base  'location'@en                               WD                         \n",
      "5989   Q11880995  /r/AtLocation   Q3395383                                      berry picking                agricultural land  'location'@en                               WD                         \n",
      "6124    Q1190910  /r/AtLocation     Q37017                                      facial makeup                             face  'location'@en                               WD                         \n",
      "6502     Q119830  /r/AtLocation      Q6311                                        solar flare               stellar atmosphere  'location'@en                               WD                         \n",
      "6768    Q1203642  /r/AtLocation    Q206717                                planetary migration                 planetary system  'location'@en                               WD                         \n",
      "7255    Q1210980  /r/AtLocation     Q43164                                             sponge                          kitchen  'location'@en                               WD                         \n",
      "7256    Q1210980  /r/AtLocation    Q628858                                             sponge                        workplace  'location'@en                               WD                         \n",
      "7515      Q12202  /r/AtLocation    Q492038                                             stroke                      human brain  'location'@en                               WD                         \n",
      "7730   Q12302883  /r/AtLocation   Q5307737                                        bar counter           drinking establishment  'location'@en                               WD                         \n",
      "8173     Q124946  /r/AtLocation   Q1107656                                          gardening                           garden  'location'@en                               WD                         \n",
      "8531    Q1261499  /r/AtLocation       Q165                                       naval battle                              sea  'location'@en                               WD                         \n",
      "9802     Q131696  /r/AtLocation    Q190771                                              towel                         bathroom  'location'@en                               WD                         \n",
      "9803     Q131696  /r/AtLocation     Q42177                                              towel                              bed  'location'@en                               WD                         \n",
      "9804     Q131696  /r/AtLocation     Q43164                                              towel                          kitchen  'location'@en                               WD                         \n",
      "9805     Q131696  /r/AtLocation    Q628858                                              towel                        workplace  'location'@en                               WD                         \n",
      "10143   Q1326154  /r/AtLocation  Q71287214                                      first baseman                       first base  'location'@en                               WD                         \n",
      "10940  Q13418006  /r/AtLocation    Q627236                                      company store                     company town  'location'@en                               WD                         \n",
      "11890   Q1368170  /r/AtLocation  Q71431105                                      third baseman                       third base  'location'@en                               WD                         \n",
      "11894   Q1368195  /r/AtLocation  Q71287214                                     second baseman                       first base  'location'@en                               WD                         \n",
      "11895   Q1368195  /r/AtLocation  Q71431110                                     second baseman                      second base  'location'@en                               WD                         \n",
      "12625    Q140565  /r/AtLocation    Q190771                                               sink                         bathroom  'location'@en                               WD                         \n",
      "12699  Q14085739  /r/AtLocation     Q15324                                            sailing                    body of water  'location'@en                               WD                         \n",
      "13245   Q1423981  /r/AtLocation    Q272730                                             airway                         airspace  'location'@en                               WD                         \n",
      "13662     Q14373  /r/AtLocation     Q15324                                            fishing                    body of water  'location'@en                               WD                         \n",
      "13891  Q14518514  /r/AtLocation    Q124282                                        yard cellar                             dock  'location'@en                               WD                         \n",
      "13892  Q14518514  /r/AtLocation    Q283202                                        yard cellar                           harbor  'location'@en                               WD                         \n",
      "13893  Q14518514  /r/AtLocation      Q4022                                        yard cellar                            river  'location'@en                               WD                         \n",
      "14426   Q1471432  /r/AtLocation      Q4169                                   space laboratory                      outer space  'location'@en                               WD                         \n",
      "15921     Q14890  /r/AtLocation     Q43164                                            toaster                          kitchen  'location'@en                               WD                         \n",
      "16562  Q14915208  /r/AtLocation     Q34442                                roadside attraction                             road  'location'@en                               WD                         \n",
      "16973     Q15026  /r/AtLocation   Q1299240                                              chair                   interior space  'location'@en                               WD                         \n",
      "17650     Q15179  /r/AtLocation  Q15332375                                          moustache                               up  'location'@en                               WD                         \n",
      "19192   Q1570432  /r/AtLocation   Q4168959                   semiconductor device fabrication  semiconductor fabrication plant  'location'@en                               WD                         \n",
      "19207  Q15706911  /r/AtLocation    Q559618                                   fictional object               fictional universe  'location'@en                               WD                         \n",
      "19668   Q1584373  /r/AtLocation      Q3230                        terrestrial gamma-ray flash              atmosphere of Earth  'location'@en                               WD                         \n",
      "21268     Q16491  /r/AtLocation  Q16886316                                           daylight                          indoors  'location'@en                               WD                         \n",
      "21269     Q16491  /r/AtLocation  Q16889140                                           daylight                         outdoors  'location'@en                               WD                         \n",
      "21484    Q165848  /r/AtLocation     Q15324                                          wind wave                    body of water  'location'@en                               WD                         \n",
      "21839   Q1667685  /r/AtLocation     Q43164                                          gas stove                          kitchen  'location'@en                               WD                         \n",
      "22229    Q168456  /r/AtLocation      Q7362                                            earring                              ear  'location'@en                               WD                         \n",
      "22590  Q16964393  /r/AtLocation    Q468756                                            sea air                            shore  'location'@en                               WD                         \n",
      "22681    Q169950  /r/AtLocation      Q4421                                           wildfire                           forest  'location'@en                               WD                         \n",
      "24936  Q17561165  /r/AtLocation  Q81212998                                      ox and donkey                  manger of Jesus  'location'@en                               WD                         \n",
      "25006   Q1757562  /r/AtLocation      Q8104                                      air transport                       atmosphere  'location'@en                               WD                         \n",
      "25810    Q178512  /r/AtLocation  Q41103453                                   public transport           public transport route  'location'@en                               WD                         \n",
      "26162    Q179643  /r/AtLocation   Q3246517                                  underwater diving                       underwater  'location'@en                               WD                         \n",
      "27133    Q182995  /r/AtLocation     Q43164                                      kitchen stove                          kitchen  'location'@en                               WD                         \n",
      "27690    Q184790  /r/AtLocation    Q179076                                subscription period                         exchange  'location'@en                               WD                         \n",
      "27718    Q184872  /r/AtLocation   Q2063507                                         recreation                  recreation area  'location'@en                               WD                         \n",
      "30148    Q188941  /r/AtLocation      Q7868                                         cell cycle                             cell  'location'@en                               WD                         \n",
      "31586    Q193592  /r/AtLocation  Q25447210                                         midfielder                         midfield  'location'@en                               WD                         \n",
      "32481   Q1970932  /r/AtLocation   Q3246517                                 underwater habitat                       underwater  'location'@en                               WD                         \n",
      "32484  Q19710423  /r/AtLocation    Q171448                           level crossing collision                   level crossing  'location'@en                               WD                         \n",
      "33081   Q1990797  /r/AtLocation    Q188869                                          scarecrow                            field  'location'@en                               WD                         \n",
      "33082   Q1990797  /r/AtLocation    Q624114                                          scarecrow                   kitchen garden  'location'@en                               WD                         \n",
      "33173  Q19936882  /r/AtLocation    Q265688              establishment of Pirate Party Germany                           c-base  'location'@en                               WD                         \n",
      "33373  Q20003383  /r/AtLocation     Q43164                                       kitchen sink                          kitchen  'location'@en                               WD                         \n",
      "35242   Q2079255  /r/AtLocation  Q13226383                                          scuba set                         facility  'location'@en                               WD                         \n",
      "35243   Q2079255  /r/AtLocation   Q3246517                                          scuba set                       underwater  'location'@en                               WD                         \n",
      "35288  Q20798585  /r/AtLocation  Q15952917                   equestrian statue of Joan of Arc                 episcopal palace  'location'@en                               WD                         \n",
      "35586    Q208594  /r/AtLocation        Q68                                         screenshot                         computer  'location'@en                               WD                         \n",
      "37912    Q211669  /r/AtLocation      Q9635                                         swallowing                            mouth  'location'@en                               WD                         \n",
      "38686    Q213449  /r/AtLocation     Q11707                                             eating                       restaurant  'location'@en                               WD                         \n",
      "38687    Q213449  /r/AtLocation     Q43164                                             eating                          kitchen  'location'@en                               WD                         \n",
      "38688    Q213449  /r/AtLocation    Q628858                                             eating                        workplace  'location'@en                               WD                         \n",
      "38689    Q213449  /r/AtLocation    Q661199                                             eating                      dining room  'location'@en                               WD                         \n",
      "40178   Q2193276  /r/AtLocation   Q1621256                  death of Diana, Princess of Wales                  pont de l\\'Alma  'location'@en                               WD                         \n",
      "40976  Q22270382  /r/AtLocation     Q15324                                           swimming                    body of water  'location'@en                               WD                         \n",
      "43803   Q2264369  /r/AtLocation     Q24354                                      front curtain                          theatre  'location'@en                               WD                         \n",
      "43950   Q2267705  /r/AtLocation     Q38723                                     field of study     higher education institution  'location'@en                               WD                         \n",
      "43951   Q2267705  /r/AtLocation      Q3918                                     field of study                       university  'location'@en                               WD                         \n",
      "45171    Q231663  /r/AtLocation   Q1472399                                  forced separation                  internet access  'location'@en                               WD                         \n",
      "46002   Q2369170  /r/AtLocation   Q3246517                                  underwater sports                       underwater  'location'@en                               WD                         \n",
      "46330   Q2383811  /r/AtLocation  Q12823105                                      office supply                           office  'location'@en                               WD                         \n",
      "49466   Q2563653  /r/AtLocation   Q2288876                                       farm camping              farm with camp site  'location'@en                               WD                         \n",
      "49565   Q2572947  /r/AtLocation    Q529688                                            lookout                     crow\\'s nest  'location'@en                               WD                         \n",
      "50586   Q2637814  /r/AtLocation   Q1299240                                    rack of shelves                   interior space  'location'@en                               WD                         \n",
      "50648    Q264234  /r/AtLocation   Q1378975              wrestling at the 1972 Summer Olympics                convention center  'location'@en                               WD                         \n",
      "50880    Q266488  /r/AtLocation   Q3308569                                          town sign                      city limits  'location'@en                               WD                         \n",
      "51327  Q26821237  /r/AtLocation   Q1851236  attempted assassination of Louis-Philippe of F...              boulevard du Temple  'location'@en                               WD                         \n",
      "52842  Q27761660  /r/AtLocation      Q8502                                     mountain storm                         mountain  'location'@en                               WD                         \n",
      "53351  Q27976507  /r/AtLocation    Q131183                                            cabaret                          cabaret  'location'@en                               WD                         \n",
      "55256    Q288514  /r/AtLocation  Q27150222                                               fair                      fair ground  'location'@en                               WD                         \n",
      "56505  Q29373536  /r/AtLocation   Q1658231                                   passive swimming                      water table  'location'@en                               WD                         \n",
      "56787  Q29531528  /r/AtLocation     Q43164                                        pasta maker                          kitchen  'location'@en                               WD                         \n",
      "56968  Q29591319  /r/AtLocation     Q11435                          object immersed in liquid                           liquid  'location'@en                               WD                         \n",
      "57071  Q29651519  /r/AtLocation       Q450                                      mental object                             mind  'location'@en                               WD                         \n",
      "57162    Q297376  /r/AtLocation   Q6018565                                       oil dilution                combustion engine  'location'@en                               WD                         \n",
      "57367  Q29876482  /r/AtLocation        Q68                                     computer model                         computer  'location'@en                               WD                         \n",
      "57511  Q29921717  /r/AtLocation    Q180846                               supermarket checkout                      supermarket  'location'@en                               WD                         \n",
      "57793     Q30014  /r/AtLocation   Q3962257                                       outer planet               outer solar system  'location'@en                               WD                         \n",
      "58096  Q30083170  /r/AtLocation  Q29325169                                 hedgehog on wheels         room 304, display case 8  'location'@en                               WD                         \n",
      "58129  Q30091312  /r/AtLocation  Q29348803                        bed with couple intertwined        room 304, display case 10  'location'@en                               WD                         \n"
     ]
    }
   ],
   "source": [
    "with pd.option_context('display.max_rows', None, 'display.width', 1000):  # more options can be specified also\n",
    "    print(df2[df2['relation']=='/r/AtLocation'].head(100))"
   ]
  },
  {
   "cell_type": "markdown",
   "metadata": {},
   "source": [
    "## Compute statistics"
   ]
  },
  {
   "cell_type": "code",
   "execution_count": 27,
   "metadata": {},
   "outputs": [],
   "source": [
    "%%bash\n",
    "kgtk graph_statistics --directed --degrees --pagerank --hits --log summary.txt -i tmp/wikidata20200504/kgtk_wikidata_ready.tsv > tmp/stats/wiki_stats.tsv\n"
   ]
  },
  {
   "cell_type": "code",
   "execution_count": 28,
   "metadata": {},
   "outputs": [
    {
     "name": "stdout",
     "output_type": "stream",
     "text": [
      "loading the TSV graph now ...\n",
      "graph loaded! It has 175128 nodes and 208062 edges\n",
      "\n",
      "###Top relations:\n",
      "P279\t187320\n",
      "P527\t8176\n",
      "P461\t3127\n",
      "P366\t3080\n",
      "P186\t2367\n",
      "P1552\t1782\n",
      "P828\t872\n",
      "P1542\t779\n",
      "P170\t369\n",
      "P276\t173\n",
      "\n",
      "###Degrees:\n",
      "in degree stats: mean=1.188057, std=0.491150, max=1\n",
      "out degree stats: mean=1.188057, std=0.001703, max=1\n",
      "total degree stats: mean=2.376113, std=0.491183, max=1\n",
      "\n",
      "###PageRank\n",
      "Max pageranks\n",
      "6664\tQ27096213\t0.017967\n",
      "3975\tQ8066\t0.019265\n",
      "2326\tQ17334923\t0.020543\n",
      "6126\tQ35120\t0.026408\n",
      "3453\tQ8054\t0.079477\n",
      "\n",
      "###HITS\n",
      "HITS hubs\n",
      "1760\tQ127980\t0.000023\n",
      "394\tQ2095\t0.000023\n",
      "424\tQ283\t0.000058\n",
      "37097\tQ2449730\t0.000535\n",
      "3453\tQ8054\t1.000000\n",
      "HITS auth\n",
      "120195\tQ62650194\t0.003412\n",
      "118028\tQ62633105\t0.003412\n",
      "117796\tQ62631641\t0.003412\n",
      "120090\tQ62649439\t0.003412\n",
      "118937\tQ62639082\t0.003412\n"
     ]
    }
   ],
   "source": [
    "%%bash\n",
    "cat summary.txt"
   ]
  },
  {
   "cell_type": "code",
   "execution_count": null,
   "metadata": {},
   "outputs": [],
   "source": []
  }
 ],
 "metadata": {
  "kernelspec": {
   "display_name": "Python 3",
   "language": "python",
   "name": "python3"
  },
  "language_info": {
   "codemirror_mode": {
    "name": "ipython",
    "version": 3
   },
   "file_extension": ".py",
   "mimetype": "text/x-python",
   "name": "python",
   "nbconvert_exporter": "python",
   "pygments_lexer": "ipython3",
   "version": "3.7.7"
  }
 },
 "nbformat": 4,
 "nbformat_minor": 4
}
