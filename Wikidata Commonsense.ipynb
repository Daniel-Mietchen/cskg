{
 "cells": [
  {
   "cell_type": "markdown",
   "metadata": {},
   "source": [
    "# Extracting commonsense knowledge from Wikidata"
   ]
  },
  {
   "cell_type": "markdown",
   "metadata": {},
   "source": [
    "## Define relevant properties"
   ]
  },
  {
   "cell_type": "code",
   "execution_count": null,
   "metadata": {},
   "outputs": [],
   "source": [
    "%env properties=\"P1889,P461,P527,P186,P463,P276,P170,P366,P279,P1552,P828,P1542,P462\" #,P31\""
   ]
  },
  {
   "cell_type": "markdown",
   "metadata": {},
   "source": [
    "## Filter relevant properties"
   ]
  },
  {
   "cell_type": "code",
   "execution_count": null,
   "metadata": {},
   "outputs": [],
   "source": [
    "%%bash\n",
    "kgtk filter -p \" ; $properties ; \" input/wikidata/wikidata_edges_20200504.tsv.gz > tmp/kgtk_wikidata_filter.tsv"
   ]
  },
  {
   "cell_type": "markdown",
   "metadata": {},
   "source": [
    "## Remove columns"
   ]
  },
  {
   "cell_type": "code",
   "execution_count": 1,
   "metadata": {},
   "outputs": [
    {
     "name": "stdout",
     "output_type": "stream",
     "text": [
      "env: ignore_cols=rank,node2;magnitude,node2;unit,node2;item,node2;lower,node2;upper,node2;entity-type,node2;longitude,node2;latitude,node2;date,node2;calendar,node2;precision\n"
     ]
    }
   ],
   "source": [
    "%env ignore_cols=rank,node2;magnitude,node2;unit,node2;item,node2;lower,node2;upper,node2;entity-type,node2;longitude,node2;latitude,node2;date,node2;calendar,node2;precision"
   ]
  },
  {
   "cell_type": "code",
   "execution_count": 2,
   "metadata": {},
   "outputs": [],
   "source": [
    "%%bash\n",
    "kgtk remove_columns -c \"$ignore_cols\" -i tmp/kgtk_wikidata_filter.tsv > tmp/kgtk_wikidata_cols.tsv"
   ]
  },
  {
   "cell_type": "markdown",
   "metadata": {},
   "source": [
    "## Deduplicate"
   ]
  },
  {
   "cell_type": "code",
   "execution_count": 3,
   "metadata": {},
   "outputs": [],
   "source": [
    "%%bash\n",
    "kgtk compact -i tmp/kgtk_wikidata_cols.tsv -o tmp/kgtk_wikidata_compact.tsv"
   ]
  },
  {
   "cell_type": "markdown",
   "metadata": {},
   "source": [
    "## Add labels"
   ]
  },
  {
   "cell_type": "code",
   "execution_count": 4,
   "metadata": {},
   "outputs": [
    {
     "name": "stderr",
     "output_type": "stream",
     "text": [
      "Opening the input file: tmp/kgtk_wikidata_compact.tsv\n",
      "KgtkReader: File_path.suffix: .tsv\n",
      "KgtkReader: reading file tmp/kgtk_wikidata_compact.tsv\n",
      "header: id\tnode1\tlabel\tnode2\n",
      "node1 column found, this is a KGTK edge file\n",
      "KgtkReader: Special columns: node1=1 label=2 node2=3 id=0\n",
      "KgtkReader: Reading an edge file.\n",
      "Opening the label file: input/wikidata/wiki_labels.tsv\n",
      "KgtkReader: File_path.suffix: .tsv\n",
      "KgtkReader: reading file input/wikidata/wiki_labels.tsv\n",
      "header: node1\tlabel\tnode2\n",
      "node1 column found, this is a KGTK edge file\n",
      "KgtkReader: Special columns: node1=0 label=1 node2=2 id=-1\n",
      "KgtkReader: Reading an edge file.\n",
      "Lifting with in-memory buffering.\n",
      "Reading input data to prefilter the labels.\n",
      "Loading input rows without labels from tmp/kgtk_wikidata_compact.tsv\n",
      "Labels needed: 5611919\n",
      "Loading labels from the label file.\n",
      "Loading labels from input/wikidata/wiki_labels.tsv\n",
      "Filtering for needed labels\n",
      "label_match_column_idx=0 (node1).\n",
      "label_select_column_idx=1 (label).\n",
      "label_value_column_idx=2 (node2).\n",
      "label_select_column_value='label'.\n",
      "Opening the output file: tmp/kgtk_wikidata.tsv\n",
      "File_path.suffix: .tsv\n",
      "KgtkWriter: writing file tmp/kgtk_wikidata.tsv\n",
      "header: id\tnode1\tlabel\tnode2\tnode1;label\tnode2;label\tlabel;label\n",
      "Writing output records\n",
      "Read 8262087 non-label input records.\n",
      "4581314 labels were found.\n",
      "Wrote 8262087 records.\n"
     ]
    }
   ],
   "source": [
    "%%bash\n",
    "kgtk --debug lift --verbose \\\n",
    "     --input-file tmp/kgtk_wikidata_compact.tsv \\\n",
    "     --label-file input/wikidata/wiki_labels.tsv \\\n",
    "     --output-file tmp/kgtk_wikidata.tsv \\\n",
    "     --columns-to-lift node1 node2 label \\\n",
    "     --prefilter-labels"
   ]
  },
  {
   "cell_type": "markdown",
   "metadata": {},
   "source": [
    "## Add PageRank"
   ]
  },
  {
   "cell_type": "code",
   "execution_count": 5,
   "metadata": {},
   "outputs": [
    {
     "name": "stderr",
     "output_type": "stream",
     "text": [
      "Opening the input file: tmp/kgtk_wikidata.tsv\n",
      "KgtkReader: File_path.suffix: .tsv\n",
      "KgtkReader: reading file tmp/kgtk_wikidata.tsv\n",
      "header: id\tnode1\tlabel\tnode2\tnode1;label\tnode2;label\tlabel;label\n",
      "node1 column found, this is a KGTK edge file\n",
      "KgtkReader: Special columns: node1=1 label=2 node2=3 id=0\n",
      "KgtkReader: Reading an edge file.\n",
      "Opening the label file: input/wikidata/wikidata-pagerank-only-sorted2.tsv\n",
      "KgtkReader: File_path.suffix: .tsv\n",
      "KgtkReader: reading file input/wikidata/wikidata-pagerank-only-sorted2.tsv\n",
      "header: node1\trelation\tnode2\tid\n",
      "node1 column found, this is a KGTK edge file\n",
      "KgtkReader: Special columns: node1=0 label=1 node2=2 id=3\n",
      "KgtkReader: Reading an edge file.\n",
      "Lifting with in-memory buffering.\n",
      "Reading input data to prefilter the labels.\n",
      "Loading input rows without labels from tmp/kgtk_wikidata.tsv\n",
      "Labels needed: 5611908\n",
      "Loading labels from the label file.\n",
      "Loading labels from input/wikidata/wikidata-pagerank-only-sorted2.tsv\n",
      "Filtering for needed labels\n",
      "label_match_column_idx=0 (node1).\n",
      "label_select_column_idx=1 (relation).\n",
      "label_value_column_idx=2 (node2).\n",
      "label_select_column_value='vertex_pagerank'.\n",
      "Opening the output file: tmp/kgtk_wikidata_with_pr.tsv\n",
      "File_path.suffix: .tsv\n",
      "KgtkWriter: writing file tmp/kgtk_wikidata_with_pr.tsv\n",
      "header: id\tnode1\tlabel\tnode2\tnode1;label\tnode2;label\tlabel;label\tnode1;pagerank\tnode2;pagerank\n",
      "Writing output records\n",
      "Read 8262087 non-label input records.\n",
      "5608723 labels were found.\n",
      "Wrote 8262087 records.\n"
     ]
    }
   ],
   "source": [
    "%%bash\n",
    "kgtk --debug lift --verbose \\\n",
    "     --input-file tmp/kgtk_wikidata.tsv \\\n",
    "     --label-file input/wikidata/wikidata-pagerank-only-sorted2.tsv \\\n",
    "     --output-file tmp/kgtk_wikidata_with_pr.tsv \\\n",
    "     --columns-to-lift node1 node2 \\\n",
    "     --property vertex_pagerank \\\n",
    "     --lift-suffix \";pagerank\" \\\n",
    "     --prefilter-labels"
   ]
  },
  {
   "cell_type": "markdown",
   "metadata": {},
   "source": [
    "## Filter on PageRank"
   ]
  },
  {
   "cell_type": "code",
   "execution_count": 6,
   "metadata": {},
   "outputs": [],
   "source": [
    "import pandas as pd\n",
    "df=pd.read_csv('tmp/kgtk_wikidata_with_pr.tsv', sep='\\t')"
   ]
  },
  {
   "cell_type": "code",
   "execution_count": 7,
   "metadata": {},
   "outputs": [
    {
     "data": {
      "text/plain": [
       "8262087"
      ]
     },
     "execution_count": 7,
     "metadata": {},
     "output_type": "execute_result"
    }
   ],
   "source": [
    "len(df)"
   ]
  },
  {
   "cell_type": "code",
   "execution_count": 8,
   "metadata": {},
   "outputs": [
    {
     "data": {
      "text/html": [
       "<div>\n",
       "<style scoped>\n",
       "    .dataframe tbody tr th:only-of-type {\n",
       "        vertical-align: middle;\n",
       "    }\n",
       "\n",
       "    .dataframe tbody tr th {\n",
       "        vertical-align: top;\n",
       "    }\n",
       "\n",
       "    .dataframe thead th {\n",
       "        text-align: right;\n",
       "    }\n",
       "</style>\n",
       "<table border=\"1\" class=\"dataframe\">\n",
       "  <thead>\n",
       "    <tr style=\"text-align: right;\">\n",
       "      <th></th>\n",
       "      <th>id</th>\n",
       "      <th>node1</th>\n",
       "      <th>label</th>\n",
       "      <th>node2</th>\n",
       "      <th>node1;label</th>\n",
       "      <th>node2;label</th>\n",
       "      <th>label;label</th>\n",
       "      <th>node1;pagerank</th>\n",
       "      <th>node2;pagerank</th>\n",
       "    </tr>\n",
       "  </thead>\n",
       "  <tbody>\n",
       "    <tr>\n",
       "      <th>0</th>\n",
       "      <td>P1005-P1552-1</td>\n",
       "      <td>P1005</td>\n",
       "      <td>P1552</td>\n",
       "      <td>Q26921380</td>\n",
       "      <td>'Portuguese National Library ID'@en</td>\n",
       "      <td>'VIAF component'@en</td>\n",
       "      <td>'has quality'@en</td>\n",
       "      <td>3.630733e-09</td>\n",
       "      <td>0.000004</td>\n",
       "    </tr>\n",
       "    <tr>\n",
       "      <th>1</th>\n",
       "      <td>P1006-P1552-1</td>\n",
       "      <td>P1006</td>\n",
       "      <td>P1552</td>\n",
       "      <td>Q26921380</td>\n",
       "      <td>'Nationale Thesaurus voor Auteurs ID'@en</td>\n",
       "      <td>'VIAF component'@en</td>\n",
       "      <td>'has quality'@en</td>\n",
       "      <td>7.545395e-08</td>\n",
       "      <td>0.000004</td>\n",
       "    </tr>\n",
       "    <tr>\n",
       "      <th>2</th>\n",
       "      <td>P1015-P1552-1</td>\n",
       "      <td>P1015</td>\n",
       "      <td>P1552</td>\n",
       "      <td>Q26921380</td>\n",
       "      <td>'NORAF ID'@en</td>\n",
       "      <td>'VIAF component'@en</td>\n",
       "      <td>'has quality'@en</td>\n",
       "      <td>3.637108e-09</td>\n",
       "      <td>0.000004</td>\n",
       "    </tr>\n",
       "    <tr>\n",
       "      <th>3</th>\n",
       "      <td>P1017-P1552-1</td>\n",
       "      <td>P1017</td>\n",
       "      <td>P1552</td>\n",
       "      <td>Q26921380</td>\n",
       "      <td>'Vatican Library ID'@en</td>\n",
       "      <td>'VIAF component'@en</td>\n",
       "      <td>'has quality'@en</td>\n",
       "      <td>2.345845e-07</td>\n",
       "      <td>0.000004</td>\n",
       "    </tr>\n",
       "    <tr>\n",
       "      <th>4</th>\n",
       "      <td>P1048-P1552-1</td>\n",
       "      <td>P1048</td>\n",
       "      <td>P1552</td>\n",
       "      <td>Q26921380</td>\n",
       "      <td>'NCL ID'@en</td>\n",
       "      <td>'VIAF component'@en</td>\n",
       "      <td>'has quality'@en</td>\n",
       "      <td>2.483013e-09</td>\n",
       "      <td>0.000004</td>\n",
       "    </tr>\n",
       "  </tbody>\n",
       "</table>\n",
       "</div>"
      ],
      "text/plain": [
       "              id  node1  label      node2  \\\n",
       "0  P1005-P1552-1  P1005  P1552  Q26921380   \n",
       "1  P1006-P1552-1  P1006  P1552  Q26921380   \n",
       "2  P1015-P1552-1  P1015  P1552  Q26921380   \n",
       "3  P1017-P1552-1  P1017  P1552  Q26921380   \n",
       "4  P1048-P1552-1  P1048  P1552  Q26921380   \n",
       "\n",
       "                                node1;label          node2;label  \\\n",
       "0       'Portuguese National Library ID'@en  'VIAF component'@en   \n",
       "1  'Nationale Thesaurus voor Auteurs ID'@en  'VIAF component'@en   \n",
       "2                             'NORAF ID'@en  'VIAF component'@en   \n",
       "3                   'Vatican Library ID'@en  'VIAF component'@en   \n",
       "4                               'NCL ID'@en  'VIAF component'@en   \n",
       "\n",
       "        label;label  node1;pagerank  node2;pagerank  \n",
       "0  'has quality'@en    3.630733e-09        0.000004  \n",
       "1  'has quality'@en    7.545395e-08        0.000004  \n",
       "2  'has quality'@en    3.637108e-09        0.000004  \n",
       "3  'has quality'@en    2.345845e-07        0.000004  \n",
       "4  'has quality'@en    2.483013e-09        0.000004  "
      ]
     },
     "execution_count": 8,
     "metadata": {},
     "output_type": "execute_result"
    }
   ],
   "source": [
    "df.head()"
   ]
  },
  {
   "cell_type": "code",
   "execution_count": 9,
   "metadata": {},
   "outputs": [],
   "source": [
    "limit=1.419947235126343e-08 # PageRank of the 752876th most popular node"
   ]
  },
  {
   "cell_type": "code",
   "execution_count": 10,
   "metadata": {},
   "outputs": [],
   "source": [
    "cols=['node1;pagerank', 'node2;pagerank']"
   ]
  },
  {
   "cell_type": "code",
   "execution_count": null,
   "metadata": {},
   "outputs": [],
   "source": [
    "new_rows=[]\n",
    "for i, row in df.iterrows():\n",
    "    store=True\n",
    "    for c in cols:\n",
    "        if row[c]<limit:\n",
    "            store=False\n",
    "    if store:\n",
    "        a_row=[*row[:7], \"\", \"\", \"WD\", \"\", \"\", \"\"] # copy id, node1, relation, node2, node1:label, node2:label, relation:label\n",
    "        new_rows.append(a_row)"
   ]
  },
  {
   "cell_type": "code",
   "execution_count": null,
   "metadata": {},
   "outputs": [],
   "source": [
    "new_columns=['node1', 'relation', 'node2', 'node1;label', 'node2;label','relation;label', 'relation;dimension', 'weight', 'source', 'origin', 'sentence', 'question']"
   ]
  },
  {
   "cell_type": "code",
   "execution_count": null,
   "metadata": {},
   "outputs": [],
   "source": [
    "df2=pd.DataFrame(new_rows, columns=new_columns)"
   ]
  },
  {
   "cell_type": "code",
   "execution_count": null,
   "metadata": {},
   "outputs": [],
   "source": [
    "df2['label'].value_counts()"
   ]
  },
  {
   "cell_type": "code",
   "execution_count": null,
   "metadata": {},
   "outputs": [],
   "source": [
    "df2.to_csv('tmp/kgtk_wikidata_ready.tsv', index=False, sep='\\t', columns=df.columns)"
   ]
  },
  {
   "cell_type": "markdown",
   "metadata": {},
   "source": [
    "## Compute statistics"
   ]
  },
  {
   "cell_type": "code",
   "execution_count": null,
   "metadata": {},
   "outputs": [],
   "source": [
    "%%bash\n",
    "kgtk graph_statistics --directed --degrees --pagerank --hits --log p463_summary.txt -i tmp/kgtk_wikidata_ready.tsv > tmp/stats/wiki_stats.tsv"
   ]
  }
 ],
 "metadata": {
  "kernelspec": {
   "display_name": "Python 3",
   "language": "python",
   "name": "python3"
  },
  "language_info": {
   "codemirror_mode": {
    "name": "ipython",
    "version": 3
   },
   "file_extension": ".py",
   "mimetype": "text/x-python",
   "name": "python",
   "nbconvert_exporter": "python",
   "pygments_lexer": "ipython3",
   "version": "3.7.7"
  }
 },
 "nbformat": 4,
 "nbformat_minor": 4
}
