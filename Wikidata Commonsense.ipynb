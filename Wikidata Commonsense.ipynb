{
 "cells": [
  {
   "cell_type": "markdown",
   "metadata": {},
   "source": [
    "# Extracting commonsense knowledge from Wikidata"
   ]
  },
  {
   "cell_type": "markdown",
   "metadata": {},
   "source": [
    "## Define files"
   ]
  },
  {
   "cell_type": "code",
   "execution_count": 1,
   "metadata": {},
   "outputs": [],
   "source": [
    "year='2018'"
   ]
  },
  {
   "cell_type": "code",
   "execution_count": 6,
   "metadata": {},
   "outputs": [],
   "source": [
    "if year=='2020':\n",
    "    data_dir='input/wikidata-20200504'\n",
    "    edge_file='%s/wikidata_edges_20200504.tsv' % data_dir\n",
    "    node_file='%s/wikidata_nodes_20200504_clean.tsv' % data_dir\n",
    "    tmp_dir='tmp/wikidata20200504'\n",
    "elif year=='2017':\n",
    "    data_dir='input/wikidata-20171227'\n",
    "    edge_file='%s/wikidata20171227-all-edges.tsv' % data_dir\n",
    "    node_file='%s/wikidata20171227-all-nodes.tsv' % data_dir\n",
    "    tmp_dir='tmp/wikidata20171227'\n",
    "elif year=='2018':\n",
    "    data_dir='input/wikidata-20181210'\n",
    "    edge_file='%s/wikidata-20181210-all-edges.tsv' % data_dir\n",
    "    node_file='%s/wikidata-20181210-all-nodes.tsv' % data_dir\n",
    "    tmp_dir='tmp/wikidata20181210'\n",
    "\n",
    "\n",
    "trimmed_edge_file='%s/edges_trimmed.tsv' % tmp_dir\n",
    "concept_file='%s/concepts.tsv' % tmp_dir\n",
    "concepts_edge_file='%s/concept_edges.tsv' % tmp_dir\n",
    "compact_concepts_edge_file='%s/compact_concept_edges.tsv' % tmp_dir\n",
    "concept_edges_with_labels_file='%s/compact_concept_edges_with_labels.tsv' % tmp_dir\n",
    "usage_file='%s/usage.tsv' % tmp_dir\n",
    "ready_file='%s/wikidata_cs.tsv' % tmp_dir\n",
    "stats_file='%s/stats.tsv' % tmp_dir"
   ]
  },
  {
   "cell_type": "code",
   "execution_count": 7,
   "metadata": {},
   "outputs": [],
   "source": [
    "%%bash -s \"$tmp_dir\"\n",
    "mkdir -p $1"
   ]
  },
  {
   "cell_type": "markdown",
   "metadata": {},
   "source": [
    "## Step I: Filter out named entities"
   ]
  },
  {
   "cell_type": "markdown",
   "metadata": {},
   "source": [
    "### Extract concept nodes"
   ]
  },
  {
   "cell_type": "code",
   "execution_count": 8,
   "metadata": {},
   "outputs": [],
   "source": [
    "from tqdm import tqdm\n",
    "import pandas as pd"
   ]
  },
  {
   "cell_type": "code",
   "execution_count": 9,
   "metadata": {},
   "outputs": [
    {
     "name": "stderr",
     "output_type": "stream",
     "text": [
      " 63%|██████▎   | 53004762/84000000 [01:09<00:40, 763962.97it/s]\n"
     ]
    }
   ],
   "source": [
    "concepts=set()\n",
    "with open(node_file, 'r') as f:\n",
    "    header=next(f)\n",
    "    for line in tqdm(f, total=84000000):\n",
    "        data=line.split('\\t')\n",
    "        label=data[1].strip()\n",
    "        if label=='' or not isinstance(label, str): continue\n",
    "        label=label[1:-4]\n",
    "        if label[0].islower():\n",
    "            node_id=data[0]\n",
    "            concepts.add(node_id)"
   ]
  },
  {
   "cell_type": "code",
   "execution_count": 10,
   "metadata": {},
   "outputs": [
    {
     "data": {
      "text/plain": [
       "946945"
      ]
     },
     "execution_count": 10,
     "metadata": {},
     "output_type": "execute_result"
    }
   ],
   "source": [
    "len(concepts)"
   ]
  },
  {
   "cell_type": "code",
   "execution_count": 11,
   "metadata": {},
   "outputs": [],
   "source": [
    "with open(concept_file, 'w') as w:\n",
    "    w.write('id\\n')\n",
    "    for c in concepts:\n",
    "        w.write('%s\\n' % c)"
   ]
  },
  {
   "cell_type": "markdown",
   "metadata": {},
   "source": [
    "### Only keep edges with relevant nodes and trim columns"
   ]
  },
  {
   "cell_type": "code",
   "execution_count": 12,
   "metadata": {},
   "outputs": [
    {
     "name": "stdout",
     "output_type": "stream",
     "text": [
      "env: ignore_cols=rank\n"
     ]
    }
   ],
   "source": [
    "%env ignore_cols=rank\n",
    "#%env ignore_cols=id,rank,node2;magnitude,node2;unit,node2;item,node2;lower,node2;upper,node2;entity-type,node2;longitude,node2;latitude,node2;date,node2;calendar,node2;precision"
   ]
  },
  {
   "cell_type": "code",
   "execution_count": 13,
   "metadata": {},
   "outputs": [],
   "source": [
    "%%bash -s \"$edge_file\" \"$concept_file\" \"$concepts_edge_file\"\n",
    "kgtk ifexists $1 --filter-on $2 / ifexists --filter-on $2 --input-keys node2 > $3"
   ]
  },
  {
   "cell_type": "code",
   "execution_count": 14,
   "metadata": {},
   "outputs": [],
   "source": [
    "%%bash -s \"$concepts_edge_file\" \"$trimmed_edge_file\"\n",
    "kgtk remove_columns -i $1 -c \"$ignore_cols\" > $2"
   ]
  },
  {
   "cell_type": "markdown",
   "metadata": {},
   "source": [
    "### Deduplicate"
   ]
  },
  {
   "cell_type": "code",
   "execution_count": 15,
   "metadata": {},
   "outputs": [],
   "source": [
    "df=pd.read_csv(trimmed_edge_file, sep='\\t')"
   ]
  },
  {
   "cell_type": "code",
   "execution_count": 16,
   "metadata": {},
   "outputs": [
    {
     "data": {
      "text/plain": [
       "2065872"
      ]
     },
     "execution_count": 16,
     "metadata": {},
     "output_type": "execute_result"
    }
   ],
   "source": [
    "len(df)"
   ]
  },
  {
   "cell_type": "markdown",
   "metadata": {},
   "source": [
    "### Add labels"
   ]
  },
  {
   "cell_type": "code",
   "execution_count": 17,
   "metadata": {},
   "outputs": [
    {
     "name": "stderr",
     "output_type": "stream",
     "text": [
      "Opening the input file: tmp/wikidata20181210/edges_trimmed.tsv\n",
      "KgtkReader: File_path.suffix: .tsv\n",
      "KgtkReader: reading file tmp/wikidata20181210/edges_trimmed.tsv\n",
      "header: id\tnode1\tlabel\tnode2\n",
      "node1 column found, this is a KGTK edge file\n",
      "KgtkReader: Special columns: node1=1 label=2 node2=3 id=0\n",
      "KgtkReader: Reading an edge file.\n",
      "Opening the label file: input/wikidata-20181210/wikidata-20181210-all-nodes.tsv\n",
      "KgtkReader: File_path.suffix: .tsv\n",
      "KgtkReader: reading file input/wikidata-20181210/wikidata-20181210-all-nodes.tsv\n",
      "header: id\tlabel\ttype\tdescription\talias\n",
      "node1 column not found, assuming this is a KGTK node file\n",
      "KgtkReader: Special columns: node1=-1 label=1 node2=-1 id=0\n",
      "KgtkReader: Reading an node file.\n",
      "Lifting with in-memory buffering.\n",
      "Reading input data to prefilter the labels.\n",
      "Loading input rows without labels from tmp/wikidata20181210/edges_trimmed.tsv\n",
      "Labels needed: 800378\n",
      "Loading labels from the label file.\n",
      "The label file is a node file, defaulting to the ID column for the match column.\n",
      "The label file is a node file, defaulting to no label select column.\n",
      "Loading labels from input/wikidata-20181210/wikidata-20181210-all-nodes.tsv\n",
      "Filtering for needed labels\n",
      "label_match_column_idx=0 (id).\n",
      "label_select_column_idx=-1.\n",
      "label_value_column_idx=1 (label).\n",
      "label_select_column_value='label'.\n",
      "Opening the output file: tmp/wikidata20181210/compact_concept_edges_with_labels.tsv\n",
      "File_path.suffix: .tsv\n",
      "KgtkWriter: writing file tmp/wikidata20181210/compact_concept_edges_with_labels.tsv\n",
      "header: id\tnode1\tlabel\tnode2\tnode1;label\tnode2;label\tlabel;label\n",
      "Writing output records\n",
      "Read 2065872 non-label input records.\n",
      "800378 labels were found.\n",
      "Wrote 2065872 records.\n"
     ]
    }
   ],
   "source": [
    "%%bash -s \"$trimmed_edge_file\" \"$node_file\" \"$concept_edges_with_labels_file\"\n",
    "kgtk --debug lift --verbose \\\n",
    "     --input-file $1 \\\n",
    "     --label-file $2 \\\n",
    "     --output-file $3 \\\n",
    "     --columns-to-lift node1 node2 label \\\n",
    "     --prefilter-labels \\\n",
    "     --label-value-column label \\\n",
    "     --expert"
   ]
  },
  {
   "cell_type": "markdown",
   "metadata": {},
   "source": [
    "## Step II: Filter by usage"
   ]
  },
  {
   "cell_type": "code",
   "execution_count": 18,
   "metadata": {},
   "outputs": [],
   "source": [
    "from wordfreq import word_frequency"
   ]
  },
  {
   "cell_type": "code",
   "execution_count": 19,
   "metadata": {},
   "outputs": [],
   "source": [
    "threshold=1e-06"
   ]
  },
  {
   "cell_type": "code",
   "execution_count": 20,
   "metadata": {},
   "outputs": [
    {
     "name": "stderr",
     "output_type": "stream",
     "text": [
      " 59%|█████▉    | 2065872/3500000 [00:18<00:12, 112048.74it/s]\n"
     ]
    }
   ],
   "source": [
    "filtered_rows=[]\n",
    "rels=[]\n",
    "with open(concept_edges_with_labels_file, 'r') as f:\n",
    "    header=next(f).split('\\t')\n",
    "    if len(header)>6:\n",
    "        header=header[1:]\n",
    "    for line in tqdm(f, total=3500000):\n",
    "        a_row=line.strip().split('\\t')\n",
    "        if year in ['2017', '2018']:\n",
    "            a_row=a_row[1:]\n",
    "            \n",
    "        node1_label=a_row[3][1:-4]\n",
    "        node2_label=a_row[4][1:-4]\n",
    "#        print(node1_label, node2_label)\n",
    "#        input('c')\n",
    "        if (any(x.isupper() for x in node1_label) or any(x.isupper() for x in node2_label)): continue\n",
    "        wf1=word_frequency(node1_label, 'en')\n",
    "        if wf1 >=threshold:\n",
    "            wf2=word_frequency(node2_label, 'en')\n",
    "            if wf2>=threshold:\n",
    "                filtered_rows.append(a_row)\n",
    "                rel='%s (%s)' % (a_row[5].strip()[1:-4], a_row[1])\n",
    "                rels.append(rel)"
   ]
  },
  {
   "cell_type": "code",
   "execution_count": 21,
   "metadata": {},
   "outputs": [
    {
     "data": {
      "text/plain": [
       "160387"
      ]
     },
     "execution_count": 21,
     "metadata": {},
     "output_type": "execute_result"
    }
   ],
   "source": [
    "len(filtered_rows)"
   ]
  },
  {
   "cell_type": "code",
   "execution_count": 22,
   "metadata": {},
   "outputs": [],
   "source": [
    "from collections import Counter"
   ]
  },
  {
   "cell_type": "code",
   "execution_count": 23,
   "metadata": {},
   "outputs": [],
   "source": [
    "dist_rels=Counter(rels)"
   ]
  },
  {
   "cell_type": "code",
   "execution_count": 24,
   "metadata": {},
   "outputs": [
    {
     "data": {
      "text/plain": [
       "349"
      ]
     },
     "execution_count": 24,
     "metadata": {},
     "output_type": "execute_result"
    }
   ],
   "source": [
    "len(dist_rels)"
   ]
  },
  {
   "cell_type": "code",
   "execution_count": 25,
   "metadata": {},
   "outputs": [
    {
     "name": "stdout",
     "output_type": "stream",
     "text": [
      "subclass of (P279) 59382\n",
      "instance of (P31) 39041\n",
      "part of (P361) 5711\n",
      "has part (P527) 4972\n",
      "property constraint (P2302) 4418\n",
      "different from (P1889) 3214\n",
      "facet of (P1269) 2695\n",
      "opposite of (P461) 2179\n",
      "followed by (P156) 2078\n",
      "follows (P155) 2071\n",
      "use (P366) 1880\n",
      "properties for this type (P1963) 1823\n",
      "sport (P641) 1772\n",
      "see also (P1659) 1772\n",
      "is a list of (P360) 1639\n",
      "regulates (molecular biology) (P128) 1293\n",
      "field of this occupation (P425) 1258\n",
      "decays to (P816) 1241\n",
      "material used (P186) 1229\n",
      "has quality (P1552) 1154\n",
      "said to be the same as (P460) 1070\n",
      "Wikidata property (P1687) 1057\n",
      "subject item of this property (P1629) 1024\n",
      "uses (P2283) 777\n",
      "has parts of the class (P2670) 747\n",
      "health specialty (P1995) 659\n",
      "symptoms (P780) 561\n",
      "has effect (P1542) 485\n",
      "practiced by (P3095) 480\n",
      "has cause (P828) 457\n",
      "has list (P2354) 446\n",
      "field of work (P101) 418\n",
      "afflicts (P689) 413\n",
      "used by (P1535) 408\n",
      "taxon rank (P105) 391\n",
      "subproperty of (P1647) 372\n",
      "depicts (P180) 345\n",
      "main subject (P921) 338\n",
      "studied by (P2579) 332\n",
      "anatomical location (P927) 328\n",
      "fictional analog of (P1074) 316\n",
      "color (P462) 295\n",
      "named after (P138) 289\n",
      "competition class (P2094) 283\n",
      "product or material produced (P1056) 272\n",
      "route of administration (P636) 263\n",
      "first aid measures (P2239) 257\n",
      "measured physical quantity (P111) 252\n",
      "studies (P2578) 248\n",
      "cell component (P681) 232\n"
     ]
    }
   ],
   "source": [
    "s=0\n",
    "for rel, freq in dist_rels.most_common(50):\n",
    "    print(rel, freq)\n",
    "    s+=freq"
   ]
  },
  {
   "cell_type": "code",
   "execution_count": 26,
   "metadata": {},
   "outputs": [
    {
     "data": {
      "text/plain": [
       "154637"
      ]
     },
     "execution_count": 26,
     "metadata": {},
     "output_type": "execute_result"
    }
   ],
   "source": [
    "s"
   ]
  },
  {
   "cell_type": "code",
   "execution_count": 27,
   "metadata": {},
   "outputs": [
    {
     "name": "stdout",
     "output_type": "stream",
     "text": [
      "['Q3055380', 'P689', 'Q9639', \"'intestinal disease'@en\", \"'intestine'@en\", \"'afflicts'@en\"]\n"
     ]
    }
   ],
   "source": [
    "wanted='P689'\n",
    "for row in filtered_rows:\n",
    "    if row[1]==wanted:\n",
    "        print(row)\n",
    "        break"
   ]
  },
  {
   "cell_type": "code",
   "execution_count": 28,
   "metadata": {},
   "outputs": [],
   "source": [
    "df1=pd.DataFrame(filtered_rows, columns=header)"
   ]
  },
  {
   "cell_type": "code",
   "execution_count": 29,
   "metadata": {},
   "outputs": [
    {
     "data": {
      "text/plain": [
       "160387"
      ]
     },
     "execution_count": 29,
     "metadata": {},
     "output_type": "execute_result"
    }
   ],
   "source": [
    "len(df1)"
   ]
  },
  {
   "cell_type": "code",
   "execution_count": 30,
   "metadata": {},
   "outputs": [],
   "source": [
    "df1.to_csv(usage_file, index=False, sep='\\t', columns=header)"
   ]
  },
  {
   "cell_type": "markdown",
   "metadata": {},
   "source": [
    "## Step III: Map properties"
   ]
  },
  {
   "cell_type": "code",
   "execution_count": 31,
   "metadata": {},
   "outputs": [],
   "source": [
    "from mapping import fw_mapping, bw_mapping"
   ]
  },
  {
   "cell_type": "code",
   "execution_count": 32,
   "metadata": {},
   "outputs": [],
   "source": [
    "import mapping"
   ]
  },
  {
   "cell_type": "code",
   "execution_count": 33,
   "metadata": {},
   "outputs": [
    {
     "data": {
      "text/plain": [
       "<module 'mapping' from '/Users/filipilievski/mcs/cskg/mapping.py'>"
      ]
     },
     "execution_count": 33,
     "metadata": {},
     "output_type": "execute_result"
    }
   ],
   "source": [
    "import importlib\n",
    "importlib.reload(mapping)"
   ]
  },
  {
   "cell_type": "code",
   "execution_count": 34,
   "metadata": {},
   "outputs": [],
   "source": [
    "mapped_fw=set()\n",
    "mapped_bw=set()\n",
    "rows=[]\n",
    "for row in filtered_rows:\n",
    "    rel=row[1]\n",
    "    if rel in mapping.fw_mapping.keys() or rel in mapping.bw_mapping.keys():\n",
    "        rows.append(row)"
   ]
  },
  {
   "cell_type": "code",
   "execution_count": 35,
   "metadata": {},
   "outputs": [
    {
     "data": {
      "text/plain": [
       "145956"
      ]
     },
     "execution_count": 35,
     "metadata": {},
     "output_type": "execute_result"
    }
   ],
   "source": [
    "len(rows)"
   ]
  },
  {
   "cell_type": "code",
   "execution_count": 36,
   "metadata": {},
   "outputs": [],
   "source": [
    "df2=pd.DataFrame(rows, columns=header)"
   ]
  },
  {
   "cell_type": "code",
   "execution_count": 37,
   "metadata": {},
   "outputs": [],
   "source": [
    "df2.to_csv(ready_file, index=False, sep='\\t', columns=header)"
   ]
  },
  {
   "cell_type": "markdown",
   "metadata": {},
   "source": [
    "## Step IV: Compute statistics"
   ]
  },
  {
   "cell_type": "code",
   "execution_count": 38,
   "metadata": {},
   "outputs": [],
   "source": [
    "%%bash -s \"$ready_file\" \"$stats_file\"\n",
    "kgtk graph_statistics --directed --degrees --pagerank --hits --log summary.txt -i $1 > $2"
   ]
  },
  {
   "cell_type": "code",
   "execution_count": 39,
   "metadata": {},
   "outputs": [
    {
     "name": "stdout",
     "output_type": "stream",
     "text": [
      "loading the TSV graph now ...\n",
      "graph loaded! It has 76066 nodes and 145956 edges\n",
      "\n",
      "###Top relations:\n",
      "P279\t59382\n",
      "P31\t39041\n",
      "P361\t5711\n",
      "P527\t4972\n",
      "P1889\t3214\n",
      "P1269\t2695\n",
      "P461\t2179\n",
      "P156\t2078\n",
      "P155\t2071\n",
      "P366\t1880\n",
      "\n",
      "###Degrees:\n",
      "in degree stats: mean=1.918807, std=0.102935, max=1\n",
      "out degree stats: mean=1.918807, std=0.005634, max=1\n",
      "total degree stats: mean=3.837615, std=0.103896, max=1\n",
      "\n",
      "###PageRank\n",
      "Max pageranks\n",
      "71397\tP1918\t0.008616\n",
      "288\tQ151885\t0.012225\n",
      "1906\tQ7187\t0.010134\n",
      "310\tQ2996394\t0.009513\n",
      "2502\tQ3249551\t0.008727\n",
      "\n",
      "###HITS\n",
      "HITS hubs\n",
      "310\tQ2996394\t0.000000\n",
      "36441\tQ62536\t0.000000\n",
      "2683\tQ8054\t0.000281\n",
      "1906\tQ7187\t1.000000\n",
      "14572\tQ20747295\t0.000770\n",
      "HITS auth\n",
      "14572\tQ20747295\t0.013871\n",
      "49434\tQ18969817\t0.013878\n",
      "14571\tQ26738515\t0.013878\n",
      "70327\tQ20969150\t0.013878\n",
      "37064\tQ18256813\t0.013878\n"
     ]
    }
   ],
   "source": [
    "%%bash\n",
    "cat summary.txt"
   ]
  },
  {
   "cell_type": "code",
   "execution_count": null,
   "metadata": {},
   "outputs": [],
   "source": []
  }
 ],
 "metadata": {
  "kernelspec": {
   "display_name": "Python 3",
   "language": "python",
   "name": "python3"
  },
  "language_info": {
   "codemirror_mode": {
    "name": "ipython",
    "version": 3
   },
   "file_extension": ".py",
   "mimetype": "text/x-python",
   "name": "python",
   "nbconvert_exporter": "python",
   "pygments_lexer": "ipython3",
   "version": "3.7.7"
  }
 },
 "nbformat": 4,
 "nbformat_minor": 4
}
