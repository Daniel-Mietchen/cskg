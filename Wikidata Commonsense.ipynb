{
 "cells": [
  {
   "cell_type": "markdown",
   "metadata": {},
   "source": [
    "# Extracting commonsense knowledge from Wikidata"
   ]
  },
  {
   "cell_type": "markdown",
   "metadata": {},
   "source": [
    "## Define relevant properties"
   ]
  },
  {
   "cell_type": "code",
   "execution_count": null,
   "metadata": {},
   "outputs": [],
   "source": [
    "%env properties=\"P1889,P461,P527,P186,P463,P276,P170,P366,P279,P1552,P828,P1542,P462\" #,P31\""
   ]
  },
  {
   "cell_type": "markdown",
   "metadata": {},
   "source": [
    "## Filter relevant properties"
   ]
  },
  {
   "cell_type": "code",
   "execution_count": null,
   "metadata": {},
   "outputs": [],
   "source": [
    "%%bash\n",
    "kgtk filter -p \" ; $properties ; \" input/wikidata/wikidata_edges_20200504.tsv.gz > tmp/kgtk_wikidata_filter.tsv"
   ]
  },
  {
   "cell_type": "markdown",
   "metadata": {},
   "source": [
    "## Remove columns"
   ]
  },
  {
   "cell_type": "code",
   "execution_count": 1,
   "metadata": {},
   "outputs": [
    {
     "name": "stdout",
     "output_type": "stream",
     "text": [
      "env: ignore_cols=id,rank,node2;magnitude,node2;unit,node2;item,node2;lower,node2;upper,node2;entity-type,node2;longitude,node2;latitude,node2;date,node2;calendar,node2;precision\n"
     ]
    }
   ],
   "source": [
    "%env ignore_cols=id,rank,node2;magnitude,node2;unit,node2;item,node2;lower,node2;upper,node2;entity-type,node2;longitude,node2;latitude,node2;date,node2;calendar,node2;precision"
   ]
  },
  {
   "cell_type": "code",
   "execution_count": 2,
   "metadata": {},
   "outputs": [],
   "source": [
    "%%bash\n",
    "kgtk remove_columns -c \"$ignore_cols\" -i tmp/kgtk_wikidata_filter.tsv > tmp/kgtk_wikidata_cols.tsv"
   ]
  },
  {
   "cell_type": "markdown",
   "metadata": {},
   "source": [
    "## Deduplicate"
   ]
  },
  {
   "cell_type": "code",
   "execution_count": 3,
   "metadata": {},
   "outputs": [],
   "source": [
    "%%bash\n",
    "kgtk compact -i tmp/kgtk_wikidata_cols.tsv -o tmp/kgtk_wikidata_compact.tsv"
   ]
  },
  {
   "cell_type": "markdown",
   "metadata": {},
   "source": [
    "## Add labels"
   ]
  },
  {
   "cell_type": "code",
   "execution_count": 4,
   "metadata": {},
   "outputs": [
    {
     "name": "stderr",
     "output_type": "stream",
     "text": [
      "Opening the input file: tmp/kgtk_wikidata_compact.tsv\n",
      "KgtkReader: File_path.suffix: .tsv\n",
      "KgtkReader: reading file tmp/kgtk_wikidata_compact.tsv\n",
      "header: node1\tlabel\tnode2\n",
      "node1 column found, this is a KGTK edge file\n",
      "KgtkReader: Special columns: node1=0 label=1 node2=2 id=-1\n",
      "KgtkReader: Reading an edge file.\n",
      "Opening the label file: input/wikidata/wiki_labels.tsv\n",
      "KgtkReader: File_path.suffix: .tsv\n",
      "KgtkReader: reading file input/wikidata/wiki_labels.tsv\n",
      "Traceback (most recent call last):\n",
      "  File \"/Users/filipilievski/mcs/kgtk/kgtk/cli/lift.py\", line 277, in run\n",
      "    kl.process()\n",
      "  File \"/Users/filipilievski/mcs/kgtk/kgtk/lift/kgtklift.py\", line 680, in process\n",
      "    very_verbose=self.very_verbose,\n",
      "  File \"/Users/filipilievski/mcs/kgtk/kgtk/io/kgtkreader.py\", line 494, in open\n",
      "    source: ClosableIter[str] = cls._openfile(file_path, options=options, error_file=error_file, verbose=verbose)\n",
      "  File \"/Users/filipilievski/mcs/kgtk/kgtk/io/kgtkreader.py\", line 668, in _openfile\n",
      "    return ClosableIterTextIOWrapper(open(file_path, \"r\"))\n",
      "FileNotFoundError: [Errno 2] No such file or directory: 'input/wikidata/wiki_labels.tsv'\n",
      "\n",
      "During handling of the above exception, another exception occurred:\n",
      "\n",
      "Traceback (most recent call last):\n",
      "  File \"/Users/filipilievski/mcs/kgtk/kgtk/exceptions.py\", line 42, in __call__\n",
      "    return_code = func(*args, **kwargs) or 0\n",
      "  File \"/Users/filipilievski/mcs/kgtk/kgtk/cli/lift.py\", line 284, in run\n",
      "    raise KGTKException(str(e))\n",
      "kgtk.exceptions.KGTKException: [Errno 2] No such file or directory: 'input/wikidata/wiki_labels.tsv'\n",
      "[Errno 2] No such file or directory: 'input/wikidata/wiki_labels.tsv'\n"
     ]
    },
    {
     "ename": "CalledProcessError",
     "evalue": "Command 'b'kgtk --debug lift --verbose \\\\\\n     --input-file tmp/kgtk_wikidata_compact.tsv \\\\\\n     --label-file input/wikidata/wiki_labels.tsv \\\\\\n     --output-file tmp/kgtk_wikidata.tsv \\\\\\n     --columns-to-lift node1 node2 label \\\\\\n     --prefilter-labels\\n'' returned non-zero exit status 1.",
     "output_type": "error",
     "traceback": [
      "\u001b[0;31m---------------------------------------------------------------------------\u001b[0m",
      "\u001b[0;31mCalledProcessError\u001b[0m                        Traceback (most recent call last)",
      "\u001b[0;32m<ipython-input-4-e138aa80627a>\u001b[0m in \u001b[0;36m<module>\u001b[0;34m\u001b[0m\n\u001b[0;32m----> 1\u001b[0;31m \u001b[0mget_ipython\u001b[0m\u001b[0;34m(\u001b[0m\u001b[0;34m)\u001b[0m\u001b[0;34m.\u001b[0m\u001b[0mrun_cell_magic\u001b[0m\u001b[0;34m(\u001b[0m\u001b[0;34m'bash'\u001b[0m\u001b[0;34m,\u001b[0m \u001b[0;34m''\u001b[0m\u001b[0;34m,\u001b[0m \u001b[0;34m'kgtk --debug lift --verbose \\\\\\n     --input-file tmp/kgtk_wikidata_compact.tsv \\\\\\n     --label-file input/wikidata/wiki_labels.tsv \\\\\\n     --output-file tmp/kgtk_wikidata.tsv \\\\\\n     --columns-to-lift node1 node2 label \\\\\\n     --prefilter-labels\\n'\u001b[0m\u001b[0;34m)\u001b[0m\u001b[0;34m\u001b[0m\u001b[0;34m\u001b[0m\u001b[0m\n\u001b[0m",
      "\u001b[0;32m~/opt/anaconda3/envs/kgtk-env/lib/python3.7/site-packages/IPython/core/interactiveshell.py\u001b[0m in \u001b[0;36mrun_cell_magic\u001b[0;34m(self, magic_name, line, cell)\u001b[0m\n\u001b[1;32m   2360\u001b[0m             \u001b[0;32mwith\u001b[0m \u001b[0mself\u001b[0m\u001b[0;34m.\u001b[0m\u001b[0mbuiltin_trap\u001b[0m\u001b[0;34m:\u001b[0m\u001b[0;34m\u001b[0m\u001b[0;34m\u001b[0m\u001b[0m\n\u001b[1;32m   2361\u001b[0m                 \u001b[0margs\u001b[0m \u001b[0;34m=\u001b[0m \u001b[0;34m(\u001b[0m\u001b[0mmagic_arg_s\u001b[0m\u001b[0;34m,\u001b[0m \u001b[0mcell\u001b[0m\u001b[0;34m)\u001b[0m\u001b[0;34m\u001b[0m\u001b[0;34m\u001b[0m\u001b[0m\n\u001b[0;32m-> 2362\u001b[0;31m                 \u001b[0mresult\u001b[0m \u001b[0;34m=\u001b[0m \u001b[0mfn\u001b[0m\u001b[0;34m(\u001b[0m\u001b[0;34m*\u001b[0m\u001b[0margs\u001b[0m\u001b[0;34m,\u001b[0m \u001b[0;34m**\u001b[0m\u001b[0mkwargs\u001b[0m\u001b[0;34m)\u001b[0m\u001b[0;34m\u001b[0m\u001b[0;34m\u001b[0m\u001b[0m\n\u001b[0m\u001b[1;32m   2363\u001b[0m             \u001b[0;32mreturn\u001b[0m \u001b[0mresult\u001b[0m\u001b[0;34m\u001b[0m\u001b[0;34m\u001b[0m\u001b[0m\n\u001b[1;32m   2364\u001b[0m \u001b[0;34m\u001b[0m\u001b[0m\n",
      "\u001b[0;32m~/opt/anaconda3/envs/kgtk-env/lib/python3.7/site-packages/IPython/core/magics/script.py\u001b[0m in \u001b[0;36mnamed_script_magic\u001b[0;34m(line, cell)\u001b[0m\n\u001b[1;32m    140\u001b[0m             \u001b[0;32melse\u001b[0m\u001b[0;34m:\u001b[0m\u001b[0;34m\u001b[0m\u001b[0;34m\u001b[0m\u001b[0m\n\u001b[1;32m    141\u001b[0m                 \u001b[0mline\u001b[0m \u001b[0;34m=\u001b[0m \u001b[0mscript\u001b[0m\u001b[0;34m\u001b[0m\u001b[0;34m\u001b[0m\u001b[0m\n\u001b[0;32m--> 142\u001b[0;31m             \u001b[0;32mreturn\u001b[0m \u001b[0mself\u001b[0m\u001b[0;34m.\u001b[0m\u001b[0mshebang\u001b[0m\u001b[0;34m(\u001b[0m\u001b[0mline\u001b[0m\u001b[0;34m,\u001b[0m \u001b[0mcell\u001b[0m\u001b[0;34m)\u001b[0m\u001b[0;34m\u001b[0m\u001b[0;34m\u001b[0m\u001b[0m\n\u001b[0m\u001b[1;32m    143\u001b[0m \u001b[0;34m\u001b[0m\u001b[0m\n\u001b[1;32m    144\u001b[0m         \u001b[0;31m# write a basic docstring:\u001b[0m\u001b[0;34m\u001b[0m\u001b[0;34m\u001b[0m\u001b[0;34m\u001b[0m\u001b[0m\n",
      "\u001b[0;32m<decorator-gen-110>\u001b[0m in \u001b[0;36mshebang\u001b[0;34m(self, line, cell)\u001b[0m\n",
      "\u001b[0;32m~/opt/anaconda3/envs/kgtk-env/lib/python3.7/site-packages/IPython/core/magic.py\u001b[0m in \u001b[0;36m<lambda>\u001b[0;34m(f, *a, **k)\u001b[0m\n\u001b[1;32m    185\u001b[0m     \u001b[0;31m# but it's overkill for just that one bit of state.\u001b[0m\u001b[0;34m\u001b[0m\u001b[0;34m\u001b[0m\u001b[0;34m\u001b[0m\u001b[0m\n\u001b[1;32m    186\u001b[0m     \u001b[0;32mdef\u001b[0m \u001b[0mmagic_deco\u001b[0m\u001b[0;34m(\u001b[0m\u001b[0marg\u001b[0m\u001b[0;34m)\u001b[0m\u001b[0;34m:\u001b[0m\u001b[0;34m\u001b[0m\u001b[0;34m\u001b[0m\u001b[0m\n\u001b[0;32m--> 187\u001b[0;31m         \u001b[0mcall\u001b[0m \u001b[0;34m=\u001b[0m \u001b[0;32mlambda\u001b[0m \u001b[0mf\u001b[0m\u001b[0;34m,\u001b[0m \u001b[0;34m*\u001b[0m\u001b[0ma\u001b[0m\u001b[0;34m,\u001b[0m \u001b[0;34m**\u001b[0m\u001b[0mk\u001b[0m\u001b[0;34m:\u001b[0m \u001b[0mf\u001b[0m\u001b[0;34m(\u001b[0m\u001b[0;34m*\u001b[0m\u001b[0ma\u001b[0m\u001b[0;34m,\u001b[0m \u001b[0;34m**\u001b[0m\u001b[0mk\u001b[0m\u001b[0;34m)\u001b[0m\u001b[0;34m\u001b[0m\u001b[0;34m\u001b[0m\u001b[0m\n\u001b[0m\u001b[1;32m    188\u001b[0m \u001b[0;34m\u001b[0m\u001b[0m\n\u001b[1;32m    189\u001b[0m         \u001b[0;32mif\u001b[0m \u001b[0mcallable\u001b[0m\u001b[0;34m(\u001b[0m\u001b[0marg\u001b[0m\u001b[0;34m)\u001b[0m\u001b[0;34m:\u001b[0m\u001b[0;34m\u001b[0m\u001b[0;34m\u001b[0m\u001b[0m\n",
      "\u001b[0;32m~/opt/anaconda3/envs/kgtk-env/lib/python3.7/site-packages/IPython/core/magics/script.py\u001b[0m in \u001b[0;36mshebang\u001b[0;34m(self, line, cell)\u001b[0m\n\u001b[1;32m    243\u001b[0m             \u001b[0msys\u001b[0m\u001b[0;34m.\u001b[0m\u001b[0mstderr\u001b[0m\u001b[0;34m.\u001b[0m\u001b[0mflush\u001b[0m\u001b[0;34m(\u001b[0m\u001b[0;34m)\u001b[0m\u001b[0;34m\u001b[0m\u001b[0;34m\u001b[0m\u001b[0m\n\u001b[1;32m    244\u001b[0m         \u001b[0;32mif\u001b[0m \u001b[0margs\u001b[0m\u001b[0;34m.\u001b[0m\u001b[0mraise_error\u001b[0m \u001b[0;32mand\u001b[0m \u001b[0mp\u001b[0m\u001b[0;34m.\u001b[0m\u001b[0mreturncode\u001b[0m\u001b[0;34m!=\u001b[0m\u001b[0;36m0\u001b[0m\u001b[0;34m:\u001b[0m\u001b[0;34m\u001b[0m\u001b[0;34m\u001b[0m\u001b[0m\n\u001b[0;32m--> 245\u001b[0;31m             \u001b[0;32mraise\u001b[0m \u001b[0mCalledProcessError\u001b[0m\u001b[0;34m(\u001b[0m\u001b[0mp\u001b[0m\u001b[0;34m.\u001b[0m\u001b[0mreturncode\u001b[0m\u001b[0;34m,\u001b[0m \u001b[0mcell\u001b[0m\u001b[0;34m,\u001b[0m \u001b[0moutput\u001b[0m\u001b[0;34m=\u001b[0m\u001b[0mout\u001b[0m\u001b[0;34m,\u001b[0m \u001b[0mstderr\u001b[0m\u001b[0;34m=\u001b[0m\u001b[0merr\u001b[0m\u001b[0;34m)\u001b[0m\u001b[0;34m\u001b[0m\u001b[0;34m\u001b[0m\u001b[0m\n\u001b[0m\u001b[1;32m    246\u001b[0m \u001b[0;34m\u001b[0m\u001b[0m\n\u001b[1;32m    247\u001b[0m     \u001b[0;32mdef\u001b[0m \u001b[0m_run_script\u001b[0m\u001b[0;34m(\u001b[0m\u001b[0mself\u001b[0m\u001b[0;34m,\u001b[0m \u001b[0mp\u001b[0m\u001b[0;34m,\u001b[0m \u001b[0mcell\u001b[0m\u001b[0;34m,\u001b[0m \u001b[0mto_close\u001b[0m\u001b[0;34m)\u001b[0m\u001b[0;34m:\u001b[0m\u001b[0;34m\u001b[0m\u001b[0;34m\u001b[0m\u001b[0m\n",
      "\u001b[0;31mCalledProcessError\u001b[0m: Command 'b'kgtk --debug lift --verbose \\\\\\n     --input-file tmp/kgtk_wikidata_compact.tsv \\\\\\n     --label-file input/wikidata/wiki_labels.tsv \\\\\\n     --output-file tmp/kgtk_wikidata.tsv \\\\\\n     --columns-to-lift node1 node2 label \\\\\\n     --prefilter-labels\\n'' returned non-zero exit status 1."
     ]
    }
   ],
   "source": [
    "%%bash\n",
    "kgtk --debug lift --verbose \\\n",
    "     --input-file tmp/kgtk_wikidata_compact.tsv \\\n",
    "     --label-file input/wikidata/wiki_labels.tsv \\\n",
    "     --output-file tmp/kgtk_wikidata.tsv \\\n",
    "     --columns-to-lift node1 node2 label \\\n",
    "     --prefilter-labels"
   ]
  },
  {
   "cell_type": "markdown",
   "metadata": {},
   "source": [
    "## Add PageRank"
   ]
  },
  {
   "cell_type": "code",
   "execution_count": null,
   "metadata": {},
   "outputs": [],
   "source": [
    "%%bash\n",
    "kgtk --debug lift --verbose \\\n",
    "     --input-file tmp/kgtk_wikidata.tsv \\\n",
    "     --label-file input/wikidata/wikidata-pagerank-only-sorted2.tsv \\\n",
    "     --output-file tmp/kgtk_wikidata_with_pr.tsv \\\n",
    "     --columns-to-lift node1 node2 \\\n",
    "     --property vertex_pagerank \\\n",
    "     --lift-suffix \";pagerank\" \\\n",
    "     --prefilter-labels"
   ]
  },
  {
   "cell_type": "markdown",
   "metadata": {},
   "source": [
    "## Filter concepts vs instances"
   ]
  },
  {
   "cell_type": "code",
   "execution_count": 5,
   "metadata": {},
   "outputs": [],
   "source": [
    "import pandas as pd\n",
    "df=pd.read_csv('tmp/kgtk_wikidata_with_pr.tsv', sep='\\t')"
   ]
  },
  {
   "cell_type": "code",
   "execution_count": 6,
   "metadata": {},
   "outputs": [
    {
     "data": {
      "text/plain": [
       "8256446"
      ]
     },
     "execution_count": 6,
     "metadata": {},
     "output_type": "execute_result"
    }
   ],
   "source": [
    "len(df)"
   ]
  },
  {
   "cell_type": "code",
   "execution_count": 7,
   "metadata": {},
   "outputs": [
    {
     "data": {
      "text/html": [
       "<div>\n",
       "<style scoped>\n",
       "    .dataframe tbody tr th:only-of-type {\n",
       "        vertical-align: middle;\n",
       "    }\n",
       "\n",
       "    .dataframe tbody tr th {\n",
       "        vertical-align: top;\n",
       "    }\n",
       "\n",
       "    .dataframe thead th {\n",
       "        text-align: right;\n",
       "    }\n",
       "</style>\n",
       "<table border=\"1\" class=\"dataframe\">\n",
       "  <thead>\n",
       "    <tr style=\"text-align: right;\">\n",
       "      <th></th>\n",
       "      <th>node1</th>\n",
       "      <th>label</th>\n",
       "      <th>node2</th>\n",
       "      <th>node1;label</th>\n",
       "      <th>node2;label</th>\n",
       "      <th>label;label</th>\n",
       "      <th>node1;pagerank</th>\n",
       "      <th>node2;pagerank</th>\n",
       "    </tr>\n",
       "  </thead>\n",
       "  <tbody>\n",
       "    <tr>\n",
       "      <th>0</th>\n",
       "      <td>P1005</td>\n",
       "      <td>P1552</td>\n",
       "      <td>Q26921380</td>\n",
       "      <td>'Portuguese National Library ID'@en</td>\n",
       "      <td>'VIAF component'@en</td>\n",
       "      <td>'has quality'@en</td>\n",
       "      <td>3.630733e-09</td>\n",
       "      <td>0.000004</td>\n",
       "    </tr>\n",
       "    <tr>\n",
       "      <th>1</th>\n",
       "      <td>P1006</td>\n",
       "      <td>P1552</td>\n",
       "      <td>Q26921380</td>\n",
       "      <td>'Nationale Thesaurus voor Auteurs ID'@en</td>\n",
       "      <td>'VIAF component'@en</td>\n",
       "      <td>'has quality'@en</td>\n",
       "      <td>7.545395e-08</td>\n",
       "      <td>0.000004</td>\n",
       "    </tr>\n",
       "    <tr>\n",
       "      <th>2</th>\n",
       "      <td>P1015</td>\n",
       "      <td>P1552</td>\n",
       "      <td>Q26921380</td>\n",
       "      <td>'NORAF ID'@en</td>\n",
       "      <td>'VIAF component'@en</td>\n",
       "      <td>'has quality'@en</td>\n",
       "      <td>3.637108e-09</td>\n",
       "      <td>0.000004</td>\n",
       "    </tr>\n",
       "    <tr>\n",
       "      <th>3</th>\n",
       "      <td>P1017</td>\n",
       "      <td>P1552</td>\n",
       "      <td>Q26921380</td>\n",
       "      <td>'Vatican Library ID'@en</td>\n",
       "      <td>'VIAF component'@en</td>\n",
       "      <td>'has quality'@en</td>\n",
       "      <td>2.345845e-07</td>\n",
       "      <td>0.000004</td>\n",
       "    </tr>\n",
       "    <tr>\n",
       "      <th>4</th>\n",
       "      <td>P1048</td>\n",
       "      <td>P1552</td>\n",
       "      <td>Q26921380</td>\n",
       "      <td>'NCL ID'@en</td>\n",
       "      <td>'VIAF component'@en</td>\n",
       "      <td>'has quality'@en</td>\n",
       "      <td>2.483013e-09</td>\n",
       "      <td>0.000004</td>\n",
       "    </tr>\n",
       "  </tbody>\n",
       "</table>\n",
       "</div>"
      ],
      "text/plain": [
       "   node1  label      node2                               node1;label  \\\n",
       "0  P1005  P1552  Q26921380       'Portuguese National Library ID'@en   \n",
       "1  P1006  P1552  Q26921380  'Nationale Thesaurus voor Auteurs ID'@en   \n",
       "2  P1015  P1552  Q26921380                             'NORAF ID'@en   \n",
       "3  P1017  P1552  Q26921380                   'Vatican Library ID'@en   \n",
       "4  P1048  P1552  Q26921380                               'NCL ID'@en   \n",
       "\n",
       "           node2;label       label;label  node1;pagerank  node2;pagerank  \n",
       "0  'VIAF component'@en  'has quality'@en    3.630733e-09        0.000004  \n",
       "1  'VIAF component'@en  'has quality'@en    7.545395e-08        0.000004  \n",
       "2  'VIAF component'@en  'has quality'@en    3.637108e-09        0.000004  \n",
       "3  'VIAF component'@en  'has quality'@en    2.345845e-07        0.000004  \n",
       "4  'VIAF component'@en  'has quality'@en    2.483013e-09        0.000004  "
      ]
     },
     "execution_count": 7,
     "metadata": {},
     "output_type": "execute_result"
    }
   ],
   "source": [
    "df.head()"
   ]
  },
  {
   "cell_type": "code",
   "execution_count": 8,
   "metadata": {},
   "outputs": [],
   "source": [
    "limit=1.419947235126343e-08 # PageRank of the 752876th most popular node"
   ]
  },
  {
   "cell_type": "code",
   "execution_count": 9,
   "metadata": {},
   "outputs": [],
   "source": [
    "cols=['node1;pagerank', 'node2;pagerank']\n",
    "cols=['node1;label', 'node2;label']"
   ]
  },
  {
   "cell_type": "code",
   "execution_count": 10,
   "metadata": {},
   "outputs": [],
   "source": [
    "from tqdm import tqdm"
   ]
  },
  {
   "cell_type": "code",
   "execution_count": 11,
   "metadata": {},
   "outputs": [
    {
     "name": "stderr",
     "output_type": "stream",
     "text": [
      "100%|██████████| 8256446/8256446 [18:00<00:00, 7642.88it/s] \n"
     ]
    }
   ],
   "source": [
    "new_rows=[]\n",
    "for i, row in tqdm(df.iterrows(), total=df.shape[0]):\n",
    "    store=True\n",
    "    if row['node1;label']=='' or row['node2;label']=='' or not isinstance(row['node1;label'], str) or not isinstance(row['node2;label'], str): continue\n",
    "    node1_label=row['node1;label'].strip()[1:-3]\n",
    "    node2_label=row['node2;label'].strip()[1:-3]\n",
    "    if node1_label[0].islower() and node2_label[0].islower():\n",
    "        a_row=[*row[:6], \"\", \"\", \"WD\", \"\", \"\", \"\"] # copy id, node1, relation, node2, node1:label, node2:label, relation:label\n",
    "        a_row[3]=node1_label\n",
    "        a_row[4]=node2_label\n",
    "        new_rows.append(a_row)"
   ]
  },
  {
   "cell_type": "markdown",
   "metadata": {},
   "source": [
    "## Filter by usage"
   ]
  },
  {
   "cell_type": "code",
   "execution_count": 12,
   "metadata": {},
   "outputs": [],
   "source": [
    "from wordfreq import word_frequency"
   ]
  },
  {
   "cell_type": "code",
   "execution_count": 13,
   "metadata": {},
   "outputs": [],
   "source": [
    "threshold=1e-06"
   ]
  },
  {
   "cell_type": "code",
   "execution_count": 14,
   "metadata": {},
   "outputs": [
    {
     "data": {
      "text/plain": [
       "1255113"
      ]
     },
     "execution_count": 14,
     "metadata": {},
     "output_type": "execute_result"
    }
   ],
   "source": [
    "len(new_rows)"
   ]
  },
  {
   "cell_type": "code",
   "execution_count": 15,
   "metadata": {},
   "outputs": [],
   "source": [
    "filtered_rows=[]\n",
    "for a_row in new_rows:\n",
    "    node1_label=a_row[3]\n",
    "    node2_label=a_row[4]\n",
    "    wf1=word_frequency(node1_label, 'en')\n",
    "    wf2=word_frequency(node2_label, 'en')\n",
    "    if wf1 >threshold and wf2>threshold:\n",
    "        filtered_rows.append(a_row)"
   ]
  },
  {
   "cell_type": "code",
   "execution_count": 16,
   "metadata": {},
   "outputs": [
    {
     "data": {
      "text/plain": [
       "207798"
      ]
     },
     "execution_count": 16,
     "metadata": {},
     "output_type": "execute_result"
    }
   ],
   "source": [
    "len(filtered_rows)"
   ]
  },
  {
   "cell_type": "code",
   "execution_count": 17,
   "metadata": {},
   "outputs": [],
   "source": [
    "new_columns=['node1', 'relation', 'node2', 'node1;label', 'node2;label','relation;label', 'relation;dimension', 'weight', 'source', 'origin', 'sentence', 'question']"
   ]
  },
  {
   "cell_type": "code",
   "execution_count": 18,
   "metadata": {},
   "outputs": [],
   "source": [
    "df2=pd.DataFrame(filtered_rows, columns=new_columns)"
   ]
  },
  {
   "cell_type": "code",
   "execution_count": 19,
   "metadata": {},
   "outputs": [
    {
     "data": {
      "text/plain": [
       "P279     187128\n",
       "P527       8153\n",
       "P461       3114\n",
       "P366       3071\n",
       "P186       2358\n",
       "P1552      1773\n",
       "P828        868\n",
       "P1542       778\n",
       "P170        368\n",
       "P276        170\n",
       "P463         17\n",
       "Name: relation, dtype: int64"
      ]
     },
     "execution_count": 19,
     "metadata": {},
     "output_type": "execute_result"
    }
   ],
   "source": [
    "df2['relation'].value_counts()"
   ]
  },
  {
   "cell_type": "code",
   "execution_count": 20,
   "metadata": {},
   "outputs": [],
   "source": [
    "df2.to_csv('tmp/kgtk_wikidata_ready.tsv', index=False, sep='\\t', columns=new_columns)"
   ]
  },
  {
   "cell_type": "code",
   "execution_count": 21,
   "metadata": {},
   "outputs": [
    {
     "name": "stdout",
     "output_type": "stream",
     "text": [
      "          node1 relation      node2            node1;label             node2;label      relation;label relation;dimension weight source origin sentence question\n",
      "149    Q1007164     P186     Q12117          grain whisky'                 cereal'  'material used'@en                               WD                         \n",
      "220    Q1018244     P186     Q11469           crown glass'                  glass'  'material used'@en                               WD                         \n",
      "424      Q10289     P186     Q11427                barrel'                  steel'  'material used'@en                               WD                         \n",
      "425      Q10289     P186     Q11474                barrel'                plastic'  'material used'@en                               WD                         \n",
      "426      Q10289     P186       Q287                barrel'                   wood'  'material used'@en                               WD                         \n",
      "475    Q1030197     P186     Q11426            track shoe'                  metal'  'material used'@en                               WD                         \n",
      "521    Q1032349     P186     Q11469          crystal ball'                  glass'  'material used'@en                               WD                         \n",
      "522    Q1032349     P186    Q392551          crystal ball'             lead glass'  'material used'@en                               WD                         \n",
      "685    Q1039512     P186  Q18113858          rubber glove'                 rubber'  'material used'@en                               WD                         \n",
      "686    Q1039512     P186    Q244680          rubber glove'                  latex'  'material used'@en                               WD                         \n",
      "695   Q10396780     P186    Q107429             bleaching'               peroxide'  'material used'@en                               WD                         \n",
      "696   Q10396780     P186    Q171877             bleaching'      hydrogen peroxide'  'material used'@en                               WD                         \n",
      "697   Q10396780     P186    Q193788             bleaching'               sunlight'  'material used'@en                               WD                         \n",
      "698   Q10396780     P186      Q5282             bleaching'         sulfur dioxide'  'material used'@en                               WD                         \n",
      "699   Q10396780     P186       Q688             bleaching'               chlorine'  'material used'@en                               WD                         \n",
      "741      Q10426     P186     Q10990              cold cut'                   meat'  'material used'@en                               WD                         \n",
      "774     Q104363     P186     Q11427                 anvil'                  steel'  'material used'@en                               WD                         \n",
      "775     Q104363     P186       Q677                 anvil'                   iron'  'material used'@en                               WD                         \n",
      "790    Q1044672     P186  Q13414920              corporal'             hemp fiber'  'material used'@en                               WD                         \n",
      "791    Q1044672     P186   Q1426327              corporal'                  linen'  'material used'@en                               WD                         \n",
      "892   Q10475001     P186     Q37681                  silk'                   silk'  'material used'@en                               WD                         \n",
      "901   Q10477229     P186   Q3492989                 dream'          vanilla sugar'  'material used'@en                               WD                         \n",
      "1004   Q1049799     P186       Q283        water resource'                  water'  'material used'@en                               WD                         \n",
      "1082   Q1051265     P186   Q2249305        instant noodle'            wheat flour'  'material used'@en                               WD                         \n",
      "1083   Q1051265     P186       Q283        instant noodle'                  water'  'material used'@en                               WD                         \n",
      "1212  Q10541832     P186    Q411235            mars black'     iron(II,III) oxide'  'material used'@en                               WD                         \n",
      "1268    Q105507     P186     Q28472                   wig'                   hair'  'material used'@en                               WD                         \n",
      "1269    Q105507     P186      Q5856                   wig'        synthetic fiber'  'material used'@en                               WD                         \n",
      "1281   Q1055324     P186    Q837118          cheese puffs'             corn flour'  'material used'@en                               WD                         \n",
      "1532   Q1061187     P186  Q15046077            ginger tea'                 ginger'  'material used'@en                               WD                         \n",
      "1533   Q1061187     P186      Q6097            ginger tea'                    tea'  'material used'@en                               WD                         \n",
      "1559   Q1061959     P186     Q11427       pont Notre-Dame'                  steel'  'material used'@en                               WD                         \n",
      "1580   Q1062396     P186   Q1721876          cocoa powder'       chocolate liquor'  'material used'@en                               WD                         \n",
      "1581   Q1062396     P186    Q208008          cocoa powder'             cocoa bean'  'material used'@en                               WD                         \n",
      "1595   Q1062531     P186     Q93189            boiled egg'                    egg'  'material used'@en                               WD                         \n",
      "1752  Q10669351     P186    Q296955         self portrait'              oil paint'  'material used'@en                               WD                         \n",
      "1753  Q10669351     P186   Q4259259         self portrait'                 canvas'  'material used'@en                               WD                         \n",
      "1762  Q10670720     P186    Q215414            foam candy'                   foam'  'material used'@en                               WD                         \n",
      "1796   Q1068034     P186        Q89             apple pie'                  apple'  'material used'@en                               WD                         \n",
      "1874  Q10690144     P186     Q11426            metal roof'                  metal'  'material used'@en                               WD                         \n",
      "1875  Q10690144     P186    Q211367            metal roof'            sheet metal'  'material used'@en                               WD                         \n",
      "2020   Q1072430     P186     Q11456                   die'          semiconductor'  'material used'@en                               WD                         \n",
      "2021   Q1072430     P186       Q670                   die'                silicon'  'material used'@en                               WD                         \n",
      "2046   Q1072946     P186  Q56395871          chili powder'     dried chili pepper'  'material used'@en                               WD                         \n",
      "2068   Q1073888     P186  Q56397725  dried shredded squid'            dried squid'  'material used'@en                               WD                         \n",
      "2137  Q10752679     P186   Q3320037            nut butter'          culinary nuts'  'material used'@en                               WD                         \n",
      "2266   Q1077151     P186    Q244680        latex clothing'                  latex'  'material used'@en                               WD                         \n",
      "2396  Q10827799     P186     Q37681         silk painting'                   silk'  'material used'@en                               WD                         \n",
      "2405   Q1083265     P186     Q45621         ceramic knife'                ceramic'  'material used'@en                               WD                         \n",
      "2408     Q10832     P186    Q244680              sex doll'                  latex'  'material used'@en                               WD                         \n",
      "2479   Q1085918     P186     Q11474         plastic model'                plastic'  'material used'@en                               WD                         \n",
      "2861     Q10987     P186    Q171934                 honey'                 nectar'  'material used'@en                               WD                         \n",
      "2914     Q11004     P186   Q1362373             vegetable'       cultivated plant'  'material used'@en                               WD                         \n",
      "2939   Q1101968     P186     Q23392         ice sculpture'                    ice'  'material used'@en                               WD                         \n",
      "3063  Q11074667     P186     Q11426            metal leaf'                  metal'  'material used'@en                               WD                         \n",
      "3160  Q11120024     P186       Q283         freezing rain'                  water'  'material used'@en                               WD                         \n",
      "3186  Q11130803     P186     Q11474  water-filled barrier'                plastic'  'material used'@en                               WD                         \n",
      "3254   Q1116734     P186    Q837118                  mush'             corn flour'  'material used'@en                               WD                         \n",
      "3351   Q1121690     P186     Q11427          beverage can'                  steel'  'material used'@en                               WD                         \n",
      "3352   Q1121690     P186       Q663          beverage can'               aluminum'  'material used'@en                               WD                         \n",
      "3465   Q1125665     P186    Q175089                  cong'                   jade'  'material used'@en                               WD                         \n",
      "3550   Q1128503     P186   Q1180158    container building'     shipping container'  'material used'@en                               WD                         \n",
      "3610   Q1129755     P186     Q11426     steel tongue drum'                  metal'  'material used'@en                               WD                         \n",
      "3695   Q1131992     P186     Q11472             paper cup'                  paper'  'material used'@en                               WD                         \n",
      "3696   Q1131992     P186    Q389782             paper cup'              cardboard'  'material used'@en                               WD                         \n",
      "3998  Q11378266     P186     Q11474           shelf dummy'                plastic'  'material used'@en                               WD                         \n",
      "3999  Q11378266     P186       Q287           shelf dummy'                   wood'  'material used'@en                               WD                         \n",
      "4000  Q11378266     P186    Q389782           shelf dummy'              cardboard'  'material used'@en                               WD                         \n",
      "4008    Q113796     P186   Q5447188         precipitation'               solution'  'material used'@en                               WD                         \n",
      "4053     Q11386     P186    Q177625  electromagnetic wave'  electromagnetic field'  'material used'@en                               WD                         \n",
      "4352   Q1143031     P186     Q11456  semiconductor memory'          semiconductor'  'material used'@en                               WD                         \n",
      "4491  Q11449624     P186       Q287             wood pulp'                   wood'  'material used'@en                               WD                         \n",
      "4546     Q11460     P186   Q1792537              clothing'     artificial leather'  'material used'@en                               WD                         \n",
      "4547     Q11460     P186       Q286              clothing'                leather'  'material used'@en                               WD                         \n",
      "4548     Q11460     P186     Q28823              clothing'                textile'  'material used'@en                               WD                         \n",
      "4609   Q1147190     P186  Q10988133       strained yogurt'               cow milk'  'material used'@en                               WD                         \n",
      "4610   Q1147190     P186   Q2736146       strained yogurt'             sheep milk'  'material used'@en                               WD                         \n",
      "4619     Q11472     P186     Q11587                 paper'                 bleach'  'material used'@en                               WD                         \n",
      "4620     Q11472     P186   Q1625473                 paper'             wood fiber'  'material used'@en                               WD                         \n",
      "4621     Q11472     P186    Q189720                 paper'                    dye'  'material used'@en                               WD                         \n",
      "4622     Q11472     P186  Q47089651                 paper'                   flax'  'material used'@en                               WD                         \n",
      "4717   Q1148989     P186       Q283         water balance'                  water'  'material used'@en                               WD                         \n",
      "4730   Q1149531     P186  Q11547758                bonnet'                   wool'  'material used'@en                               WD                         \n",
      "4731   Q1149531     P186  Q11607438                bonnet'                 cotton'  'material used'@en                               WD                         \n",
      "4732   Q1149531     P186    Q188245                bonnet'              polyester'  'material used'@en                               WD                         \n",
      "4805   Q1151042     P186     Q11472           paper towel'                  paper'  'material used'@en                               WD                         \n",
      "4984  Q11547758     P186     Q42329                  wool'                   wool'  'material used'@en                               WD                         \n",
      "5042  Q11559422     P186    Q192935          seafood dish'                seafood'  'material used'@en                               WD                         \n",
      "5067   Q1156634     P186   Q1226651        ice cream cone'                  wafer'  'material used'@en                               WD                         \n",
      "5068   Q1156634     P186    Q178024        ice cream cone'                  dough'  'material used'@en                               WD                         \n",
      "5139   Q1158805     P186     Q11427          food steamer'                  steel'  'material used'@en                               WD                         \n",
      "5140   Q1158805     P186     Q45621          food steamer'                ceramic'  'material used'@en                               WD                         \n",
      "5141   Q1158805     P186       Q663          food steamer'               aluminum'  'material used'@en                               WD                         \n",
      "5142   Q1158805     P186       Q753          food steamer'                 copper'  'material used'@en                               WD                         \n",
      "5167  Q11604529     P186     Q42302        clay roof tile'                   clay'  'material used'@en                               WD                         \n",
      "5180  Q11607438     P186     Q11457                cotton'                 cotton'  'material used'@en                               WD                         \n",
      "5331  Q11646566     P186       Q897             gold seal'                   gold'  'material used'@en                               WD                         \n",
      "5462   Q1169854     P186     Q43010           quartz sand'                 quartz'  'material used'@en                               WD                         \n",
      "5479  Q11700178     P186     Q10987              nut roll'                  honey'  'material used'@en                               WD                         \n",
      "5480  Q11700178     P186     Q11002              nut roll'                  sugar'  'material used'@en                               WD                         \n"
     ]
    }
   ],
   "source": [
    "with pd.option_context('display.max_rows', None, 'display.width', 1000):  # more options can be specified also\n",
    "    print(df2[df2['relation']=='P186'].head(100))"
   ]
  },
  {
   "cell_type": "markdown",
   "metadata": {},
   "source": [
    "## Compute statistics"
   ]
  },
  {
   "cell_type": "code",
   "execution_count": 22,
   "metadata": {},
   "outputs": [],
   "source": [
    "%%bash\n",
    "kgtk graph_statistics --directed --degrees --pagerank --hits --log summary.txt -i tmp/kgtk_wikidata_ready.tsv > tmp/stats/wiki_stats.tsv"
   ]
  },
  {
   "cell_type": "code",
   "execution_count": 23,
   "metadata": {},
   "outputs": [
    {
     "name": "stdout",
     "output_type": "stream",
     "text": [
      "loading the TSV graph now ...\n",
      "graph loaded! It has 174958 nodes and 207798 edges\n",
      "\n",
      "###Top relations:\n",
      "P279\t187128\n",
      "P527\t8153\n",
      "P461\t3114\n",
      "P366\t3071\n",
      "P186\t2358\n",
      "P1552\t1773\n",
      "P828\t868\n",
      "P1542\t778\n",
      "P170\t368\n",
      "P276\t170\n",
      "\n",
      "###Degrees:\n",
      "in degree stats: mean=1.187702, std=0.491553, max=1\n",
      "out degree stats: mean=1.187702, std=0.001702, max=1\n",
      "total degree stats: mean=2.375404, std=0.491586, max=1\n",
      "\n",
      "###PageRank\n",
      "Max pageranks\n",
      "6643\tQ27096213\t0.017968\n",
      "2320\tQ17334923\t0.020545\n",
      "3446\tQ8054\t0.079553\n",
      "6107\tQ35120\t0.026404\n",
      "3963\tQ8066\t0.019283\n",
      "\n",
      "###HITS\n",
      "HITS hubs\n",
      "1754\tQ127980\t0.000023\n",
      "391\tQ2095\t0.000023\n",
      "37007\tQ2449730\t0.000536\n",
      "3446\tQ8054\t1.000000\n",
      "421\tQ283\t0.000058\n",
      "HITS auth\n",
      "141724\tQ63035501\t0.003413\n",
      "118460\tQ62636719\t0.003413\n",
      "120538\tQ62653627\t0.003413\n",
      "117590\tQ62631098\t0.003413\n",
      "118967\tQ62640253\t0.003413\n"
     ]
    }
   ],
   "source": [
    "%%bash\n",
    "cat summary.txt"
   ]
  },
  {
   "cell_type": "code",
   "execution_count": null,
   "metadata": {},
   "outputs": [],
   "source": []
  }
 ],
 "metadata": {
  "kernelspec": {
   "display_name": "Python 3",
   "language": "python",
   "name": "python3"
  },
  "language_info": {
   "codemirror_mode": {
    "name": "ipython",
    "version": 3
   },
   "file_extension": ".py",
   "mimetype": "text/x-python",
   "name": "python",
   "nbconvert_exporter": "python",
   "pygments_lexer": "ipython3",
   "version": "3.7.7"
  }
 },
 "nbformat": 4,
 "nbformat_minor": 4
}
