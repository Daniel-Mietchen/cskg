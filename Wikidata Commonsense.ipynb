{
 "cells": [
  {
   "cell_type": "markdown",
   "metadata": {},
   "source": [
    "# Extracting commonsense knowledge from Wikidata"
   ]
  },
  {
   "cell_type": "markdown",
   "metadata": {},
   "source": [
    "## Define relevant properties"
   ]
  },
  {
   "cell_type": "code",
   "execution_count": 1,
   "metadata": {},
   "outputs": [
    {
     "name": "stdout",
     "output_type": "stream",
     "text": [
      "env: properties=\"P1889,P461,P527,P186,P463,P276,P170,P366,P279\"\n"
     ]
    }
   ],
   "source": [
    "%env properties=\"P1889,P461,P527,P186,P463,P276,P170,P366,P279\""
   ]
  },
  {
   "cell_type": "markdown",
   "metadata": {},
   "source": [
    "## Filter relevant properties"
   ]
  },
  {
   "cell_type": "code",
   "execution_count": 2,
   "metadata": {},
   "outputs": [],
   "source": [
    "%%bash\n",
    "kgtk filter -p \" ; $properties ; \" input/wikidata_edges_20200504.tsv.gz > tmp/kgtk_wikidata_filter.tsv"
   ]
  },
  {
   "cell_type": "markdown",
   "metadata": {},
   "source": [
    "## Remove columns"
   ]
  },
  {
   "cell_type": "code",
   "execution_count": 3,
   "metadata": {},
   "outputs": [
    {
     "name": "stdout",
     "output_type": "stream",
     "text": [
      "env: ignore_cols=id,rank,node2;magnitude,node2;unit,node2;item,node2;lower,node2;upper,node2;entity-type,node2;longitude,node2;latitude,node2;date,node2;calendar,node2;precision\n"
     ]
    }
   ],
   "source": [
    "%env ignore_cols=id,rank,node2;magnitude,node2;unit,node2;item,node2;lower,node2;upper,node2;entity-type,node2;longitude,node2;latitude,node2;date,node2;calendar,node2;precision"
   ]
  },
  {
   "cell_type": "code",
   "execution_count": 4,
   "metadata": {},
   "outputs": [],
   "source": [
    "%%bash\n",
    "kgtk remove_columns -c \"$ignore_cols\" -i tmp/kgtk_wikidata_filter.tsv > tmp/kgtk_wikidata_cols.tsv"
   ]
  },
  {
   "cell_type": "markdown",
   "metadata": {},
   "source": [
    "## Deduplicate"
   ]
  },
  {
   "cell_type": "code",
   "execution_count": 5,
   "metadata": {},
   "outputs": [],
   "source": [
    "%%bash\n",
    "kgtk compact -i tmp/kgtk_wikidata_cols.tsv -o tmp/kgtk_wikidata_compact.tsv"
   ]
  },
  {
   "cell_type": "markdown",
   "metadata": {},
   "source": [
    "## Add labels"
   ]
  },
  {
   "cell_type": "code",
   "execution_count": 4,
   "metadata": {},
   "outputs": [
    {
     "name": "stderr",
     "output_type": "stream",
     "text": [
      "Opening the input file: tmp/kgtk_wikidata_compact.tsv\n",
      "KgtkReader: File_path.suffix: .tsv\n",
      "KgtkReader: reading file tmp/kgtk_wikidata_compact.tsv\n",
      "header: node1\tlabel\tnode2\n",
      "node1 column found, this is a KGTK edge file\n",
      "KgtkReader: Special columns: node1=0 label=1 node2=2 id=-1\n",
      "KgtkReader: Reading an edge file.\n",
      "Opening the label file: input/wikidata/wiki_labels.tsv\n",
      "KgtkReader: File_path.suffix: .tsv\n",
      "KgtkReader: reading file input/wikidata/wiki_labels.tsv\n",
      "header: node1\tlabel\tnode2\n",
      "node1 column found, this is a KGTK edge file\n",
      "KgtkReader: Special columns: node1=0 label=1 node2=2 id=-1\n",
      "KgtkReader: Reading an edge file.\n",
      "Lifting with in-memory buffering.\n",
      "Reading input data to prefilter the labels.\n",
      "Loading input rows without labels from tmp/kgtk_wikidata_compact.tsv\n",
      "Labels needed: 3431341\n",
      "Loading labels from the label file.\n",
      "Loading labels from input/wikidata/wiki_labels.tsv\n",
      "Filtering for needed labels\n",
      "label_match_column_idx=0 (node1).\n",
      "label_select_column_idx=1 (label).\n",
      "label_value_column_idx=2 (node2).\n",
      "label_select_column_value='label'.\n",
      "Opening the output file: tmp/kgtk_wikidata.tsv\n",
      "File_path.suffix: .tsv\n",
      "KgtkWriter: writing file tmp/kgtk_wikidata.tsv\n",
      "header: node1\tlabel\tnode2\tnode1;label\tnode2;label\tlabel;label\n",
      "Writing output records\n",
      "Read 5226720 non-label input records.\n",
      "2492655 labels were found.\n",
      "Wrote 5226720 records.\n"
     ]
    }
   ],
   "source": [
    "%%bash\n",
    "kgtk --debug lift --verbose \\\n",
    "     --input-file tmp/kgtk_wikidata_compact.tsv \\\n",
    "     --label-file input/wikidata/wiki_labels.tsv \\\n",
    "     --output-file tmp/kgtk_wikidata.tsv \\\n",
    "     --columns-to-lift node1 node2 label \\\n",
    "     --prefilter-labels"
   ]
  },
  {
   "cell_type": "markdown",
   "metadata": {},
   "source": [
    "## Add PageRank"
   ]
  },
  {
   "cell_type": "code",
   "execution_count": 5,
   "metadata": {},
   "outputs": [
    {
     "name": "stderr",
     "output_type": "stream",
     "text": [
      "Opening the input file: tmp/kgtk_wikidata.tsv\n",
      "KgtkReader: File_path.suffix: .tsv\n",
      "KgtkReader: reading file tmp/kgtk_wikidata.tsv\n",
      "header: node1\tlabel\tnode2\tnode1;label\tnode2;label\tlabel;label\n",
      "node1 column found, this is a KGTK edge file\n",
      "KgtkReader: Special columns: node1=0 label=1 node2=2 id=-1\n",
      "KgtkReader: Reading an edge file.\n",
      "Opening the label file: input/wikidata/wikidata-pagerank-only-sorted2.tsv\n",
      "KgtkReader: File_path.suffix: .tsv\n",
      "KgtkReader: reading file input/wikidata/wikidata-pagerank-only-sorted2.tsv\n",
      "header: node1\trelation\tnode2\tid\n",
      "node1 column found, this is a KGTK edge file\n",
      "KgtkReader: Special columns: node1=0 label=1 node2=2 id=3\n",
      "KgtkReader: Reading an edge file.\n",
      "Lifting with in-memory buffering.\n",
      "Reading input data to prefilter the labels.\n",
      "Loading input rows without labels from tmp/kgtk_wikidata.tsv\n",
      "Labels needed: 3431334\n",
      "Loading labels from the label file.\n",
      "Loading labels from input/wikidata/wikidata-pagerank-only-sorted2.tsv\n",
      "Filtering for needed labels\n",
      "label_match_column_idx=0 (node1).\n",
      "label_select_column_idx=1 (relation).\n",
      "label_value_column_idx=2 (node2).\n",
      "label_select_column_value='vertex_pagerank'.\n",
      "Opening the output file: tmp/kgtk_wikidata_with_pr.tsv\n",
      "File_path.suffix: .tsv\n",
      "KgtkWriter: writing file tmp/kgtk_wikidata_with_pr.tsv\n",
      "header: node1\tlabel\tnode2\tnode1;label\tnode2;label\tlabel;label\tnode1;pagerank\tnode2;pagerank\n",
      "Writing output records\n",
      "Read 5226720 non-label input records.\n",
      "3428931 labels were found.\n",
      "Wrote 5226720 records.\n"
     ]
    }
   ],
   "source": [
    "%%bash\n",
    "kgtk --debug lift --verbose \\\n",
    "     --input-file tmp/kgtk_wikidata.tsv \\\n",
    "     --label-file input/wikidata/wikidata-pagerank-only-sorted2.tsv \\\n",
    "     --output-file tmp/kgtk_wikidata_with_pr.tsv \\\n",
    "     --columns-to-lift node1 node2 \\\n",
    "     --property vertex_pagerank \\\n",
    "     --lift-suffix \";pagerank\" \\\n",
    "     --prefilter-labels"
   ]
  },
  {
   "cell_type": "markdown",
   "metadata": {},
   "source": [
    "## Compute statistics"
   ]
  },
  {
   "cell_type": "code",
   "execution_count": 7,
   "metadata": {},
   "outputs": [],
   "source": [
    "%%bash\n",
    "kgtk graph_statistics --directed --degrees --pagerank --hits --log p463_summary.txt -i tmp/kgtk_wikidata.tsv > tmp/stats/wiki_stats.tsv"
   ]
  },
  {
   "cell_type": "markdown",
   "metadata": {},
   "source": [
    "## Filtering\n",
    "* How about we filter on PageRank or other popularity?\n",
    "* Also filter out nodes with no label?"
   ]
  },
  {
   "cell_type": "code",
   "execution_count": null,
   "metadata": {},
   "outputs": [],
   "source": []
  }
 ],
 "metadata": {
  "kernelspec": {
   "display_name": "Python 3",
   "language": "python",
   "name": "python3"
  },
  "language_info": {
   "codemirror_mode": {
    "name": "ipython",
    "version": 3
   },
   "file_extension": ".py",
   "mimetype": "text/x-python",
   "name": "python",
   "nbconvert_exporter": "python",
   "pygments_lexer": "ipython3",
   "version": "3.7.7"
  }
 },
 "nbformat": 4,
 "nbformat_minor": 4
}
