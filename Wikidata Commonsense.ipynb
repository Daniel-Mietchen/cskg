{
 "cells": [
  {
   "cell_type": "markdown",
   "metadata": {},
   "source": [
    "# Extracting commonsense knowledge from Wikidata"
   ]
  },
  {
   "cell_type": "markdown",
   "metadata": {},
   "source": [
    "## Define files"
   ]
  },
  {
   "cell_type": "code",
   "execution_count": 6,
   "metadata": {},
   "outputs": [],
   "source": [
    "from tqdm import tqdm\n",
    "import pandas as pd"
   ]
  },
  {
   "cell_type": "code",
   "execution_count": 1,
   "metadata": {},
   "outputs": [],
   "source": [
    "year='2020'"
   ]
  },
  {
   "cell_type": "code",
   "execution_count": 9,
   "metadata": {},
   "outputs": [],
   "source": [
    "if year=='2020':\n",
    "    data_dir='input/wikidata-20200504'\n",
    "    edge_file='%s/wikidata_edges_20200504.tsv' % data_dir\n",
    "    node_file='%s/wikidata_nodes_20200504_clean.tsv' % data_dir\n",
    "    tmp_dir='tmp/wikidata20200504'\n",
    "elif year=='2017':\n",
    "    data_dir='input/wikidata-20171227'\n",
    "    edge_file='%s/wikidata20171227-all-edges.tsv' % data_dir\n",
    "    node_file='%s/wikidata20171227-all-nodes.tsv' % data_dir\n",
    "    tmp_dir='tmp/wikidata20171227'\n",
    "elif year=='2018':\n",
    "    data_dir='input/wikidata-20181210'\n",
    "    edge_file='%s/wikidata-20181210-all-edges.tsv' % data_dir\n",
    "    node_file='%s/wikidata-20181210-all-nodes.tsv' % data_dir\n",
    "    tmp_dir='tmp/wikidata20181210'\n",
    "\n",
    "\n",
    "trimmed_edge_file='%s/edges_trimmed.tsv' % tmp_dir\n",
    "concept_file='%s/concepts.tsv' % tmp_dir\n",
    "concepts_edge_file='%s/concept_edges.tsv' % tmp_dir\n",
    "compact_concepts_edge_file='%s/compact_concept_edges.tsv' % tmp_dir\n",
    "concept_edges_with_labels_file='%s/compact_concept_edges_with_labels.tsv' % tmp_dir\n",
    "usage_file='%s/usage.tsv' % tmp_dir\n",
    "ready_file='%s/wikidata_cs.tsv' % tmp_dir\n",
    "stats_file='%s/stats.tsv' % tmp_dir\n",
    "rels_file='%s/rels.tsv' % tmp_dir"
   ]
  },
  {
   "cell_type": "code",
   "execution_count": 7,
   "metadata": {},
   "outputs": [],
   "source": [
    "%%bash -s \"$tmp_dir\"\n",
    "mkdir -p $1"
   ]
  },
  {
   "cell_type": "markdown",
   "metadata": {},
   "source": [
    "## Step I: Filter out named entities"
   ]
  },
  {
   "cell_type": "markdown",
   "metadata": {},
   "source": [
    "### Extract concept nodes"
   ]
  },
  {
   "cell_type": "code",
   "execution_count": 8,
   "metadata": {},
   "outputs": [],
   "source": []
  },
  {
   "cell_type": "code",
   "execution_count": 9,
   "metadata": {},
   "outputs": [
    {
     "name": "stderr",
     "output_type": "stream",
     "text": [
      " 63%|██████▎   | 53004762/84000000 [01:09<00:40, 763962.97it/s]\n"
     ]
    }
   ],
   "source": [
    "concepts=set()\n",
    "with open(node_file, 'r') as f:\n",
    "    header=next(f)\n",
    "    for line in tqdm(f, total=84000000):\n",
    "        data=line.split('\\t')\n",
    "        label=data[1].strip()\n",
    "        if label=='' or not isinstance(label, str): continue\n",
    "        label=label[1:-4]\n",
    "        if label[0].islower():\n",
    "            node_id=data[0]\n",
    "            concepts.add(node_id)"
   ]
  },
  {
   "cell_type": "code",
   "execution_count": 10,
   "metadata": {},
   "outputs": [
    {
     "data": {
      "text/plain": [
       "946945"
      ]
     },
     "execution_count": 10,
     "metadata": {},
     "output_type": "execute_result"
    }
   ],
   "source": [
    "len(concepts)"
   ]
  },
  {
   "cell_type": "code",
   "execution_count": 11,
   "metadata": {},
   "outputs": [],
   "source": [
    "with open(concept_file, 'w') as w:\n",
    "    w.write('id\\n')\n",
    "    for c in concepts:\n",
    "        w.write('%s\\n' % c)"
   ]
  },
  {
   "cell_type": "markdown",
   "metadata": {},
   "source": [
    "### Only keep edges with relevant nodes and trim columns"
   ]
  },
  {
   "cell_type": "code",
   "execution_count": 12,
   "metadata": {},
   "outputs": [
    {
     "name": "stdout",
     "output_type": "stream",
     "text": [
      "env: ignore_cols=rank\n"
     ]
    }
   ],
   "source": [
    "%env ignore_cols=rank\n",
    "#%env ignore_cols=id,rank,node2;magnitude,node2;unit,node2;item,node2;lower,node2;upper,node2;entity-type,node2;longitude,node2;latitude,node2;date,node2;calendar,node2;precision"
   ]
  },
  {
   "cell_type": "code",
   "execution_count": 13,
   "metadata": {},
   "outputs": [],
   "source": [
    "%%bash -s \"$edge_file\" \"$concept_file\" \"$concepts_edge_file\"\n",
    "kgtk ifexists $1 --filter-on $2 / ifexists --filter-on $2 --input-keys node2 > $3"
   ]
  },
  {
   "cell_type": "code",
   "execution_count": 14,
   "metadata": {},
   "outputs": [],
   "source": [
    "%%bash -s \"$concepts_edge_file\" \"$trimmed_edge_file\"\n",
    "kgtk remove_columns -i $1 -c \"$ignore_cols\" > $2"
   ]
  },
  {
   "cell_type": "markdown",
   "metadata": {},
   "source": [
    "### Deduplicate"
   ]
  },
  {
   "cell_type": "code",
   "execution_count": 15,
   "metadata": {},
   "outputs": [],
   "source": [
    "df=pd.read_csv(trimmed_edge_file, sep='\\t')"
   ]
  },
  {
   "cell_type": "code",
   "execution_count": 16,
   "metadata": {},
   "outputs": [
    {
     "data": {
      "text/plain": [
       "2065872"
      ]
     },
     "execution_count": 16,
     "metadata": {},
     "output_type": "execute_result"
    }
   ],
   "source": [
    "len(df)"
   ]
  },
  {
   "cell_type": "markdown",
   "metadata": {},
   "source": [
    "### Add labels"
   ]
  },
  {
   "cell_type": "code",
   "execution_count": 17,
   "metadata": {},
   "outputs": [
    {
     "name": "stderr",
     "output_type": "stream",
     "text": [
      "Opening the input file: tmp/wikidata20181210/edges_trimmed.tsv\n",
      "KgtkReader: File_path.suffix: .tsv\n",
      "KgtkReader: reading file tmp/wikidata20181210/edges_trimmed.tsv\n",
      "header: id\tnode1\tlabel\tnode2\n",
      "node1 column found, this is a KGTK edge file\n",
      "KgtkReader: Special columns: node1=1 label=2 node2=3 id=0\n",
      "KgtkReader: Reading an edge file.\n",
      "Opening the label file: input/wikidata-20181210/wikidata-20181210-all-nodes.tsv\n",
      "KgtkReader: File_path.suffix: .tsv\n",
      "KgtkReader: reading file input/wikidata-20181210/wikidata-20181210-all-nodes.tsv\n",
      "header: id\tlabel\ttype\tdescription\talias\n",
      "node1 column not found, assuming this is a KGTK node file\n",
      "KgtkReader: Special columns: node1=-1 label=1 node2=-1 id=0\n",
      "KgtkReader: Reading an node file.\n",
      "Lifting with in-memory buffering.\n",
      "Reading input data to prefilter the labels.\n",
      "Loading input rows without labels from tmp/wikidata20181210/edges_trimmed.tsv\n",
      "Labels needed: 800378\n",
      "Loading labels from the label file.\n",
      "The label file is a node file, defaulting to the ID column for the match column.\n",
      "The label file is a node file, defaulting to no label select column.\n",
      "Loading labels from input/wikidata-20181210/wikidata-20181210-all-nodes.tsv\n",
      "Filtering for needed labels\n",
      "label_match_column_idx=0 (id).\n",
      "label_select_column_idx=-1.\n",
      "label_value_column_idx=1 (label).\n",
      "label_select_column_value='label'.\n",
      "Opening the output file: tmp/wikidata20181210/compact_concept_edges_with_labels.tsv\n",
      "File_path.suffix: .tsv\n",
      "KgtkWriter: writing file tmp/wikidata20181210/compact_concept_edges_with_labels.tsv\n",
      "header: id\tnode1\tlabel\tnode2\tnode1;label\tnode2;label\tlabel;label\n",
      "Writing output records\n",
      "Read 2065872 non-label input records.\n",
      "800378 labels were found.\n",
      "Wrote 2065872 records.\n"
     ]
    }
   ],
   "source": [
    "%%bash -s \"$trimmed_edge_file\" \"$node_file\" \"$concept_edges_with_labels_file\"\n",
    "kgtk --debug lift --verbose \\\n",
    "     --input-file $1 \\\n",
    "     --label-file $2 \\\n",
    "     --output-file $3 \\\n",
    "     --columns-to-lift node1 node2 label \\\n",
    "     --prefilter-labels \\\n",
    "     --label-value-column label \\\n",
    "     --expert"
   ]
  },
  {
   "cell_type": "markdown",
   "metadata": {},
   "source": [
    "## Step II: Filter by usage"
   ]
  },
  {
   "cell_type": "code",
   "execution_count": 3,
   "metadata": {},
   "outputs": [],
   "source": [
    "from wordfreq import word_frequency"
   ]
  },
  {
   "cell_type": "code",
   "execution_count": 4,
   "metadata": {},
   "outputs": [],
   "source": [
    "threshold=1e-06"
   ]
  },
  {
   "cell_type": "code",
   "execution_count": 7,
   "metadata": {},
   "outputs": [
    {
     "name": "stderr",
     "output_type": "stream",
     "text": [
      " 96%|█████████▋| 3376431/3500000 [00:24<00:00, 136861.82it/s]\n"
     ]
    }
   ],
   "source": [
    "filtered_rows=[]\n",
    "rels=[]\n",
    "with open(concept_edges_with_labels_file, 'r') as f:\n",
    "    header=next(f).split('\\t')\n",
    "    if len(header)>6:\n",
    "        header=header[1:]\n",
    "    for line in tqdm(f, total=3500000):\n",
    "        a_row=line.strip().split('\\t')\n",
    "        if year in ['2017', '2018']:\n",
    "            a_row=a_row[1:]\n",
    "            \n",
    "        node1_label=a_row[3][1:-4]\n",
    "        node2_label=a_row[4][1:-4]\n",
    "#        print(node1_label, node2_label)\n",
    "#        input('c')\n",
    "        if (any(x.isupper() for x in node1_label) or any(x.isupper() for x in node2_label)): continue\n",
    "        wf1=word_frequency(node1_label, 'en')\n",
    "        if wf1 >=threshold:\n",
    "            wf2=word_frequency(node2_label, 'en')\n",
    "            if wf2>=threshold:\n",
    "                filtered_rows.append(a_row)\n",
    "                rel='%s (%s)' % (a_row[5].strip()[1:-4], a_row[1])\n",
    "                rels.append(rel)"
   ]
  },
  {
   "cell_type": "code",
   "execution_count": 8,
   "metadata": {},
   "outputs": [
    {
     "data": {
      "text/plain": [
       "420822"
      ]
     },
     "execution_count": 8,
     "metadata": {},
     "output_type": "execute_result"
    }
   ],
   "source": [
    "len(filtered_rows)"
   ]
  },
  {
   "cell_type": "code",
   "execution_count": 11,
   "metadata": {},
   "outputs": [],
   "source": [
    "from collections import Counter"
   ]
  },
  {
   "cell_type": "code",
   "execution_count": 12,
   "metadata": {},
   "outputs": [],
   "source": [
    "dist_rels=Counter(rels)"
   ]
  },
  {
   "cell_type": "code",
   "execution_count": 13,
   "metadata": {},
   "outputs": [
    {
     "data": {
      "text/plain": [
       "414"
      ]
     },
     "execution_count": 13,
     "metadata": {},
     "output_type": "execute_result"
    }
   ],
   "source": [
    "len(dist_rels)"
   ]
  },
  {
   "cell_type": "code",
   "execution_count": 14,
   "metadata": {},
   "outputs": [],
   "source": [
    "s=0\n",
    "with open(rels_file, 'w') as w:\n",
    "    for rel, freq in dist_rels.most_common(500):\n",
    "        w.write('%s\\t%s\\n' % (rel, freq))\n",
    "        s+=freq"
   ]
  },
  {
   "cell_type": "code",
   "execution_count": 15,
   "metadata": {},
   "outputs": [
    {
     "data": {
      "text/plain": [
       "420822"
      ]
     },
     "execution_count": 15,
     "metadata": {},
     "output_type": "execute_result"
    }
   ],
   "source": [
    "s"
   ]
  },
  {
   "cell_type": "code",
   "execution_count": 16,
   "metadata": {},
   "outputs": [
    {
     "name": "stdout",
     "output_type": "stream",
     "text": [
      "['Q2359404', 'P689', 'Q2191986', \"'fall in older adults'@en\", \"'elderly'@en\", \"'afflicts'@en\"]\n"
     ]
    }
   ],
   "source": [
    "wanted='P689'\n",
    "for row in filtered_rows:\n",
    "    if row[1]==wanted:\n",
    "        print(row)\n",
    "        break"
   ]
  },
  {
   "cell_type": "code",
   "execution_count": 17,
   "metadata": {},
   "outputs": [],
   "source": [
    "df1=pd.DataFrame(filtered_rows, columns=header)"
   ]
  },
  {
   "cell_type": "code",
   "execution_count": 18,
   "metadata": {},
   "outputs": [
    {
     "data": {
      "text/plain": [
       "420822"
      ]
     },
     "execution_count": 18,
     "metadata": {},
     "output_type": "execute_result"
    }
   ],
   "source": [
    "len(df1)"
   ]
  },
  {
   "cell_type": "code",
   "execution_count": 19,
   "metadata": {},
   "outputs": [],
   "source": [
    "df1.to_csv(usage_file, index=False, sep='\\t', columns=header)"
   ]
  },
  {
   "cell_type": "markdown",
   "metadata": {},
   "source": [
    "## Step III: Map properties"
   ]
  },
  {
   "cell_type": "code",
   "execution_count": 20,
   "metadata": {},
   "outputs": [],
   "source": [
    "from mapping import fw_mapping, bw_mapping"
   ]
  },
  {
   "cell_type": "code",
   "execution_count": 21,
   "metadata": {},
   "outputs": [],
   "source": [
    "import mapping"
   ]
  },
  {
   "cell_type": "code",
   "execution_count": 34,
   "metadata": {},
   "outputs": [
    {
     "data": {
      "text/plain": [
       "<module 'mapping' from '/Users/filipilievski/mcs/cskg/mapping.py'>"
      ]
     },
     "execution_count": 34,
     "metadata": {},
     "output_type": "execute_result"
    }
   ],
   "source": [
    "import importlib\n",
    "importlib.reload(mapping)"
   ]
  },
  {
   "cell_type": "code",
   "execution_count": 37,
   "metadata": {},
   "outputs": [],
   "source": [
    "blacklisted_rels=['P681', 'P2548', 'P680', 'P682', 'P816']"
   ]
  },
  {
   "cell_type": "code",
   "execution_count": 61,
   "metadata": {},
   "outputs": [],
   "source": [
    "mapped_fw=set()\n",
    "mapped_bw=set()\n",
    "rows=[]\n",
    "#blacklisted_nodes=set()\n",
    "for row in filtered_rows:\n",
    "    rel=row[1]\n",
    "    if rel in mapping.fw_mapping.keys() or rel in mapping.bw_mapping.keys():\n",
    "        rows.append(row)\n",
    "#    elif rel in blacklisted_rels:\n",
    "#        blacklisted_nodes.add(row[0])\n",
    "#        blacklisted_nodes.add(row[2])"
   ]
  },
  {
   "cell_type": "code",
   "execution_count": 62,
   "metadata": {},
   "outputs": [],
   "source": [
    "df2=pd.DataFrame(rows, columns=header)"
   ]
  },
  {
   "cell_type": "code",
   "execution_count": 63,
   "metadata": {},
   "outputs": [],
   "source": [
    "df2.to_csv(ready_file, index=False, sep='\\t', columns=header)"
   ]
  },
  {
   "cell_type": "markdown",
   "metadata": {},
   "source": [
    "## Step IV: Compute statistics"
   ]
  },
  {
   "cell_type": "code",
   "execution_count": 64,
   "metadata": {},
   "outputs": [],
   "source": [
    "%%bash -s \"$ready_file\" \"$stats_file\"\n",
    "kgtk graph_statistics --directed --degrees --pagerank --hits --log summary.txt -i $1 > $2"
   ]
  },
  {
   "cell_type": "code",
   "execution_count": 65,
   "metadata": {},
   "outputs": [
    {
     "name": "stdout",
     "output_type": "stream",
     "text": [
      "loading the TSV graph now ...\n",
      "graph loaded! It has 193193 nodes and 387932 edges\n",
      "\n",
      "###Top relations:\n",
      "P279\t172535\n",
      "P31\t141499\n",
      "P361\t9118\n",
      "P1889\t7767\n",
      "P527\t6252\n",
      "P1269\t4792\n",
      "P366\t3045\n",
      "P461\t3028\n",
      "P1963\t2382\n",
      "P1659\t2344\n",
      "\n",
      "###Degrees:\n",
      "in degree stats: mean=2.008002, std=0.894863, max=1\n",
      "out degree stats: mean=2.008002, std=0.002790, max=1\n",
      "total degree stats: mean=4.016005, std=0.894949, max=1\n",
      "\n",
      "###PageRank\n",
      "Max pageranks\n",
      "463\tQ5058355\t0.007770\n",
      "1058\tQ3249551\t0.010063\n",
      "95\tQ2996394\t0.016572\n",
      "2070\tQ8054\t0.069876\n",
      "98\tQ11862829\t0.008882\n",
      "\n",
      "###HITS\n",
      "HITS hubs\n",
      "8680\tQ7187\t0.000015\n",
      "1248\tQ84467700\t0.000076\n",
      "11767\tQ2449730\t0.000314\n",
      "1247\tQ423042\t0.002960\n",
      "2070\tQ8054\t0.999996\n",
      "HITS auth\n",
      "83896\tQ62640253\t0.003417\n",
      "106987\tQ62627511\t0.003417\n",
      "68085\tQ56709542\t0.003417\n",
      "71373\tQ62631641\t0.003417\n",
      "107201\tQ62652568\t0.003417\n"
     ]
    }
   ],
   "source": [
    "%%bash\n",
    "cat summary.txt"
   ]
  },
  {
   "cell_type": "code",
   "execution_count": null,
   "metadata": {},
   "outputs": [],
   "source": []
  }
 ],
 "metadata": {
  "kernelspec": {
   "display_name": "Python 3",
   "language": "python",
   "name": "python3"
  },
  "language_info": {
   "codemirror_mode": {
    "name": "ipython",
    "version": 3
   },
   "file_extension": ".py",
   "mimetype": "text/x-python",
   "name": "python",
   "nbconvert_exporter": "python",
   "pygments_lexer": "ipython3",
   "version": "3.7.7"
  }
 },
 "nbformat": 4,
 "nbformat_minor": 4
}
