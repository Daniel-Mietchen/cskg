{
 "cells": [
  {
   "cell_type": "markdown",
   "metadata": {},
   "source": [
    "# Extracting commonsense knowledge from Wikidata"
   ]
  },
  {
   "cell_type": "markdown",
   "metadata": {},
   "source": [
    "## Define relevant properties"
   ]
  },
  {
   "cell_type": "code",
   "execution_count": null,
   "metadata": {},
   "outputs": [],
   "source": [
    "%env properties=\"P1889,P461,P527,P186,P463,P276,P170,P366,P279,P1552,P828,P1542,P462\" #,P31\""
   ]
  },
  {
   "cell_type": "markdown",
   "metadata": {},
   "source": [
    "## Filter relevant properties"
   ]
  },
  {
   "cell_type": "code",
   "execution_count": null,
   "metadata": {},
   "outputs": [],
   "source": [
    "%%bash\n",
    "kgtk filter -p \" ; $properties ; \" input/wikidata/wikidata_edges_20200504.tsv.gz > tmp/kgtk_wikidata_filter.tsv"
   ]
  },
  {
   "cell_type": "markdown",
   "metadata": {},
   "source": [
    "## Remove columns"
   ]
  },
  {
   "cell_type": "code",
   "execution_count": 47,
   "metadata": {},
   "outputs": [
    {
     "name": "stdout",
     "output_type": "stream",
     "text": [
      "env: ignore_cols=id,rank,node2;magnitude,node2;unit,node2;item,node2;lower,node2;upper,node2;entity-type,node2;longitude,node2;latitude,node2;date,node2;calendar,node2;precision\n"
     ]
    }
   ],
   "source": [
    "%env ignore_cols=id,rank,node2;magnitude,node2;unit,node2;item,node2;lower,node2;upper,node2;entity-type,node2;longitude,node2;latitude,node2;date,node2;calendar,node2;precision"
   ]
  },
  {
   "cell_type": "code",
   "execution_count": 48,
   "metadata": {},
   "outputs": [],
   "source": [
    "%%bash\n",
    "kgtk remove_columns -c \"$ignore_cols\" -i tmp/kgtk_wikidata_filter.tsv > tmp/kgtk_wikidata_cols.tsv"
   ]
  },
  {
   "cell_type": "markdown",
   "metadata": {},
   "source": [
    "## Deduplicate"
   ]
  },
  {
   "cell_type": "code",
   "execution_count": 49,
   "metadata": {},
   "outputs": [],
   "source": [
    "%%bash\n",
    "kgtk compact -i tmp/kgtk_wikidata_cols.tsv -o tmp/kgtk_wikidata_compact.tsv"
   ]
  },
  {
   "cell_type": "markdown",
   "metadata": {},
   "source": [
    "## Add labels"
   ]
  },
  {
   "cell_type": "code",
   "execution_count": 50,
   "metadata": {},
   "outputs": [
    {
     "name": "stderr",
     "output_type": "stream",
     "text": [
      "Opening the input file: tmp/kgtk_wikidata_compact.tsv\n",
      "KgtkReader: File_path.suffix: .tsv\n",
      "KgtkReader: reading file tmp/kgtk_wikidata_compact.tsv\n",
      "header: node1\tlabel\tnode2\n",
      "node1 column found, this is a KGTK edge file\n",
      "KgtkReader: Special columns: node1=0 label=1 node2=2 id=-1\n",
      "KgtkReader: Reading an edge file.\n",
      "Opening the label file: input/wikidata/wiki_labels.tsv\n",
      "KgtkReader: File_path.suffix: .tsv\n",
      "KgtkReader: reading file input/wikidata/wiki_labels.tsv\n",
      "header: node1\tlabel\tnode2\n",
      "node1 column found, this is a KGTK edge file\n",
      "KgtkReader: Special columns: node1=0 label=1 node2=2 id=-1\n",
      "KgtkReader: Reading an edge file.\n",
      "Lifting with in-memory buffering.\n",
      "Reading input data to prefilter the labels.\n",
      "Loading input rows without labels from tmp/kgtk_wikidata_compact.tsv\n",
      "Labels needed: 5611919\n",
      "Loading labels from the label file.\n",
      "Loading labels from input/wikidata/wiki_labels.tsv\n",
      "Filtering for needed labels\n",
      "label_match_column_idx=0 (node1).\n",
      "label_select_column_idx=1 (label).\n",
      "label_value_column_idx=2 (node2).\n",
      "label_select_column_value='label'.\n",
      "Opening the output file: tmp/kgtk_wikidata.tsv\n",
      "File_path.suffix: .tsv\n",
      "KgtkWriter: writing file tmp/kgtk_wikidata.tsv\n",
      "header: node1\tlabel\tnode2\tnode1;label\tnode2;label\tlabel;label\n",
      "Writing output records\n",
      "Read 8256446 non-label input records.\n",
      "4581314 labels were found.\n",
      "Wrote 8256446 records.\n"
     ]
    }
   ],
   "source": [
    "%%bash\n",
    "kgtk --debug lift --verbose \\\n",
    "     --input-file tmp/kgtk_wikidata_compact.tsv \\\n",
    "     --label-file input/wikidata/wiki_labels.tsv \\\n",
    "     --output-file tmp/kgtk_wikidata.tsv \\\n",
    "     --columns-to-lift node1 node2 label \\\n",
    "     --prefilter-labels"
   ]
  },
  {
   "cell_type": "markdown",
   "metadata": {},
   "source": [
    "## Add PageRank"
   ]
  },
  {
   "cell_type": "code",
   "execution_count": 51,
   "metadata": {},
   "outputs": [
    {
     "name": "stderr",
     "output_type": "stream",
     "text": [
      "Opening the input file: tmp/kgtk_wikidata.tsv\n",
      "KgtkReader: File_path.suffix: .tsv\n",
      "KgtkReader: reading file tmp/kgtk_wikidata.tsv\n",
      "header: node1\tlabel\tnode2\tnode1;label\tnode2;label\tlabel;label\n",
      "node1 column found, this is a KGTK edge file\n",
      "KgtkReader: Special columns: node1=0 label=1 node2=2 id=-1\n",
      "KgtkReader: Reading an edge file.\n",
      "Opening the label file: input/wikidata/wikidata-pagerank-only-sorted2.tsv\n",
      "KgtkReader: File_path.suffix: .tsv\n",
      "KgtkReader: reading file input/wikidata/wikidata-pagerank-only-sorted2.tsv\n",
      "header: node1\trelation\tnode2\tid\n",
      "node1 column found, this is a KGTK edge file\n",
      "KgtkReader: Special columns: node1=0 label=1 node2=2 id=3\n",
      "KgtkReader: Reading an edge file.\n",
      "Lifting with in-memory buffering.\n",
      "Reading input data to prefilter the labels.\n",
      "Loading input rows without labels from tmp/kgtk_wikidata.tsv\n",
      "Labels needed: 5611908\n",
      "Loading labels from the label file.\n",
      "Loading labels from input/wikidata/wikidata-pagerank-only-sorted2.tsv\n",
      "Filtering for needed labels\n",
      "label_match_column_idx=0 (node1).\n",
      "label_select_column_idx=1 (relation).\n",
      "label_value_column_idx=2 (node2).\n",
      "label_select_column_value='vertex_pagerank'.\n",
      "Opening the output file: tmp/kgtk_wikidata_with_pr.tsv\n",
      "File_path.suffix: .tsv\n",
      "KgtkWriter: writing file tmp/kgtk_wikidata_with_pr.tsv\n",
      "header: node1\tlabel\tnode2\tnode1;label\tnode2;label\tlabel;label\tnode1;pagerank\tnode2;pagerank\n",
      "Writing output records\n",
      "Read 8256446 non-label input records.\n",
      "5608723 labels were found.\n",
      "Wrote 8256446 records.\n"
     ]
    }
   ],
   "source": [
    "%%bash\n",
    "kgtk --debug lift --verbose \\\n",
    "     --input-file tmp/kgtk_wikidata.tsv \\\n",
    "     --label-file input/wikidata/wikidata-pagerank-only-sorted2.tsv \\\n",
    "     --output-file tmp/kgtk_wikidata_with_pr.tsv \\\n",
    "     --columns-to-lift node1 node2 \\\n",
    "     --property vertex_pagerank \\\n",
    "     --lift-suffix \";pagerank\" \\\n",
    "     --prefilter-labels"
   ]
  },
  {
   "cell_type": "markdown",
   "metadata": {},
   "source": [
    "## Filter concepts vs instances"
   ]
  },
  {
   "cell_type": "code",
   "execution_count": 52,
   "metadata": {},
   "outputs": [],
   "source": [
    "import pandas as pd\n",
    "df=pd.read_csv('tmp/kgtk_wikidata_with_pr.tsv', sep='\\t')"
   ]
  },
  {
   "cell_type": "code",
   "execution_count": 53,
   "metadata": {},
   "outputs": [
    {
     "data": {
      "text/plain": [
       "8256446"
      ]
     },
     "execution_count": 53,
     "metadata": {},
     "output_type": "execute_result"
    }
   ],
   "source": [
    "len(df)"
   ]
  },
  {
   "cell_type": "code",
   "execution_count": 54,
   "metadata": {},
   "outputs": [
    {
     "data": {
      "text/html": [
       "<div>\n",
       "<style scoped>\n",
       "    .dataframe tbody tr th:only-of-type {\n",
       "        vertical-align: middle;\n",
       "    }\n",
       "\n",
       "    .dataframe tbody tr th {\n",
       "        vertical-align: top;\n",
       "    }\n",
       "\n",
       "    .dataframe thead th {\n",
       "        text-align: right;\n",
       "    }\n",
       "</style>\n",
       "<table border=\"1\" class=\"dataframe\">\n",
       "  <thead>\n",
       "    <tr style=\"text-align: right;\">\n",
       "      <th></th>\n",
       "      <th>node1</th>\n",
       "      <th>label</th>\n",
       "      <th>node2</th>\n",
       "      <th>node1;label</th>\n",
       "      <th>node2;label</th>\n",
       "      <th>label;label</th>\n",
       "      <th>node1;pagerank</th>\n",
       "      <th>node2;pagerank</th>\n",
       "    </tr>\n",
       "  </thead>\n",
       "  <tbody>\n",
       "    <tr>\n",
       "      <th>0</th>\n",
       "      <td>P1005</td>\n",
       "      <td>P1552</td>\n",
       "      <td>Q26921380</td>\n",
       "      <td>'Portuguese National Library ID'@en</td>\n",
       "      <td>'VIAF component'@en</td>\n",
       "      <td>'has quality'@en</td>\n",
       "      <td>3.630733e-09</td>\n",
       "      <td>0.000004</td>\n",
       "    </tr>\n",
       "    <tr>\n",
       "      <th>1</th>\n",
       "      <td>P1006</td>\n",
       "      <td>P1552</td>\n",
       "      <td>Q26921380</td>\n",
       "      <td>'Nationale Thesaurus voor Auteurs ID'@en</td>\n",
       "      <td>'VIAF component'@en</td>\n",
       "      <td>'has quality'@en</td>\n",
       "      <td>7.545395e-08</td>\n",
       "      <td>0.000004</td>\n",
       "    </tr>\n",
       "    <tr>\n",
       "      <th>2</th>\n",
       "      <td>P1015</td>\n",
       "      <td>P1552</td>\n",
       "      <td>Q26921380</td>\n",
       "      <td>'NORAF ID'@en</td>\n",
       "      <td>'VIAF component'@en</td>\n",
       "      <td>'has quality'@en</td>\n",
       "      <td>3.637108e-09</td>\n",
       "      <td>0.000004</td>\n",
       "    </tr>\n",
       "    <tr>\n",
       "      <th>3</th>\n",
       "      <td>P1017</td>\n",
       "      <td>P1552</td>\n",
       "      <td>Q26921380</td>\n",
       "      <td>'Vatican Library ID'@en</td>\n",
       "      <td>'VIAF component'@en</td>\n",
       "      <td>'has quality'@en</td>\n",
       "      <td>2.345845e-07</td>\n",
       "      <td>0.000004</td>\n",
       "    </tr>\n",
       "    <tr>\n",
       "      <th>4</th>\n",
       "      <td>P1048</td>\n",
       "      <td>P1552</td>\n",
       "      <td>Q26921380</td>\n",
       "      <td>'NCL ID'@en</td>\n",
       "      <td>'VIAF component'@en</td>\n",
       "      <td>'has quality'@en</td>\n",
       "      <td>2.483013e-09</td>\n",
       "      <td>0.000004</td>\n",
       "    </tr>\n",
       "  </tbody>\n",
       "</table>\n",
       "</div>"
      ],
      "text/plain": [
       "   node1  label      node2                               node1;label  \\\n",
       "0  P1005  P1552  Q26921380       'Portuguese National Library ID'@en   \n",
       "1  P1006  P1552  Q26921380  'Nationale Thesaurus voor Auteurs ID'@en   \n",
       "2  P1015  P1552  Q26921380                             'NORAF ID'@en   \n",
       "3  P1017  P1552  Q26921380                   'Vatican Library ID'@en   \n",
       "4  P1048  P1552  Q26921380                               'NCL ID'@en   \n",
       "\n",
       "           node2;label       label;label  node1;pagerank  node2;pagerank  \n",
       "0  'VIAF component'@en  'has quality'@en    3.630733e-09        0.000004  \n",
       "1  'VIAF component'@en  'has quality'@en    7.545395e-08        0.000004  \n",
       "2  'VIAF component'@en  'has quality'@en    3.637108e-09        0.000004  \n",
       "3  'VIAF component'@en  'has quality'@en    2.345845e-07        0.000004  \n",
       "4  'VIAF component'@en  'has quality'@en    2.483013e-09        0.000004  "
      ]
     },
     "execution_count": 54,
     "metadata": {},
     "output_type": "execute_result"
    }
   ],
   "source": [
    "df.head()"
   ]
  },
  {
   "cell_type": "code",
   "execution_count": 55,
   "metadata": {},
   "outputs": [],
   "source": [
    "limit=1.419947235126343e-08 # PageRank of the 752876th most popular node"
   ]
  },
  {
   "cell_type": "code",
   "execution_count": 56,
   "metadata": {},
   "outputs": [],
   "source": [
    "cols=['node1;pagerank', 'node2;pagerank']\n",
    "cols=['node1;label', 'node2;label']"
   ]
  },
  {
   "cell_type": "code",
   "execution_count": 57,
   "metadata": {},
   "outputs": [],
   "source": [
    "from tqdm import tqdm"
   ]
  },
  {
   "cell_type": "code",
   "execution_count": 77,
   "metadata": {},
   "outputs": [
    {
     "name": "stderr",
     "output_type": "stream",
     "text": [
      "  0%|          | 1333/8256446 [00:02<2132:21:02,  1.08it/s]"
     ]
    },
    {
     "name": "stdout",
     "output_type": "stream",
     "text": [
      "yo\n"
     ]
    },
    {
     "name": "stderr",
     "output_type": "stream",
     "text": [
      "100%|██████████| 8256446/8256446 [18:23<00:00, 7478.68it/s]  \n"
     ]
    }
   ],
   "source": [
    "new_rows=[]\n",
    "for i, row in tqdm(df.iterrows(), total=df.shape[0]):\n",
    "    store=True\n",
    "    if row['node1;label']=='' or row['node2;label']=='' or not isinstance(row['node1;label'], str) or not isinstance(row['node2;label'], str): continue\n",
    "    node1_label=row['node1;label'].strip()[1:-3]\n",
    "    node2_label=row['node2;label'].strip()[1:-3]\n",
    "    if node1_label[0].islower() and node2_label[0].islower():\n",
    "        a_row=[*row[:6], \"\", \"\", \"WD\", \"\", \"\", \"\"] # copy id, node1, relation, node2, node1:label, node2:label, relation:label\n",
    "        a_row[3]=node1_label\n",
    "        a_row[4]=node2_label\n",
    "        new_rows.append(a_row)"
   ]
  },
  {
   "cell_type": "markdown",
   "metadata": {},
   "source": [
    "## Filter by usage"
   ]
  },
  {
   "cell_type": "code",
   "execution_count": 94,
   "metadata": {},
   "outputs": [],
   "source": [
    "from wordfreq import word_frequency"
   ]
  },
  {
   "cell_type": "code",
   "execution_count": 112,
   "metadata": {},
   "outputs": [],
   "source": [
    "threshold=1e-06"
   ]
  },
  {
   "cell_type": "code",
   "execution_count": 113,
   "metadata": {},
   "outputs": [
    {
     "data": {
      "text/plain": [
       "1255113"
      ]
     },
     "execution_count": 113,
     "metadata": {},
     "output_type": "execute_result"
    }
   ],
   "source": [
    "len(new_rows)"
   ]
  },
  {
   "cell_type": "code",
   "execution_count": 114,
   "metadata": {},
   "outputs": [],
   "source": [
    "filtered_rows=[]\n",
    "for a_row in new_rows:\n",
    "    node1_label=a_row[3]\n",
    "    node2_label=a_row[4]\n",
    "    wf1=word_frequency(node1_label, 'en')\n",
    "    wf2=word_frequency(node2_label, 'en')\n",
    "    if wf1 >threshold and wf2>threshold:\n",
    "        filtered_rows.append(a_row)"
   ]
  },
  {
   "cell_type": "code",
   "execution_count": 115,
   "metadata": {},
   "outputs": [
    {
     "data": {
      "text/plain": [
       "207798"
      ]
     },
     "execution_count": 115,
     "metadata": {},
     "output_type": "execute_result"
    }
   ],
   "source": [
    "len(filtered_rows)"
   ]
  },
  {
   "cell_type": "code",
   "execution_count": 116,
   "metadata": {},
   "outputs": [],
   "source": [
    "new_columns=['node1', 'relation', 'node2', 'node1;label', 'node2;label','relation;label', 'relation;dimension', 'weight', 'source', 'origin', 'sentence', 'question']"
   ]
  },
  {
   "cell_type": "code",
   "execution_count": 117,
   "metadata": {},
   "outputs": [],
   "source": [
    "df2=pd.DataFrame(filtered_rows, columns=new_columns)"
   ]
  },
  {
   "cell_type": "code",
   "execution_count": 118,
   "metadata": {},
   "outputs": [
    {
     "data": {
      "text/plain": [
       "P279     187128\n",
       "P527       8153\n",
       "P461       3114\n",
       "P366       3071\n",
       "P186       2358\n",
       "P1552      1773\n",
       "P828        868\n",
       "P1542       778\n",
       "P170        368\n",
       "P276        170\n",
       "P463         17\n",
       "Name: relation, dtype: int64"
      ]
     },
     "execution_count": 118,
     "metadata": {},
     "output_type": "execute_result"
    }
   ],
   "source": [
    "df2['relation'].value_counts()"
   ]
  },
  {
   "cell_type": "code",
   "execution_count": 119,
   "metadata": {},
   "outputs": [],
   "source": [
    "df2.to_csv('tmp/kgtk_wikidata_ready.tsv', index=False, sep='\\t', columns=new_columns)"
   ]
  },
  {
   "cell_type": "code",
   "execution_count": 135,
   "metadata": {},
   "outputs": [
    {
     "name": "stdout",
     "output_type": "stream",
     "text": [
      "          node1 relation      node2            node1;label             node2;label      relation;label relation;dimension weight source origin sentence question\n",
      "149    Q1007164     P186     Q12117          grain whisky'                 cereal'  'material used'@en                               WD                         \n",
      "220    Q1018244     P186     Q11469           crown glass'                  glass'  'material used'@en                               WD                         \n",
      "424      Q10289     P186     Q11427                barrel'                  steel'  'material used'@en                               WD                         \n",
      "425      Q10289     P186     Q11474                barrel'                plastic'  'material used'@en                               WD                         \n",
      "426      Q10289     P186       Q287                barrel'                   wood'  'material used'@en                               WD                         \n",
      "475    Q1030197     P186     Q11426            track shoe'                  metal'  'material used'@en                               WD                         \n",
      "521    Q1032349     P186     Q11469          crystal ball'                  glass'  'material used'@en                               WD                         \n",
      "522    Q1032349     P186    Q392551          crystal ball'             lead glass'  'material used'@en                               WD                         \n",
      "685    Q1039512     P186  Q18113858          rubber glove'                 rubber'  'material used'@en                               WD                         \n",
      "686    Q1039512     P186    Q244680          rubber glove'                  latex'  'material used'@en                               WD                         \n",
      "695   Q10396780     P186    Q107429             bleaching'               peroxide'  'material used'@en                               WD                         \n",
      "696   Q10396780     P186    Q171877             bleaching'      hydrogen peroxide'  'material used'@en                               WD                         \n",
      "697   Q10396780     P186    Q193788             bleaching'               sunlight'  'material used'@en                               WD                         \n",
      "698   Q10396780     P186      Q5282             bleaching'         sulfur dioxide'  'material used'@en                               WD                         \n",
      "699   Q10396780     P186       Q688             bleaching'               chlorine'  'material used'@en                               WD                         \n",
      "741      Q10426     P186     Q10990              cold cut'                   meat'  'material used'@en                               WD                         \n",
      "774     Q104363     P186     Q11427                 anvil'                  steel'  'material used'@en                               WD                         \n",
      "775     Q104363     P186       Q677                 anvil'                   iron'  'material used'@en                               WD                         \n",
      "790    Q1044672     P186  Q13414920              corporal'             hemp fiber'  'material used'@en                               WD                         \n",
      "791    Q1044672     P186   Q1426327              corporal'                  linen'  'material used'@en                               WD                         \n",
      "892   Q10475001     P186     Q37681                  silk'                   silk'  'material used'@en                               WD                         \n",
      "901   Q10477229     P186   Q3492989                 dream'          vanilla sugar'  'material used'@en                               WD                         \n",
      "1004   Q1049799     P186       Q283        water resource'                  water'  'material used'@en                               WD                         \n",
      "1082   Q1051265     P186   Q2249305        instant noodle'            wheat flour'  'material used'@en                               WD                         \n",
      "1083   Q1051265     P186       Q283        instant noodle'                  water'  'material used'@en                               WD                         \n",
      "1212  Q10541832     P186    Q411235            mars black'     iron(II,III) oxide'  'material used'@en                               WD                         \n",
      "1268    Q105507     P186     Q28472                   wig'                   hair'  'material used'@en                               WD                         \n",
      "1269    Q105507     P186      Q5856                   wig'        synthetic fiber'  'material used'@en                               WD                         \n",
      "1281   Q1055324     P186    Q837118          cheese puffs'             corn flour'  'material used'@en                               WD                         \n",
      "1532   Q1061187     P186  Q15046077            ginger tea'                 ginger'  'material used'@en                               WD                         \n",
      "1533   Q1061187     P186      Q6097            ginger tea'                    tea'  'material used'@en                               WD                         \n",
      "1559   Q1061959     P186     Q11427       pont Notre-Dame'                  steel'  'material used'@en                               WD                         \n",
      "1580   Q1062396     P186   Q1721876          cocoa powder'       chocolate liquor'  'material used'@en                               WD                         \n",
      "1581   Q1062396     P186    Q208008          cocoa powder'             cocoa bean'  'material used'@en                               WD                         \n",
      "1595   Q1062531     P186     Q93189            boiled egg'                    egg'  'material used'@en                               WD                         \n",
      "1752  Q10669351     P186    Q296955         self portrait'              oil paint'  'material used'@en                               WD                         \n",
      "1753  Q10669351     P186   Q4259259         self portrait'                 canvas'  'material used'@en                               WD                         \n",
      "1762  Q10670720     P186    Q215414            foam candy'                   foam'  'material used'@en                               WD                         \n",
      "1796   Q1068034     P186        Q89             apple pie'                  apple'  'material used'@en                               WD                         \n",
      "1874  Q10690144     P186     Q11426            metal roof'                  metal'  'material used'@en                               WD                         \n",
      "1875  Q10690144     P186    Q211367            metal roof'            sheet metal'  'material used'@en                               WD                         \n",
      "2020   Q1072430     P186     Q11456                   die'          semiconductor'  'material used'@en                               WD                         \n",
      "2021   Q1072430     P186       Q670                   die'                silicon'  'material used'@en                               WD                         \n",
      "2046   Q1072946     P186  Q56395871          chili powder'     dried chili pepper'  'material used'@en                               WD                         \n",
      "2068   Q1073888     P186  Q56397725  dried shredded squid'            dried squid'  'material used'@en                               WD                         \n",
      "2137  Q10752679     P186   Q3320037            nut butter'          culinary nuts'  'material used'@en                               WD                         \n",
      "2266   Q1077151     P186    Q244680        latex clothing'                  latex'  'material used'@en                               WD                         \n",
      "2396  Q10827799     P186     Q37681         silk painting'                   silk'  'material used'@en                               WD                         \n",
      "2405   Q1083265     P186     Q45621         ceramic knife'                ceramic'  'material used'@en                               WD                         \n",
      "2408     Q10832     P186    Q244680              sex doll'                  latex'  'material used'@en                               WD                         \n",
      "2479   Q1085918     P186     Q11474         plastic model'                plastic'  'material used'@en                               WD                         \n",
      "2861     Q10987     P186    Q171934                 honey'                 nectar'  'material used'@en                               WD                         \n",
      "2914     Q11004     P186   Q1362373             vegetable'       cultivated plant'  'material used'@en                               WD                         \n",
      "2939   Q1101968     P186     Q23392         ice sculpture'                    ice'  'material used'@en                               WD                         \n",
      "3063  Q11074667     P186     Q11426            metal leaf'                  metal'  'material used'@en                               WD                         \n",
      "3160  Q11120024     P186       Q283         freezing rain'                  water'  'material used'@en                               WD                         \n",
      "3186  Q11130803     P186     Q11474  water-filled barrier'                plastic'  'material used'@en                               WD                         \n",
      "3254   Q1116734     P186    Q837118                  mush'             corn flour'  'material used'@en                               WD                         \n",
      "3351   Q1121690     P186     Q11427          beverage can'                  steel'  'material used'@en                               WD                         \n",
      "3352   Q1121690     P186       Q663          beverage can'               aluminum'  'material used'@en                               WD                         \n",
      "3465   Q1125665     P186    Q175089                  cong'                   jade'  'material used'@en                               WD                         \n",
      "3550   Q1128503     P186   Q1180158    container building'     shipping container'  'material used'@en                               WD                         \n",
      "3610   Q1129755     P186     Q11426     steel tongue drum'                  metal'  'material used'@en                               WD                         \n",
      "3695   Q1131992     P186     Q11472             paper cup'                  paper'  'material used'@en                               WD                         \n",
      "3696   Q1131992     P186    Q389782             paper cup'              cardboard'  'material used'@en                               WD                         \n",
      "3998  Q11378266     P186     Q11474           shelf dummy'                plastic'  'material used'@en                               WD                         \n",
      "3999  Q11378266     P186       Q287           shelf dummy'                   wood'  'material used'@en                               WD                         \n",
      "4000  Q11378266     P186    Q389782           shelf dummy'              cardboard'  'material used'@en                               WD                         \n",
      "4008    Q113796     P186   Q5447188         precipitation'               solution'  'material used'@en                               WD                         \n",
      "4053     Q11386     P186    Q177625  electromagnetic wave'  electromagnetic field'  'material used'@en                               WD                         \n",
      "4352   Q1143031     P186     Q11456  semiconductor memory'          semiconductor'  'material used'@en                               WD                         \n",
      "4491  Q11449624     P186       Q287             wood pulp'                   wood'  'material used'@en                               WD                         \n",
      "4546     Q11460     P186   Q1792537              clothing'     artificial leather'  'material used'@en                               WD                         \n",
      "4547     Q11460     P186       Q286              clothing'                leather'  'material used'@en                               WD                         \n",
      "4548     Q11460     P186     Q28823              clothing'                textile'  'material used'@en                               WD                         \n",
      "4609   Q1147190     P186  Q10988133       strained yogurt'               cow milk'  'material used'@en                               WD                         \n",
      "4610   Q1147190     P186   Q2736146       strained yogurt'             sheep milk'  'material used'@en                               WD                         \n",
      "4619     Q11472     P186     Q11587                 paper'                 bleach'  'material used'@en                               WD                         \n",
      "4620     Q11472     P186   Q1625473                 paper'             wood fiber'  'material used'@en                               WD                         \n",
      "4621     Q11472     P186    Q189720                 paper'                    dye'  'material used'@en                               WD                         \n",
      "4622     Q11472     P186  Q47089651                 paper'                   flax'  'material used'@en                               WD                         \n",
      "4717   Q1148989     P186       Q283         water balance'                  water'  'material used'@en                               WD                         \n",
      "4730   Q1149531     P186  Q11547758                bonnet'                   wool'  'material used'@en                               WD                         \n",
      "4731   Q1149531     P186  Q11607438                bonnet'                 cotton'  'material used'@en                               WD                         \n",
      "4732   Q1149531     P186    Q188245                bonnet'              polyester'  'material used'@en                               WD                         \n",
      "4805   Q1151042     P186     Q11472           paper towel'                  paper'  'material used'@en                               WD                         \n",
      "4984  Q11547758     P186     Q42329                  wool'                   wool'  'material used'@en                               WD                         \n",
      "5042  Q11559422     P186    Q192935          seafood dish'                seafood'  'material used'@en                               WD                         \n",
      "5067   Q1156634     P186   Q1226651        ice cream cone'                  wafer'  'material used'@en                               WD                         \n",
      "5068   Q1156634     P186    Q178024        ice cream cone'                  dough'  'material used'@en                               WD                         \n",
      "5139   Q1158805     P186     Q11427          food steamer'                  steel'  'material used'@en                               WD                         \n",
      "5140   Q1158805     P186     Q45621          food steamer'                ceramic'  'material used'@en                               WD                         \n",
      "5141   Q1158805     P186       Q663          food steamer'               aluminum'  'material used'@en                               WD                         \n",
      "5142   Q1158805     P186       Q753          food steamer'                 copper'  'material used'@en                               WD                         \n",
      "5167  Q11604529     P186     Q42302        clay roof tile'                   clay'  'material used'@en                               WD                         \n",
      "5180  Q11607438     P186     Q11457                cotton'                 cotton'  'material used'@en                               WD                         \n",
      "5331  Q11646566     P186       Q897             gold seal'                   gold'  'material used'@en                               WD                         \n",
      "5462   Q1169854     P186     Q43010           quartz sand'                 quartz'  'material used'@en                               WD                         \n",
      "5479  Q11700178     P186     Q10987              nut roll'                  honey'  'material used'@en                               WD                         \n",
      "5480  Q11700178     P186     Q11002              nut roll'                  sugar'  'material used'@en                               WD                         \n"
     ]
    }
   ],
   "source": [
    "with pd.option_context('display.max_rows', None, 'display.width', 1000):  # more options can be specified also\n",
    "    print(df2[df2['relation']=='P186'].head(100))"
   ]
  },
  {
   "cell_type": "markdown",
   "metadata": {},
   "source": [
    "## Compute statistics"
   ]
  },
  {
   "cell_type": "code",
   "execution_count": 84,
   "metadata": {},
   "outputs": [],
   "source": [
    "%%bash\n",
    "kgtk graph_statistics --directed --degrees --pagerank --hits --log summary.txt -i tmp/kgtk_wikidata_ready.tsv > tmp/stats/wiki_stats.tsv"
   ]
  },
  {
   "cell_type": "code",
   "execution_count": 85,
   "metadata": {},
   "outputs": [
    {
     "name": "stdout",
     "output_type": "stream",
     "text": [
      "loading the TSV graph now ...\n",
      "graph loaded! It has 821468 nodes and 1255113 edges\n",
      "\n",
      "###Top relations:\n",
      "P279\t1189215\n",
      "P527\t38663\n",
      "P186\t7220\n",
      "P366\t5793\n",
      "P461\t5571\n",
      "P1552\t3330\n",
      "P828\t2149\n",
      "P1542\t1881\n",
      "P170\t698\n",
      "P276\t566\n",
      "\n",
      "###Degrees:\n",
      "in degree stats: mean=1.527890, std=0.616167, max=1\n",
      "out degree stats: mean=1.527890, std=0.000787, max=1\n",
      "total degree stats: mean=3.055781, std=0.616171, max=1\n",
      "\n",
      "###PageRank\n",
      "Max pageranks\n",
      "436437\tQ50365914\t0.025876\n",
      "11480\tQ35120\t0.034357\n",
      "6464\tQ8054\t0.037386\n",
      "7899\tQ7187\t0.060852\n",
      "55207\tQ20747295\t0.035241\n",
      "\n",
      "###HITS\n",
      "HITS hubs\n",
      "55194\tQ201448\t0.000024\n",
      "74109\tQ277338\t0.000174\n",
      "6464\tQ8054\t0.000044\n",
      "7899\tQ7187\t0.694359\n",
      "55207\tQ20747295\t0.719629\n",
      "HITS auth\n",
      "408217\tQ24178445\t0.001748\n",
      "408218\tQ24178446\t0.001748\n",
      "408213\tQ24178441\t0.001748\n",
      "408214\tQ24178442\t0.001748\n",
      "410733\tQ24181279\t0.001748\n"
     ]
    }
   ],
   "source": [
    "%%bash\n",
    "cat summary.txt"
   ]
  },
  {
   "cell_type": "code",
   "execution_count": null,
   "metadata": {},
   "outputs": [],
   "source": []
  }
 ],
 "metadata": {
  "kernelspec": {
   "display_name": "Python 3",
   "language": "python",
   "name": "python3"
  },
  "language_info": {
   "codemirror_mode": {
    "name": "ipython",
    "version": 3
   },
   "file_extension": ".py",
   "mimetype": "text/x-python",
   "name": "python",
   "nbconvert_exporter": "python",
   "pygments_lexer": "ipython3",
   "version": "3.7.7"
  }
 },
 "nbformat": 4,
 "nbformat_minor": 4
}
