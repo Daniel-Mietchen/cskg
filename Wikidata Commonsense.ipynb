{
 "cells": [
  {
   "cell_type": "markdown",
   "metadata": {},
   "source": [
    "# Extracting commonsense knowledge from Wikidata"
   ]
  },
  {
   "cell_type": "markdown",
   "metadata": {},
   "source": [
    "## Define files"
   ]
  },
  {
   "cell_type": "code",
   "execution_count": 2,
   "metadata": {},
   "outputs": [],
   "source": [
    "year='2020'"
   ]
  },
  {
   "cell_type": "code",
   "execution_count": 22,
   "metadata": {},
   "outputs": [],
   "source": [
    "if year=='2020':\n",
    "    data_dir='input/wikidata-20200504'\n",
    "    edge_file='%s/wikidata_edges_20200504.tsv' % data_dir\n",
    "    node_file='%s/wikidata_nodes_20200504_clean.tsv' % data_dir\n",
    "    label_file='%s/wikidata_labels_etc.tsv' % data_dir\n",
    "    tmp_dir='tmp/wikidata20200504'\n",
    "    trimmed_edge_file='%s/edges_trimmed.tsv' % tmp_dir\n",
    "    concept_file='%s/concepts.tsv' % tmp_dir\n",
    "    concepts_edge_file='%s/concept_edges.tsv' % tmp_dir\n",
    "    compact_concepts_edge_file='%s/compact_concept_edges.tsv' % tmp_dir\n",
    "    concept_edges_with_labels_file='%s/compact_concept_edges_with_labels.tsv' % tmp_dir\n",
    "    ready_file='%s/wikidata_cs.tsv' % tmp_dir\n",
    "    stats_file='%s/stats.tsv' % tmp_dir\n",
    "else:\n",
    "    pass"
   ]
  },
  {
   "cell_type": "markdown",
   "metadata": {},
   "source": [
    "## Step I: Filter out named entities"
   ]
  },
  {
   "cell_type": "markdown",
   "metadata": {},
   "source": [
    "### Extract concept nodes"
   ]
  },
  {
   "cell_type": "code",
   "execution_count": 11,
   "metadata": {},
   "outputs": [],
   "source": [
    "from tqdm import tqdm"
   ]
  },
  {
   "cell_type": "code",
   "execution_count": null,
   "metadata": {},
   "outputs": [],
   "source": [
    "concepts=set()\n",
    "with open(node_file, 'r') as f:\n",
    "    header=next(f)\n",
    "    for line in tqdm(f, total=84000000):\n",
    "        data=line.split('\\t')\n",
    "        label=data[1].strip()\n",
    "        if label=='' or not isinstance(label, str): continue\n",
    "        label=label[1:-4]\n",
    "        if label[0].islower():\n",
    "            node_id=data[0]\n",
    "            concepts.add(node_id)"
   ]
  },
  {
   "cell_type": "code",
   "execution_count": null,
   "metadata": {},
   "outputs": [],
   "source": [
    "len(concepts)"
   ]
  },
  {
   "cell_type": "code",
   "execution_count": null,
   "metadata": {},
   "outputs": [],
   "source": [
    "with open(concept_file, 'w') as w:\n",
    "    w.write('id\\n')\n",
    "    for c in concepts:\n",
    "        w.write('%s\\n' % c)"
   ]
  },
  {
   "cell_type": "markdown",
   "metadata": {},
   "source": [
    "### Only keep edges with relevant nodes and trim columns"
   ]
  },
  {
   "cell_type": "code",
   "execution_count": null,
   "metadata": {},
   "outputs": [],
   "source": [
    "%env ignore_cols=id,rank,node2;magnitude,node2;unit,node2;item,node2;lower,node2;upper,node2;entity-type,node2;longitude,node2;latitude,node2;date,node2;calendar,node2;precision"
   ]
  },
  {
   "cell_type": "code",
   "execution_count": null,
   "metadata": {},
   "outputs": [],
   "source": [
    "%%bash -s \"$edge_file\" \"$concept_file\" \"$concepts_edge_file\"\n",
    "kgtk ifexists $1 --filter-on $2 / ifexists --filter-on $2 --input-keys node2 > $3"
   ]
  },
  {
   "cell_type": "code",
   "execution_count": null,
   "metadata": {},
   "outputs": [],
   "source": [
    "%%bash -s \"$concepts_edge_file\" \"$trimmed_edge_file\"\n",
    "kgtk remove_columns -i $1 -c \"$ignore_cols\" > $2"
   ]
  },
  {
   "cell_type": "markdown",
   "metadata": {},
   "source": [
    "### Deduplicate"
   ]
  },
  {
   "cell_type": "code",
   "execution_count": null,
   "metadata": {},
   "outputs": [],
   "source": [
    "import pandas as pd\n",
    "df=pd.read_csv(trimmed_edge_file, sep='\\t')"
   ]
  },
  {
   "cell_type": "code",
   "execution_count": null,
   "metadata": {},
   "outputs": [],
   "source": [
    "len(df)"
   ]
  },
  {
   "cell_type": "markdown",
   "metadata": {},
   "source": [
    "### Add labels"
   ]
  },
  {
   "cell_type": "code",
   "execution_count": 7,
   "metadata": {},
   "outputs": [
    {
     "name": "stderr",
     "output_type": "stream",
     "text": [
      "Opening the input file: tmp/wikidata20200504/edges_trimmed.tsv\n",
      "KgtkReader: File_path.suffix: .tsv\n",
      "KgtkReader: reading file tmp/wikidata20200504/edges_trimmed.tsv\n",
      "header: node1\tlabel\tnode2\n",
      "node1 column found, this is a KGTK edge file\n",
      "KgtkReader: Special columns: node1=0 label=1 node2=2 id=-1\n",
      "KgtkReader: Reading an edge file.\n",
      "Opening the label file: input/wikidata-20200504/wikidata_nodes_20200504_clean.tsv\n",
      "KgtkReader: File_path.suffix: .tsv\n",
      "KgtkReader: reading file input/wikidata-20200504/wikidata_nodes_20200504_clean.tsv\n",
      "header: id\tlabel\ttype\tdescription\talias\n",
      "node1 column not found, assuming this is a KGTK node file\n",
      "KgtkReader: Special columns: node1=-1 label=1 node2=-1 id=0\n",
      "KgtkReader: Reading an node file.\n",
      "Lifting with in-memory buffering.\n",
      "Reading input data to prefilter the labels.\n",
      "Loading input rows without labels from tmp/wikidata20200504/edges_trimmed.tsv\n",
      "Labels needed: 1209037\n",
      "Loading labels from the label file.\n",
      "Loading labels from input/wikidata-20200504/wikidata_nodes_20200504_clean.tsv\n",
      "Filtering for needed labels\n",
      "label_match_column_idx=0 (id).\n",
      "label_select_column_idx=1 (label).\n",
      "label_value_column_idx=1 (label).\n",
      "label_select_column_value='label'.\n",
      "Traceback (most recent call last):\n",
      "  File \"/Users/filipilievski/mcs/kgtk/kgtk/cli/lift.py\", line 281, in run\n",
      "    kl.process()\n",
      "  File \"/Users/filipilievski/mcs/kgtk/kgtk/lift/kgtklift.py\", line 698, in process\n",
      "    self.process_in_memory(ikr, lkr)\n",
      "  File \"/Users/filipilievski/mcs/kgtk/kgtk/lift/kgtklift.py\", line 484, in process_in_memory\n",
      "    raise ValueError(\"No labels were found.\")\n",
      "ValueError: No labels were found.\n",
      "\n",
      "During handling of the above exception, another exception occurred:\n",
      "\n",
      "Traceback (most recent call last):\n",
      "  File \"/Users/filipilievski/mcs/kgtk/kgtk/exceptions.py\", line 42, in __call__\n",
      "    return_code = func(*args, **kwargs) or 0\n",
      "  File \"/Users/filipilievski/mcs/kgtk/kgtk/cli/lift.py\", line 288, in run\n",
      "    raise KGTKException(str(e))\n",
      "kgtk.exceptions.KGTKException: No labels were found.\n",
      "No labels were found.\n"
     ]
    },
    {
     "ename": "CalledProcessError",
     "evalue": "Command 'b'kgtk --debug lift --verbose \\\\\\n     --input-file $1 \\\\\\n     --label-file $2 \\\\\\n     --output-file $3 \\\\\\n     --columns-to-lift node1 node2 label \\\\\\n     --prefilter-labels \\\\\\n     --label-value-column label \\\\\\n     --expert\\n'' returned non-zero exit status 1.",
     "output_type": "error",
     "traceback": [
      "\u001b[0;31m---------------------------------------------------------------------------\u001b[0m",
      "\u001b[0;31mCalledProcessError\u001b[0m                        Traceback (most recent call last)",
      "\u001b[0;32m<ipython-input-7-ac4538e53c92>\u001b[0m in \u001b[0;36m<module>\u001b[0;34m\u001b[0m\n\u001b[0;32m----> 1\u001b[0;31m \u001b[0mget_ipython\u001b[0m\u001b[0;34m(\u001b[0m\u001b[0;34m)\u001b[0m\u001b[0;34m.\u001b[0m\u001b[0mrun_cell_magic\u001b[0m\u001b[0;34m(\u001b[0m\u001b[0;34m'bash'\u001b[0m\u001b[0;34m,\u001b[0m \u001b[0;34m'-s \"$trimmed_edge_file\" \"$node_file\" \"$concept_edges_with_labels_file\"'\u001b[0m\u001b[0;34m,\u001b[0m \u001b[0;34m'kgtk --debug lift --verbose \\\\\\n     --input-file $1 \\\\\\n     --label-file $2 \\\\\\n     --output-file $3 \\\\\\n     --columns-to-lift node1 node2 label \\\\\\n     --prefilter-labels \\\\\\n     --label-value-column label \\\\\\n     --expert\\n'\u001b[0m\u001b[0;34m)\u001b[0m\u001b[0;34m\u001b[0m\u001b[0;34m\u001b[0m\u001b[0m\n\u001b[0m",
      "\u001b[0;32m~/opt/anaconda3/envs/kgtk-env/lib/python3.7/site-packages/IPython/core/interactiveshell.py\u001b[0m in \u001b[0;36mrun_cell_magic\u001b[0;34m(self, magic_name, line, cell)\u001b[0m\n\u001b[1;32m   2360\u001b[0m             \u001b[0;32mwith\u001b[0m \u001b[0mself\u001b[0m\u001b[0;34m.\u001b[0m\u001b[0mbuiltin_trap\u001b[0m\u001b[0;34m:\u001b[0m\u001b[0;34m\u001b[0m\u001b[0;34m\u001b[0m\u001b[0m\n\u001b[1;32m   2361\u001b[0m                 \u001b[0margs\u001b[0m \u001b[0;34m=\u001b[0m \u001b[0;34m(\u001b[0m\u001b[0mmagic_arg_s\u001b[0m\u001b[0;34m,\u001b[0m \u001b[0mcell\u001b[0m\u001b[0;34m)\u001b[0m\u001b[0;34m\u001b[0m\u001b[0;34m\u001b[0m\u001b[0m\n\u001b[0;32m-> 2362\u001b[0;31m                 \u001b[0mresult\u001b[0m \u001b[0;34m=\u001b[0m \u001b[0mfn\u001b[0m\u001b[0;34m(\u001b[0m\u001b[0;34m*\u001b[0m\u001b[0margs\u001b[0m\u001b[0;34m,\u001b[0m \u001b[0;34m**\u001b[0m\u001b[0mkwargs\u001b[0m\u001b[0;34m)\u001b[0m\u001b[0;34m\u001b[0m\u001b[0;34m\u001b[0m\u001b[0m\n\u001b[0m\u001b[1;32m   2363\u001b[0m             \u001b[0;32mreturn\u001b[0m \u001b[0mresult\u001b[0m\u001b[0;34m\u001b[0m\u001b[0;34m\u001b[0m\u001b[0m\n\u001b[1;32m   2364\u001b[0m \u001b[0;34m\u001b[0m\u001b[0m\n",
      "\u001b[0;32m~/opt/anaconda3/envs/kgtk-env/lib/python3.7/site-packages/IPython/core/magics/script.py\u001b[0m in \u001b[0;36mnamed_script_magic\u001b[0;34m(line, cell)\u001b[0m\n\u001b[1;32m    140\u001b[0m             \u001b[0;32melse\u001b[0m\u001b[0;34m:\u001b[0m\u001b[0;34m\u001b[0m\u001b[0;34m\u001b[0m\u001b[0m\n\u001b[1;32m    141\u001b[0m                 \u001b[0mline\u001b[0m \u001b[0;34m=\u001b[0m \u001b[0mscript\u001b[0m\u001b[0;34m\u001b[0m\u001b[0;34m\u001b[0m\u001b[0m\n\u001b[0;32m--> 142\u001b[0;31m             \u001b[0;32mreturn\u001b[0m \u001b[0mself\u001b[0m\u001b[0;34m.\u001b[0m\u001b[0mshebang\u001b[0m\u001b[0;34m(\u001b[0m\u001b[0mline\u001b[0m\u001b[0;34m,\u001b[0m \u001b[0mcell\u001b[0m\u001b[0;34m)\u001b[0m\u001b[0;34m\u001b[0m\u001b[0;34m\u001b[0m\u001b[0m\n\u001b[0m\u001b[1;32m    143\u001b[0m \u001b[0;34m\u001b[0m\u001b[0m\n\u001b[1;32m    144\u001b[0m         \u001b[0;31m# write a basic docstring:\u001b[0m\u001b[0;34m\u001b[0m\u001b[0;34m\u001b[0m\u001b[0;34m\u001b[0m\u001b[0m\n",
      "\u001b[0;32m<decorator-gen-110>\u001b[0m in \u001b[0;36mshebang\u001b[0;34m(self, line, cell)\u001b[0m\n",
      "\u001b[0;32m~/opt/anaconda3/envs/kgtk-env/lib/python3.7/site-packages/IPython/core/magic.py\u001b[0m in \u001b[0;36m<lambda>\u001b[0;34m(f, *a, **k)\u001b[0m\n\u001b[1;32m    185\u001b[0m     \u001b[0;31m# but it's overkill for just that one bit of state.\u001b[0m\u001b[0;34m\u001b[0m\u001b[0;34m\u001b[0m\u001b[0;34m\u001b[0m\u001b[0m\n\u001b[1;32m    186\u001b[0m     \u001b[0;32mdef\u001b[0m \u001b[0mmagic_deco\u001b[0m\u001b[0;34m(\u001b[0m\u001b[0marg\u001b[0m\u001b[0;34m)\u001b[0m\u001b[0;34m:\u001b[0m\u001b[0;34m\u001b[0m\u001b[0;34m\u001b[0m\u001b[0m\n\u001b[0;32m--> 187\u001b[0;31m         \u001b[0mcall\u001b[0m \u001b[0;34m=\u001b[0m \u001b[0;32mlambda\u001b[0m \u001b[0mf\u001b[0m\u001b[0;34m,\u001b[0m \u001b[0;34m*\u001b[0m\u001b[0ma\u001b[0m\u001b[0;34m,\u001b[0m \u001b[0;34m**\u001b[0m\u001b[0mk\u001b[0m\u001b[0;34m:\u001b[0m \u001b[0mf\u001b[0m\u001b[0;34m(\u001b[0m\u001b[0;34m*\u001b[0m\u001b[0ma\u001b[0m\u001b[0;34m,\u001b[0m \u001b[0;34m**\u001b[0m\u001b[0mk\u001b[0m\u001b[0;34m)\u001b[0m\u001b[0;34m\u001b[0m\u001b[0;34m\u001b[0m\u001b[0m\n\u001b[0m\u001b[1;32m    188\u001b[0m \u001b[0;34m\u001b[0m\u001b[0m\n\u001b[1;32m    189\u001b[0m         \u001b[0;32mif\u001b[0m \u001b[0mcallable\u001b[0m\u001b[0;34m(\u001b[0m\u001b[0marg\u001b[0m\u001b[0;34m)\u001b[0m\u001b[0;34m:\u001b[0m\u001b[0;34m\u001b[0m\u001b[0;34m\u001b[0m\u001b[0m\n",
      "\u001b[0;32m~/opt/anaconda3/envs/kgtk-env/lib/python3.7/site-packages/IPython/core/magics/script.py\u001b[0m in \u001b[0;36mshebang\u001b[0;34m(self, line, cell)\u001b[0m\n\u001b[1;32m    243\u001b[0m             \u001b[0msys\u001b[0m\u001b[0;34m.\u001b[0m\u001b[0mstderr\u001b[0m\u001b[0;34m.\u001b[0m\u001b[0mflush\u001b[0m\u001b[0;34m(\u001b[0m\u001b[0;34m)\u001b[0m\u001b[0;34m\u001b[0m\u001b[0;34m\u001b[0m\u001b[0m\n\u001b[1;32m    244\u001b[0m         \u001b[0;32mif\u001b[0m \u001b[0margs\u001b[0m\u001b[0;34m.\u001b[0m\u001b[0mraise_error\u001b[0m \u001b[0;32mand\u001b[0m \u001b[0mp\u001b[0m\u001b[0;34m.\u001b[0m\u001b[0mreturncode\u001b[0m\u001b[0;34m!=\u001b[0m\u001b[0;36m0\u001b[0m\u001b[0;34m:\u001b[0m\u001b[0;34m\u001b[0m\u001b[0;34m\u001b[0m\u001b[0m\n\u001b[0;32m--> 245\u001b[0;31m             \u001b[0;32mraise\u001b[0m \u001b[0mCalledProcessError\u001b[0m\u001b[0;34m(\u001b[0m\u001b[0mp\u001b[0m\u001b[0;34m.\u001b[0m\u001b[0mreturncode\u001b[0m\u001b[0;34m,\u001b[0m \u001b[0mcell\u001b[0m\u001b[0;34m,\u001b[0m \u001b[0moutput\u001b[0m\u001b[0;34m=\u001b[0m\u001b[0mout\u001b[0m\u001b[0;34m,\u001b[0m \u001b[0mstderr\u001b[0m\u001b[0;34m=\u001b[0m\u001b[0merr\u001b[0m\u001b[0;34m)\u001b[0m\u001b[0;34m\u001b[0m\u001b[0;34m\u001b[0m\u001b[0m\n\u001b[0m\u001b[1;32m    246\u001b[0m \u001b[0;34m\u001b[0m\u001b[0m\n\u001b[1;32m    247\u001b[0m     \u001b[0;32mdef\u001b[0m \u001b[0m_run_script\u001b[0m\u001b[0;34m(\u001b[0m\u001b[0mself\u001b[0m\u001b[0;34m,\u001b[0m \u001b[0mp\u001b[0m\u001b[0;34m,\u001b[0m \u001b[0mcell\u001b[0m\u001b[0;34m,\u001b[0m \u001b[0mto_close\u001b[0m\u001b[0;34m)\u001b[0m\u001b[0;34m:\u001b[0m\u001b[0;34m\u001b[0m\u001b[0;34m\u001b[0m\u001b[0m\n",
      "\u001b[0;31mCalledProcessError\u001b[0m: Command 'b'kgtk --debug lift --verbose \\\\\\n     --input-file $1 \\\\\\n     --label-file $2 \\\\\\n     --output-file $3 \\\\\\n     --columns-to-lift node1 node2 label \\\\\\n     --prefilter-labels \\\\\\n     --label-value-column label \\\\\\n     --expert\\n'' returned non-zero exit status 1."
     ]
    }
   ],
   "source": [
    "%%bash -s \"$trimmed_edge_file\" \"$node_file\" \"$concept_edges_with_labels_file\"\n",
    "kgtk --debug lift --verbose \\\n",
    "     --input-file $1 \\\n",
    "     --label-file $2 \\\n",
    "     --output-file $3 \\\n",
    "     --columns-to-lift node1 node2 label \\\n",
    "     --prefilter-labels \\\n",
    "     --label-value-column label \\\n",
    "     --expert"
   ]
  },
  {
   "cell_type": "markdown",
   "metadata": {},
   "source": [
    "## Step II: Filter by usage"
   ]
  },
  {
   "cell_type": "code",
   "execution_count": 8,
   "metadata": {},
   "outputs": [],
   "source": [
    "from wordfreq import word_frequency"
   ]
  },
  {
   "cell_type": "code",
   "execution_count": 9,
   "metadata": {},
   "outputs": [],
   "source": [
    "threshold=1e-06"
   ]
  },
  {
   "cell_type": "code",
   "execution_count": 12,
   "metadata": {},
   "outputs": [
    {
     "name": "stderr",
     "output_type": "stream",
     "text": [
      " 96%|█████████▋| 3376431/3500000 [00:24<00:00, 140421.84it/s]\n"
     ]
    }
   ],
   "source": [
    "filtered_rows=[]\n",
    "rels=[]\n",
    "with open(concept_edges_with_labels_file, 'r') as f:\n",
    "    header=next(f)\n",
    "    for line in tqdm(f, total=3500000):\n",
    "        a_row=line.strip().split('\\t')\n",
    "        node1_label=a_row[3][1:-4]\n",
    "        node2_label=a_row[4][1:-4]\n",
    "        if (any(x.isupper() for x in node1_label) or any(x.isupper() for x in node2_label)): continue\n",
    "        wf1=word_frequency(node1_label, 'en')\n",
    "        if wf1 >=threshold:\n",
    "            wf2=word_frequency(node2_label, 'en')\n",
    "            if wf2>=threshold:\n",
    "                filtered_rows.append(a_row)\n",
    "                rel='%s (%s)' % (a_row[5].strip()[1:-4], a_row[1])\n",
    "                rels.append(rel)"
   ]
  },
  {
   "cell_type": "code",
   "execution_count": 13,
   "metadata": {},
   "outputs": [
    {
     "data": {
      "text/plain": [
       "420822"
      ]
     },
     "execution_count": 13,
     "metadata": {},
     "output_type": "execute_result"
    }
   ],
   "source": [
    "len(filtered_rows)"
   ]
  },
  {
   "cell_type": "code",
   "execution_count": 14,
   "metadata": {},
   "outputs": [],
   "source": [
    "from collections import Counter"
   ]
  },
  {
   "cell_type": "code",
   "execution_count": 15,
   "metadata": {},
   "outputs": [],
   "source": [
    "dist_rels=Counter(rels)"
   ]
  },
  {
   "cell_type": "code",
   "execution_count": 16,
   "metadata": {},
   "outputs": [
    {
     "data": {
      "text/plain": [
       "414"
      ]
     },
     "execution_count": 16,
     "metadata": {},
     "output_type": "execute_result"
    }
   ],
   "source": [
    "len(dist_rels)"
   ]
  },
  {
   "cell_type": "code",
   "execution_count": 51,
   "metadata": {},
   "outputs": [
    {
     "name": "stdout",
     "output_type": "stream",
     "text": [
      "subclass of (P279) 172535\n",
      "instance of (P31) 141499\n",
      "part of (P361) 9118\n",
      "different from (P1889) 7767\n",
      "has part (P527) 6252\n",
      "cell component (P681) 5607\n",
      "property constraint (P2302) 5180\n",
      "facet of (P1269) 4792\n",
      "strand orientation (P2548) 4345\n",
      "use (P366) 3045\n",
      "opposite of (P461) 3028\n",
      "properties for this type (P1963) 2382\n",
      "molecular function (P680) 2369\n",
      "see also (P1659) 2344\n",
      "sport (P641) 2338\n",
      "followed by (P156) 2244\n",
      "follows (P155) 2234\n",
      "material used (P186) 2047\n",
      "is a list of (P360) 1914\n",
      "Wikidata property (P1687) 1746\n",
      "has quality (P1552) 1739\n",
      "said to be the same as (P460) 1664\n",
      "field of this occupation (P425) 1616\n",
      "biological process (P682) 1509\n",
      "uses (P2283) 1431\n",
      "subject item of this property (P1629) 1341\n",
      "regulates (molecular biology) (P128) 1277\n",
      "decays to (P816) 1238\n",
      "has parts of the class (P2670) 1187\n",
      "practiced by (P3095) 1081\n",
      "studied by (P2579) 1010\n",
      "has cause (P828) 839\n",
      "has list (P2354) 823\n",
      "sex or gender (P21) 806\n",
      "health specialty (P1995) 804\n",
      "has effect (P1542) 768\n",
      "depicts (P180) 731\n",
      "used by (P1535) 709\n",
      "competition class (P2094) 701\n",
      "symptoms (P780) 690\n",
      "main subject (P921) 610\n",
      "partially coincident with (P1382) 556\n",
      "genre (P136) 538\n",
      "fictional analog of (P1074) 536\n",
      "field of work (P101) 530\n",
      "product or material produced (P1056) 507\n",
      "named after (P138) 497\n",
      "subproperty of (P1647) 419\n",
      "color (P462) 418\n",
      "afflicts (P689) 414\n"
     ]
    }
   ],
   "source": [
    "s=0\n",
    "for rel, freq in dist_rels.most_common(50):\n",
    "    print(rel, freq)\n",
    "    s+=freq"
   ]
  },
  {
   "cell_type": "code",
   "execution_count": 50,
   "metadata": {},
   "outputs": [
    {
     "data": {
      "text/plain": [
       "409775"
      ]
     },
     "execution_count": 50,
     "metadata": {},
     "output_type": "execute_result"
    }
   ],
   "source": [
    "s"
   ]
  },
  {
   "cell_type": "code",
   "execution_count": 47,
   "metadata": {},
   "outputs": [
    {
     "name": "stdout",
     "output_type": "stream",
     "text": [
      "['Q2359404', 'P689', 'Q2191986', \"'fall in older adults'@en\", \"'elderly'@en\", \"'afflicts'@en\"]\n"
     ]
    },
    {
     "name": "stdin",
     "output_type": "stream",
     "text": [
      "c \n"
     ]
    },
    {
     "name": "stdout",
     "output_type": "stream",
     "text": [
      "['Q2879095', 'P689', 'Q186029', \"'optic nerve disease'@en\", \"'optic nerve'@en\", \"'afflicts'@en\"]\n"
     ]
    },
    {
     "name": "stdin",
     "output_type": "stream",
     "text": [
      "c \n"
     ]
    },
    {
     "name": "stdout",
     "output_type": "stream",
     "text": [
      "['Q3065932', 'P689', 'Q2200417', \"'cognitive disorder'@en\", \"'cognition'@en\", \"'afflicts'@en\"]\n"
     ]
    },
    {
     "name": "stdin",
     "output_type": "stream",
     "text": [
      "c \n"
     ]
    },
    {
     "name": "stdout",
     "output_type": "stream",
     "text": [
      "['Q6742919', 'P689', 'Q8441', \"'male breast cancer'@en\", \"'man'@en\", \"'afflicts'@en\"]\n"
     ]
    },
    {
     "name": "stdin",
     "output_type": "stream",
     "text": [
      "c \n"
     ]
    },
    {
     "name": "stdout",
     "output_type": "stream",
     "text": [
      "['Q7314317', 'P689', 'Q7895', \"'reproductive system disease'@en\", \"'reproductive system'@en\", \"'afflicts'@en\"]\n"
     ]
    },
    {
     "ename": "KeyboardInterrupt",
     "evalue": "Interrupted by user",
     "output_type": "error",
     "traceback": [
      "\u001b[0;31m---------------------------------------------------------------------------\u001b[0m",
      "\u001b[0;31mKeyboardInterrupt\u001b[0m                         Traceback (most recent call last)",
      "\u001b[0;32m<ipython-input-47-9b5aefa8074a>\u001b[0m in \u001b[0;36m<module>\u001b[0;34m\u001b[0m\n\u001b[1;32m      3\u001b[0m     \u001b[0;32mif\u001b[0m \u001b[0mrow\u001b[0m\u001b[0;34m[\u001b[0m\u001b[0;36m1\u001b[0m\u001b[0;34m]\u001b[0m\u001b[0;34m==\u001b[0m\u001b[0mwanted\u001b[0m\u001b[0;34m:\u001b[0m\u001b[0;34m\u001b[0m\u001b[0;34m\u001b[0m\u001b[0m\n\u001b[1;32m      4\u001b[0m         \u001b[0mprint\u001b[0m\u001b[0;34m(\u001b[0m\u001b[0mrow\u001b[0m\u001b[0;34m)\u001b[0m\u001b[0;34m\u001b[0m\u001b[0;34m\u001b[0m\u001b[0m\n\u001b[0;32m----> 5\u001b[0;31m         \u001b[0minput\u001b[0m\u001b[0;34m(\u001b[0m\u001b[0;34m'c'\u001b[0m\u001b[0;34m)\u001b[0m\u001b[0;34m\u001b[0m\u001b[0;34m\u001b[0m\u001b[0m\n\u001b[0m",
      "\u001b[0;32m~/opt/anaconda3/envs/kgtk-env/lib/python3.7/site-packages/ipykernel/kernelbase.py\u001b[0m in \u001b[0;36mraw_input\u001b[0;34m(self, prompt)\u001b[0m\n\u001b[1;32m    861\u001b[0m             \u001b[0mself\u001b[0m\u001b[0;34m.\u001b[0m\u001b[0m_parent_ident\u001b[0m\u001b[0;34m,\u001b[0m\u001b[0;34m\u001b[0m\u001b[0;34m\u001b[0m\u001b[0m\n\u001b[1;32m    862\u001b[0m             \u001b[0mself\u001b[0m\u001b[0;34m.\u001b[0m\u001b[0m_parent_header\u001b[0m\u001b[0;34m,\u001b[0m\u001b[0;34m\u001b[0m\u001b[0;34m\u001b[0m\u001b[0m\n\u001b[0;32m--> 863\u001b[0;31m             \u001b[0mpassword\u001b[0m\u001b[0;34m=\u001b[0m\u001b[0;32mFalse\u001b[0m\u001b[0;34m,\u001b[0m\u001b[0;34m\u001b[0m\u001b[0;34m\u001b[0m\u001b[0m\n\u001b[0m\u001b[1;32m    864\u001b[0m         )\n\u001b[1;32m    865\u001b[0m \u001b[0;34m\u001b[0m\u001b[0m\n",
      "\u001b[0;32m~/opt/anaconda3/envs/kgtk-env/lib/python3.7/site-packages/ipykernel/kernelbase.py\u001b[0m in \u001b[0;36m_input_request\u001b[0;34m(self, prompt, ident, parent, password)\u001b[0m\n\u001b[1;32m    902\u001b[0m             \u001b[0;32mexcept\u001b[0m \u001b[0mKeyboardInterrupt\u001b[0m\u001b[0;34m:\u001b[0m\u001b[0;34m\u001b[0m\u001b[0;34m\u001b[0m\u001b[0m\n\u001b[1;32m    903\u001b[0m                 \u001b[0;31m# re-raise KeyboardInterrupt, to truncate traceback\u001b[0m\u001b[0;34m\u001b[0m\u001b[0;34m\u001b[0m\u001b[0;34m\u001b[0m\u001b[0m\n\u001b[0;32m--> 904\u001b[0;31m                 \u001b[0;32mraise\u001b[0m \u001b[0mKeyboardInterrupt\u001b[0m\u001b[0;34m(\u001b[0m\u001b[0;34m\"Interrupted by user\"\u001b[0m\u001b[0;34m)\u001b[0m \u001b[0;32mfrom\u001b[0m \u001b[0;32mNone\u001b[0m\u001b[0;34m\u001b[0m\u001b[0;34m\u001b[0m\u001b[0m\n\u001b[0m\u001b[1;32m    905\u001b[0m             \u001b[0;32mexcept\u001b[0m \u001b[0mException\u001b[0m \u001b[0;32mas\u001b[0m \u001b[0me\u001b[0m\u001b[0;34m:\u001b[0m\u001b[0;34m\u001b[0m\u001b[0;34m\u001b[0m\u001b[0m\n\u001b[1;32m    906\u001b[0m                 \u001b[0mself\u001b[0m\u001b[0;34m.\u001b[0m\u001b[0mlog\u001b[0m\u001b[0;34m.\u001b[0m\u001b[0mwarning\u001b[0m\u001b[0;34m(\u001b[0m\u001b[0;34m\"Invalid Message:\"\u001b[0m\u001b[0;34m,\u001b[0m \u001b[0mexc_info\u001b[0m\u001b[0;34m=\u001b[0m\u001b[0;32mTrue\u001b[0m\u001b[0;34m)\u001b[0m\u001b[0;34m\u001b[0m\u001b[0;34m\u001b[0m\u001b[0m\n",
      "\u001b[0;31mKeyboardInterrupt\u001b[0m: Interrupted by user"
     ]
    }
   ],
   "source": [
    "wanted='P689'\n",
    "for row in filtered_rows:\n",
    "    if row[1]==wanted:\n",
    "        print(row)\n",
    "        input('c')"
   ]
  },
  {
   "cell_type": "code",
   "execution_count": null,
   "metadata": {},
   "outputs": [],
   "source": []
  },
  {
   "cell_type": "markdown",
   "metadata": {},
   "source": [
    "## Step III: Compute statistics"
   ]
  },
  {
   "cell_type": "code",
   "execution_count": 23,
   "metadata": {},
   "outputs": [],
   "source": [
    "%%bash -s \"$ready_file\" \"$stats_file\"\n",
    "kgtk graph_statistics --directed --degrees --pagerank --hits --log summary.txt -i $1 > $2"
   ]
  },
  {
   "cell_type": "code",
   "execution_count": 24,
   "metadata": {},
   "outputs": [
    {
     "name": "stdout",
     "output_type": "stream",
     "text": [
      "loading the TSV graph now ...\n",
      "graph loaded! It has 194595 nodes and 420822 edges\n",
      "\n",
      "###Top relations:\n",
      "P279\t172535\n",
      "P31\t141499\n",
      "P361\t9118\n",
      "P1889\t7767\n",
      "P527\t6252\n",
      "P681\t5607\n",
      "P2302\t5180\n",
      "P1269\t4792\n",
      "P2548\t4345\n",
      "P366\t3045\n",
      "\n",
      "###Degrees:\n",
      "in degree stats: mean=2.162553, std=0.888783, max=1\n",
      "out degree stats: mean=2.162553, std=0.003335, max=1\n",
      "total degree stats: mean=4.325106, std=0.888878, max=1\n",
      "\n",
      "###PageRank\n",
      "Max pageranks\n",
      "105\tQ2996394\t0.013144\n",
      "8246\tQ53869507\t0.015716\n",
      "2201\tQ8054\t0.069251\n",
      "11444\tP2302\t0.014661\n",
      "9720\tQ21502402\t0.015182\n",
      "\n",
      "###HITS\n",
      "HITS hubs\n",
      "512\tQ14349455\t0.003317\n",
      "11953\tQ14633865\t0.003356\n",
      "2201\tQ8054\t0.999862\n",
      "10041\tQ40260\t0.014562\n",
      "11971\tQ14327652\t0.004324\n",
      "HITS auth\n",
      "94794\tQ61517789\t0.003509\n",
      "169886\tQ61638672\t0.003510\n",
      "70746\tQ61598819\t0.003509\n",
      "29407\tQ61586361\t0.003535\n",
      "169907\tQ61646611\t0.003535\n"
     ]
    }
   ],
   "source": [
    "%%bash\n",
    "cat summary.txt"
   ]
  },
  {
   "cell_type": "code",
   "execution_count": null,
   "metadata": {},
   "outputs": [],
   "source": []
  }
 ],
 "metadata": {
  "kernelspec": {
   "display_name": "Python 3",
   "language": "python",
   "name": "python3"
  },
  "language_info": {
   "codemirror_mode": {
    "name": "ipython",
    "version": 3
   },
   "file_extension": ".py",
   "mimetype": "text/x-python",
   "name": "python",
   "nbconvert_exporter": "python",
   "pygments_lexer": "ipython3",
   "version": "3.7.7"
  }
 },
 "nbformat": 4,
 "nbformat_minor": 4
}
