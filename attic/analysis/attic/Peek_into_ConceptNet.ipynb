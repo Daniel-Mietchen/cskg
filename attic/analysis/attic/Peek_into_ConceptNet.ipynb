{
 "cells": [
  {
   "cell_type": "markdown",
   "metadata": {},
   "source": [
    "# ConceptNet\n",
    "\n",
    "version 5.7"
   ]
  },
  {
   "cell_type": "markdown",
   "metadata": {},
   "source": [
    "### Setting imports and paths"
   ]
  },
  {
   "cell_type": "code",
   "execution_count": 3,
   "metadata": {},
   "outputs": [],
   "source": [
    "import conceptnet_uri as cn\n",
    "import pandas as pd\n",
    "import networkx as nx\n",
    "\n",
    "import sys\n",
    "sys.path.insert(0,'..')\n",
    "import config"
   ]
  },
  {
   "cell_type": "code",
   "execution_count": 4,
   "metadata": {},
   "outputs": [],
   "source": [
    "cn_path='data/conceptnet-en.csv'"
   ]
  },
  {
   "cell_type": "markdown",
   "metadata": {},
   "source": [
    "### Load the data in pandas"
   ]
  },
  {
   "cell_type": "code",
   "execution_count": 5,
   "metadata": {},
   "outputs": [],
   "source": [
    "df=pd.read_csv(cn_path, sep='\\t', header=None)"
   ]
  },
  {
   "cell_type": "code",
   "execution_count": 6,
   "metadata": {},
   "outputs": [],
   "source": [
    "df.columns=['assertion','rel','subj','obj','metadata']"
   ]
  },
  {
   "cell_type": "code",
   "execution_count": 7,
   "metadata": {},
   "outputs": [
    {
     "data": {
      "text/html": [
       "<div>\n",
       "<style scoped>\n",
       "    .dataframe tbody tr th:only-of-type {\n",
       "        vertical-align: middle;\n",
       "    }\n",
       "\n",
       "    .dataframe tbody tr th {\n",
       "        vertical-align: top;\n",
       "    }\n",
       "\n",
       "    .dataframe thead th {\n",
       "        text-align: right;\n",
       "    }\n",
       "</style>\n",
       "<table border=\"1\" class=\"dataframe\">\n",
       "  <thead>\n",
       "    <tr style=\"text-align: right;\">\n",
       "      <th></th>\n",
       "      <th>rel</th>\n",
       "      <th>subj</th>\n",
       "      <th>obj</th>\n",
       "      <th>metadata</th>\n",
       "    </tr>\n",
       "  </thead>\n",
       "  <tbody>\n",
       "    <tr>\n",
       "      <td>0</td>\n",
       "      <td>/r/Antonym</td>\n",
       "      <td>/c/en/0/n</td>\n",
       "      <td>/c/en/1</td>\n",
       "      <td>{\"dataset\": \"/d/wiktionary/fr\", \"license\": \"cc...</td>\n",
       "    </tr>\n",
       "    <tr>\n",
       "      <td>1</td>\n",
       "      <td>/r/Antonym</td>\n",
       "      <td>/c/en/12_hour_clock/n</td>\n",
       "      <td>/c/en/24_hour_clock</td>\n",
       "      <td>{\"dataset\": \"/d/wiktionary/en\", \"license\": \"cc...</td>\n",
       "    </tr>\n",
       "    <tr>\n",
       "      <td>2</td>\n",
       "      <td>/r/Antonym</td>\n",
       "      <td>/c/en/24_hour_clock/n</td>\n",
       "      <td>/c/en/12_hour_clock</td>\n",
       "      <td>{\"dataset\": \"/d/wiktionary/en\", \"license\": \"cc...</td>\n",
       "    </tr>\n",
       "    <tr>\n",
       "      <td>3</td>\n",
       "      <td>/r/Antonym</td>\n",
       "      <td>/c/en/5/n</td>\n",
       "      <td>/c/en/3</td>\n",
       "      <td>{\"dataset\": \"/d/wiktionary/en\", \"license\": \"cc...</td>\n",
       "    </tr>\n",
       "    <tr>\n",
       "      <td>4</td>\n",
       "      <td>/r/Antonym</td>\n",
       "      <td>/c/en/a.c/n</td>\n",
       "      <td>/c/en/d.c</td>\n",
       "      <td>{\"dataset\": \"/d/wiktionary/fr\", \"license\": \"cc...</td>\n",
       "    </tr>\n",
       "    <tr>\n",
       "      <td>...</td>\n",
       "      <td>...</td>\n",
       "      <td>...</td>\n",
       "      <td>...</td>\n",
       "      <td>...</td>\n",
       "    </tr>\n",
       "    <tr>\n",
       "      <td>3410694</td>\n",
       "      <td>/r/UsedFor</td>\n",
       "      <td>/c/en/zoom_lens</td>\n",
       "      <td>/c/en/procure_better_shot</td>\n",
       "      <td>{\"dataset\": \"/d/conceptnet/4/en\", \"license\": \"...</td>\n",
       "    </tr>\n",
       "    <tr>\n",
       "      <td>3410695</td>\n",
       "      <td>/r/UsedFor</td>\n",
       "      <td>/c/en/zoom_lens</td>\n",
       "      <td>/c/en/see_things_bigger</td>\n",
       "      <td>{\"dataset\": \"/d/conceptnet/4/en\", \"license\": \"...</td>\n",
       "    </tr>\n",
       "    <tr>\n",
       "      <td>3410696</td>\n",
       "      <td>/r/UsedFor</td>\n",
       "      <td>/c/en/zoom_lens</td>\n",
       "      <td>/c/en/seeing_distant_object_more_closely</td>\n",
       "      <td>{\"dataset\": \"/d/conceptnet/4/en\", \"license\": \"...</td>\n",
       "    </tr>\n",
       "    <tr>\n",
       "      <td>3410697</td>\n",
       "      <td>/r/UsedFor</td>\n",
       "      <td>/c/en/zoom_lens</td>\n",
       "      <td>/c/en/take_pictures</td>\n",
       "      <td>{\"dataset\": \"/d/conceptnet/4/en\", \"license\": \"...</td>\n",
       "    </tr>\n",
       "    <tr>\n",
       "      <td>3410698</td>\n",
       "      <td>/r/UsedFor</td>\n",
       "      <td>/c/en/zoom_lens</td>\n",
       "      <td>/c/en/varying_camera_focal_point</td>\n",
       "      <td>{\"dataset\": \"/d/conceptnet/4/en\", \"license\": \"...</td>\n",
       "    </tr>\n",
       "  </tbody>\n",
       "</table>\n",
       "<p>3410699 rows × 4 columns</p>\n",
       "</div>"
      ],
      "text/plain": [
       "                rel                   subj  \\\n",
       "0        /r/Antonym              /c/en/0/n   \n",
       "1        /r/Antonym  /c/en/12_hour_clock/n   \n",
       "2        /r/Antonym  /c/en/24_hour_clock/n   \n",
       "3        /r/Antonym              /c/en/5/n   \n",
       "4        /r/Antonym            /c/en/a.c/n   \n",
       "...             ...                    ...   \n",
       "3410694  /r/UsedFor        /c/en/zoom_lens   \n",
       "3410695  /r/UsedFor        /c/en/zoom_lens   \n",
       "3410696  /r/UsedFor        /c/en/zoom_lens   \n",
       "3410697  /r/UsedFor        /c/en/zoom_lens   \n",
       "3410698  /r/UsedFor        /c/en/zoom_lens   \n",
       "\n",
       "                                              obj  \\\n",
       "0                                         /c/en/1   \n",
       "1                             /c/en/24_hour_clock   \n",
       "2                             /c/en/12_hour_clock   \n",
       "3                                         /c/en/3   \n",
       "4                                       /c/en/d.c   \n",
       "...                                           ...   \n",
       "3410694                 /c/en/procure_better_shot   \n",
       "3410695                   /c/en/see_things_bigger   \n",
       "3410696  /c/en/seeing_distant_object_more_closely   \n",
       "3410697                       /c/en/take_pictures   \n",
       "3410698          /c/en/varying_camera_focal_point   \n",
       "\n",
       "                                                  metadata  \n",
       "0        {\"dataset\": \"/d/wiktionary/fr\", \"license\": \"cc...  \n",
       "1        {\"dataset\": \"/d/wiktionary/en\", \"license\": \"cc...  \n",
       "2        {\"dataset\": \"/d/wiktionary/en\", \"license\": \"cc...  \n",
       "3        {\"dataset\": \"/d/wiktionary/en\", \"license\": \"cc...  \n",
       "4        {\"dataset\": \"/d/wiktionary/fr\", \"license\": \"cc...  \n",
       "...                                                    ...  \n",
       "3410694  {\"dataset\": \"/d/conceptnet/4/en\", \"license\": \"...  \n",
       "3410695  {\"dataset\": \"/d/conceptnet/4/en\", \"license\": \"...  \n",
       "3410696  {\"dataset\": \"/d/conceptnet/4/en\", \"license\": \"...  \n",
       "3410697  {\"dataset\": \"/d/conceptnet/4/en\", \"license\": \"...  \n",
       "3410698  {\"dataset\": \"/d/conceptnet/4/en\", \"license\": \"...  \n",
       "\n",
       "[3410699 rows x 4 columns]"
      ]
     },
     "execution_count": 7,
     "metadata": {},
     "output_type": "execute_result"
    }
   ],
   "source": [
    "df.drop(columns=['assertion'])"
   ]
  },
  {
   "cell_type": "code",
   "execution_count": 8,
   "metadata": {},
   "outputs": [
    {
     "data": {
      "text/html": [
       "<div>\n",
       "<style scoped>\n",
       "    .dataframe tbody tr th:only-of-type {\n",
       "        vertical-align: middle;\n",
       "    }\n",
       "\n",
       "    .dataframe tbody tr th {\n",
       "        vertical-align: top;\n",
       "    }\n",
       "\n",
       "    .dataframe thead th {\n",
       "        text-align: right;\n",
       "    }\n",
       "</style>\n",
       "<table border=\"1\" class=\"dataframe\">\n",
       "  <thead>\n",
       "    <tr style=\"text-align: right;\">\n",
       "      <th></th>\n",
       "      <th>assertion</th>\n",
       "      <th>rel</th>\n",
       "      <th>subj</th>\n",
       "      <th>obj</th>\n",
       "      <th>metadata</th>\n",
       "    </tr>\n",
       "  </thead>\n",
       "  <tbody>\n",
       "    <tr>\n",
       "      <td>0</td>\n",
       "      <td>/a/[/r/Antonym/,/c/en/0/n/,/c/en/1/]</td>\n",
       "      <td>/r/Antonym</td>\n",
       "      <td>/c/en/0/n</td>\n",
       "      <td>/c/en/1</td>\n",
       "      <td>{\"dataset\": \"/d/wiktionary/fr\", \"license\": \"cc...</td>\n",
       "    </tr>\n",
       "    <tr>\n",
       "      <td>1</td>\n",
       "      <td>/a/[/r/Antonym/,/c/en/12_hour_clock/n/,/c/en/2...</td>\n",
       "      <td>/r/Antonym</td>\n",
       "      <td>/c/en/12_hour_clock/n</td>\n",
       "      <td>/c/en/24_hour_clock</td>\n",
       "      <td>{\"dataset\": \"/d/wiktionary/en\", \"license\": \"cc...</td>\n",
       "    </tr>\n",
       "    <tr>\n",
       "      <td>2</td>\n",
       "      <td>/a/[/r/Antonym/,/c/en/24_hour_clock/n/,/c/en/1...</td>\n",
       "      <td>/r/Antonym</td>\n",
       "      <td>/c/en/24_hour_clock/n</td>\n",
       "      <td>/c/en/12_hour_clock</td>\n",
       "      <td>{\"dataset\": \"/d/wiktionary/en\", \"license\": \"cc...</td>\n",
       "    </tr>\n",
       "    <tr>\n",
       "      <td>3</td>\n",
       "      <td>/a/[/r/Antonym/,/c/en/5/n/,/c/en/3/]</td>\n",
       "      <td>/r/Antonym</td>\n",
       "      <td>/c/en/5/n</td>\n",
       "      <td>/c/en/3</td>\n",
       "      <td>{\"dataset\": \"/d/wiktionary/en\", \"license\": \"cc...</td>\n",
       "    </tr>\n",
       "    <tr>\n",
       "      <td>4</td>\n",
       "      <td>/a/[/r/Antonym/,/c/en/a.c/n/,/c/en/d.c/]</td>\n",
       "      <td>/r/Antonym</td>\n",
       "      <td>/c/en/a.c/n</td>\n",
       "      <td>/c/en/d.c</td>\n",
       "      <td>{\"dataset\": \"/d/wiktionary/fr\", \"license\": \"cc...</td>\n",
       "    </tr>\n",
       "  </tbody>\n",
       "</table>\n",
       "</div>"
      ],
      "text/plain": [
       "                                           assertion         rel  \\\n",
       "0               /a/[/r/Antonym/,/c/en/0/n/,/c/en/1/]  /r/Antonym   \n",
       "1  /a/[/r/Antonym/,/c/en/12_hour_clock/n/,/c/en/2...  /r/Antonym   \n",
       "2  /a/[/r/Antonym/,/c/en/24_hour_clock/n/,/c/en/1...  /r/Antonym   \n",
       "3               /a/[/r/Antonym/,/c/en/5/n/,/c/en/3/]  /r/Antonym   \n",
       "4           /a/[/r/Antonym/,/c/en/a.c/n/,/c/en/d.c/]  /r/Antonym   \n",
       "\n",
       "                    subj                  obj  \\\n",
       "0              /c/en/0/n              /c/en/1   \n",
       "1  /c/en/12_hour_clock/n  /c/en/24_hour_clock   \n",
       "2  /c/en/24_hour_clock/n  /c/en/12_hour_clock   \n",
       "3              /c/en/5/n              /c/en/3   \n",
       "4            /c/en/a.c/n            /c/en/d.c   \n",
       "\n",
       "                                            metadata  \n",
       "0  {\"dataset\": \"/d/wiktionary/fr\", \"license\": \"cc...  \n",
       "1  {\"dataset\": \"/d/wiktionary/en\", \"license\": \"cc...  \n",
       "2  {\"dataset\": \"/d/wiktionary/en\", \"license\": \"cc...  \n",
       "3  {\"dataset\": \"/d/wiktionary/en\", \"license\": \"cc...  \n",
       "4  {\"dataset\": \"/d/wiktionary/fr\", \"license\": \"cc...  "
      ]
     },
     "execution_count": 8,
     "metadata": {},
     "output_type": "execute_result"
    }
   ],
   "source": [
    "df.head()"
   ]
  },
  {
   "cell_type": "code",
   "execution_count": 9,
   "metadata": {},
   "outputs": [
    {
     "data": {
      "text/plain": [
       "3410699"
      ]
     },
     "execution_count": 9,
     "metadata": {},
     "output_type": "execute_result"
    }
   ],
   "source": [
    "len(df)"
   ]
  },
  {
   "cell_type": "code",
   "execution_count": 10,
   "metadata": {},
   "outputs": [
    {
     "data": {
      "text/html": [
       "<div>\n",
       "<style scoped>\n",
       "    .dataframe tbody tr th:only-of-type {\n",
       "        vertical-align: middle;\n",
       "    }\n",
       "\n",
       "    .dataframe tbody tr th {\n",
       "        vertical-align: top;\n",
       "    }\n",
       "\n",
       "    .dataframe thead th {\n",
       "        text-align: right;\n",
       "    }\n",
       "</style>\n",
       "<table border=\"1\" class=\"dataframe\">\n",
       "  <thead>\n",
       "    <tr style=\"text-align: right;\">\n",
       "      <th></th>\n",
       "      <th>assertion</th>\n",
       "      <th>rel</th>\n",
       "      <th>subj</th>\n",
       "      <th>obj</th>\n",
       "      <th>metadata</th>\n",
       "    </tr>\n",
       "  </thead>\n",
       "  <tbody>\n",
       "    <tr>\n",
       "      <td>count</td>\n",
       "      <td>3410699</td>\n",
       "      <td>3410699</td>\n",
       "      <td>3410699</td>\n",
       "      <td>3410699</td>\n",
       "      <td>3410699</td>\n",
       "    </tr>\n",
       "    <tr>\n",
       "      <td>unique</td>\n",
       "      <td>3410699</td>\n",
       "      <td>37</td>\n",
       "      <td>1410294</td>\n",
       "      <td>712125</td>\n",
       "      <td>604487</td>\n",
       "    </tr>\n",
       "    <tr>\n",
       "      <td>top</td>\n",
       "      <td>/a/[/r/RelatedTo/,/c/en/postface/n/,/c/en/back/]</td>\n",
       "      <td>/r/RelatedTo</td>\n",
       "      <td>/c/en/person</td>\n",
       "      <td>/c/en/slang</td>\n",
       "      <td>{\"dataset\": \"/d/wiktionary/en\", \"license\": \"cc...</td>\n",
       "    </tr>\n",
       "    <tr>\n",
       "      <td>freq</td>\n",
       "      <td>1</td>\n",
       "      <td>1703582</td>\n",
       "      <td>6339</td>\n",
       "      <td>10999</td>\n",
       "      <td>2443411</td>\n",
       "    </tr>\n",
       "  </tbody>\n",
       "</table>\n",
       "</div>"
      ],
      "text/plain": [
       "                                               assertion           rel  \\\n",
       "count                                            3410699       3410699   \n",
       "unique                                           3410699            37   \n",
       "top     /a/[/r/RelatedTo/,/c/en/postface/n/,/c/en/back/]  /r/RelatedTo   \n",
       "freq                                                   1       1703582   \n",
       "\n",
       "                subj          obj  \\\n",
       "count        3410699      3410699   \n",
       "unique       1410294       712125   \n",
       "top     /c/en/person  /c/en/slang   \n",
       "freq            6339        10999   \n",
       "\n",
       "                                                 metadata  \n",
       "count                                             3410699  \n",
       "unique                                             604487  \n",
       "top     {\"dataset\": \"/d/wiktionary/en\", \"license\": \"cc...  \n",
       "freq                                              2443411  "
      ]
     },
     "execution_count": 10,
     "metadata": {},
     "output_type": "execute_result"
    }
   ],
   "source": [
    "df.describe()"
   ]
  },
  {
   "cell_type": "markdown",
   "metadata": {},
   "source": [
    "**Strange: 48 relations**. Let's inspect:"
   ]
  },
  {
   "cell_type": "code",
   "execution_count": 11,
   "metadata": {},
   "outputs": [
    {
     "data": {
      "text/plain": [
       "array(['/r/Antonym', '/r/AtLocation', '/r/CapableOf', '/r/Causes',\n",
       "       '/r/CausesDesire', '/r/CreatedBy', '/r/DefinedAs',\n",
       "       '/r/DerivedFrom', '/r/Desires', '/r/DistinctFrom', '/r/Entails',\n",
       "       '/r/EtymologicallyDerivedFrom', '/r/EtymologicallyRelatedTo',\n",
       "       '/r/FormOf', '/r/HasA', '/r/HasContext', '/r/HasFirstSubevent',\n",
       "       '/r/HasLastSubevent', '/r/HasPrerequisite', '/r/HasProperty',\n",
       "       '/r/HasSubevent', '/r/InstanceOf', '/r/IsA', '/r/LocatedNear',\n",
       "       '/r/MadeOf', '/r/MannerOf', '/r/MotivatedByGoal',\n",
       "       '/r/NotCapableOf', '/r/NotDesires', '/r/NotHasProperty',\n",
       "       '/r/PartOf', '/r/ReceivesAction', '/r/RelatedTo', '/r/SimilarTo',\n",
       "       '/r/SymbolOf', '/r/Synonym', '/r/UsedFor'], dtype=object)"
      ]
     },
     "execution_count": 11,
     "metadata": {},
     "output_type": "execute_result"
    }
   ],
   "source": [
    "df['rel'].unique()"
   ]
  },
  {
   "cell_type": "markdown",
   "metadata": {},
   "source": [
    "### SQL-like queries"
   ]
  },
  {
   "cell_type": "code",
   "execution_count": 36,
   "metadata": {},
   "outputs": [
    {
     "name": "stdout",
     "output_type": "stream",
     "text": [
      "/r/Antonym 19066\n",
      "18794\n",
      "\n",
      "/r/DistinctFrom 3315\n",
      "3263\n",
      "\n",
      "/r/EtymologicallyRelatedTo 32075\n",
      "29999\n",
      "\n",
      "/r/LocatedNear 49\n",
      "49\n",
      "\n",
      "/r/RelatedTo 1703582\n",
      "1692996\n",
      "\n",
      "/r/SimilarTo 30280\n",
      "30066\n",
      "\n",
      "/r/Synonym 222156\n",
      "177621\n",
      "\n"
     ]
    }
   ],
   "source": [
    "all_difs=[]\n",
    "for sym_rel in config.symmetric_rels:\n",
    "    #if sym_rel!='/r/LocatedNear': continue\n",
    "    \n",
    "        \n",
    "    sub_df=df[df.rel==sym_rel]\n",
    "    print(sym_rel, len(sub_df))\n",
    "    \n",
    "    so_df=sub_df[['subj', 'rel', 'obj', 'metadata']]\n",
    "\n",
    "#    print(so_df)\n",
    "    \n",
    "    os_df=sub_df[['obj', 'rel', 'subj', 'metadata']]\n",
    "    os_df.columns=['subj', 'rel', 'obj', 'metadata']\n",
    "    \n",
    "    the_diff=os_df.merge(so_df,indicator = True, \n",
    "                         how='left').loc[lambda x : x['_merge']!='both']\n",
    "\n",
    "    \n",
    "    \n",
    "    print(len(the_diff))\n",
    "    print()\n",
    "    all_difs.append(the_diff)"
   ]
  },
  {
   "cell_type": "code",
   "execution_count": 37,
   "metadata": {},
   "outputs": [],
   "source": [
    "additional=pd.concat(all_difs)"
   ]
  },
  {
   "cell_type": "code",
   "execution_count": 38,
   "metadata": {},
   "outputs": [
    {
     "data": {
      "text/plain": [
       "1952788"
      ]
     },
     "execution_count": 38,
     "metadata": {},
     "output_type": "execute_result"
    }
   ],
   "source": [
    "len(additional)"
   ]
  },
  {
   "cell_type": "markdown",
   "metadata": {},
   "source": [
    "### Load as a graph"
   ]
  },
  {
   "cell_type": "code",
   "execution_count": null,
   "metadata": {},
   "outputs": [],
   "source": [
    "G=nx.from_pandas_edgelist(df, 'subj', 'obj', ['rel'], create_using=nx.DiGraph)"
   ]
  },
  {
   "cell_type": "markdown",
   "metadata": {},
   "source": [
    "### Average degree"
   ]
  },
  {
   "cell_type": "code",
   "execution_count": null,
   "metadata": {},
   "outputs": [],
   "source": [
    "sum(dict(G.degree()).values())/float(len(G))"
   ]
  },
  {
   "cell_type": "markdown",
   "metadata": {},
   "source": [
    "### Neighbors of some node"
   ]
  },
  {
   "cell_type": "code",
   "execution_count": null,
   "metadata": {},
   "outputs": [],
   "source": [
    "str_node='/c/en/man'\n",
    "con_node='/c/en/man/n'\n",
    "#con_node='/c/en/batman/n/wikt/en_2'"
   ]
  },
  {
   "cell_type": "markdown",
   "metadata": {},
   "source": [
    "Inspect the string or the concept node?"
   ]
  },
  {
   "cell_type": "code",
   "execution_count": null,
   "metadata": {},
   "outputs": [],
   "source": [
    "the_node=con_node"
   ]
  },
  {
   "cell_type": "code",
   "execution_count": null,
   "metadata": {},
   "outputs": [],
   "source": [
    "G.has_edge(str_node, con_node)"
   ]
  },
  {
   "cell_type": "code",
   "execution_count": null,
   "metadata": {},
   "outputs": [],
   "source": [
    "G.has_edge(con_node, str_node)"
   ]
  },
  {
   "cell_type": "code",
   "execution_count": null,
   "metadata": {},
   "outputs": [],
   "source": [
    "G.succ[the_node] # successors of this node"
   ]
  },
  {
   "cell_type": "code",
   "execution_count": null,
   "metadata": {},
   "outputs": [],
   "source": [
    "G.pred[the_node]# predecessors of this node"
   ]
  },
  {
   "cell_type": "markdown",
   "metadata": {},
   "source": [
    "### Save to nodes and edges output files"
   ]
  },
  {
   "cell_type": "markdown",
   "metadata": {},
   "source": [
    "1. save edges (=basically, the entire pandas dataframe):"
   ]
  },
  {
   "cell_type": "code",
   "execution_count": null,
   "metadata": {},
   "outputs": [],
   "source": [
    "edges_file='output/edges.csv'"
   ]
  },
  {
   "cell_type": "code",
   "execution_count": null,
   "metadata": {},
   "outputs": [],
   "source": [
    "df.sort_values(by=['subj', 'rel', 'obj', 'metadata']).to_csv(edges_file, index=False, sep='\\t', columns=['subj', 'rel', 'obj', 'metadata'])"
   ]
  },
  {
   "cell_type": "markdown",
   "metadata": {},
   "source": [
    "2. save nodes (=basically the union of the unique values of columns subject and object"
   ]
  },
  {
   "cell_type": "code",
   "execution_count": null,
   "metadata": {},
   "outputs": [],
   "source": [
    "nodes_file='output/nodes.csv'"
   ]
  },
  {
   "cell_type": "code",
   "execution_count": null,
   "metadata": {},
   "outputs": [],
   "source": [
    "uniq_s=df['subj'].drop_duplicates()\n",
    "uniq_o=df['obj'].drop_duplicates()\n",
    "uniq_nodes = pd.concat([uniq_s,uniq_o]).drop_duplicates()"
   ]
  },
  {
   "cell_type": "code",
   "execution_count": null,
   "metadata": {},
   "outputs": [],
   "source": [
    "len(uniq_nodes)"
   ]
  },
  {
   "cell_type": "code",
   "execution_count": null,
   "metadata": {},
   "outputs": [],
   "source": [
    "uniq_nodes.head()"
   ]
  },
  {
   "cell_type": "code",
   "execution_count": null,
   "metadata": {},
   "outputs": [],
   "source": [
    "uniq_nodes.sort_values().to_csv(nodes_file, index=False, sep='\\t')"
   ]
  },
  {
   "cell_type": "code",
   "execution_count": null,
   "metadata": {},
   "outputs": [],
   "source": []
  }
 ],
 "metadata": {
  "kernelspec": {
   "display_name": "Python 3",
   "language": "python",
   "name": "python3"
  },
  "language_info": {
   "codemirror_mode": {
    "name": "ipython",
    "version": 3
   },
   "file_extension": ".py",
   "mimetype": "text/x-python",
   "name": "python",
   "nbconvert_exporter": "python",
   "pygments_lexer": "ipython3",
   "version": "3.7.4"
  }
 },
 "nbformat": 4,
 "nbformat_minor": 4
}
