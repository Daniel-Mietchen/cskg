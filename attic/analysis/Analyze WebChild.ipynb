{
 "cells": [
  {
   "cell_type": "code",
   "execution_count": 9,
   "metadata": {},
   "outputs": [],
   "source": [
    "input_dir=\"../input/webchild\"\n",
    "comparative_file='../input/webchild/comparative-cw0912.txt'"
   ]
  },
  {
   "cell_type": "code",
   "execution_count": 11,
   "metadata": {},
   "outputs": [],
   "source": [
    "from glob import glob\n",
    "import pandas as pd"
   ]
  },
  {
   "cell_type": "code",
   "execution_count": 22,
   "metadata": {},
   "outputs": [],
   "source": [
    "with open(comparative_file, 'r', encoding = \"ISO-8859-1\") as f:\n",
    "    header=next(f).split(',')\n",
    "    next(f)\n",
    "    lines=[]\n",
    "    for line in f:\n",
    "        lines.append(line.strip().split('\\t'))"
   ]
  },
  {
   "cell_type": "code",
   "execution_count": 25,
   "metadata": {},
   "outputs": [],
   "source": [
    "df=pd.DataFrame(lines, columns=header)"
   ]
  },
  {
   "cell_type": "code",
   "execution_count": 26,
   "metadata": {},
   "outputs": [
    {
     "data": {
      "text/html": [
       "<div>\n",
       "<style scoped>\n",
       "    .dataframe tbody tr th:only-of-type {\n",
       "        vertical-align: middle;\n",
       "    }\n",
       "\n",
       "    .dataframe tbody tr th {\n",
       "        vertical-align: top;\n",
       "    }\n",
       "\n",
       "    .dataframe thead th {\n",
       "        text-align: right;\n",
       "    }\n",
       "</style>\n",
       "<table border=\"1\" class=\"dataframe\">\n",
       "  <thead>\n",
       "    <tr style=\"text-align: right;\">\n",
       "      <th></th>\n",
       "      <th>#x</th>\n",
       "      <th>xwps</th>\n",
       "      <th>r</th>\n",
       "      <th>rnorm</th>\n",
       "      <th>awps</th>\n",
       "      <th>y</th>\n",
       "      <th>ywps</th>\n",
       "      <th>isnegated=r</th>\n",
       "      <th>freq</th>\n",
       "      <th>normid</th>\n",
       "      <th>observid</th>\n",
       "      <th>csynsetid</th>\n",
       "      <th>opposingcsynsetid</th>\n",
       "      <th>sources\\n</th>\n",
       "    </tr>\n",
       "  </thead>\n",
       "  <tbody>\n",
       "    <tr>\n",
       "      <th>0</th>\n",
       "      <td>action</td>\n",
       "      <td>action#n#1</td>\n",
       "      <td>speak louder than</td>\n",
       "      <td>speak louder than</td>\n",
       "      <td>loud#a#1</td>\n",
       "      <td>word</td>\n",
       "      <td>word#n#4</td>\n",
       "      <td>f</td>\n",
       "      <td>44118</td>\n",
       "      <td>100037396_107169242_f</td>\n",
       "      <td>659751</td>\n",
       "      <td>301885</td>\n",
       "      <td>301910</td>\n",
       "      <td>,cw09,cw12</td>\n",
       "    </tr>\n",
       "    <tr>\n",
       "      <th>1</th>\n",
       "      <td>imagination</td>\n",
       "      <td>imagination#n#1</td>\n",
       "      <td>is more important than</td>\n",
       "      <td>be more important than</td>\n",
       "      <td>important#a#1</td>\n",
       "      <td>knowledge</td>\n",
       "      <td>knowledge#n#1</td>\n",
       "      <td>f</td>\n",
       "      <td>40470</td>\n",
       "      <td>105625465_100023271_f</td>\n",
       "      <td>44107</td>\n",
       "      <td>282420</td>\n",
       "      <td>282471</td>\n",
       "      <td>,cw09,cw12</td>\n",
       "    </tr>\n",
       "    <tr>\n",
       "      <th>2</th>\n",
       "      <td>reality</td>\n",
       "      <td>reality#n#3</td>\n",
       "      <td>is finally better than</td>\n",
       "      <td>be better than</td>\n",
       "      <td>good#a#1</td>\n",
       "      <td>dream</td>\n",
       "      <td>dream#n#5</td>\n",
       "      <td>f</td>\n",
       "      <td>28868</td>\n",
       "      <td>113956097_105700925_f</td>\n",
       "      <td>620122</td>\n",
       "      <td>42318</td>\n",
       "      <td>42306</td>\n",
       "      <td>,cw09,cw12</td>\n",
       "    </tr>\n",
       "    <tr>\n",
       "      <th>3</th>\n",
       "      <td>pen</td>\n",
       "      <td>pen#n#1</td>\n",
       "      <td>is mightier than</td>\n",
       "      <td>be mightier than</td>\n",
       "      <td>mighty#a#1</td>\n",
       "      <td>sword</td>\n",
       "      <td>sword#n#1</td>\n",
       "      <td>f</td>\n",
       "      <td>21157</td>\n",
       "      <td>103906997_104373894_f</td>\n",
       "      <td>111898</td>\n",
       "      <td>160648</td>\n",
       "      <td>160649</td>\n",
       "      <td>,cw09,cw12</td>\n",
       "    </tr>\n",
       "    <tr>\n",
       "      <th>4</th>\n",
       "      <td>prevention</td>\n",
       "      <td>prevention#n#1</td>\n",
       "      <td>is better than</td>\n",
       "      <td>be better than</td>\n",
       "      <td>good#a#1</td>\n",
       "      <td>cure</td>\n",
       "      <td>cure#n#1</td>\n",
       "      <td>f</td>\n",
       "      <td>20999</td>\n",
       "      <td>101077350_104074482_f</td>\n",
       "      <td>591106</td>\n",
       "      <td>628859</td>\n",
       "      <td>628884</td>\n",
       "      <td>,cw09,cw12</td>\n",
       "    </tr>\n",
       "  </tbody>\n",
       "</table>\n",
       "</div>"
      ],
      "text/plain": [
       "            #x             xwps                       r  \\\n",
       "0       action       action#n#1       speak louder than   \n",
       "1  imagination  imagination#n#1  is more important than   \n",
       "2      reality      reality#n#3  is finally better than   \n",
       "3          pen          pen#n#1        is mightier than   \n",
       "4   prevention   prevention#n#1          is better than   \n",
       "\n",
       "                    rnorm           awps          y           ywps  \\\n",
       "0       speak louder than       loud#a#1       word       word#n#4   \n",
       "1  be more important than  important#a#1  knowledge  knowledge#n#1   \n",
       "2          be better than       good#a#1      dream      dream#n#5   \n",
       "3        be mightier than     mighty#a#1      sword      sword#n#1   \n",
       "4          be better than       good#a#1       cure       cure#n#1   \n",
       "\n",
       "  isnegated=r   freq                 normid observid csynsetid  \\\n",
       "0           f  44118  100037396_107169242_f   659751    301885   \n",
       "1           f  40470  105625465_100023271_f    44107    282420   \n",
       "2           f  28868  113956097_105700925_f   620122     42318   \n",
       "3           f  21157  103906997_104373894_f   111898    160648   \n",
       "4           f  20999  101077350_104074482_f   591106    628859   \n",
       "\n",
       "  opposingcsynsetid   sources\\n  \n",
       "0            301910  ,cw09,cw12  \n",
       "1            282471  ,cw09,cw12  \n",
       "2             42306  ,cw09,cw12  \n",
       "3            160649  ,cw09,cw12  \n",
       "4            628884  ,cw09,cw12  "
      ]
     },
     "execution_count": 26,
     "metadata": {},
     "output_type": "execute_result"
    }
   ],
   "source": [
    "df.head()"
   ]
  },
  {
   "cell_type": "code",
   "execution_count": 31,
   "metadata": {},
   "outputs": [],
   "source": [
    "from collections import defaultdict, Counter"
   ]
  },
  {
   "cell_type": "code",
   "execution_count": 38,
   "metadata": {},
   "outputs": [],
   "source": [
    "d=defaultdict(list)\n",
    "for i, row in df.iterrows():\n",
    "    pair=(row[1], row[4], row[6])\n",
    "    d[pair].append((row[8]))"
   ]
  },
  {
   "cell_type": "code",
   "execution_count": null,
   "metadata": {},
   "outputs": [],
   "source": [
    "c=[]\n",
    "for k, v in d.items():\n",
    "    print(k, v)\n",
    "    input('continue')"
   ]
  },
  {
   "cell_type": "code",
   "execution_count": 54,
   "metadata": {},
   "outputs": [],
   "source": [
    "def inverse(rel):\n",
    "    inv={\"small#a#1\": \"large#a#1\", \"large#a#1\": \"small#a#1\"}\n",
    "    if rel in inv.keys():\n",
    "        return inv[rel]\n",
    "    else:\n",
    "        return 'whatever'"
   ]
  },
  {
   "cell_type": "code",
   "execution_count": 58,
   "metadata": {},
   "outputs": [
    {
     "name": "stdout",
     "output_type": "stream",
     "text": [
      "91216 16148\n"
     ]
    }
   ],
   "source": [
    "same_so=0\n",
    "opposites=0\n",
    "good=[]\n",
    "op=[]\n",
    "for k, v in d.items():\n",
    "    if k[0]==k[2]:\n",
    "        same_so+=1\n",
    "    elif k[0]>k[2] and \\\n",
    "        (k[2], k[1], k[0]) in d.keys() or ((k[0], inverse(k[1]), k[2]) in d.keys()):\n",
    "        opposites+=1\n",
    "        op.append(k)\n",
    "    else:\n",
    "        good.append((k,v))\n",
    "print(same_so, opposites)"
   ]
  },
  {
   "cell_type": "code",
   "execution_count": 60,
   "metadata": {},
   "outputs": [
    {
     "name": "stdout",
     "output_type": "stream",
     "text": [
      "('action#n#1', 'loud#a#1', 'word#n#4') 1633 60828\n"
     ]
    },
    {
     "name": "stdin",
     "output_type": "stream",
     "text": [
      "c? \n"
     ]
    },
    {
     "name": "stdout",
     "output_type": "stream",
     "text": [
      "('imagination#n#1', 'important#a#1', 'knowledge#n#1') 1984 55983\n"
     ]
    },
    {
     "name": "stdin",
     "output_type": "stream",
     "text": [
      "c? \n"
     ]
    },
    {
     "name": "stdout",
     "output_type": "stream",
     "text": [
      "('head#n#1', 'good#a#1', 'one#n#1') 371 11133\n"
     ]
    },
    {
     "name": "stdin",
     "output_type": "stream",
     "text": [
      "c? \n"
     ]
    },
    {
     "name": "stdout",
     "output_type": "stream",
     "text": [
      "('blood#n#1', 'thick#a#1', 'water#n#1') 301 6448\n"
     ]
    },
    {
     "name": "stdin",
     "output_type": "stream",
     "text": [
      "c? \n"
     ]
    },
    {
     "name": "stdout",
     "output_type": "stream",
     "text": [
      "('quality#n#1', 'important#a#1', 'quantity#n#1') 329 5939\n"
     ]
    },
    {
     "name": "stdin",
     "output_type": "stream",
     "text": [
      "c? \n"
     ]
    },
    {
     "name": "stdout",
     "output_type": "stream",
     "text": [
      "('man#n#1', 'discourteous#a#1', 'savage#n#1') 83 2382\n"
     ]
    },
    {
     "name": "stdin",
     "output_type": "stream",
     "text": [
      "c? \n"
     ]
    },
    {
     "name": "stdout",
     "output_type": "stream",
     "text": [
      "('quality#n#1', 'good#a#1', 'quantity#n#1') 156 2622\n"
     ]
    },
    {
     "name": "stdin",
     "output_type": "stream",
     "text": [
      "c? \n"
     ]
    },
    {
     "name": "stdout",
     "output_type": "stream",
     "text": [
      "('picture#n#1', 'loud#a#1', 'word#n#1') 106 1917\n"
     ]
    },
    {
     "name": "stdin",
     "output_type": "stream",
     "text": [
      "c? \n"
     ]
    },
    {
     "name": "stdout",
     "output_type": "stream",
     "text": [
      "('man#n#1', 'good#a#1', 'woman#n#1') 406 2817\n"
     ]
    },
    {
     "name": "stdin",
     "output_type": "stream",
     "text": [
      "c? \n"
     ]
    },
    {
     "name": "stdout",
     "output_type": "stream",
     "text": [
      "('talent#n#1', 'cheap#a#1', 'table_salt#n#1') 54 1192\n"
     ]
    },
    {
     "name": "stdin",
     "output_type": "stream",
     "text": [
      "c? \n"
     ]
    },
    {
     "name": "stdout",
     "output_type": "stream",
     "text": [
      "('obedience#n#1', 'good#a#1', 'sacrifice#n#1') 38 1087\n"
     ]
    },
    {
     "name": "stdin",
     "output_type": "stream",
     "text": [
      "c? \n"
     ]
    },
    {
     "name": "stdout",
     "output_type": "stream",
     "text": [
      "('art#n#1', 'important#a#1', 'life#n#1') 81 1066\n"
     ]
    },
    {
     "name": "stdin",
     "output_type": "stream",
     "text": [
      "c? \n"
     ]
    },
    {
     "name": "stdout",
     "output_type": "stream",
     "text": [
      "('demand#n#2', 'great#a#1', 'supply#n#2') 238 1900\n"
     ]
    },
    {
     "name": "stdin",
     "output_type": "stream",
     "text": [
      "c? \n"
     ]
    },
    {
     "name": "stdout",
     "output_type": "stream",
     "text": [
      "('vapor#n#1', 'heavy#a#1', 'air#n#5') 87 1514\n"
     ]
    },
    {
     "name": "stdin",
     "output_type": "stream",
     "text": [
      "c? \n"
     ]
    },
    {
     "name": "stdout",
     "output_type": "stream",
     "text": [
      "('today#n#2', 'good#a#1', 'yesterday#n#1') 246 1778\n"
     ]
    },
    {
     "name": "stdin",
     "output_type": "stream",
     "text": [
      "c? \n"
     ]
    },
    {
     "name": "stdout",
     "output_type": "stream",
     "text": [
      "('boy#n#3', 'good#a#1', 'girl#n#3') 186 1060\n"
     ]
    },
    {
     "name": "stdin",
     "output_type": "stream",
     "text": [
      "c? \n"
     ]
    },
    {
     "name": "stdout",
     "output_type": "stream",
     "text": [
      "('man#n#1', 'strong#a#1', 'woman#n#1') 247 1527\n"
     ]
    },
    {
     "name": "stdin",
     "output_type": "stream",
     "text": [
      "c? \n"
     ]
    },
    {
     "name": "stdout",
     "output_type": "stream",
     "text": [
      "('demand#n#2', 'high#a#1', 'supply#n#2') 182 1389\n"
     ]
    },
    {
     "name": "stdin",
     "output_type": "stream",
     "text": [
      "c? \n"
     ]
    }
   ],
   "source": [
    "for o, v in good:\n",
    "    variants=len(v)\n",
    "    support=sum(int(a) for a in v)\n",
    "    if variants>10 and support>1000:\n",
    "        print(o, variants, support)\n",
    "        input('c?')"
   ]
  },
  {
   "cell_type": "code",
   "execution_count": 42,
   "metadata": {},
   "outputs": [
    {
     "data": {
      "text/plain": [
       "533683"
      ]
     },
     "execution_count": 42,
     "metadata": {},
     "output_type": "execute_result"
    }
   ],
   "source": [
    "len(d.keys())"
   ]
  },
  {
   "cell_type": "markdown",
   "metadata": {},
   "source": [
    "## Properties"
   ]
  },
  {
   "cell_type": "code",
   "execution_count": 61,
   "metadata": {},
   "outputs": [],
   "source": [
    "property_file='../input/webchild/property.txt'"
   ]
  },
  {
   "cell_type": "code",
   "execution_count": null,
   "metadata": {},
   "outputs": [],
   "source": [
    "with open(property_file, 'r') as f:\n",
    "    "
   ]
  }
 ],
 "metadata": {
  "kernelspec": {
   "display_name": "Python 3",
   "language": "python",
   "name": "python3"
  },
  "language_info": {
   "codemirror_mode": {
    "name": "ipython",
    "version": 3
   },
   "file_extension": ".py",
   "mimetype": "text/x-python",
   "name": "python",
   "nbconvert_exporter": "python",
   "pygments_lexer": "ipython3",
   "version": "3.7.4"
  }
 },
 "nbformat": 4,
 "nbformat_minor": 4
}
